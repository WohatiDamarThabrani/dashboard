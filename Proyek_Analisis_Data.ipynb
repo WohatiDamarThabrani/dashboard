{
  "cells": [
    {
      "cell_type": "markdown",
      "metadata": {
        "id": "H9wADwK78DCz"
      },
      "source": [
        "# Proyek Analisis Data: E-Commerce Public Dataset\n",
        "- **Nama:** Wohati Damar Thabrani\n",
        "- **Email:** damarthabrani1228@students.unnes.ac.id\n",
        "- **ID Dicoding:** wohati_damar"
      ]
    },
    {
      "cell_type": "markdown",
      "metadata": {
        "id": "eE0raob58DC0"
      },
      "source": [
        "## Menentukan Pertanyaan Bisnis"
      ]
    },
    {
      "cell_type": "markdown",
      "metadata": {
        "id": "GmQeQ5YF8DC0"
      },
      "source": [
        "- Kategori produk apa yang paling laku dan yang paling tidak laku?\n",
        "- Berapa banyak pesanan yang pengirimannya terlambat? Apakah keterlambatan pengiriman memengaruhi review_score yang diberikan oleh pelanggan?"
      ]
    },
    {
      "cell_type": "markdown",
      "metadata": {
        "id": "H-z4QGlO8DC1"
      },
      "source": [
        "## Import Semua Packages/Library yang Digunakan"
      ]
    },
    {
      "cell_type": "code",
      "execution_count": 3,
      "metadata": {
        "id": "FVYwaObI8DC1"
      },
      "outputs": [],
      "source": [
        "import numpy as np\n",
        "import pandas as pd\n",
        "import matplotlib.pyplot as plt\n",
        "import seaborn as sns"
      ]
    },
    {
      "cell_type": "markdown",
      "metadata": {
        "id": "h_Sh51Xy8DC1"
      },
      "source": [
        "## Data Wrangling"
      ]
    },
    {
      "cell_type": "markdown",
      "metadata": {
        "id": "sXU2GBYu8DC1"
      },
      "source": [
        "### Gathering Data"
      ]
    },
    {
      "cell_type": "code",
      "execution_count": 4,
      "metadata": {
        "colab": {
          "base_uri": "https://localhost:8080/",
          "height": 206
        },
        "id": "zjCBk1BI8DC1",
        "outputId": "8f91ab62-1377-414c-c0cf-5564a0e7086d"
      },
      "outputs": [
        {
          "data": {
            "text/html": [
              "<div>\n",
              "<style scoped>\n",
              "    .dataframe tbody tr th:only-of-type {\n",
              "        vertical-align: middle;\n",
              "    }\n",
              "\n",
              "    .dataframe tbody tr th {\n",
              "        vertical-align: top;\n",
              "    }\n",
              "\n",
              "    .dataframe thead th {\n",
              "        text-align: right;\n",
              "    }\n",
              "</style>\n",
              "<table border=\"1\" class=\"dataframe\">\n",
              "  <thead>\n",
              "    <tr style=\"text-align: right;\">\n",
              "      <th></th>\n",
              "      <th>customer_id</th>\n",
              "      <th>customer_unique_id</th>\n",
              "      <th>customer_zip_code_prefix</th>\n",
              "      <th>customer_city</th>\n",
              "      <th>customer_state</th>\n",
              "    </tr>\n",
              "  </thead>\n",
              "  <tbody>\n",
              "    <tr>\n",
              "      <th>0</th>\n",
              "      <td>06b8999e2fba1a1fbc88172c00ba8bc7</td>\n",
              "      <td>861eff4711a542e4b93843c6dd7febb0</td>\n",
              "      <td>14409</td>\n",
              "      <td>franca</td>\n",
              "      <td>SP</td>\n",
              "    </tr>\n",
              "    <tr>\n",
              "      <th>1</th>\n",
              "      <td>18955e83d337fd6b2def6b18a428ac77</td>\n",
              "      <td>290c77bc529b7ac935b93aa66c333dc3</td>\n",
              "      <td>9790</td>\n",
              "      <td>sao bernardo do campo</td>\n",
              "      <td>SP</td>\n",
              "    </tr>\n",
              "    <tr>\n",
              "      <th>2</th>\n",
              "      <td>4e7b3e00288586ebd08712fdd0374a03</td>\n",
              "      <td>060e732b5b29e8181a18229c7b0b2b5e</td>\n",
              "      <td>1151</td>\n",
              "      <td>sao paulo</td>\n",
              "      <td>SP</td>\n",
              "    </tr>\n",
              "    <tr>\n",
              "      <th>3</th>\n",
              "      <td>b2b6027bc5c5109e529d4dc6358b12c3</td>\n",
              "      <td>259dac757896d24d7702b9acbbff3f3c</td>\n",
              "      <td>8775</td>\n",
              "      <td>mogi das cruzes</td>\n",
              "      <td>SP</td>\n",
              "    </tr>\n",
              "    <tr>\n",
              "      <th>4</th>\n",
              "      <td>4f2d8ab171c80ec8364f7c12e35b23ad</td>\n",
              "      <td>345ecd01c38d18a9036ed96c73b8d066</td>\n",
              "      <td>13056</td>\n",
              "      <td>campinas</td>\n",
              "      <td>SP</td>\n",
              "    </tr>\n",
              "  </tbody>\n",
              "</table>\n",
              "</div>"
            ],
            "text/plain": [
              "                        customer_id                customer_unique_id  \\\n",
              "0  06b8999e2fba1a1fbc88172c00ba8bc7  861eff4711a542e4b93843c6dd7febb0   \n",
              "1  18955e83d337fd6b2def6b18a428ac77  290c77bc529b7ac935b93aa66c333dc3   \n",
              "2  4e7b3e00288586ebd08712fdd0374a03  060e732b5b29e8181a18229c7b0b2b5e   \n",
              "3  b2b6027bc5c5109e529d4dc6358b12c3  259dac757896d24d7702b9acbbff3f3c   \n",
              "4  4f2d8ab171c80ec8364f7c12e35b23ad  345ecd01c38d18a9036ed96c73b8d066   \n",
              "\n",
              "   customer_zip_code_prefix          customer_city customer_state  \n",
              "0                     14409                 franca             SP  \n",
              "1                      9790  sao bernardo do campo             SP  \n",
              "2                      1151              sao paulo             SP  \n",
              "3                      8775        mogi das cruzes             SP  \n",
              "4                     13056               campinas             SP  "
            ]
          },
          "execution_count": 4,
          "metadata": {},
          "output_type": "execute_result"
        }
      ],
      "source": [
        "customers_df = pd.read_csv('data/customers_dataset.csv')\n",
        "customers_df.head()"
      ]
    },
    {
      "cell_type": "code",
      "execution_count": 5,
      "metadata": {
        "colab": {
          "base_uri": "https://localhost:8080/",
          "height": 206
        },
        "id": "tR2O0T7519BC",
        "outputId": "10d81861-829e-444b-cc4a-525abbf0ff6a"
      },
      "outputs": [
        {
          "data": {
            "text/html": [
              "<div>\n",
              "<style scoped>\n",
              "    .dataframe tbody tr th:only-of-type {\n",
              "        vertical-align: middle;\n",
              "    }\n",
              "\n",
              "    .dataframe tbody tr th {\n",
              "        vertical-align: top;\n",
              "    }\n",
              "\n",
              "    .dataframe thead th {\n",
              "        text-align: right;\n",
              "    }\n",
              "</style>\n",
              "<table border=\"1\" class=\"dataframe\">\n",
              "  <thead>\n",
              "    <tr style=\"text-align: right;\">\n",
              "      <th></th>\n",
              "      <th>geolocation_zip_code_prefix</th>\n",
              "      <th>geolocation_lat</th>\n",
              "      <th>geolocation_lng</th>\n",
              "      <th>geolocation_city</th>\n",
              "      <th>geolocation_state</th>\n",
              "    </tr>\n",
              "  </thead>\n",
              "  <tbody>\n",
              "    <tr>\n",
              "      <th>0</th>\n",
              "      <td>1037</td>\n",
              "      <td>-23.545621</td>\n",
              "      <td>-46.639292</td>\n",
              "      <td>sao paulo</td>\n",
              "      <td>SP</td>\n",
              "    </tr>\n",
              "    <tr>\n",
              "      <th>1</th>\n",
              "      <td>1046</td>\n",
              "      <td>-23.546081</td>\n",
              "      <td>-46.644820</td>\n",
              "      <td>sao paulo</td>\n",
              "      <td>SP</td>\n",
              "    </tr>\n",
              "    <tr>\n",
              "      <th>2</th>\n",
              "      <td>1046</td>\n",
              "      <td>-23.546129</td>\n",
              "      <td>-46.642951</td>\n",
              "      <td>sao paulo</td>\n",
              "      <td>SP</td>\n",
              "    </tr>\n",
              "    <tr>\n",
              "      <th>3</th>\n",
              "      <td>1041</td>\n",
              "      <td>-23.544392</td>\n",
              "      <td>-46.639499</td>\n",
              "      <td>sao paulo</td>\n",
              "      <td>SP</td>\n",
              "    </tr>\n",
              "    <tr>\n",
              "      <th>4</th>\n",
              "      <td>1035</td>\n",
              "      <td>-23.541578</td>\n",
              "      <td>-46.641607</td>\n",
              "      <td>sao paulo</td>\n",
              "      <td>SP</td>\n",
              "    </tr>\n",
              "  </tbody>\n",
              "</table>\n",
              "</div>"
            ],
            "text/plain": [
              "   geolocation_zip_code_prefix  geolocation_lat  geolocation_lng  \\\n",
              "0                         1037       -23.545621       -46.639292   \n",
              "1                         1046       -23.546081       -46.644820   \n",
              "2                         1046       -23.546129       -46.642951   \n",
              "3                         1041       -23.544392       -46.639499   \n",
              "4                         1035       -23.541578       -46.641607   \n",
              "\n",
              "  geolocation_city geolocation_state  \n",
              "0        sao paulo                SP  \n",
              "1        sao paulo                SP  \n",
              "2        sao paulo                SP  \n",
              "3        sao paulo                SP  \n",
              "4        sao paulo                SP  "
            ]
          },
          "execution_count": 5,
          "metadata": {},
          "output_type": "execute_result"
        }
      ],
      "source": [
        "geolocation_df = pd.read_csv('data/geolocation_dataset.csv')\n",
        "geolocation_df.head()"
      ]
    },
    {
      "cell_type": "code",
      "execution_count": 6,
      "metadata": {
        "colab": {
          "base_uri": "https://localhost:8080/",
          "height": 206
        },
        "id": "KISnlfvI2P5I",
        "outputId": "6c2073fd-06b1-44bd-cc6a-816937fcd896"
      },
      "outputs": [
        {
          "data": {
            "text/html": [
              "<div>\n",
              "<style scoped>\n",
              "    .dataframe tbody tr th:only-of-type {\n",
              "        vertical-align: middle;\n",
              "    }\n",
              "\n",
              "    .dataframe tbody tr th {\n",
              "        vertical-align: top;\n",
              "    }\n",
              "\n",
              "    .dataframe thead th {\n",
              "        text-align: right;\n",
              "    }\n",
              "</style>\n",
              "<table border=\"1\" class=\"dataframe\">\n",
              "  <thead>\n",
              "    <tr style=\"text-align: right;\">\n",
              "      <th></th>\n",
              "      <th>order_id</th>\n",
              "      <th>order_item_id</th>\n",
              "      <th>product_id</th>\n",
              "      <th>seller_id</th>\n",
              "      <th>shipping_limit_date</th>\n",
              "      <th>price</th>\n",
              "      <th>freight_value</th>\n",
              "    </tr>\n",
              "  </thead>\n",
              "  <tbody>\n",
              "    <tr>\n",
              "      <th>0</th>\n",
              "      <td>00010242fe8c5a6d1ba2dd792cb16214</td>\n",
              "      <td>1</td>\n",
              "      <td>4244733e06e7ecb4970a6e2683c13e61</td>\n",
              "      <td>48436dade18ac8b2bce089ec2a041202</td>\n",
              "      <td>2017-09-19 09:45:35</td>\n",
              "      <td>58.90</td>\n",
              "      <td>13.29</td>\n",
              "    </tr>\n",
              "    <tr>\n",
              "      <th>1</th>\n",
              "      <td>00018f77f2f0320c557190d7a144bdd3</td>\n",
              "      <td>1</td>\n",
              "      <td>e5f2d52b802189ee658865ca93d83a8f</td>\n",
              "      <td>dd7ddc04e1b6c2c614352b383efe2d36</td>\n",
              "      <td>2017-05-03 11:05:13</td>\n",
              "      <td>239.90</td>\n",
              "      <td>19.93</td>\n",
              "    </tr>\n",
              "    <tr>\n",
              "      <th>2</th>\n",
              "      <td>000229ec398224ef6ca0657da4fc703e</td>\n",
              "      <td>1</td>\n",
              "      <td>c777355d18b72b67abbeef9df44fd0fd</td>\n",
              "      <td>5b51032eddd242adc84c38acab88f23d</td>\n",
              "      <td>2018-01-18 14:48:30</td>\n",
              "      <td>199.00</td>\n",
              "      <td>17.87</td>\n",
              "    </tr>\n",
              "    <tr>\n",
              "      <th>3</th>\n",
              "      <td>00024acbcdf0a6daa1e931b038114c75</td>\n",
              "      <td>1</td>\n",
              "      <td>7634da152a4610f1595efa32f14722fc</td>\n",
              "      <td>9d7a1d34a5052409006425275ba1c2b4</td>\n",
              "      <td>2018-08-15 10:10:18</td>\n",
              "      <td>12.99</td>\n",
              "      <td>12.79</td>\n",
              "    </tr>\n",
              "    <tr>\n",
              "      <th>4</th>\n",
              "      <td>00042b26cf59d7ce69dfabb4e55b4fd9</td>\n",
              "      <td>1</td>\n",
              "      <td>ac6c3623068f30de03045865e4e10089</td>\n",
              "      <td>df560393f3a51e74553ab94004ba5c87</td>\n",
              "      <td>2017-02-13 13:57:51</td>\n",
              "      <td>199.90</td>\n",
              "      <td>18.14</td>\n",
              "    </tr>\n",
              "  </tbody>\n",
              "</table>\n",
              "</div>"
            ],
            "text/plain": [
              "                           order_id  order_item_id  \\\n",
              "0  00010242fe8c5a6d1ba2dd792cb16214              1   \n",
              "1  00018f77f2f0320c557190d7a144bdd3              1   \n",
              "2  000229ec398224ef6ca0657da4fc703e              1   \n",
              "3  00024acbcdf0a6daa1e931b038114c75              1   \n",
              "4  00042b26cf59d7ce69dfabb4e55b4fd9              1   \n",
              "\n",
              "                         product_id                         seller_id  \\\n",
              "0  4244733e06e7ecb4970a6e2683c13e61  48436dade18ac8b2bce089ec2a041202   \n",
              "1  e5f2d52b802189ee658865ca93d83a8f  dd7ddc04e1b6c2c614352b383efe2d36   \n",
              "2  c777355d18b72b67abbeef9df44fd0fd  5b51032eddd242adc84c38acab88f23d   \n",
              "3  7634da152a4610f1595efa32f14722fc  9d7a1d34a5052409006425275ba1c2b4   \n",
              "4  ac6c3623068f30de03045865e4e10089  df560393f3a51e74553ab94004ba5c87   \n",
              "\n",
              "   shipping_limit_date   price  freight_value  \n",
              "0  2017-09-19 09:45:35   58.90          13.29  \n",
              "1  2017-05-03 11:05:13  239.90          19.93  \n",
              "2  2018-01-18 14:48:30  199.00          17.87  \n",
              "3  2018-08-15 10:10:18   12.99          12.79  \n",
              "4  2017-02-13 13:57:51  199.90          18.14  "
            ]
          },
          "execution_count": 6,
          "metadata": {},
          "output_type": "execute_result"
        }
      ],
      "source": [
        "order_items_df = pd.read_csv('data/order_items_dataset.csv')\n",
        "order_items_df.head()"
      ]
    },
    {
      "cell_type": "code",
      "execution_count": 7,
      "metadata": {
        "colab": {
          "base_uri": "https://localhost:8080/",
          "height": 206
        },
        "id": "-DXj99zf2Pww",
        "outputId": "6698a3c6-677e-4322-d462-eb7c50d6851b"
      },
      "outputs": [
        {
          "data": {
            "text/html": [
              "<div>\n",
              "<style scoped>\n",
              "    .dataframe tbody tr th:only-of-type {\n",
              "        vertical-align: middle;\n",
              "    }\n",
              "\n",
              "    .dataframe tbody tr th {\n",
              "        vertical-align: top;\n",
              "    }\n",
              "\n",
              "    .dataframe thead th {\n",
              "        text-align: right;\n",
              "    }\n",
              "</style>\n",
              "<table border=\"1\" class=\"dataframe\">\n",
              "  <thead>\n",
              "    <tr style=\"text-align: right;\">\n",
              "      <th></th>\n",
              "      <th>order_id</th>\n",
              "      <th>payment_sequential</th>\n",
              "      <th>payment_type</th>\n",
              "      <th>payment_installments</th>\n",
              "      <th>payment_value</th>\n",
              "    </tr>\n",
              "  </thead>\n",
              "  <tbody>\n",
              "    <tr>\n",
              "      <th>0</th>\n",
              "      <td>b81ef226f3fe1789b1e8b2acac839d17</td>\n",
              "      <td>1</td>\n",
              "      <td>credit_card</td>\n",
              "      <td>8</td>\n",
              "      <td>99.33</td>\n",
              "    </tr>\n",
              "    <tr>\n",
              "      <th>1</th>\n",
              "      <td>a9810da82917af2d9aefd1278f1dcfa0</td>\n",
              "      <td>1</td>\n",
              "      <td>credit_card</td>\n",
              "      <td>1</td>\n",
              "      <td>24.39</td>\n",
              "    </tr>\n",
              "    <tr>\n",
              "      <th>2</th>\n",
              "      <td>25e8ea4e93396b6fa0d3dd708e76c1bd</td>\n",
              "      <td>1</td>\n",
              "      <td>credit_card</td>\n",
              "      <td>1</td>\n",
              "      <td>65.71</td>\n",
              "    </tr>\n",
              "    <tr>\n",
              "      <th>3</th>\n",
              "      <td>ba78997921bbcdc1373bb41e913ab953</td>\n",
              "      <td>1</td>\n",
              "      <td>credit_card</td>\n",
              "      <td>8</td>\n",
              "      <td>107.78</td>\n",
              "    </tr>\n",
              "    <tr>\n",
              "      <th>4</th>\n",
              "      <td>42fdf880ba16b47b59251dd489d4441a</td>\n",
              "      <td>1</td>\n",
              "      <td>credit_card</td>\n",
              "      <td>2</td>\n",
              "      <td>128.45</td>\n",
              "    </tr>\n",
              "  </tbody>\n",
              "</table>\n",
              "</div>"
            ],
            "text/plain": [
              "                           order_id  payment_sequential payment_type  \\\n",
              "0  b81ef226f3fe1789b1e8b2acac839d17                   1  credit_card   \n",
              "1  a9810da82917af2d9aefd1278f1dcfa0                   1  credit_card   \n",
              "2  25e8ea4e93396b6fa0d3dd708e76c1bd                   1  credit_card   \n",
              "3  ba78997921bbcdc1373bb41e913ab953                   1  credit_card   \n",
              "4  42fdf880ba16b47b59251dd489d4441a                   1  credit_card   \n",
              "\n",
              "   payment_installments  payment_value  \n",
              "0                     8          99.33  \n",
              "1                     1          24.39  \n",
              "2                     1          65.71  \n",
              "3                     8         107.78  \n",
              "4                     2         128.45  "
            ]
          },
          "execution_count": 7,
          "metadata": {},
          "output_type": "execute_result"
        }
      ],
      "source": [
        "order_payments_df = pd.read_csv('data/order_payments_dataset.csv')\n",
        "order_payments_df.head()"
      ]
    },
    {
      "cell_type": "code",
      "execution_count": 8,
      "metadata": {
        "colab": {
          "base_uri": "https://localhost:8080/",
          "height": 206
        },
        "id": "0PbUbgwt2Pn5",
        "outputId": "3ea64192-8ae9-42ce-e20c-d589816dfa40"
      },
      "outputs": [
        {
          "data": {
            "text/html": [
              "<div>\n",
              "<style scoped>\n",
              "    .dataframe tbody tr th:only-of-type {\n",
              "        vertical-align: middle;\n",
              "    }\n",
              "\n",
              "    .dataframe tbody tr th {\n",
              "        vertical-align: top;\n",
              "    }\n",
              "\n",
              "    .dataframe thead th {\n",
              "        text-align: right;\n",
              "    }\n",
              "</style>\n",
              "<table border=\"1\" class=\"dataframe\">\n",
              "  <thead>\n",
              "    <tr style=\"text-align: right;\">\n",
              "      <th></th>\n",
              "      <th>review_id</th>\n",
              "      <th>order_id</th>\n",
              "      <th>review_score</th>\n",
              "      <th>review_comment_title</th>\n",
              "      <th>review_comment_message</th>\n",
              "      <th>review_creation_date</th>\n",
              "      <th>review_answer_timestamp</th>\n",
              "    </tr>\n",
              "  </thead>\n",
              "  <tbody>\n",
              "    <tr>\n",
              "      <th>0</th>\n",
              "      <td>7bc2406110b926393aa56f80a40eba40</td>\n",
              "      <td>73fc7af87114b39712e6da79b0a377eb</td>\n",
              "      <td>4</td>\n",
              "      <td>NaN</td>\n",
              "      <td>NaN</td>\n",
              "      <td>2018-01-18 00:00:00</td>\n",
              "      <td>2018-01-18 21:46:59</td>\n",
              "    </tr>\n",
              "    <tr>\n",
              "      <th>1</th>\n",
              "      <td>80e641a11e56f04c1ad469d5645fdfde</td>\n",
              "      <td>a548910a1c6147796b98fdf73dbeba33</td>\n",
              "      <td>5</td>\n",
              "      <td>NaN</td>\n",
              "      <td>NaN</td>\n",
              "      <td>2018-03-10 00:00:00</td>\n",
              "      <td>2018-03-11 03:05:13</td>\n",
              "    </tr>\n",
              "    <tr>\n",
              "      <th>2</th>\n",
              "      <td>228ce5500dc1d8e020d8d1322874b6f0</td>\n",
              "      <td>f9e4b658b201a9f2ecdecbb34bed034b</td>\n",
              "      <td>5</td>\n",
              "      <td>NaN</td>\n",
              "      <td>NaN</td>\n",
              "      <td>2018-02-17 00:00:00</td>\n",
              "      <td>2018-02-18 14:36:24</td>\n",
              "    </tr>\n",
              "    <tr>\n",
              "      <th>3</th>\n",
              "      <td>e64fb393e7b32834bb789ff8bb30750e</td>\n",
              "      <td>658677c97b385a9be170737859d3511b</td>\n",
              "      <td>5</td>\n",
              "      <td>NaN</td>\n",
              "      <td>Recebi bem antes do prazo estipulado.</td>\n",
              "      <td>2017-04-21 00:00:00</td>\n",
              "      <td>2017-04-21 22:02:06</td>\n",
              "    </tr>\n",
              "    <tr>\n",
              "      <th>4</th>\n",
              "      <td>f7c4243c7fe1938f181bec41a392bdeb</td>\n",
              "      <td>8e6bfb81e283fa7e4f11123a3fb894f1</td>\n",
              "      <td>5</td>\n",
              "      <td>NaN</td>\n",
              "      <td>Parabéns lojas lannister adorei comprar pela I...</td>\n",
              "      <td>2018-03-01 00:00:00</td>\n",
              "      <td>2018-03-02 10:26:53</td>\n",
              "    </tr>\n",
              "  </tbody>\n",
              "</table>\n",
              "</div>"
            ],
            "text/plain": [
              "                          review_id                          order_id  \\\n",
              "0  7bc2406110b926393aa56f80a40eba40  73fc7af87114b39712e6da79b0a377eb   \n",
              "1  80e641a11e56f04c1ad469d5645fdfde  a548910a1c6147796b98fdf73dbeba33   \n",
              "2  228ce5500dc1d8e020d8d1322874b6f0  f9e4b658b201a9f2ecdecbb34bed034b   \n",
              "3  e64fb393e7b32834bb789ff8bb30750e  658677c97b385a9be170737859d3511b   \n",
              "4  f7c4243c7fe1938f181bec41a392bdeb  8e6bfb81e283fa7e4f11123a3fb894f1   \n",
              "\n",
              "   review_score review_comment_title  \\\n",
              "0             4                  NaN   \n",
              "1             5                  NaN   \n",
              "2             5                  NaN   \n",
              "3             5                  NaN   \n",
              "4             5                  NaN   \n",
              "\n",
              "                              review_comment_message review_creation_date  \\\n",
              "0                                                NaN  2018-01-18 00:00:00   \n",
              "1                                                NaN  2018-03-10 00:00:00   \n",
              "2                                                NaN  2018-02-17 00:00:00   \n",
              "3              Recebi bem antes do prazo estipulado.  2017-04-21 00:00:00   \n",
              "4  Parabéns lojas lannister adorei comprar pela I...  2018-03-01 00:00:00   \n",
              "\n",
              "  review_answer_timestamp  \n",
              "0     2018-01-18 21:46:59  \n",
              "1     2018-03-11 03:05:13  \n",
              "2     2018-02-18 14:36:24  \n",
              "3     2017-04-21 22:02:06  \n",
              "4     2018-03-02 10:26:53  "
            ]
          },
          "execution_count": 8,
          "metadata": {},
          "output_type": "execute_result"
        }
      ],
      "source": [
        "order_reviews_df = pd.read_csv('data/order_reviews_dataset.csv')\n",
        "order_reviews_df.head()"
      ]
    },
    {
      "cell_type": "code",
      "execution_count": 9,
      "metadata": {
        "colab": {
          "base_uri": "https://localhost:8080/",
          "height": 226
        },
        "id": "OyzHPOEO2PeA",
        "outputId": "d3f8960b-9756-4443-b959-c196f4cb4777"
      },
      "outputs": [
        {
          "data": {
            "text/html": [
              "<div>\n",
              "<style scoped>\n",
              "    .dataframe tbody tr th:only-of-type {\n",
              "        vertical-align: middle;\n",
              "    }\n",
              "\n",
              "    .dataframe tbody tr th {\n",
              "        vertical-align: top;\n",
              "    }\n",
              "\n",
              "    .dataframe thead th {\n",
              "        text-align: right;\n",
              "    }\n",
              "</style>\n",
              "<table border=\"1\" class=\"dataframe\">\n",
              "  <thead>\n",
              "    <tr style=\"text-align: right;\">\n",
              "      <th></th>\n",
              "      <th>order_id</th>\n",
              "      <th>customer_id</th>\n",
              "      <th>order_status</th>\n",
              "      <th>order_purchase_timestamp</th>\n",
              "      <th>order_approved_at</th>\n",
              "      <th>order_delivered_carrier_date</th>\n",
              "      <th>order_delivered_customer_date</th>\n",
              "      <th>order_estimated_delivery_date</th>\n",
              "    </tr>\n",
              "  </thead>\n",
              "  <tbody>\n",
              "    <tr>\n",
              "      <th>0</th>\n",
              "      <td>e481f51cbdc54678b7cc49136f2d6af7</td>\n",
              "      <td>9ef432eb6251297304e76186b10a928d</td>\n",
              "      <td>delivered</td>\n",
              "      <td>2017-10-02 10:56:33</td>\n",
              "      <td>2017-10-02 11:07:15</td>\n",
              "      <td>2017-10-04 19:55:00</td>\n",
              "      <td>2017-10-10 21:25:13</td>\n",
              "      <td>2017-10-18 00:00:00</td>\n",
              "    </tr>\n",
              "    <tr>\n",
              "      <th>1</th>\n",
              "      <td>53cdb2fc8bc7dce0b6741e2150273451</td>\n",
              "      <td>b0830fb4747a6c6d20dea0b8c802d7ef</td>\n",
              "      <td>delivered</td>\n",
              "      <td>2018-07-24 20:41:37</td>\n",
              "      <td>2018-07-26 03:24:27</td>\n",
              "      <td>2018-07-26 14:31:00</td>\n",
              "      <td>2018-08-07 15:27:45</td>\n",
              "      <td>2018-08-13 00:00:00</td>\n",
              "    </tr>\n",
              "    <tr>\n",
              "      <th>2</th>\n",
              "      <td>47770eb9100c2d0c44946d9cf07ec65d</td>\n",
              "      <td>41ce2a54c0b03bf3443c3d931a367089</td>\n",
              "      <td>delivered</td>\n",
              "      <td>2018-08-08 08:38:49</td>\n",
              "      <td>2018-08-08 08:55:23</td>\n",
              "      <td>2018-08-08 13:50:00</td>\n",
              "      <td>2018-08-17 18:06:29</td>\n",
              "      <td>2018-09-04 00:00:00</td>\n",
              "    </tr>\n",
              "    <tr>\n",
              "      <th>3</th>\n",
              "      <td>949d5b44dbf5de918fe9c16f97b45f8a</td>\n",
              "      <td>f88197465ea7920adcdbec7375364d82</td>\n",
              "      <td>delivered</td>\n",
              "      <td>2017-11-18 19:28:06</td>\n",
              "      <td>2017-11-18 19:45:59</td>\n",
              "      <td>2017-11-22 13:39:59</td>\n",
              "      <td>2017-12-02 00:28:42</td>\n",
              "      <td>2017-12-15 00:00:00</td>\n",
              "    </tr>\n",
              "    <tr>\n",
              "      <th>4</th>\n",
              "      <td>ad21c59c0840e6cb83a9ceb5573f8159</td>\n",
              "      <td>8ab97904e6daea8866dbdbc4fb7aad2c</td>\n",
              "      <td>delivered</td>\n",
              "      <td>2018-02-13 21:18:39</td>\n",
              "      <td>2018-02-13 22:20:29</td>\n",
              "      <td>2018-02-14 19:46:34</td>\n",
              "      <td>2018-02-16 18:17:02</td>\n",
              "      <td>2018-02-26 00:00:00</td>\n",
              "    </tr>\n",
              "  </tbody>\n",
              "</table>\n",
              "</div>"
            ],
            "text/plain": [
              "                           order_id                       customer_id  \\\n",
              "0  e481f51cbdc54678b7cc49136f2d6af7  9ef432eb6251297304e76186b10a928d   \n",
              "1  53cdb2fc8bc7dce0b6741e2150273451  b0830fb4747a6c6d20dea0b8c802d7ef   \n",
              "2  47770eb9100c2d0c44946d9cf07ec65d  41ce2a54c0b03bf3443c3d931a367089   \n",
              "3  949d5b44dbf5de918fe9c16f97b45f8a  f88197465ea7920adcdbec7375364d82   \n",
              "4  ad21c59c0840e6cb83a9ceb5573f8159  8ab97904e6daea8866dbdbc4fb7aad2c   \n",
              "\n",
              "  order_status order_purchase_timestamp    order_approved_at  \\\n",
              "0    delivered      2017-10-02 10:56:33  2017-10-02 11:07:15   \n",
              "1    delivered      2018-07-24 20:41:37  2018-07-26 03:24:27   \n",
              "2    delivered      2018-08-08 08:38:49  2018-08-08 08:55:23   \n",
              "3    delivered      2017-11-18 19:28:06  2017-11-18 19:45:59   \n",
              "4    delivered      2018-02-13 21:18:39  2018-02-13 22:20:29   \n",
              "\n",
              "  order_delivered_carrier_date order_delivered_customer_date  \\\n",
              "0          2017-10-04 19:55:00           2017-10-10 21:25:13   \n",
              "1          2018-07-26 14:31:00           2018-08-07 15:27:45   \n",
              "2          2018-08-08 13:50:00           2018-08-17 18:06:29   \n",
              "3          2017-11-22 13:39:59           2017-12-02 00:28:42   \n",
              "4          2018-02-14 19:46:34           2018-02-16 18:17:02   \n",
              "\n",
              "  order_estimated_delivery_date  \n",
              "0           2017-10-18 00:00:00  \n",
              "1           2018-08-13 00:00:00  \n",
              "2           2018-09-04 00:00:00  \n",
              "3           2017-12-15 00:00:00  \n",
              "4           2018-02-26 00:00:00  "
            ]
          },
          "execution_count": 9,
          "metadata": {},
          "output_type": "execute_result"
        }
      ],
      "source": [
        "orders_df = pd.read_csv('data/orders_dataset.csv')\n",
        "orders_df.head()"
      ]
    },
    {
      "cell_type": "code",
      "execution_count": 10,
      "metadata": {
        "colab": {
          "base_uri": "https://localhost:8080/",
          "height": 206
        },
        "id": "DtUrN6A12PVZ",
        "outputId": "86e373c3-ba72-4958-8b45-4b463e7244aa"
      },
      "outputs": [
        {
          "data": {
            "text/html": [
              "<div>\n",
              "<style scoped>\n",
              "    .dataframe tbody tr th:only-of-type {\n",
              "        vertical-align: middle;\n",
              "    }\n",
              "\n",
              "    .dataframe tbody tr th {\n",
              "        vertical-align: top;\n",
              "    }\n",
              "\n",
              "    .dataframe thead th {\n",
              "        text-align: right;\n",
              "    }\n",
              "</style>\n",
              "<table border=\"1\" class=\"dataframe\">\n",
              "  <thead>\n",
              "    <tr style=\"text-align: right;\">\n",
              "      <th></th>\n",
              "      <th>product_category_name</th>\n",
              "      <th>product_category_name_english</th>\n",
              "    </tr>\n",
              "  </thead>\n",
              "  <tbody>\n",
              "    <tr>\n",
              "      <th>0</th>\n",
              "      <td>beleza_saude</td>\n",
              "      <td>health_beauty</td>\n",
              "    </tr>\n",
              "    <tr>\n",
              "      <th>1</th>\n",
              "      <td>informatica_acessorios</td>\n",
              "      <td>computers_accessories</td>\n",
              "    </tr>\n",
              "    <tr>\n",
              "      <th>2</th>\n",
              "      <td>automotivo</td>\n",
              "      <td>auto</td>\n",
              "    </tr>\n",
              "    <tr>\n",
              "      <th>3</th>\n",
              "      <td>cama_mesa_banho</td>\n",
              "      <td>bed_bath_table</td>\n",
              "    </tr>\n",
              "    <tr>\n",
              "      <th>4</th>\n",
              "      <td>moveis_decoracao</td>\n",
              "      <td>furniture_decor</td>\n",
              "    </tr>\n",
              "  </tbody>\n",
              "</table>\n",
              "</div>"
            ],
            "text/plain": [
              "    product_category_name product_category_name_english\n",
              "0            beleza_saude                 health_beauty\n",
              "1  informatica_acessorios         computers_accessories\n",
              "2              automotivo                          auto\n",
              "3         cama_mesa_banho                bed_bath_table\n",
              "4        moveis_decoracao               furniture_decor"
            ]
          },
          "execution_count": 10,
          "metadata": {},
          "output_type": "execute_result"
        }
      ],
      "source": [
        "product_category_name_df = pd.read_csv('data/product_category_name_translation.csv')\n",
        "product_category_name_df.head()"
      ]
    },
    {
      "cell_type": "code",
      "execution_count": 11,
      "metadata": {
        "colab": {
          "base_uri": "https://localhost:8080/",
          "height": 206
        },
        "id": "DwxVqRzx2OTb",
        "outputId": "93cf151b-b00d-40d2-b64a-b7ed5130e844"
      },
      "outputs": [
        {
          "data": {
            "text/html": [
              "<div>\n",
              "<style scoped>\n",
              "    .dataframe tbody tr th:only-of-type {\n",
              "        vertical-align: middle;\n",
              "    }\n",
              "\n",
              "    .dataframe tbody tr th {\n",
              "        vertical-align: top;\n",
              "    }\n",
              "\n",
              "    .dataframe thead th {\n",
              "        text-align: right;\n",
              "    }\n",
              "</style>\n",
              "<table border=\"1\" class=\"dataframe\">\n",
              "  <thead>\n",
              "    <tr style=\"text-align: right;\">\n",
              "      <th></th>\n",
              "      <th>product_id</th>\n",
              "      <th>product_category_name</th>\n",
              "      <th>product_name_lenght</th>\n",
              "      <th>product_description_lenght</th>\n",
              "      <th>product_photos_qty</th>\n",
              "      <th>product_weight_g</th>\n",
              "      <th>product_length_cm</th>\n",
              "      <th>product_height_cm</th>\n",
              "      <th>product_width_cm</th>\n",
              "    </tr>\n",
              "  </thead>\n",
              "  <tbody>\n",
              "    <tr>\n",
              "      <th>0</th>\n",
              "      <td>1e9e8ef04dbcff4541ed26657ea517e5</td>\n",
              "      <td>perfumaria</td>\n",
              "      <td>40.0</td>\n",
              "      <td>287.0</td>\n",
              "      <td>1.0</td>\n",
              "      <td>225.0</td>\n",
              "      <td>16.0</td>\n",
              "      <td>10.0</td>\n",
              "      <td>14.0</td>\n",
              "    </tr>\n",
              "    <tr>\n",
              "      <th>1</th>\n",
              "      <td>3aa071139cb16b67ca9e5dea641aaa2f</td>\n",
              "      <td>artes</td>\n",
              "      <td>44.0</td>\n",
              "      <td>276.0</td>\n",
              "      <td>1.0</td>\n",
              "      <td>1000.0</td>\n",
              "      <td>30.0</td>\n",
              "      <td>18.0</td>\n",
              "      <td>20.0</td>\n",
              "    </tr>\n",
              "    <tr>\n",
              "      <th>2</th>\n",
              "      <td>96bd76ec8810374ed1b65e291975717f</td>\n",
              "      <td>esporte_lazer</td>\n",
              "      <td>46.0</td>\n",
              "      <td>250.0</td>\n",
              "      <td>1.0</td>\n",
              "      <td>154.0</td>\n",
              "      <td>18.0</td>\n",
              "      <td>9.0</td>\n",
              "      <td>15.0</td>\n",
              "    </tr>\n",
              "    <tr>\n",
              "      <th>3</th>\n",
              "      <td>cef67bcfe19066a932b7673e239eb23d</td>\n",
              "      <td>bebes</td>\n",
              "      <td>27.0</td>\n",
              "      <td>261.0</td>\n",
              "      <td>1.0</td>\n",
              "      <td>371.0</td>\n",
              "      <td>26.0</td>\n",
              "      <td>4.0</td>\n",
              "      <td>26.0</td>\n",
              "    </tr>\n",
              "    <tr>\n",
              "      <th>4</th>\n",
              "      <td>9dc1a7de274444849c219cff195d0b71</td>\n",
              "      <td>utilidades_domesticas</td>\n",
              "      <td>37.0</td>\n",
              "      <td>402.0</td>\n",
              "      <td>4.0</td>\n",
              "      <td>625.0</td>\n",
              "      <td>20.0</td>\n",
              "      <td>17.0</td>\n",
              "      <td>13.0</td>\n",
              "    </tr>\n",
              "  </tbody>\n",
              "</table>\n",
              "</div>"
            ],
            "text/plain": [
              "                         product_id  product_category_name  \\\n",
              "0  1e9e8ef04dbcff4541ed26657ea517e5             perfumaria   \n",
              "1  3aa071139cb16b67ca9e5dea641aaa2f                  artes   \n",
              "2  96bd76ec8810374ed1b65e291975717f          esporte_lazer   \n",
              "3  cef67bcfe19066a932b7673e239eb23d                  bebes   \n",
              "4  9dc1a7de274444849c219cff195d0b71  utilidades_domesticas   \n",
              "\n",
              "   product_name_lenght  product_description_lenght  product_photos_qty  \\\n",
              "0                 40.0                       287.0                 1.0   \n",
              "1                 44.0                       276.0                 1.0   \n",
              "2                 46.0                       250.0                 1.0   \n",
              "3                 27.0                       261.0                 1.0   \n",
              "4                 37.0                       402.0                 4.0   \n",
              "\n",
              "   product_weight_g  product_length_cm  product_height_cm  product_width_cm  \n",
              "0             225.0               16.0               10.0              14.0  \n",
              "1            1000.0               30.0               18.0              20.0  \n",
              "2             154.0               18.0                9.0              15.0  \n",
              "3             371.0               26.0                4.0              26.0  \n",
              "4             625.0               20.0               17.0              13.0  "
            ]
          },
          "execution_count": 11,
          "metadata": {},
          "output_type": "execute_result"
        }
      ],
      "source": [
        "products_df = pd.read_csv('data/products_dataset.csv')\n",
        "products_df.head()"
      ]
    },
    {
      "cell_type": "code",
      "execution_count": 12,
      "metadata": {
        "colab": {
          "base_uri": "https://localhost:8080/",
          "height": 206
        },
        "id": "xDaGhYw92OKa",
        "outputId": "1a6305ae-a059-407d-c81f-cb163b50dc8a"
      },
      "outputs": [
        {
          "data": {
            "text/html": [
              "<div>\n",
              "<style scoped>\n",
              "    .dataframe tbody tr th:only-of-type {\n",
              "        vertical-align: middle;\n",
              "    }\n",
              "\n",
              "    .dataframe tbody tr th {\n",
              "        vertical-align: top;\n",
              "    }\n",
              "\n",
              "    .dataframe thead th {\n",
              "        text-align: right;\n",
              "    }\n",
              "</style>\n",
              "<table border=\"1\" class=\"dataframe\">\n",
              "  <thead>\n",
              "    <tr style=\"text-align: right;\">\n",
              "      <th></th>\n",
              "      <th>seller_id</th>\n",
              "      <th>seller_zip_code_prefix</th>\n",
              "      <th>seller_city</th>\n",
              "      <th>seller_state</th>\n",
              "    </tr>\n",
              "  </thead>\n",
              "  <tbody>\n",
              "    <tr>\n",
              "      <th>0</th>\n",
              "      <td>3442f8959a84dea7ee197c632cb2df15</td>\n",
              "      <td>13023</td>\n",
              "      <td>campinas</td>\n",
              "      <td>SP</td>\n",
              "    </tr>\n",
              "    <tr>\n",
              "      <th>1</th>\n",
              "      <td>d1b65fc7debc3361ea86b5f14c68d2e2</td>\n",
              "      <td>13844</td>\n",
              "      <td>mogi guacu</td>\n",
              "      <td>SP</td>\n",
              "    </tr>\n",
              "    <tr>\n",
              "      <th>2</th>\n",
              "      <td>ce3ad9de960102d0677a81f5d0bb7b2d</td>\n",
              "      <td>20031</td>\n",
              "      <td>rio de janeiro</td>\n",
              "      <td>RJ</td>\n",
              "    </tr>\n",
              "    <tr>\n",
              "      <th>3</th>\n",
              "      <td>c0f3eea2e14555b6faeea3dd58c1b1c3</td>\n",
              "      <td>4195</td>\n",
              "      <td>sao paulo</td>\n",
              "      <td>SP</td>\n",
              "    </tr>\n",
              "    <tr>\n",
              "      <th>4</th>\n",
              "      <td>51a04a8a6bdcb23deccc82b0b80742cf</td>\n",
              "      <td>12914</td>\n",
              "      <td>braganca paulista</td>\n",
              "      <td>SP</td>\n",
              "    </tr>\n",
              "  </tbody>\n",
              "</table>\n",
              "</div>"
            ],
            "text/plain": [
              "                          seller_id  seller_zip_code_prefix  \\\n",
              "0  3442f8959a84dea7ee197c632cb2df15                   13023   \n",
              "1  d1b65fc7debc3361ea86b5f14c68d2e2                   13844   \n",
              "2  ce3ad9de960102d0677a81f5d0bb7b2d                   20031   \n",
              "3  c0f3eea2e14555b6faeea3dd58c1b1c3                    4195   \n",
              "4  51a04a8a6bdcb23deccc82b0b80742cf                   12914   \n",
              "\n",
              "         seller_city seller_state  \n",
              "0           campinas           SP  \n",
              "1         mogi guacu           SP  \n",
              "2     rio de janeiro           RJ  \n",
              "3          sao paulo           SP  \n",
              "4  braganca paulista           SP  "
            ]
          },
          "execution_count": 12,
          "metadata": {},
          "output_type": "execute_result"
        }
      ],
      "source": [
        "sellers_df = pd.read_csv('data/sellers_dataset.csv')\n",
        "sellers_df.head()"
      ]
    },
    {
      "cell_type": "markdown",
      "metadata": {
        "id": "MMi6xGaDkbCi"
      },
      "source": [
        "**Insight:**\n",
        "- Terdapat 9 dataset yang digunakan\n",
        "- Setiap dataset kita ubah menjadi dataframe menggunakan library pandas. Kesembilan nama dataframe tersebut antara lain customers_df, geolocation_df, order_items_df, order_payments_df, order_reviews_df, orders_df, product_category_name_df, products_df, sellers_df."
      ]
    },
    {
      "cell_type": "markdown",
      "metadata": {
        "id": "FHSiqaZp8DC1"
      },
      "source": [
        "### Assessing Data"
      ]
    },
    {
      "cell_type": "markdown",
      "metadata": {
        "id": "D1vlzo6I5SX4"
      },
      "source": [
        "#### Menilai dataframe `customers_df`"
      ]
    },
    {
      "cell_type": "code",
      "execution_count": 13,
      "metadata": {
        "colab": {
          "base_uri": "https://localhost:8080/"
        },
        "id": "ax-3tEjc9Cj1",
        "outputId": "633eace2-e68c-4aa8-ad16-299363a8874e"
      },
      "outputs": [
        {
          "name": "stdout",
          "output_type": "stream",
          "text": [
            "<class 'pandas.core.frame.DataFrame'>\n",
            "RangeIndex: 99441 entries, 0 to 99440\n",
            "Data columns (total 5 columns):\n",
            " #   Column                    Non-Null Count  Dtype \n",
            "---  ------                    --------------  ----- \n",
            " 0   customer_id               99441 non-null  object\n",
            " 1   customer_unique_id        99441 non-null  object\n",
            " 2   customer_zip_code_prefix  99441 non-null  int64 \n",
            " 3   customer_city             99441 non-null  object\n",
            " 4   customer_state            99441 non-null  object\n",
            "dtypes: int64(1), object(4)\n",
            "memory usage: 3.8+ MB\n"
          ]
        }
      ],
      "source": [
        "customers_df.info()"
      ]
    },
    {
      "cell_type": "code",
      "execution_count": 14,
      "metadata": {
        "colab": {
          "base_uri": "https://localhost:8080/",
          "height": 241
        },
        "id": "rvHcxp1s52oM",
        "outputId": "5f1f5855-366b-4f05-8100-7eae813fd1ae"
      },
      "outputs": [
        {
          "data": {
            "text/plain": [
              "customer_id                 0\n",
              "customer_unique_id          0\n",
              "customer_zip_code_prefix    0\n",
              "customer_city               0\n",
              "customer_state              0\n",
              "dtype: int64"
            ]
          },
          "execution_count": 14,
          "metadata": {},
          "output_type": "execute_result"
        }
      ],
      "source": [
        "customers_df.isna().sum()"
      ]
    },
    {
      "cell_type": "code",
      "execution_count": 15,
      "metadata": {
        "colab": {
          "base_uri": "https://localhost:8080/"
        },
        "id": "sfmjHp4G56Hz",
        "outputId": "436e0128-757f-44c3-db5f-feae752f321e"
      },
      "outputs": [
        {
          "name": "stdout",
          "output_type": "stream",
          "text": [
            "Jumlah duplikasi:  0\n"
          ]
        }
      ],
      "source": [
        "print('Jumlah duplikasi: ', customers_df.duplicated().sum())"
      ]
    },
    {
      "cell_type": "code",
      "execution_count": 16,
      "metadata": {
        "colab": {
          "base_uri": "https://localhost:8080/",
          "height": 300
        },
        "id": "ScnHk9v_6MeJ",
        "outputId": "045aac85-cf85-48e2-e7ef-fd5b1abaa573"
      },
      "outputs": [
        {
          "data": {
            "text/html": [
              "<div>\n",
              "<style scoped>\n",
              "    .dataframe tbody tr th:only-of-type {\n",
              "        vertical-align: middle;\n",
              "    }\n",
              "\n",
              "    .dataframe tbody tr th {\n",
              "        vertical-align: top;\n",
              "    }\n",
              "\n",
              "    .dataframe thead th {\n",
              "        text-align: right;\n",
              "    }\n",
              "</style>\n",
              "<table border=\"1\" class=\"dataframe\">\n",
              "  <thead>\n",
              "    <tr style=\"text-align: right;\">\n",
              "      <th></th>\n",
              "      <th>customer_zip_code_prefix</th>\n",
              "    </tr>\n",
              "  </thead>\n",
              "  <tbody>\n",
              "    <tr>\n",
              "      <th>count</th>\n",
              "      <td>99441.000000</td>\n",
              "    </tr>\n",
              "    <tr>\n",
              "      <th>mean</th>\n",
              "      <td>35137.474583</td>\n",
              "    </tr>\n",
              "    <tr>\n",
              "      <th>std</th>\n",
              "      <td>29797.938996</td>\n",
              "    </tr>\n",
              "    <tr>\n",
              "      <th>min</th>\n",
              "      <td>1003.000000</td>\n",
              "    </tr>\n",
              "    <tr>\n",
              "      <th>25%</th>\n",
              "      <td>11347.000000</td>\n",
              "    </tr>\n",
              "    <tr>\n",
              "      <th>50%</th>\n",
              "      <td>24416.000000</td>\n",
              "    </tr>\n",
              "    <tr>\n",
              "      <th>75%</th>\n",
              "      <td>58900.000000</td>\n",
              "    </tr>\n",
              "    <tr>\n",
              "      <th>max</th>\n",
              "      <td>99990.000000</td>\n",
              "    </tr>\n",
              "  </tbody>\n",
              "</table>\n",
              "</div>"
            ],
            "text/plain": [
              "       customer_zip_code_prefix\n",
              "count              99441.000000\n",
              "mean               35137.474583\n",
              "std                29797.938996\n",
              "min                 1003.000000\n",
              "25%                11347.000000\n",
              "50%                24416.000000\n",
              "75%                58900.000000\n",
              "max                99990.000000"
            ]
          },
          "execution_count": 16,
          "metadata": {},
          "output_type": "execute_result"
        }
      ],
      "source": [
        "customers_df.describe()"
      ]
    },
    {
      "cell_type": "markdown",
      "metadata": {
        "id": "7dtxhAPrkhPL"
      },
      "source": [
        "**Insight:**\n",
        "- Tidak ada nilai null dalam dataframe customers_df\n",
        "- Tidak ada nilai yang duplikat dalam dataframe customers_df"
      ]
    },
    {
      "cell_type": "markdown",
      "metadata": {
        "id": "1-pIBc6N6ysc"
      },
      "source": [
        "#### Menilai dataframe `geolocation_df`"
      ]
    },
    {
      "cell_type": "code",
      "execution_count": 17,
      "metadata": {
        "colab": {
          "base_uri": "https://localhost:8080/"
        },
        "id": "yuBjJzl26xfp",
        "outputId": "928ef963-1544-4cb0-f4f6-487635d9c176"
      },
      "outputs": [
        {
          "name": "stdout",
          "output_type": "stream",
          "text": [
            "<class 'pandas.core.frame.DataFrame'>\n",
            "RangeIndex: 1000163 entries, 0 to 1000162\n",
            "Data columns (total 5 columns):\n",
            " #   Column                       Non-Null Count    Dtype  \n",
            "---  ------                       --------------    -----  \n",
            " 0   geolocation_zip_code_prefix  1000163 non-null  int64  \n",
            " 1   geolocation_lat              1000163 non-null  float64\n",
            " 2   geolocation_lng              1000163 non-null  float64\n",
            " 3   geolocation_city             1000163 non-null  object \n",
            " 4   geolocation_state            1000163 non-null  object \n",
            "dtypes: float64(2), int64(1), object(2)\n",
            "memory usage: 38.2+ MB\n"
          ]
        }
      ],
      "source": [
        "geolocation_df.info()"
      ]
    },
    {
      "cell_type": "code",
      "execution_count": 18,
      "metadata": {
        "colab": {
          "base_uri": "https://localhost:8080/",
          "height": 241
        },
        "id": "tHBck03n7A5y",
        "outputId": "d12a98c0-560e-4db9-e184-abfa944dc111"
      },
      "outputs": [
        {
          "data": {
            "text/plain": [
              "geolocation_zip_code_prefix    0\n",
              "geolocation_lat                0\n",
              "geolocation_lng                0\n",
              "geolocation_city               0\n",
              "geolocation_state              0\n",
              "dtype: int64"
            ]
          },
          "execution_count": 18,
          "metadata": {},
          "output_type": "execute_result"
        }
      ],
      "source": [
        "geolocation_df.isna().sum()"
      ]
    },
    {
      "cell_type": "code",
      "execution_count": 19,
      "metadata": {
        "colab": {
          "base_uri": "https://localhost:8080/"
        },
        "id": "ynq9DXjH7HWH",
        "outputId": "d2169a79-734a-4c2b-eca2-71d6b0e0b522"
      },
      "outputs": [
        {
          "name": "stdout",
          "output_type": "stream",
          "text": [
            "Jumlah duplikasi:  261831\n"
          ]
        }
      ],
      "source": [
        "print('Jumlah duplikasi: ', geolocation_df.duplicated().sum())"
      ]
    },
    {
      "cell_type": "code",
      "execution_count": 20,
      "metadata": {
        "colab": {
          "base_uri": "https://localhost:8080/",
          "height": 300
        },
        "id": "GphG9VfE7Xku",
        "outputId": "f6b66a99-edeb-4e1a-8d00-e7706425066e"
      },
      "outputs": [
        {
          "data": {
            "text/html": [
              "<div>\n",
              "<style scoped>\n",
              "    .dataframe tbody tr th:only-of-type {\n",
              "        vertical-align: middle;\n",
              "    }\n",
              "\n",
              "    .dataframe tbody tr th {\n",
              "        vertical-align: top;\n",
              "    }\n",
              "\n",
              "    .dataframe thead th {\n",
              "        text-align: right;\n",
              "    }\n",
              "</style>\n",
              "<table border=\"1\" class=\"dataframe\">\n",
              "  <thead>\n",
              "    <tr style=\"text-align: right;\">\n",
              "      <th></th>\n",
              "      <th>geolocation_zip_code_prefix</th>\n",
              "      <th>geolocation_lat</th>\n",
              "      <th>geolocation_lng</th>\n",
              "    </tr>\n",
              "  </thead>\n",
              "  <tbody>\n",
              "    <tr>\n",
              "      <th>count</th>\n",
              "      <td>1.000163e+06</td>\n",
              "      <td>1.000163e+06</td>\n",
              "      <td>1.000163e+06</td>\n",
              "    </tr>\n",
              "    <tr>\n",
              "      <th>mean</th>\n",
              "      <td>3.657417e+04</td>\n",
              "      <td>-2.117615e+01</td>\n",
              "      <td>-4.639054e+01</td>\n",
              "    </tr>\n",
              "    <tr>\n",
              "      <th>std</th>\n",
              "      <td>3.054934e+04</td>\n",
              "      <td>5.715866e+00</td>\n",
              "      <td>4.269748e+00</td>\n",
              "    </tr>\n",
              "    <tr>\n",
              "      <th>min</th>\n",
              "      <td>1.001000e+03</td>\n",
              "      <td>-3.660537e+01</td>\n",
              "      <td>-1.014668e+02</td>\n",
              "    </tr>\n",
              "    <tr>\n",
              "      <th>25%</th>\n",
              "      <td>1.107500e+04</td>\n",
              "      <td>-2.360355e+01</td>\n",
              "      <td>-4.857317e+01</td>\n",
              "    </tr>\n",
              "    <tr>\n",
              "      <th>50%</th>\n",
              "      <td>2.653000e+04</td>\n",
              "      <td>-2.291938e+01</td>\n",
              "      <td>-4.663788e+01</td>\n",
              "    </tr>\n",
              "    <tr>\n",
              "      <th>75%</th>\n",
              "      <td>6.350400e+04</td>\n",
              "      <td>-1.997962e+01</td>\n",
              "      <td>-4.376771e+01</td>\n",
              "    </tr>\n",
              "    <tr>\n",
              "      <th>max</th>\n",
              "      <td>9.999000e+04</td>\n",
              "      <td>4.506593e+01</td>\n",
              "      <td>1.211054e+02</td>\n",
              "    </tr>\n",
              "  </tbody>\n",
              "</table>\n",
              "</div>"
            ],
            "text/plain": [
              "       geolocation_zip_code_prefix  geolocation_lat  geolocation_lng\n",
              "count                 1.000163e+06     1.000163e+06     1.000163e+06\n",
              "mean                  3.657417e+04    -2.117615e+01    -4.639054e+01\n",
              "std                   3.054934e+04     5.715866e+00     4.269748e+00\n",
              "min                   1.001000e+03    -3.660537e+01    -1.014668e+02\n",
              "25%                   1.107500e+04    -2.360355e+01    -4.857317e+01\n",
              "50%                   2.653000e+04    -2.291938e+01    -4.663788e+01\n",
              "75%                   6.350400e+04    -1.997962e+01    -4.376771e+01\n",
              "max                   9.999000e+04     4.506593e+01     1.211054e+02"
            ]
          },
          "execution_count": 20,
          "metadata": {},
          "output_type": "execute_result"
        }
      ],
      "source": [
        "geolocation_df.describe()"
      ]
    },
    {
      "cell_type": "markdown",
      "metadata": {
        "id": "JnTluagT7r9g"
      },
      "source": [
        "**Insight:**\n",
        "- Tidak terdapat nilai null dalam dataframe geolocation_df\n",
        "- Terdapat 261831 data duplikat"
      ]
    },
    {
      "cell_type": "markdown",
      "metadata": {
        "id": "1mB1dHaD8Abk"
      },
      "source": [
        "#### Menilai dataframe `order_items_df`"
      ]
    },
    {
      "cell_type": "code",
      "execution_count": 21,
      "metadata": {
        "colab": {
          "base_uri": "https://localhost:8080/"
        },
        "id": "QH3sMC6-7_nL",
        "outputId": "14b0ba1d-d98b-48b2-ba48-0f93399244f3"
      },
      "outputs": [
        {
          "name": "stdout",
          "output_type": "stream",
          "text": [
            "<class 'pandas.core.frame.DataFrame'>\n",
            "RangeIndex: 112650 entries, 0 to 112649\n",
            "Data columns (total 7 columns):\n",
            " #   Column               Non-Null Count   Dtype  \n",
            "---  ------               --------------   -----  \n",
            " 0   order_id             112650 non-null  object \n",
            " 1   order_item_id        112650 non-null  int64  \n",
            " 2   product_id           112650 non-null  object \n",
            " 3   seller_id            112650 non-null  object \n",
            " 4   shipping_limit_date  112650 non-null  object \n",
            " 5   price                112650 non-null  float64\n",
            " 6   freight_value        112650 non-null  float64\n",
            "dtypes: float64(2), int64(1), object(4)\n",
            "memory usage: 6.0+ MB\n"
          ]
        }
      ],
      "source": [
        "order_items_df.info()"
      ]
    },
    {
      "cell_type": "code",
      "execution_count": 22,
      "metadata": {
        "colab": {
          "base_uri": "https://localhost:8080/",
          "height": 303
        },
        "id": "XnZ5VOfT8OmD",
        "outputId": "2c48277d-f136-49e8-ee1b-82e85c4cca81"
      },
      "outputs": [
        {
          "data": {
            "text/plain": [
              "order_id               0\n",
              "order_item_id          0\n",
              "product_id             0\n",
              "seller_id              0\n",
              "shipping_limit_date    0\n",
              "price                  0\n",
              "freight_value          0\n",
              "dtype: int64"
            ]
          },
          "execution_count": 22,
          "metadata": {},
          "output_type": "execute_result"
        }
      ],
      "source": [
        "order_items_df.isna().sum()"
      ]
    },
    {
      "cell_type": "code",
      "execution_count": 23,
      "metadata": {
        "colab": {
          "base_uri": "https://localhost:8080/"
        },
        "id": "oiK0oiZ88OZC",
        "outputId": "b4417e6a-707e-438b-bedc-ecad61fcad6a"
      },
      "outputs": [
        {
          "name": "stdout",
          "output_type": "stream",
          "text": [
            "Jumlah duplikat:  0\n"
          ]
        }
      ],
      "source": [
        "print(\"Jumlah duplikat: \", order_items_df.duplicated().sum())"
      ]
    },
    {
      "cell_type": "code",
      "execution_count": 24,
      "metadata": {
        "colab": {
          "base_uri": "https://localhost:8080/",
          "height": 300
        },
        "id": "tg0-grb98OVv",
        "outputId": "a2d1ebae-a412-4a1d-b55e-51f5001f59f8"
      },
      "outputs": [
        {
          "data": {
            "text/html": [
              "<div>\n",
              "<style scoped>\n",
              "    .dataframe tbody tr th:only-of-type {\n",
              "        vertical-align: middle;\n",
              "    }\n",
              "\n",
              "    .dataframe tbody tr th {\n",
              "        vertical-align: top;\n",
              "    }\n",
              "\n",
              "    .dataframe thead th {\n",
              "        text-align: right;\n",
              "    }\n",
              "</style>\n",
              "<table border=\"1\" class=\"dataframe\">\n",
              "  <thead>\n",
              "    <tr style=\"text-align: right;\">\n",
              "      <th></th>\n",
              "      <th>order_item_id</th>\n",
              "      <th>price</th>\n",
              "      <th>freight_value</th>\n",
              "    </tr>\n",
              "  </thead>\n",
              "  <tbody>\n",
              "    <tr>\n",
              "      <th>count</th>\n",
              "      <td>112650.000000</td>\n",
              "      <td>112650.000000</td>\n",
              "      <td>112650.000000</td>\n",
              "    </tr>\n",
              "    <tr>\n",
              "      <th>mean</th>\n",
              "      <td>1.197834</td>\n",
              "      <td>120.653739</td>\n",
              "      <td>19.990320</td>\n",
              "    </tr>\n",
              "    <tr>\n",
              "      <th>std</th>\n",
              "      <td>0.705124</td>\n",
              "      <td>183.633928</td>\n",
              "      <td>15.806405</td>\n",
              "    </tr>\n",
              "    <tr>\n",
              "      <th>min</th>\n",
              "      <td>1.000000</td>\n",
              "      <td>0.850000</td>\n",
              "      <td>0.000000</td>\n",
              "    </tr>\n",
              "    <tr>\n",
              "      <th>25%</th>\n",
              "      <td>1.000000</td>\n",
              "      <td>39.900000</td>\n",
              "      <td>13.080000</td>\n",
              "    </tr>\n",
              "    <tr>\n",
              "      <th>50%</th>\n",
              "      <td>1.000000</td>\n",
              "      <td>74.990000</td>\n",
              "      <td>16.260000</td>\n",
              "    </tr>\n",
              "    <tr>\n",
              "      <th>75%</th>\n",
              "      <td>1.000000</td>\n",
              "      <td>134.900000</td>\n",
              "      <td>21.150000</td>\n",
              "    </tr>\n",
              "    <tr>\n",
              "      <th>max</th>\n",
              "      <td>21.000000</td>\n",
              "      <td>6735.000000</td>\n",
              "      <td>409.680000</td>\n",
              "    </tr>\n",
              "  </tbody>\n",
              "</table>\n",
              "</div>"
            ],
            "text/plain": [
              "       order_item_id          price  freight_value\n",
              "count  112650.000000  112650.000000  112650.000000\n",
              "mean        1.197834     120.653739      19.990320\n",
              "std         0.705124     183.633928      15.806405\n",
              "min         1.000000       0.850000       0.000000\n",
              "25%         1.000000      39.900000      13.080000\n",
              "50%         1.000000      74.990000      16.260000\n",
              "75%         1.000000     134.900000      21.150000\n",
              "max        21.000000    6735.000000     409.680000"
            ]
          },
          "execution_count": 24,
          "metadata": {},
          "output_type": "execute_result"
        }
      ],
      "source": [
        "order_items_df.describe()"
      ]
    },
    {
      "cell_type": "markdown",
      "metadata": {
        "id": "Yo7jtPQZ8p_o"
      },
      "source": [
        "**Insight:**\n",
        "- Tidak ada data duplikat dalam dataframe order_items_df.\n",
        "- Tidak ada nilai null\n"
      ]
    },
    {
      "cell_type": "markdown",
      "metadata": {
        "id": "HEwVitq5_410"
      },
      "source": [
        "#### Menilai dataframe `order_payments_df`"
      ]
    },
    {
      "cell_type": "code",
      "execution_count": 25,
      "metadata": {
        "colab": {
          "base_uri": "https://localhost:8080/"
        },
        "id": "JqYF5Yi__4kJ",
        "outputId": "46d8bc9a-5e92-42a6-df5f-7e24a1166c44"
      },
      "outputs": [
        {
          "name": "stdout",
          "output_type": "stream",
          "text": [
            "<class 'pandas.core.frame.DataFrame'>\n",
            "RangeIndex: 103886 entries, 0 to 103885\n",
            "Data columns (total 5 columns):\n",
            " #   Column                Non-Null Count   Dtype  \n",
            "---  ------                --------------   -----  \n",
            " 0   order_id              103886 non-null  object \n",
            " 1   payment_sequential    103886 non-null  int64  \n",
            " 2   payment_type          103886 non-null  object \n",
            " 3   payment_installments  103886 non-null  int64  \n",
            " 4   payment_value         103886 non-null  float64\n",
            "dtypes: float64(1), int64(2), object(2)\n",
            "memory usage: 4.0+ MB\n"
          ]
        }
      ],
      "source": [
        "order_payments_df.info()"
      ]
    },
    {
      "cell_type": "code",
      "execution_count": 26,
      "metadata": {
        "colab": {
          "base_uri": "https://localhost:8080/",
          "height": 241
        },
        "id": "phYFvF65_4Zi",
        "outputId": "8eaaddd4-ad04-4127-f9b7-5b0fe389e236"
      },
      "outputs": [
        {
          "data": {
            "text/plain": [
              "order_id                0\n",
              "payment_sequential      0\n",
              "payment_type            0\n",
              "payment_installments    0\n",
              "payment_value           0\n",
              "dtype: int64"
            ]
          },
          "execution_count": 26,
          "metadata": {},
          "output_type": "execute_result"
        }
      ],
      "source": [
        "order_payments_df.isna().sum()"
      ]
    },
    {
      "cell_type": "code",
      "execution_count": 27,
      "metadata": {
        "colab": {
          "base_uri": "https://localhost:8080/"
        },
        "id": "AQfl3aiQ_2Cf",
        "outputId": "d3c93adf-7c36-480a-e816-595d52be9c26"
      },
      "outputs": [
        {
          "name": "stdout",
          "output_type": "stream",
          "text": [
            "jumlah duplikat:  0\n"
          ]
        }
      ],
      "source": [
        "print(\"jumlah duplikat: \", order_payments_df.duplicated().sum())"
      ]
    },
    {
      "cell_type": "code",
      "execution_count": 28,
      "metadata": {
        "colab": {
          "base_uri": "https://localhost:8080/",
          "height": 300
        },
        "id": "6c-iEa4b_13F",
        "outputId": "5fba7c8e-5079-43fd-dad3-d505bc561dc8"
      },
      "outputs": [
        {
          "data": {
            "text/html": [
              "<div>\n",
              "<style scoped>\n",
              "    .dataframe tbody tr th:only-of-type {\n",
              "        vertical-align: middle;\n",
              "    }\n",
              "\n",
              "    .dataframe tbody tr th {\n",
              "        vertical-align: top;\n",
              "    }\n",
              "\n",
              "    .dataframe thead th {\n",
              "        text-align: right;\n",
              "    }\n",
              "</style>\n",
              "<table border=\"1\" class=\"dataframe\">\n",
              "  <thead>\n",
              "    <tr style=\"text-align: right;\">\n",
              "      <th></th>\n",
              "      <th>payment_sequential</th>\n",
              "      <th>payment_installments</th>\n",
              "      <th>payment_value</th>\n",
              "    </tr>\n",
              "  </thead>\n",
              "  <tbody>\n",
              "    <tr>\n",
              "      <th>count</th>\n",
              "      <td>103886.000000</td>\n",
              "      <td>103886.000000</td>\n",
              "      <td>103886.000000</td>\n",
              "    </tr>\n",
              "    <tr>\n",
              "      <th>mean</th>\n",
              "      <td>1.092679</td>\n",
              "      <td>2.853349</td>\n",
              "      <td>154.100380</td>\n",
              "    </tr>\n",
              "    <tr>\n",
              "      <th>std</th>\n",
              "      <td>0.706584</td>\n",
              "      <td>2.687051</td>\n",
              "      <td>217.494064</td>\n",
              "    </tr>\n",
              "    <tr>\n",
              "      <th>min</th>\n",
              "      <td>1.000000</td>\n",
              "      <td>0.000000</td>\n",
              "      <td>0.000000</td>\n",
              "    </tr>\n",
              "    <tr>\n",
              "      <th>25%</th>\n",
              "      <td>1.000000</td>\n",
              "      <td>1.000000</td>\n",
              "      <td>56.790000</td>\n",
              "    </tr>\n",
              "    <tr>\n",
              "      <th>50%</th>\n",
              "      <td>1.000000</td>\n",
              "      <td>1.000000</td>\n",
              "      <td>100.000000</td>\n",
              "    </tr>\n",
              "    <tr>\n",
              "      <th>75%</th>\n",
              "      <td>1.000000</td>\n",
              "      <td>4.000000</td>\n",
              "      <td>171.837500</td>\n",
              "    </tr>\n",
              "    <tr>\n",
              "      <th>max</th>\n",
              "      <td>29.000000</td>\n",
              "      <td>24.000000</td>\n",
              "      <td>13664.080000</td>\n",
              "    </tr>\n",
              "  </tbody>\n",
              "</table>\n",
              "</div>"
            ],
            "text/plain": [
              "       payment_sequential  payment_installments  payment_value\n",
              "count       103886.000000         103886.000000  103886.000000\n",
              "mean             1.092679              2.853349     154.100380\n",
              "std              0.706584              2.687051     217.494064\n",
              "min              1.000000              0.000000       0.000000\n",
              "25%              1.000000              1.000000      56.790000\n",
              "50%              1.000000              1.000000     100.000000\n",
              "75%              1.000000              4.000000     171.837500\n",
              "max             29.000000             24.000000   13664.080000"
            ]
          },
          "execution_count": 28,
          "metadata": {},
          "output_type": "execute_result"
        }
      ],
      "source": [
        "order_payments_df.describe()"
      ]
    },
    {
      "cell_type": "markdown",
      "metadata": {
        "id": "H3ZZlrOOAlQG"
      },
      "source": [
        "**Insight:**\n",
        "- Tidak terdapat nilai null dan data duplikat pada dataframe order_payments_df\n",
        "- Ada inaccurate value pada kolom payment_sequential"
      ]
    },
    {
      "cell_type": "markdown",
      "metadata": {
        "id": "NWydPa-DA81M"
      },
      "source": [
        "#### Menilai dataframe `order_reviews_df`"
      ]
    },
    {
      "cell_type": "code",
      "execution_count": 29,
      "metadata": {
        "colab": {
          "base_uri": "https://localhost:8080/"
        },
        "id": "JYjydIAIBGvJ",
        "outputId": "c3de2279-5ac3-4999-d00a-ffc94bd638c9"
      },
      "outputs": [
        {
          "name": "stdout",
          "output_type": "stream",
          "text": [
            "<class 'pandas.core.frame.DataFrame'>\n",
            "RangeIndex: 99224 entries, 0 to 99223\n",
            "Data columns (total 7 columns):\n",
            " #   Column                   Non-Null Count  Dtype \n",
            "---  ------                   --------------  ----- \n",
            " 0   review_id                99224 non-null  object\n",
            " 1   order_id                 99224 non-null  object\n",
            " 2   review_score             99224 non-null  int64 \n",
            " 3   review_comment_title     11568 non-null  object\n",
            " 4   review_comment_message   40977 non-null  object\n",
            " 5   review_creation_date     99224 non-null  object\n",
            " 6   review_answer_timestamp  99224 non-null  object\n",
            "dtypes: int64(1), object(6)\n",
            "memory usage: 5.3+ MB\n"
          ]
        }
      ],
      "source": [
        "order_reviews_df.info()"
      ]
    },
    {
      "cell_type": "code",
      "execution_count": 30,
      "metadata": {
        "colab": {
          "base_uri": "https://localhost:8080/",
          "height": 303
        },
        "id": "9kXBVNQ6BGn7",
        "outputId": "e02c8693-1eee-4cd0-8628-71c273cd17bd"
      },
      "outputs": [
        {
          "data": {
            "text/plain": [
              "review_id                      0\n",
              "order_id                       0\n",
              "review_score                   0\n",
              "review_comment_title       87656\n",
              "review_comment_message     58247\n",
              "review_creation_date           0\n",
              "review_answer_timestamp        0\n",
              "dtype: int64"
            ]
          },
          "execution_count": 30,
          "metadata": {},
          "output_type": "execute_result"
        }
      ],
      "source": [
        "order_reviews_df.isna().sum()"
      ]
    },
    {
      "cell_type": "code",
      "execution_count": 31,
      "metadata": {
        "colab": {
          "base_uri": "https://localhost:8080/"
        },
        "id": "fU7UbUxKBGgi",
        "outputId": "120fa340-7f83-419c-adab-a5cb5492a858"
      },
      "outputs": [
        {
          "name": "stdout",
          "output_type": "stream",
          "text": [
            "Jumlah duplikat:  0\n"
          ]
        }
      ],
      "source": [
        "print('Jumlah duplikat: ', order_reviews_df.duplicated().sum())"
      ]
    },
    {
      "cell_type": "code",
      "execution_count": 32,
      "metadata": {
        "colab": {
          "base_uri": "https://localhost:8080/",
          "height": 300
        },
        "id": "j1N3KUeYBGZZ",
        "outputId": "6fc668c9-2c13-4080-e931-55cd05f4eefa"
      },
      "outputs": [
        {
          "data": {
            "text/html": [
              "<div>\n",
              "<style scoped>\n",
              "    .dataframe tbody tr th:only-of-type {\n",
              "        vertical-align: middle;\n",
              "    }\n",
              "\n",
              "    .dataframe tbody tr th {\n",
              "        vertical-align: top;\n",
              "    }\n",
              "\n",
              "    .dataframe thead th {\n",
              "        text-align: right;\n",
              "    }\n",
              "</style>\n",
              "<table border=\"1\" class=\"dataframe\">\n",
              "  <thead>\n",
              "    <tr style=\"text-align: right;\">\n",
              "      <th></th>\n",
              "      <th>review_score</th>\n",
              "    </tr>\n",
              "  </thead>\n",
              "  <tbody>\n",
              "    <tr>\n",
              "      <th>count</th>\n",
              "      <td>99224.000000</td>\n",
              "    </tr>\n",
              "    <tr>\n",
              "      <th>mean</th>\n",
              "      <td>4.086421</td>\n",
              "    </tr>\n",
              "    <tr>\n",
              "      <th>std</th>\n",
              "      <td>1.347579</td>\n",
              "    </tr>\n",
              "    <tr>\n",
              "      <th>min</th>\n",
              "      <td>1.000000</td>\n",
              "    </tr>\n",
              "    <tr>\n",
              "      <th>25%</th>\n",
              "      <td>4.000000</td>\n",
              "    </tr>\n",
              "    <tr>\n",
              "      <th>50%</th>\n",
              "      <td>5.000000</td>\n",
              "    </tr>\n",
              "    <tr>\n",
              "      <th>75%</th>\n",
              "      <td>5.000000</td>\n",
              "    </tr>\n",
              "    <tr>\n",
              "      <th>max</th>\n",
              "      <td>5.000000</td>\n",
              "    </tr>\n",
              "  </tbody>\n",
              "</table>\n",
              "</div>"
            ],
            "text/plain": [
              "       review_score\n",
              "count  99224.000000\n",
              "mean       4.086421\n",
              "std        1.347579\n",
              "min        1.000000\n",
              "25%        4.000000\n",
              "50%        5.000000\n",
              "75%        5.000000\n",
              "max        5.000000"
            ]
          },
          "execution_count": 32,
          "metadata": {},
          "output_type": "execute_result"
        }
      ],
      "source": [
        "order_reviews_df.describe()"
      ]
    },
    {
      "cell_type": "markdown",
      "metadata": {
        "id": "0F5PSnTmByW2"
      },
      "source": [
        "**Insight:**\n",
        "- Terdapat nilai null pada kolom review_comment_title dan review_comment_message\n",
        "- Tidak ada data duplikat"
      ]
    },
    {
      "cell_type": "markdown",
      "metadata": {
        "id": "TN6roK7yCIeD"
      },
      "source": [
        "#### Menilai dataframe `orders_df`"
      ]
    },
    {
      "cell_type": "code",
      "execution_count": 33,
      "metadata": {
        "colab": {
          "base_uri": "https://localhost:8080/"
        },
        "id": "0J2lC8TJCPi_",
        "outputId": "009d1a5f-6d5a-457f-9682-0a9d2549944f"
      },
      "outputs": [
        {
          "name": "stdout",
          "output_type": "stream",
          "text": [
            "<class 'pandas.core.frame.DataFrame'>\n",
            "RangeIndex: 99441 entries, 0 to 99440\n",
            "Data columns (total 8 columns):\n",
            " #   Column                         Non-Null Count  Dtype \n",
            "---  ------                         --------------  ----- \n",
            " 0   order_id                       99441 non-null  object\n",
            " 1   customer_id                    99441 non-null  object\n",
            " 2   order_status                   99441 non-null  object\n",
            " 3   order_purchase_timestamp       99441 non-null  object\n",
            " 4   order_approved_at              99281 non-null  object\n",
            " 5   order_delivered_carrier_date   97658 non-null  object\n",
            " 6   order_delivered_customer_date  96476 non-null  object\n",
            " 7   order_estimated_delivery_date  99441 non-null  object\n",
            "dtypes: object(8)\n",
            "memory usage: 6.1+ MB\n"
          ]
        }
      ],
      "source": [
        "orders_df.info()"
      ]
    },
    {
      "cell_type": "code",
      "execution_count": 34,
      "metadata": {
        "colab": {
          "base_uri": "https://localhost:8080/",
          "height": 335
        },
        "id": "DdSOjlnXCPah",
        "outputId": "5c6e8fbd-1126-447d-b55c-9658e90e6af6"
      },
      "outputs": [
        {
          "data": {
            "text/plain": [
              "order_id                            0\n",
              "customer_id                         0\n",
              "order_status                        0\n",
              "order_purchase_timestamp            0\n",
              "order_approved_at                 160\n",
              "order_delivered_carrier_date     1783\n",
              "order_delivered_customer_date    2965\n",
              "order_estimated_delivery_date       0\n",
              "dtype: int64"
            ]
          },
          "execution_count": 34,
          "metadata": {},
          "output_type": "execute_result"
        }
      ],
      "source": [
        "orders_df.isna().sum()"
      ]
    },
    {
      "cell_type": "code",
      "execution_count": 35,
      "metadata": {
        "colab": {
          "base_uri": "https://localhost:8080/"
        },
        "id": "b96qc8naCPTC",
        "outputId": "ffd38afb-fc10-46f1-b77a-c887bedabeb2"
      },
      "outputs": [
        {
          "name": "stdout",
          "output_type": "stream",
          "text": [
            "Jumlah duplikat:  0\n"
          ]
        }
      ],
      "source": [
        "print(\"Jumlah duplikat: \", orders_df.duplicated().sum())"
      ]
    },
    {
      "cell_type": "code",
      "execution_count": 36,
      "metadata": {
        "colab": {
          "base_uri": "https://localhost:8080/",
          "height": 195
        },
        "id": "kVh1h80sCPMf",
        "outputId": "d5e72bf6-4469-4365-d525-47626864ad42"
      },
      "outputs": [
        {
          "data": {
            "text/html": [
              "<div>\n",
              "<style scoped>\n",
              "    .dataframe tbody tr th:only-of-type {\n",
              "        vertical-align: middle;\n",
              "    }\n",
              "\n",
              "    .dataframe tbody tr th {\n",
              "        vertical-align: top;\n",
              "    }\n",
              "\n",
              "    .dataframe thead th {\n",
              "        text-align: right;\n",
              "    }\n",
              "</style>\n",
              "<table border=\"1\" class=\"dataframe\">\n",
              "  <thead>\n",
              "    <tr style=\"text-align: right;\">\n",
              "      <th></th>\n",
              "      <th>order_id</th>\n",
              "      <th>customer_id</th>\n",
              "      <th>order_status</th>\n",
              "      <th>order_purchase_timestamp</th>\n",
              "      <th>order_approved_at</th>\n",
              "      <th>order_delivered_carrier_date</th>\n",
              "      <th>order_delivered_customer_date</th>\n",
              "      <th>order_estimated_delivery_date</th>\n",
              "    </tr>\n",
              "  </thead>\n",
              "  <tbody>\n",
              "    <tr>\n",
              "      <th>count</th>\n",
              "      <td>99441</td>\n",
              "      <td>99441</td>\n",
              "      <td>99441</td>\n",
              "      <td>99441</td>\n",
              "      <td>99281</td>\n",
              "      <td>97658</td>\n",
              "      <td>96476</td>\n",
              "      <td>99441</td>\n",
              "    </tr>\n",
              "    <tr>\n",
              "      <th>unique</th>\n",
              "      <td>99441</td>\n",
              "      <td>99441</td>\n",
              "      <td>8</td>\n",
              "      <td>98875</td>\n",
              "      <td>90733</td>\n",
              "      <td>81018</td>\n",
              "      <td>95664</td>\n",
              "      <td>459</td>\n",
              "    </tr>\n",
              "    <tr>\n",
              "      <th>top</th>\n",
              "      <td>66dea50a8b16d9b4dee7af250b4be1a5</td>\n",
              "      <td>edb027a75a1449115f6b43211ae02a24</td>\n",
              "      <td>delivered</td>\n",
              "      <td>2018-08-02 12:05:26</td>\n",
              "      <td>2018-02-27 04:31:10</td>\n",
              "      <td>2018-05-09 15:48:00</td>\n",
              "      <td>2018-05-08 19:36:48</td>\n",
              "      <td>2017-12-20 00:00:00</td>\n",
              "    </tr>\n",
              "    <tr>\n",
              "      <th>freq</th>\n",
              "      <td>1</td>\n",
              "      <td>1</td>\n",
              "      <td>96478</td>\n",
              "      <td>3</td>\n",
              "      <td>9</td>\n",
              "      <td>47</td>\n",
              "      <td>3</td>\n",
              "      <td>522</td>\n",
              "    </tr>\n",
              "  </tbody>\n",
              "</table>\n",
              "</div>"
            ],
            "text/plain": [
              "                                order_id                       customer_id  \\\n",
              "count                              99441                             99441   \n",
              "unique                             99441                             99441   \n",
              "top     66dea50a8b16d9b4dee7af250b4be1a5  edb027a75a1449115f6b43211ae02a24   \n",
              "freq                                   1                                 1   \n",
              "\n",
              "       order_status order_purchase_timestamp    order_approved_at  \\\n",
              "count         99441                    99441                99281   \n",
              "unique            8                    98875                90733   \n",
              "top       delivered      2018-08-02 12:05:26  2018-02-27 04:31:10   \n",
              "freq          96478                        3                    9   \n",
              "\n",
              "       order_delivered_carrier_date order_delivered_customer_date  \\\n",
              "count                         97658                         96476   \n",
              "unique                        81018                         95664   \n",
              "top             2018-05-09 15:48:00           2018-05-08 19:36:48   \n",
              "freq                             47                             3   \n",
              "\n",
              "       order_estimated_delivery_date  \n",
              "count                          99441  \n",
              "unique                           459  \n",
              "top              2017-12-20 00:00:00  \n",
              "freq                             522  "
            ]
          },
          "execution_count": 36,
          "metadata": {},
          "output_type": "execute_result"
        }
      ],
      "source": [
        "orders_df.describe()"
      ]
    },
    {
      "cell_type": "markdown",
      "metadata": {
        "id": "lVeRfZSrCRSI"
      },
      "source": [
        "**Insight:**\n",
        "- Terdapat nilai null pada kolom order_approved_at, order_delivered_carrier_date, order_delivered_customer_date\n",
        "- Tidak ada data duplikat"
      ]
    },
    {
      "cell_type": "markdown",
      "metadata": {
        "id": "HuhZyJw2DTtS"
      },
      "source": [
        "#### Menilai dataframe `product_category_name_df`"
      ]
    },
    {
      "cell_type": "code",
      "execution_count": 37,
      "metadata": {
        "colab": {
          "base_uri": "https://localhost:8080/"
        },
        "id": "yhqYZvWPDSTf",
        "outputId": "22c30de7-6451-454e-d635-1873ba4dc4d2"
      },
      "outputs": [
        {
          "name": "stdout",
          "output_type": "stream",
          "text": [
            "<class 'pandas.core.frame.DataFrame'>\n",
            "RangeIndex: 71 entries, 0 to 70\n",
            "Data columns (total 2 columns):\n",
            " #   Column                         Non-Null Count  Dtype \n",
            "---  ------                         --------------  ----- \n",
            " 0   product_category_name          71 non-null     object\n",
            " 1   product_category_name_english  71 non-null     object\n",
            "dtypes: object(2)\n",
            "memory usage: 1.2+ KB\n"
          ]
        }
      ],
      "source": [
        "product_category_name_df.info()"
      ]
    },
    {
      "cell_type": "code",
      "execution_count": 38,
      "metadata": {
        "colab": {
          "base_uri": "https://localhost:8080/",
          "height": 147
        },
        "id": "dVQmV9a2DQbg",
        "outputId": "9f059aa7-2e42-498d-f745-fee52ffbaace"
      },
      "outputs": [
        {
          "data": {
            "text/plain": [
              "product_category_name            0\n",
              "product_category_name_english    0\n",
              "dtype: int64"
            ]
          },
          "execution_count": 38,
          "metadata": {},
          "output_type": "execute_result"
        }
      ],
      "source": [
        "product_category_name_df.isna().sum()"
      ]
    },
    {
      "cell_type": "code",
      "execution_count": 39,
      "metadata": {
        "colab": {
          "base_uri": "https://localhost:8080/"
        },
        "id": "wOkxP7LADQRF",
        "outputId": "42e21c6e-9aed-4cf5-8e59-9c83b549f821"
      },
      "outputs": [
        {
          "name": "stdout",
          "output_type": "stream",
          "text": [
            "Jumlah duplikat:  0\n"
          ]
        }
      ],
      "source": [
        "print(\"Jumlah duplikat: \", product_category_name_df.duplicated().sum())"
      ]
    },
    {
      "cell_type": "code",
      "execution_count": 40,
      "metadata": {
        "colab": {
          "base_uri": "https://localhost:8080/",
          "height": 175
        },
        "id": "dEy8ZHwcDP68",
        "outputId": "a1644662-47cd-467f-c1bf-cdb460ca4227"
      },
      "outputs": [
        {
          "data": {
            "text/html": [
              "<div>\n",
              "<style scoped>\n",
              "    .dataframe tbody tr th:only-of-type {\n",
              "        vertical-align: middle;\n",
              "    }\n",
              "\n",
              "    .dataframe tbody tr th {\n",
              "        vertical-align: top;\n",
              "    }\n",
              "\n",
              "    .dataframe thead th {\n",
              "        text-align: right;\n",
              "    }\n",
              "</style>\n",
              "<table border=\"1\" class=\"dataframe\">\n",
              "  <thead>\n",
              "    <tr style=\"text-align: right;\">\n",
              "      <th></th>\n",
              "      <th>product_category_name</th>\n",
              "      <th>product_category_name_english</th>\n",
              "    </tr>\n",
              "  </thead>\n",
              "  <tbody>\n",
              "    <tr>\n",
              "      <th>count</th>\n",
              "      <td>71</td>\n",
              "      <td>71</td>\n",
              "    </tr>\n",
              "    <tr>\n",
              "      <th>unique</th>\n",
              "      <td>71</td>\n",
              "      <td>71</td>\n",
              "    </tr>\n",
              "    <tr>\n",
              "      <th>top</th>\n",
              "      <td>beleza_saude</td>\n",
              "      <td>health_beauty</td>\n",
              "    </tr>\n",
              "    <tr>\n",
              "      <th>freq</th>\n",
              "      <td>1</td>\n",
              "      <td>1</td>\n",
              "    </tr>\n",
              "  </tbody>\n",
              "</table>\n",
              "</div>"
            ],
            "text/plain": [
              "       product_category_name product_category_name_english\n",
              "count                     71                            71\n",
              "unique                    71                            71\n",
              "top             beleza_saude                 health_beauty\n",
              "freq                       1                             1"
            ]
          },
          "execution_count": 40,
          "metadata": {},
          "output_type": "execute_result"
        }
      ],
      "source": [
        "product_category_name_df.describe()"
      ]
    },
    {
      "cell_type": "markdown",
      "metadata": {
        "id": "5v8fcMQ1DPrE"
      },
      "source": [
        "**Insight:**\n",
        "- Tidak terdapat nilai null pada dataframe product_category_name_df\n",
        "- Tidak ada data duplikat\n"
      ]
    },
    {
      "cell_type": "markdown",
      "metadata": {
        "id": "w9XK-KM6EMCW"
      },
      "source": [
        "#### Menilai dataframe `products_df`"
      ]
    },
    {
      "cell_type": "code",
      "execution_count": 41,
      "metadata": {
        "colab": {
          "base_uri": "https://localhost:8080/"
        },
        "id": "d8Ph5B9RELyc",
        "outputId": "c70dd88d-537f-4855-c200-32955b5af6d7"
      },
      "outputs": [
        {
          "name": "stdout",
          "output_type": "stream",
          "text": [
            "<class 'pandas.core.frame.DataFrame'>\n",
            "RangeIndex: 32951 entries, 0 to 32950\n",
            "Data columns (total 9 columns):\n",
            " #   Column                      Non-Null Count  Dtype  \n",
            "---  ------                      --------------  -----  \n",
            " 0   product_id                  32951 non-null  object \n",
            " 1   product_category_name       32341 non-null  object \n",
            " 2   product_name_lenght         32341 non-null  float64\n",
            " 3   product_description_lenght  32341 non-null  float64\n",
            " 4   product_photos_qty          32341 non-null  float64\n",
            " 5   product_weight_g            32949 non-null  float64\n",
            " 6   product_length_cm           32949 non-null  float64\n",
            " 7   product_height_cm           32949 non-null  float64\n",
            " 8   product_width_cm            32949 non-null  float64\n",
            "dtypes: float64(7), object(2)\n",
            "memory usage: 2.3+ MB\n"
          ]
        }
      ],
      "source": [
        "products_df.info()"
      ]
    },
    {
      "cell_type": "code",
      "execution_count": 42,
      "metadata": {
        "colab": {
          "base_uri": "https://localhost:8080/",
          "height": 366
        },
        "id": "vPLBCBFBELp2",
        "outputId": "9f7fe6e3-a2a2-4a44-87de-7f45c4c55a87"
      },
      "outputs": [
        {
          "data": {
            "text/plain": [
              "product_id                      0\n",
              "product_category_name         610\n",
              "product_name_lenght           610\n",
              "product_description_lenght    610\n",
              "product_photos_qty            610\n",
              "product_weight_g                2\n",
              "product_length_cm               2\n",
              "product_height_cm               2\n",
              "product_width_cm                2\n",
              "dtype: int64"
            ]
          },
          "execution_count": 42,
          "metadata": {},
          "output_type": "execute_result"
        }
      ],
      "source": [
        "products_df.isna().sum()"
      ]
    },
    {
      "cell_type": "code",
      "execution_count": 43,
      "metadata": {
        "colab": {
          "base_uri": "https://localhost:8080/"
        },
        "id": "P9Klaxo-ENB2",
        "outputId": "008bb001-7afd-4c13-e47f-4766308a54e4"
      },
      "outputs": [
        {
          "name": "stdout",
          "output_type": "stream",
          "text": [
            "Jumlah duplikat:  0\n"
          ]
        }
      ],
      "source": [
        "print(\"Jumlah duplikat: \", products_df.duplicated().sum())"
      ]
    },
    {
      "cell_type": "code",
      "execution_count": 44,
      "metadata": {
        "colab": {
          "base_uri": "https://localhost:8080/",
          "height": 300
        },
        "id": "-iXkiDLqENi6",
        "outputId": "b1e60b54-2a64-4208-f1d4-b8f95ce74173"
      },
      "outputs": [
        {
          "data": {
            "text/html": [
              "<div>\n",
              "<style scoped>\n",
              "    .dataframe tbody tr th:only-of-type {\n",
              "        vertical-align: middle;\n",
              "    }\n",
              "\n",
              "    .dataframe tbody tr th {\n",
              "        vertical-align: top;\n",
              "    }\n",
              "\n",
              "    .dataframe thead th {\n",
              "        text-align: right;\n",
              "    }\n",
              "</style>\n",
              "<table border=\"1\" class=\"dataframe\">\n",
              "  <thead>\n",
              "    <tr style=\"text-align: right;\">\n",
              "      <th></th>\n",
              "      <th>product_name_lenght</th>\n",
              "      <th>product_description_lenght</th>\n",
              "      <th>product_photos_qty</th>\n",
              "      <th>product_weight_g</th>\n",
              "      <th>product_length_cm</th>\n",
              "      <th>product_height_cm</th>\n",
              "      <th>product_width_cm</th>\n",
              "    </tr>\n",
              "  </thead>\n",
              "  <tbody>\n",
              "    <tr>\n",
              "      <th>count</th>\n",
              "      <td>32341.000000</td>\n",
              "      <td>32341.000000</td>\n",
              "      <td>32341.000000</td>\n",
              "      <td>32949.000000</td>\n",
              "      <td>32949.000000</td>\n",
              "      <td>32949.000000</td>\n",
              "      <td>32949.000000</td>\n",
              "    </tr>\n",
              "    <tr>\n",
              "      <th>mean</th>\n",
              "      <td>48.476949</td>\n",
              "      <td>771.495285</td>\n",
              "      <td>2.188986</td>\n",
              "      <td>2276.472488</td>\n",
              "      <td>30.815078</td>\n",
              "      <td>16.937661</td>\n",
              "      <td>23.196728</td>\n",
              "    </tr>\n",
              "    <tr>\n",
              "      <th>std</th>\n",
              "      <td>10.245741</td>\n",
              "      <td>635.115225</td>\n",
              "      <td>1.736766</td>\n",
              "      <td>4282.038731</td>\n",
              "      <td>16.914458</td>\n",
              "      <td>13.637554</td>\n",
              "      <td>12.079047</td>\n",
              "    </tr>\n",
              "    <tr>\n",
              "      <th>min</th>\n",
              "      <td>5.000000</td>\n",
              "      <td>4.000000</td>\n",
              "      <td>1.000000</td>\n",
              "      <td>0.000000</td>\n",
              "      <td>7.000000</td>\n",
              "      <td>2.000000</td>\n",
              "      <td>6.000000</td>\n",
              "    </tr>\n",
              "    <tr>\n",
              "      <th>25%</th>\n",
              "      <td>42.000000</td>\n",
              "      <td>339.000000</td>\n",
              "      <td>1.000000</td>\n",
              "      <td>300.000000</td>\n",
              "      <td>18.000000</td>\n",
              "      <td>8.000000</td>\n",
              "      <td>15.000000</td>\n",
              "    </tr>\n",
              "    <tr>\n",
              "      <th>50%</th>\n",
              "      <td>51.000000</td>\n",
              "      <td>595.000000</td>\n",
              "      <td>1.000000</td>\n",
              "      <td>700.000000</td>\n",
              "      <td>25.000000</td>\n",
              "      <td>13.000000</td>\n",
              "      <td>20.000000</td>\n",
              "    </tr>\n",
              "    <tr>\n",
              "      <th>75%</th>\n",
              "      <td>57.000000</td>\n",
              "      <td>972.000000</td>\n",
              "      <td>3.000000</td>\n",
              "      <td>1900.000000</td>\n",
              "      <td>38.000000</td>\n",
              "      <td>21.000000</td>\n",
              "      <td>30.000000</td>\n",
              "    </tr>\n",
              "    <tr>\n",
              "      <th>max</th>\n",
              "      <td>76.000000</td>\n",
              "      <td>3992.000000</td>\n",
              "      <td>20.000000</td>\n",
              "      <td>40425.000000</td>\n",
              "      <td>105.000000</td>\n",
              "      <td>105.000000</td>\n",
              "      <td>118.000000</td>\n",
              "    </tr>\n",
              "  </tbody>\n",
              "</table>\n",
              "</div>"
            ],
            "text/plain": [
              "       product_name_lenght  product_description_lenght  product_photos_qty  \\\n",
              "count         32341.000000                32341.000000        32341.000000   \n",
              "mean             48.476949                  771.495285            2.188986   \n",
              "std              10.245741                  635.115225            1.736766   \n",
              "min               5.000000                    4.000000            1.000000   \n",
              "25%              42.000000                  339.000000            1.000000   \n",
              "50%              51.000000                  595.000000            1.000000   \n",
              "75%              57.000000                  972.000000            3.000000   \n",
              "max              76.000000                 3992.000000           20.000000   \n",
              "\n",
              "       product_weight_g  product_length_cm  product_height_cm  \\\n",
              "count      32949.000000       32949.000000       32949.000000   \n",
              "mean        2276.472488          30.815078          16.937661   \n",
              "std         4282.038731          16.914458          13.637554   \n",
              "min            0.000000           7.000000           2.000000   \n",
              "25%          300.000000          18.000000           8.000000   \n",
              "50%          700.000000          25.000000          13.000000   \n",
              "75%         1900.000000          38.000000          21.000000   \n",
              "max        40425.000000         105.000000         105.000000   \n",
              "\n",
              "       product_width_cm  \n",
              "count      32949.000000  \n",
              "mean          23.196728  \n",
              "std           12.079047  \n",
              "min            6.000000  \n",
              "25%           15.000000  \n",
              "50%           20.000000  \n",
              "75%           30.000000  \n",
              "max          118.000000  "
            ]
          },
          "execution_count": 44,
          "metadata": {},
          "output_type": "execute_result"
        }
      ],
      "source": [
        "products_df.describe()"
      ]
    },
    {
      "cell_type": "markdown",
      "metadata": {
        "id": "x7NlFlRnE36d"
      },
      "source": [
        "**Insight:**\n",
        "- Terdapat nilai null pada kolom product_category_name, product_name_length, product_description_length, product_photos_qty, product_weight_g, product_length_cm, product_height_cm, product_width_cm\n",
        "- Terdapat inaccurate value pada kolom product_weight_g\n"
      ]
    },
    {
      "cell_type": "markdown",
      "metadata": {
        "id": "GRRUp4IMFyEY"
      },
      "source": [
        "#### Menilai dataframe `sellers_df`"
      ]
    },
    {
      "cell_type": "code",
      "execution_count": 45,
      "metadata": {
        "colab": {
          "base_uri": "https://localhost:8080/"
        },
        "id": "YtGBOkT5F0Mz",
        "outputId": "9485cec1-295c-4daa-c36f-7e42e64e07b8"
      },
      "outputs": [
        {
          "name": "stdout",
          "output_type": "stream",
          "text": [
            "<class 'pandas.core.frame.DataFrame'>\n",
            "RangeIndex: 3095 entries, 0 to 3094\n",
            "Data columns (total 4 columns):\n",
            " #   Column                  Non-Null Count  Dtype \n",
            "---  ------                  --------------  ----- \n",
            " 0   seller_id               3095 non-null   object\n",
            " 1   seller_zip_code_prefix  3095 non-null   int64 \n",
            " 2   seller_city             3095 non-null   object\n",
            " 3   seller_state            3095 non-null   object\n",
            "dtypes: int64(1), object(3)\n",
            "memory usage: 96.8+ KB\n"
          ]
        }
      ],
      "source": [
        "sellers_df.info()"
      ]
    },
    {
      "cell_type": "code",
      "execution_count": 46,
      "metadata": {
        "colab": {
          "base_uri": "https://localhost:8080/",
          "height": 209
        },
        "id": "QrwkfQQJF0D8",
        "outputId": "4a167d49-bdca-4251-fba0-8075d1b2ef3a"
      },
      "outputs": [
        {
          "data": {
            "text/plain": [
              "seller_id                 0\n",
              "seller_zip_code_prefix    0\n",
              "seller_city               0\n",
              "seller_state              0\n",
              "dtype: int64"
            ]
          },
          "execution_count": 46,
          "metadata": {},
          "output_type": "execute_result"
        }
      ],
      "source": [
        "sellers_df.isna().sum()"
      ]
    },
    {
      "cell_type": "code",
      "execution_count": 47,
      "metadata": {
        "colab": {
          "base_uri": "https://localhost:8080/"
        },
        "id": "KjfMmUPVFz76",
        "outputId": "275f9b7e-0814-47dd-982b-d2e56e5c9998"
      },
      "outputs": [
        {
          "name": "stdout",
          "output_type": "stream",
          "text": [
            "Jumlah duplikat:  0\n"
          ]
        }
      ],
      "source": [
        "print(\"Jumlah duplikat: \", sellers_df.duplicated().sum())"
      ]
    },
    {
      "cell_type": "code",
      "execution_count": 48,
      "metadata": {
        "colab": {
          "base_uri": "https://localhost:8080/",
          "height": 300
        },
        "id": "OmRPWHE8Fz2J",
        "outputId": "8de283cb-75cb-4ff4-ed25-292aa99a2381"
      },
      "outputs": [
        {
          "data": {
            "text/html": [
              "<div>\n",
              "<style scoped>\n",
              "    .dataframe tbody tr th:only-of-type {\n",
              "        vertical-align: middle;\n",
              "    }\n",
              "\n",
              "    .dataframe tbody tr th {\n",
              "        vertical-align: top;\n",
              "    }\n",
              "\n",
              "    .dataframe thead th {\n",
              "        text-align: right;\n",
              "    }\n",
              "</style>\n",
              "<table border=\"1\" class=\"dataframe\">\n",
              "  <thead>\n",
              "    <tr style=\"text-align: right;\">\n",
              "      <th></th>\n",
              "      <th>seller_zip_code_prefix</th>\n",
              "    </tr>\n",
              "  </thead>\n",
              "  <tbody>\n",
              "    <tr>\n",
              "      <th>count</th>\n",
              "      <td>3095.000000</td>\n",
              "    </tr>\n",
              "    <tr>\n",
              "      <th>mean</th>\n",
              "      <td>32291.059451</td>\n",
              "    </tr>\n",
              "    <tr>\n",
              "      <th>std</th>\n",
              "      <td>32713.453830</td>\n",
              "    </tr>\n",
              "    <tr>\n",
              "      <th>min</th>\n",
              "      <td>1001.000000</td>\n",
              "    </tr>\n",
              "    <tr>\n",
              "      <th>25%</th>\n",
              "      <td>7093.500000</td>\n",
              "    </tr>\n",
              "    <tr>\n",
              "      <th>50%</th>\n",
              "      <td>14940.000000</td>\n",
              "    </tr>\n",
              "    <tr>\n",
              "      <th>75%</th>\n",
              "      <td>64552.500000</td>\n",
              "    </tr>\n",
              "    <tr>\n",
              "      <th>max</th>\n",
              "      <td>99730.000000</td>\n",
              "    </tr>\n",
              "  </tbody>\n",
              "</table>\n",
              "</div>"
            ],
            "text/plain": [
              "       seller_zip_code_prefix\n",
              "count             3095.000000\n",
              "mean             32291.059451\n",
              "std              32713.453830\n",
              "min               1001.000000\n",
              "25%               7093.500000\n",
              "50%              14940.000000\n",
              "75%              64552.500000\n",
              "max              99730.000000"
            ]
          },
          "execution_count": 48,
          "metadata": {},
          "output_type": "execute_result"
        }
      ],
      "source": [
        "sellers_df.describe()"
      ]
    },
    {
      "cell_type": "markdown",
      "metadata": {
        "id": "fOGb-GEzF0oI"
      },
      "source": [
        "**Insight:**\n",
        "- Tidak terdapat nilai null\n",
        "- Tidak terdapat data duplikat"
      ]
    },
    {
      "cell_type": "markdown",
      "metadata": {
        "id": "EhN5R4hr8DC1"
      },
      "source": [
        "### Cleaning Data"
      ]
    },
    {
      "cell_type": "markdown",
      "metadata": {
        "id": "hdAoaBBDG93l"
      },
      "source": [
        "#### Membersihkan dataframe `geolocation_df`"
      ]
    },
    {
      "cell_type": "markdown",
      "metadata": {
        "id": "C4CqDTs3HIOY"
      },
      "source": [
        "##### Duplicate Data"
      ]
    },
    {
      "cell_type": "code",
      "execution_count": 49,
      "metadata": {
        "colab": {
          "base_uri": "https://localhost:8080/"
        },
        "id": "LFpTqdjpLy_8",
        "outputId": "902cd3e2-b5cc-408e-92d2-d090889ffdd8"
      },
      "outputs": [
        {
          "data": {
            "text/plain": [
              "np.int64(261831)"
            ]
          },
          "execution_count": 49,
          "metadata": {},
          "output_type": "execute_result"
        }
      ],
      "source": [
        "geolocation_df.duplicated().sum()"
      ]
    },
    {
      "cell_type": "code",
      "execution_count": 50,
      "metadata": {
        "id": "9NpAGDt7HQB2"
      },
      "outputs": [],
      "source": [
        "geolocation_df.drop_duplicates(inplace=True)"
      ]
    },
    {
      "cell_type": "code",
      "execution_count": 51,
      "metadata": {
        "colab": {
          "base_uri": "https://localhost:8080/"
        },
        "id": "zLZfqA1QL0r_",
        "outputId": "a668295e-e8e5-4e24-b93e-eabe024c3c7b"
      },
      "outputs": [
        {
          "name": "stdout",
          "output_type": "stream",
          "text": [
            "Jumlah duplikat:  0\n"
          ]
        }
      ],
      "source": [
        "print(\"Jumlah duplikat: \", geolocation_df.duplicated().sum())"
      ]
    },
    {
      "cell_type": "markdown",
      "metadata": {
        "id": "S_Ksnda3NQFf"
      },
      "source": [
        "#### Membersihkan dataframe `order_items_df`"
      ]
    },
    {
      "cell_type": "markdown",
      "metadata": {
        "id": "WNWgMarAPJWU"
      },
      "source": [
        "#####Mengubah tipe data kolom price, freight_value, dan shipping_limit_date\n"
      ]
    },
    {
      "cell_type": "code",
      "execution_count": 52,
      "metadata": {
        "id": "BVATy0Af62uw"
      },
      "outputs": [],
      "source": [
        "order_items_df.price = order_items_df.price.round().astype(int)"
      ]
    },
    {
      "cell_type": "code",
      "execution_count": 53,
      "metadata": {
        "id": "jX2z6QFC653f"
      },
      "outputs": [],
      "source": [
        "order_items_df.freight_value = order_items_df.freight_value.round().astype(int)"
      ]
    },
    {
      "cell_type": "code",
      "execution_count": 54,
      "metadata": {
        "id": "348iRRO9z4NA"
      },
      "outputs": [],
      "source": [
        "order_items_df.shipping_limit_date = pd.to_datetime(order_items_df.shipping_limit_date)"
      ]
    },
    {
      "cell_type": "code",
      "execution_count": 55,
      "metadata": {
        "colab": {
          "base_uri": "https://localhost:8080/"
        },
        "id": "FMKd9n2OPXep",
        "outputId": "4086a23e-c644-4e07-fbc2-e183a86bfa61"
      },
      "outputs": [
        {
          "name": "stdout",
          "output_type": "stream",
          "text": [
            "<class 'pandas.core.frame.DataFrame'>\n",
            "RangeIndex: 112650 entries, 0 to 112649\n",
            "Data columns (total 7 columns):\n",
            " #   Column               Non-Null Count   Dtype         \n",
            "---  ------               --------------   -----         \n",
            " 0   order_id             112650 non-null  object        \n",
            " 1   order_item_id        112650 non-null  int64         \n",
            " 2   product_id           112650 non-null  object        \n",
            " 3   seller_id            112650 non-null  object        \n",
            " 4   shipping_limit_date  112650 non-null  datetime64[ns]\n",
            " 5   price                112650 non-null  int64         \n",
            " 6   freight_value        112650 non-null  int64         \n",
            "dtypes: datetime64[ns](1), int64(3), object(3)\n",
            "memory usage: 6.0+ MB\n"
          ]
        }
      ],
      "source": [
        "order_items_df.info()"
      ]
    },
    {
      "cell_type": "code",
      "execution_count": 56,
      "metadata": {
        "colab": {
          "base_uri": "https://localhost:8080/",
          "height": 206
        },
        "id": "ZkkrPo1H4kQi",
        "outputId": "849ea21b-c42b-4133-a4e9-f88c9755437d"
      },
      "outputs": [
        {
          "data": {
            "text/html": [
              "<div>\n",
              "<style scoped>\n",
              "    .dataframe tbody tr th:only-of-type {\n",
              "        vertical-align: middle;\n",
              "    }\n",
              "\n",
              "    .dataframe tbody tr th {\n",
              "        vertical-align: top;\n",
              "    }\n",
              "\n",
              "    .dataframe thead th {\n",
              "        text-align: right;\n",
              "    }\n",
              "</style>\n",
              "<table border=\"1\" class=\"dataframe\">\n",
              "  <thead>\n",
              "    <tr style=\"text-align: right;\">\n",
              "      <th></th>\n",
              "      <th>order_id</th>\n",
              "      <th>order_item_id</th>\n",
              "      <th>product_id</th>\n",
              "      <th>seller_id</th>\n",
              "      <th>shipping_limit_date</th>\n",
              "      <th>price</th>\n",
              "      <th>freight_value</th>\n",
              "    </tr>\n",
              "  </thead>\n",
              "  <tbody>\n",
              "    <tr>\n",
              "      <th>0</th>\n",
              "      <td>00010242fe8c5a6d1ba2dd792cb16214</td>\n",
              "      <td>1</td>\n",
              "      <td>4244733e06e7ecb4970a6e2683c13e61</td>\n",
              "      <td>48436dade18ac8b2bce089ec2a041202</td>\n",
              "      <td>2017-09-19 09:45:35</td>\n",
              "      <td>59</td>\n",
              "      <td>13</td>\n",
              "    </tr>\n",
              "    <tr>\n",
              "      <th>1</th>\n",
              "      <td>00018f77f2f0320c557190d7a144bdd3</td>\n",
              "      <td>1</td>\n",
              "      <td>e5f2d52b802189ee658865ca93d83a8f</td>\n",
              "      <td>dd7ddc04e1b6c2c614352b383efe2d36</td>\n",
              "      <td>2017-05-03 11:05:13</td>\n",
              "      <td>240</td>\n",
              "      <td>20</td>\n",
              "    </tr>\n",
              "    <tr>\n",
              "      <th>2</th>\n",
              "      <td>000229ec398224ef6ca0657da4fc703e</td>\n",
              "      <td>1</td>\n",
              "      <td>c777355d18b72b67abbeef9df44fd0fd</td>\n",
              "      <td>5b51032eddd242adc84c38acab88f23d</td>\n",
              "      <td>2018-01-18 14:48:30</td>\n",
              "      <td>199</td>\n",
              "      <td>18</td>\n",
              "    </tr>\n",
              "    <tr>\n",
              "      <th>3</th>\n",
              "      <td>00024acbcdf0a6daa1e931b038114c75</td>\n",
              "      <td>1</td>\n",
              "      <td>7634da152a4610f1595efa32f14722fc</td>\n",
              "      <td>9d7a1d34a5052409006425275ba1c2b4</td>\n",
              "      <td>2018-08-15 10:10:18</td>\n",
              "      <td>13</td>\n",
              "      <td>13</td>\n",
              "    </tr>\n",
              "    <tr>\n",
              "      <th>4</th>\n",
              "      <td>00042b26cf59d7ce69dfabb4e55b4fd9</td>\n",
              "      <td>1</td>\n",
              "      <td>ac6c3623068f30de03045865e4e10089</td>\n",
              "      <td>df560393f3a51e74553ab94004ba5c87</td>\n",
              "      <td>2017-02-13 13:57:51</td>\n",
              "      <td>200</td>\n",
              "      <td>18</td>\n",
              "    </tr>\n",
              "  </tbody>\n",
              "</table>\n",
              "</div>"
            ],
            "text/plain": [
              "                           order_id  order_item_id  \\\n",
              "0  00010242fe8c5a6d1ba2dd792cb16214              1   \n",
              "1  00018f77f2f0320c557190d7a144bdd3              1   \n",
              "2  000229ec398224ef6ca0657da4fc703e              1   \n",
              "3  00024acbcdf0a6daa1e931b038114c75              1   \n",
              "4  00042b26cf59d7ce69dfabb4e55b4fd9              1   \n",
              "\n",
              "                         product_id                         seller_id  \\\n",
              "0  4244733e06e7ecb4970a6e2683c13e61  48436dade18ac8b2bce089ec2a041202   \n",
              "1  e5f2d52b802189ee658865ca93d83a8f  dd7ddc04e1b6c2c614352b383efe2d36   \n",
              "2  c777355d18b72b67abbeef9df44fd0fd  5b51032eddd242adc84c38acab88f23d   \n",
              "3  7634da152a4610f1595efa32f14722fc  9d7a1d34a5052409006425275ba1c2b4   \n",
              "4  ac6c3623068f30de03045865e4e10089  df560393f3a51e74553ab94004ba5c87   \n",
              "\n",
              "  shipping_limit_date  price  freight_value  \n",
              "0 2017-09-19 09:45:35     59             13  \n",
              "1 2017-05-03 11:05:13    240             20  \n",
              "2 2018-01-18 14:48:30    199             18  \n",
              "3 2018-08-15 10:10:18     13             13  \n",
              "4 2017-02-13 13:57:51    200             18  "
            ]
          },
          "execution_count": 56,
          "metadata": {},
          "output_type": "execute_result"
        }
      ],
      "source": [
        "order_items_df.head()"
      ]
    },
    {
      "cell_type": "markdown",
      "metadata": {
        "id": "9G5a5Udkq6UB"
      },
      "source": [
        "##### Membersihkan dataframe `order_payments_df`"
      ]
    },
    {
      "cell_type": "markdown",
      "metadata": {
        "id": "BbJJ041T7Nhi"
      },
      "source": [
        "##### Membulatkan nilai pada kolom payment_value menjadi 2 digit setelah koma"
      ]
    },
    {
      "cell_type": "code",
      "execution_count": 57,
      "metadata": {
        "colab": {
          "base_uri": "https://localhost:8080/",
          "height": 300
        },
        "id": "f_fT43fRq5sD",
        "outputId": "e05af171-d722-4f67-8a5f-d34654314b7c"
      },
      "outputs": [
        {
          "data": {
            "text/html": [
              "<div>\n",
              "<style scoped>\n",
              "    .dataframe tbody tr th:only-of-type {\n",
              "        vertical-align: middle;\n",
              "    }\n",
              "\n",
              "    .dataframe tbody tr th {\n",
              "        vertical-align: top;\n",
              "    }\n",
              "\n",
              "    .dataframe thead th {\n",
              "        text-align: right;\n",
              "    }\n",
              "</style>\n",
              "<table border=\"1\" class=\"dataframe\">\n",
              "  <thead>\n",
              "    <tr style=\"text-align: right;\">\n",
              "      <th></th>\n",
              "      <th>payment_sequential</th>\n",
              "      <th>payment_installments</th>\n",
              "      <th>payment_value</th>\n",
              "    </tr>\n",
              "  </thead>\n",
              "  <tbody>\n",
              "    <tr>\n",
              "      <th>count</th>\n",
              "      <td>103886.000000</td>\n",
              "      <td>103886.000000</td>\n",
              "      <td>103886.000000</td>\n",
              "    </tr>\n",
              "    <tr>\n",
              "      <th>mean</th>\n",
              "      <td>1.092679</td>\n",
              "      <td>2.853349</td>\n",
              "      <td>154.100380</td>\n",
              "    </tr>\n",
              "    <tr>\n",
              "      <th>std</th>\n",
              "      <td>0.706584</td>\n",
              "      <td>2.687051</td>\n",
              "      <td>217.494064</td>\n",
              "    </tr>\n",
              "    <tr>\n",
              "      <th>min</th>\n",
              "      <td>1.000000</td>\n",
              "      <td>0.000000</td>\n",
              "      <td>0.000000</td>\n",
              "    </tr>\n",
              "    <tr>\n",
              "      <th>25%</th>\n",
              "      <td>1.000000</td>\n",
              "      <td>1.000000</td>\n",
              "      <td>56.790000</td>\n",
              "    </tr>\n",
              "    <tr>\n",
              "      <th>50%</th>\n",
              "      <td>1.000000</td>\n",
              "      <td>1.000000</td>\n",
              "      <td>100.000000</td>\n",
              "    </tr>\n",
              "    <tr>\n",
              "      <th>75%</th>\n",
              "      <td>1.000000</td>\n",
              "      <td>4.000000</td>\n",
              "      <td>171.837500</td>\n",
              "    </tr>\n",
              "    <tr>\n",
              "      <th>max</th>\n",
              "      <td>29.000000</td>\n",
              "      <td>24.000000</td>\n",
              "      <td>13664.080000</td>\n",
              "    </tr>\n",
              "  </tbody>\n",
              "</table>\n",
              "</div>"
            ],
            "text/plain": [
              "       payment_sequential  payment_installments  payment_value\n",
              "count       103886.000000         103886.000000  103886.000000\n",
              "mean             1.092679              2.853349     154.100380\n",
              "std              0.706584              2.687051     217.494064\n",
              "min              1.000000              0.000000       0.000000\n",
              "25%              1.000000              1.000000      56.790000\n",
              "50%              1.000000              1.000000     100.000000\n",
              "75%              1.000000              4.000000     171.837500\n",
              "max             29.000000             24.000000   13664.080000"
            ]
          },
          "execution_count": 57,
          "metadata": {},
          "output_type": "execute_result"
        }
      ],
      "source": [
        "order_payments_df.describe()"
      ]
    },
    {
      "cell_type": "code",
      "execution_count": 58,
      "metadata": {
        "id": "6kHVYuHuzS5t"
      },
      "outputs": [],
      "source": [
        "order_payments_df[\"payment_value\"] = round(order_payments_df[\"payment_value\"], 2)"
      ]
    },
    {
      "cell_type": "markdown",
      "metadata": {
        "id": "yooBo9mUVQxl"
      },
      "source": [
        "##### Menghapus inaccurate value"
      ]
    },
    {
      "cell_type": "code",
      "execution_count": 59,
      "metadata": {
        "colab": {
          "base_uri": "https://localhost:8080/"
        },
        "id": "lT-DrhdjEPN6",
        "outputId": "47a023f9-2d1c-4d2b-9efc-93d867cff4fe"
      },
      "outputs": [
        {
          "data": {
            "text/plain": [
              "Index([    25,     75,    102,    121,    139,    164,    166,    181,    182,\n",
              "          209,\n",
              "       ...\n",
              "       103499, 103500, 103507, 103520, 103551, 103569, 103732, 103747, 103750,\n",
              "       103860],\n",
              "      dtype='int64', length=4312)"
            ]
          },
          "execution_count": 59,
          "metadata": {},
          "output_type": "execute_result"
        }
      ],
      "source": [
        "index = order_payments_df[order_payments_df.payment_sequential > order_payments_df.payment_installments].index\n",
        "index"
      ]
    },
    {
      "cell_type": "code",
      "execution_count": 60,
      "metadata": {
        "id": "-96SfOuKFWDw"
      },
      "outputs": [],
      "source": [
        "order_payments_df.drop(index, axis=0, inplace=True)"
      ]
    },
    {
      "cell_type": "code",
      "execution_count": 61,
      "metadata": {
        "colab": {
          "base_uri": "https://localhost:8080/"
        },
        "id": "C57N9WCoGCrc",
        "outputId": "9b4f1032-fdea-46bf-d349-32412fcd9445"
      },
      "outputs": [
        {
          "data": {
            "text/plain": [
              "Index([51280, 57411, 94427], dtype='int64')"
            ]
          },
          "execution_count": 61,
          "metadata": {},
          "output_type": "execute_result"
        }
      ],
      "source": [
        "index_ = order_payments_df[order_payments_df.payment_value == 0].index\n",
        "index_"
      ]
    },
    {
      "cell_type": "code",
      "execution_count": 62,
      "metadata": {
        "id": "4nSXZUnrGTWn"
      },
      "outputs": [],
      "source": [
        "order_payments_df.drop(index_, axis=0, inplace=True)"
      ]
    },
    {
      "cell_type": "code",
      "execution_count": 63,
      "metadata": {
        "colab": {
          "base_uri": "https://localhost:8080/"
        },
        "id": "HzZS55LWCsA2",
        "outputId": "231ddf15-3fb1-4749-8dbb-5e60f57b7ea0"
      },
      "outputs": [
        {
          "data": {
            "text/plain": [
              "np.int64(48287)"
            ]
          },
          "execution_count": 63,
          "metadata": {},
          "output_type": "execute_result"
        }
      ],
      "source": [
        "order_payments_df[order_payments_df.payment_sequential == order_payments_df.payment_installments].order_id.count()"
      ]
    },
    {
      "cell_type": "code",
      "execution_count": 64,
      "metadata": {
        "colab": {
          "base_uri": "https://localhost:8080/"
        },
        "id": "OXDS9B3IDB5A",
        "outputId": "2ed95f73-00f7-4330-f389-b69b8013a51e"
      },
      "outputs": [
        {
          "data": {
            "text/plain": [
              "48276"
            ]
          },
          "execution_count": 64,
          "metadata": {},
          "output_type": "execute_result"
        }
      ],
      "source": [
        "order_payments_df[order_payments_df.payment_sequential == order_payments_df.payment_installments].order_id.nunique()"
      ]
    },
    {
      "cell_type": "code",
      "execution_count": 65,
      "metadata": {
        "colab": {
          "base_uri": "https://localhost:8080/"
        },
        "id": "VIHaZmWYDKZ3",
        "outputId": "00a55788-aee5-4f55-9f8e-13522254154f"
      },
      "outputs": [
        {
          "data": {
            "text/plain": [
              "Index([39085, 42423, 60380, 78274, 80464, 87711, 91432, 93246, 96276, 100002,\n",
              "       103817],\n",
              "      dtype='int64')"
            ]
          },
          "execution_count": 65,
          "metadata": {},
          "output_type": "execute_result"
        }
      ],
      "source": [
        "order = order_payments_df[order_payments_df.payment_sequential == order_payments_df.payment_installments]\n",
        "order_index = order[order.duplicated(subset=\"order_id\", keep='first')].index\n",
        "order_index\n"
      ]
    },
    {
      "cell_type": "code",
      "execution_count": 66,
      "metadata": {
        "id": "P7CdlbKPGUyz"
      },
      "outputs": [],
      "source": [
        "order_payments_df.drop(order_index, axis=0, inplace=True)"
      ]
    },
    {
      "cell_type": "markdown",
      "metadata": {
        "id": "1JO3j4bLL8r3"
      },
      "source": [
        "##### Membersihkan dataframe `order_reviews_df`"
      ]
    },
    {
      "cell_type": "markdown",
      "metadata": {
        "id": "XA0Z0eN07YyO"
      },
      "source": [
        "##### Mengubah tipe data"
      ]
    },
    {
      "cell_type": "code",
      "execution_count": 67,
      "metadata": {
        "colab": {
          "base_uri": "https://localhost:8080/"
        },
        "id": "4wWcZ8JsMGe_",
        "outputId": "37448c26-eb87-419f-b1aa-bfac43ac1071"
      },
      "outputs": [
        {
          "name": "stdout",
          "output_type": "stream",
          "text": [
            "<class 'pandas.core.frame.DataFrame'>\n",
            "RangeIndex: 99224 entries, 0 to 99223\n",
            "Data columns (total 7 columns):\n",
            " #   Column                   Non-Null Count  Dtype \n",
            "---  ------                   --------------  ----- \n",
            " 0   review_id                99224 non-null  object\n",
            " 1   order_id                 99224 non-null  object\n",
            " 2   review_score             99224 non-null  int64 \n",
            " 3   review_comment_title     11568 non-null  object\n",
            " 4   review_comment_message   40977 non-null  object\n",
            " 5   review_creation_date     99224 non-null  object\n",
            " 6   review_answer_timestamp  99224 non-null  object\n",
            "dtypes: int64(1), object(6)\n",
            "memory usage: 5.3+ MB\n"
          ]
        }
      ],
      "source": [
        "order_reviews_df.info()"
      ]
    },
    {
      "cell_type": "code",
      "execution_count": 68,
      "metadata": {
        "id": "SQNiwuydvNfT"
      },
      "outputs": [],
      "source": [
        "datetime_columns = [\"review_creation_date\", \"review_answer_timestamp\"]\n",
        "\n",
        "for column in datetime_columns:\n",
        "  order_reviews_df[column] = pd.to_datetime(order_reviews_df[column])"
      ]
    },
    {
      "cell_type": "code",
      "execution_count": 69,
      "metadata": {
        "colab": {
          "base_uri": "https://localhost:8080/",
          "height": 300
        },
        "id": "mQPDFCQBML3r",
        "outputId": "8e641e83-6a56-480c-bf0a-c40f9f82dc78"
      },
      "outputs": [
        {
          "data": {
            "text/html": [
              "<div>\n",
              "<style scoped>\n",
              "    .dataframe tbody tr th:only-of-type {\n",
              "        vertical-align: middle;\n",
              "    }\n",
              "\n",
              "    .dataframe tbody tr th {\n",
              "        vertical-align: top;\n",
              "    }\n",
              "\n",
              "    .dataframe thead th {\n",
              "        text-align: right;\n",
              "    }\n",
              "</style>\n",
              "<table border=\"1\" class=\"dataframe\">\n",
              "  <thead>\n",
              "    <tr style=\"text-align: right;\">\n",
              "      <th></th>\n",
              "      <th>review_score</th>\n",
              "      <th>review_creation_date</th>\n",
              "      <th>review_answer_timestamp</th>\n",
              "    </tr>\n",
              "  </thead>\n",
              "  <tbody>\n",
              "    <tr>\n",
              "      <th>count</th>\n",
              "      <td>99224.000000</td>\n",
              "      <td>99224</td>\n",
              "      <td>99224</td>\n",
              "    </tr>\n",
              "    <tr>\n",
              "      <th>mean</th>\n",
              "      <td>4.086421</td>\n",
              "      <td>2018-01-12 20:49:23.948238336</td>\n",
              "      <td>2018-01-16 00:23:56.977938688</td>\n",
              "    </tr>\n",
              "    <tr>\n",
              "      <th>min</th>\n",
              "      <td>1.000000</td>\n",
              "      <td>2016-10-02 00:00:00</td>\n",
              "      <td>2016-10-07 18:32:28</td>\n",
              "    </tr>\n",
              "    <tr>\n",
              "      <th>25%</th>\n",
              "      <td>4.000000</td>\n",
              "      <td>2017-09-23 00:00:00</td>\n",
              "      <td>2017-09-27 01:53:27.249999872</td>\n",
              "    </tr>\n",
              "    <tr>\n",
              "      <th>50%</th>\n",
              "      <td>5.000000</td>\n",
              "      <td>2018-02-02 00:00:00</td>\n",
              "      <td>2018-02-04 22:41:47.500000</td>\n",
              "    </tr>\n",
              "    <tr>\n",
              "      <th>75%</th>\n",
              "      <td>5.000000</td>\n",
              "      <td>2018-05-16 00:00:00</td>\n",
              "      <td>2018-05-20 12:11:21.500000</td>\n",
              "    </tr>\n",
              "    <tr>\n",
              "      <th>max</th>\n",
              "      <td>5.000000</td>\n",
              "      <td>2018-08-31 00:00:00</td>\n",
              "      <td>2018-10-29 12:27:35</td>\n",
              "    </tr>\n",
              "    <tr>\n",
              "      <th>std</th>\n",
              "      <td>1.347579</td>\n",
              "      <td>NaN</td>\n",
              "      <td>NaN</td>\n",
              "    </tr>\n",
              "  </tbody>\n",
              "</table>\n",
              "</div>"
            ],
            "text/plain": [
              "       review_score           review_creation_date  \\\n",
              "count  99224.000000                          99224   \n",
              "mean       4.086421  2018-01-12 20:49:23.948238336   \n",
              "min        1.000000            2016-10-02 00:00:00   \n",
              "25%        4.000000            2017-09-23 00:00:00   \n",
              "50%        5.000000            2018-02-02 00:00:00   \n",
              "75%        5.000000            2018-05-16 00:00:00   \n",
              "max        5.000000            2018-08-31 00:00:00   \n",
              "std        1.347579                            NaN   \n",
              "\n",
              "             review_answer_timestamp  \n",
              "count                          99224  \n",
              "mean   2018-01-16 00:23:56.977938688  \n",
              "min              2016-10-07 18:32:28  \n",
              "25%    2017-09-27 01:53:27.249999872  \n",
              "50%       2018-02-04 22:41:47.500000  \n",
              "75%       2018-05-20 12:11:21.500000  \n",
              "max              2018-10-29 12:27:35  \n",
              "std                              NaN  "
            ]
          },
          "execution_count": 69,
          "metadata": {},
          "output_type": "execute_result"
        }
      ],
      "source": [
        "order_reviews_df.describe()"
      ]
    },
    {
      "cell_type": "markdown",
      "metadata": {
        "id": "ulMuNKWqWSKs"
      },
      "source": [
        "##### Duplicate Data"
      ]
    },
    {
      "cell_type": "code",
      "execution_count": 70,
      "metadata": {
        "colab": {
          "base_uri": "https://localhost:8080/"
        },
        "id": "5vuOyk-NYkCL",
        "outputId": "be0a46f9-3b63-4f1a-9f81-3cf7981452f4"
      },
      "outputs": [
        {
          "data": {
            "text/plain": [
              "False"
            ]
          },
          "execution_count": 70,
          "metadata": {},
          "output_type": "execute_result"
        }
      ],
      "source": [
        "order_reviews_df.review_id.is_unique"
      ]
    },
    {
      "cell_type": "code",
      "execution_count": 71,
      "metadata": {
        "colab": {
          "base_uri": "https://localhost:8080/"
        },
        "id": "oDH_Crt-YrU4",
        "outputId": "92cb084c-df77-49d9-e9b4-2f7890e86372"
      },
      "outputs": [
        {
          "data": {
            "text/plain": [
              "Index([ 3317,  5719,  7213,  7805,  9013,  9387,  9874, 10112, 10117, 10852,\n",
              "       ...\n",
              "       98660, 98740, 98887, 98989, 99085, 99108, 99124, 99164, 99167, 99178],\n",
              "      dtype='int64', length=814)"
            ]
          },
          "execution_count": 71,
          "metadata": {},
          "output_type": "execute_result"
        }
      ],
      "source": [
        "index = order_reviews_df[order_reviews_df.review_id.duplicated(keep='first')].index\n",
        "index"
      ]
    },
    {
      "cell_type": "code",
      "execution_count": 72,
      "metadata": {
        "id": "fiC2F3igZYe7"
      },
      "outputs": [],
      "source": [
        "order_reviews_df.drop(index, axis=0, inplace=True)"
      ]
    },
    {
      "cell_type": "code",
      "execution_count": 73,
      "metadata": {
        "colab": {
          "base_uri": "https://localhost:8080/"
        },
        "id": "u8Kz1nexfIKy",
        "outputId": "861f94af-59ec-4b63-9cf2-99bf0912bc13"
      },
      "outputs": [
        {
          "data": {
            "text/plain": [
              "False"
            ]
          },
          "execution_count": 73,
          "metadata": {},
          "output_type": "execute_result"
        }
      ],
      "source": [
        "order_reviews_df.order_id.is_unique"
      ]
    },
    {
      "cell_type": "code",
      "execution_count": 74,
      "metadata": {
        "colab": {
          "base_uri": "https://localhost:8080/"
        },
        "id": "vsZOBAEAgp-v",
        "outputId": "66bcbef0-dba7-42e0-96c1-c04a513f397a"
      },
      "outputs": [
        {
          "data": {
            "text/plain": [
              "Index([ 1119,  3109,  8108,  9064,  9795, 10575, 11139, 11807, 12594, 14893,\n",
              "       ...\n",
              "       95931, 96241, 96368, 96552, 96914, 97369, 98048, 98495, 98654, 99199],\n",
              "      dtype='int64', length=243)"
            ]
          },
          "execution_count": 74,
          "metadata": {},
          "output_type": "execute_result"
        }
      ],
      "source": [
        "index = order_reviews_df[order_reviews_df.order_id.duplicated(keep='first')].index\n",
        "index"
      ]
    },
    {
      "cell_type": "code",
      "execution_count": 75,
      "metadata": {
        "id": "FWuN47AQhTEf"
      },
      "outputs": [],
      "source": [
        "order_reviews_df.drop(index, axis=0, inplace=True)"
      ]
    },
    {
      "cell_type": "markdown",
      "metadata": {
        "id": "N0E82ZyrN1tk"
      },
      "source": [
        "##### Membersihkan dataframe `orders_df`"
      ]
    },
    {
      "cell_type": "markdown",
      "metadata": {
        "id": "ZYys82tS7fqM"
      },
      "source": [
        "##### Missing Values"
      ]
    },
    {
      "cell_type": "code",
      "execution_count": 76,
      "metadata": {
        "colab": {
          "base_uri": "https://localhost:8080/"
        },
        "id": "h1vVVYbcN846",
        "outputId": "9f3536e1-ea5d-4bac-ed81-6563112ecd46"
      },
      "outputs": [
        {
          "name": "stdout",
          "output_type": "stream",
          "text": [
            "<class 'pandas.core.frame.DataFrame'>\n",
            "RangeIndex: 99441 entries, 0 to 99440\n",
            "Data columns (total 8 columns):\n",
            " #   Column                         Non-Null Count  Dtype \n",
            "---  ------                         --------------  ----- \n",
            " 0   order_id                       99441 non-null  object\n",
            " 1   customer_id                    99441 non-null  object\n",
            " 2   order_status                   99441 non-null  object\n",
            " 3   order_purchase_timestamp       99441 non-null  object\n",
            " 4   order_approved_at              99281 non-null  object\n",
            " 5   order_delivered_carrier_date   97658 non-null  object\n",
            " 6   order_delivered_customer_date  96476 non-null  object\n",
            " 7   order_estimated_delivery_date  99441 non-null  object\n",
            "dtypes: object(8)\n",
            "memory usage: 6.1+ MB\n"
          ]
        }
      ],
      "source": [
        "orders_df.info()"
      ]
    },
    {
      "cell_type": "code",
      "execution_count": 77,
      "metadata": {
        "colab": {
          "base_uri": "https://localhost:8080/"
        },
        "id": "kRhl8hP6Pjyc",
        "outputId": "d4639e0e-f876-4c84-ba55-0680cb223cc1"
      },
      "outputs": [
        {
          "data": {
            "text/plain": [
              "Index([ 1130,  1801,  1868,  2029,  2161,  3056,  3094,  3684,  4373,  4939,\n",
              "       ...\n",
              "       93992, 94252, 95451, 96996, 97100, 97696, 98415, 98909, 99283, 99347],\n",
              "      dtype='int64', length=160)"
            ]
          },
          "execution_count": 77,
          "metadata": {},
          "output_type": "execute_result"
        }
      ],
      "source": [
        "order = orders_df[orders_df.order_approved_at.isna()].index\n",
        "order"
      ]
    },
    {
      "cell_type": "code",
      "execution_count": 78,
      "metadata": {
        "id": "pq3CS9ASRB_I"
      },
      "outputs": [],
      "source": [
        "orders_df.drop(order, axis=0, inplace=True)"
      ]
    },
    {
      "cell_type": "code",
      "execution_count": 79,
      "metadata": {
        "colab": {
          "base_uri": "https://localhost:8080/"
        },
        "id": "9ywsG1ovRgao",
        "outputId": "0fb51435-b220-42a3-971f-01344b7647a7"
      },
      "outputs": [
        {
          "data": {
            "text/plain": [
              "Index([    6,   103,   128,   266,   324,   397,   455,   586,   687,   737,\n",
              "       ...\n",
              "       99051, 99066, 99140, 99143, 99147, 99233, 99252, 99313, 99348, 99415],\n",
              "      dtype='int64', length=1637)"
            ]
          },
          "execution_count": 79,
          "metadata": {},
          "output_type": "execute_result"
        }
      ],
      "source": [
        "order_ = orders_df[orders_df.order_delivered_carrier_date.isna()].index\n",
        "order_"
      ]
    },
    {
      "cell_type": "code",
      "execution_count": 80,
      "metadata": {
        "id": "PCaXdyBexZNr"
      },
      "outputs": [],
      "source": [
        "orders_df.drop(order_, axis=0, inplace=True)"
      ]
    },
    {
      "cell_type": "code",
      "execution_count": 81,
      "metadata": {
        "colab": {
          "base_uri": "https://localhost:8080/"
        },
        "id": "c0asUnY7xps0",
        "outputId": "9da7f9ed-5286-40f3-9848-e696fa9cbab5"
      },
      "outputs": [
        {
          "data": {
            "text/plain": [
              "Index([   44,   154,   162,   231,   299,   305,   333,   374,   430,   444,\n",
              "       ...\n",
              "       98170, 98390, 98392, 98397, 98398, 98534, 98779, 98932, 99113, 99181],\n",
              "      dtype='int64', length=1183)"
            ]
          },
          "execution_count": 81,
          "metadata": {},
          "output_type": "execute_result"
        }
      ],
      "source": [
        "orderr = orders_df[orders_df.order_delivered_customer_date.isna()].index\n",
        "orderr"
      ]
    },
    {
      "cell_type": "code",
      "execution_count": 82,
      "metadata": {
        "id": "tWVfJyyyx0Fr"
      },
      "outputs": [],
      "source": [
        "orders_df.drop(orderr, axis=0, inplace=True)"
      ]
    },
    {
      "cell_type": "markdown",
      "metadata": {
        "id": "LttdsMM774Hh"
      },
      "source": [
        "##### Mengubah tipe data"
      ]
    },
    {
      "cell_type": "code",
      "execution_count": 83,
      "metadata": {
        "id": "cXSsOSiWyJbX"
      },
      "outputs": [],
      "source": [
        "datetime_columns = [\"order_purchase_timestamp\", \"order_approved_at\", \"order_delivered_carrier_date\", \"order_delivered_customer_date\", \"order_estimated_delivery_date\"]\n",
        "\n",
        "for column in datetime_columns:\n",
        "  orders_df[column] = pd.to_datetime(orders_df[column])"
      ]
    },
    {
      "cell_type": "code",
      "execution_count": 84,
      "metadata": {
        "colab": {
          "base_uri": "https://localhost:8080/",
          "height": 226
        },
        "id": "17ZSaPknOJUu",
        "outputId": "ec2db19a-0b51-4afb-d9b8-f7fa118e0beb"
      },
      "outputs": [
        {
          "data": {
            "text/html": [
              "<div>\n",
              "<style scoped>\n",
              "    .dataframe tbody tr th:only-of-type {\n",
              "        vertical-align: middle;\n",
              "    }\n",
              "\n",
              "    .dataframe tbody tr th {\n",
              "        vertical-align: top;\n",
              "    }\n",
              "\n",
              "    .dataframe thead th {\n",
              "        text-align: right;\n",
              "    }\n",
              "</style>\n",
              "<table border=\"1\" class=\"dataframe\">\n",
              "  <thead>\n",
              "    <tr style=\"text-align: right;\">\n",
              "      <th></th>\n",
              "      <th>order_id</th>\n",
              "      <th>customer_id</th>\n",
              "      <th>order_status</th>\n",
              "      <th>order_purchase_timestamp</th>\n",
              "      <th>order_approved_at</th>\n",
              "      <th>order_delivered_carrier_date</th>\n",
              "      <th>order_delivered_customer_date</th>\n",
              "      <th>order_estimated_delivery_date</th>\n",
              "    </tr>\n",
              "  </thead>\n",
              "  <tbody>\n",
              "    <tr>\n",
              "      <th>0</th>\n",
              "      <td>e481f51cbdc54678b7cc49136f2d6af7</td>\n",
              "      <td>9ef432eb6251297304e76186b10a928d</td>\n",
              "      <td>delivered</td>\n",
              "      <td>2017-10-02 10:56:33</td>\n",
              "      <td>2017-10-02 11:07:15</td>\n",
              "      <td>2017-10-04 19:55:00</td>\n",
              "      <td>2017-10-10 21:25:13</td>\n",
              "      <td>2017-10-18</td>\n",
              "    </tr>\n",
              "    <tr>\n",
              "      <th>1</th>\n",
              "      <td>53cdb2fc8bc7dce0b6741e2150273451</td>\n",
              "      <td>b0830fb4747a6c6d20dea0b8c802d7ef</td>\n",
              "      <td>delivered</td>\n",
              "      <td>2018-07-24 20:41:37</td>\n",
              "      <td>2018-07-26 03:24:27</td>\n",
              "      <td>2018-07-26 14:31:00</td>\n",
              "      <td>2018-08-07 15:27:45</td>\n",
              "      <td>2018-08-13</td>\n",
              "    </tr>\n",
              "    <tr>\n",
              "      <th>2</th>\n",
              "      <td>47770eb9100c2d0c44946d9cf07ec65d</td>\n",
              "      <td>41ce2a54c0b03bf3443c3d931a367089</td>\n",
              "      <td>delivered</td>\n",
              "      <td>2018-08-08 08:38:49</td>\n",
              "      <td>2018-08-08 08:55:23</td>\n",
              "      <td>2018-08-08 13:50:00</td>\n",
              "      <td>2018-08-17 18:06:29</td>\n",
              "      <td>2018-09-04</td>\n",
              "    </tr>\n",
              "    <tr>\n",
              "      <th>3</th>\n",
              "      <td>949d5b44dbf5de918fe9c16f97b45f8a</td>\n",
              "      <td>f88197465ea7920adcdbec7375364d82</td>\n",
              "      <td>delivered</td>\n",
              "      <td>2017-11-18 19:28:06</td>\n",
              "      <td>2017-11-18 19:45:59</td>\n",
              "      <td>2017-11-22 13:39:59</td>\n",
              "      <td>2017-12-02 00:28:42</td>\n",
              "      <td>2017-12-15</td>\n",
              "    </tr>\n",
              "    <tr>\n",
              "      <th>4</th>\n",
              "      <td>ad21c59c0840e6cb83a9ceb5573f8159</td>\n",
              "      <td>8ab97904e6daea8866dbdbc4fb7aad2c</td>\n",
              "      <td>delivered</td>\n",
              "      <td>2018-02-13 21:18:39</td>\n",
              "      <td>2018-02-13 22:20:29</td>\n",
              "      <td>2018-02-14 19:46:34</td>\n",
              "      <td>2018-02-16 18:17:02</td>\n",
              "      <td>2018-02-26</td>\n",
              "    </tr>\n",
              "  </tbody>\n",
              "</table>\n",
              "</div>"
            ],
            "text/plain": [
              "                           order_id                       customer_id  \\\n",
              "0  e481f51cbdc54678b7cc49136f2d6af7  9ef432eb6251297304e76186b10a928d   \n",
              "1  53cdb2fc8bc7dce0b6741e2150273451  b0830fb4747a6c6d20dea0b8c802d7ef   \n",
              "2  47770eb9100c2d0c44946d9cf07ec65d  41ce2a54c0b03bf3443c3d931a367089   \n",
              "3  949d5b44dbf5de918fe9c16f97b45f8a  f88197465ea7920adcdbec7375364d82   \n",
              "4  ad21c59c0840e6cb83a9ceb5573f8159  8ab97904e6daea8866dbdbc4fb7aad2c   \n",
              "\n",
              "  order_status order_purchase_timestamp   order_approved_at  \\\n",
              "0    delivered      2017-10-02 10:56:33 2017-10-02 11:07:15   \n",
              "1    delivered      2018-07-24 20:41:37 2018-07-26 03:24:27   \n",
              "2    delivered      2018-08-08 08:38:49 2018-08-08 08:55:23   \n",
              "3    delivered      2017-11-18 19:28:06 2017-11-18 19:45:59   \n",
              "4    delivered      2018-02-13 21:18:39 2018-02-13 22:20:29   \n",
              "\n",
              "  order_delivered_carrier_date order_delivered_customer_date  \\\n",
              "0          2017-10-04 19:55:00           2017-10-10 21:25:13   \n",
              "1          2018-07-26 14:31:00           2018-08-07 15:27:45   \n",
              "2          2018-08-08 13:50:00           2018-08-17 18:06:29   \n",
              "3          2017-11-22 13:39:59           2017-12-02 00:28:42   \n",
              "4          2018-02-14 19:46:34           2018-02-16 18:17:02   \n",
              "\n",
              "  order_estimated_delivery_date  \n",
              "0                    2017-10-18  \n",
              "1                    2018-08-13  \n",
              "2                    2018-09-04  \n",
              "3                    2017-12-15  \n",
              "4                    2018-02-26  "
            ]
          },
          "execution_count": 84,
          "metadata": {},
          "output_type": "execute_result"
        }
      ],
      "source": [
        "orders_df.head()"
      ]
    },
    {
      "cell_type": "code",
      "execution_count": 85,
      "metadata": {
        "colab": {
          "base_uri": "https://localhost:8080/",
          "height": 269
        },
        "id": "XoCvIKBtOBeC",
        "outputId": "0b3b50d6-c82c-4ba1-fcf5-9c214beac21c"
      },
      "outputs": [
        {
          "data": {
            "text/html": [
              "<div>\n",
              "<style scoped>\n",
              "    .dataframe tbody tr th:only-of-type {\n",
              "        vertical-align: middle;\n",
              "    }\n",
              "\n",
              "    .dataframe tbody tr th {\n",
              "        vertical-align: top;\n",
              "    }\n",
              "\n",
              "    .dataframe thead th {\n",
              "        text-align: right;\n",
              "    }\n",
              "</style>\n",
              "<table border=\"1\" class=\"dataframe\">\n",
              "  <thead>\n",
              "    <tr style=\"text-align: right;\">\n",
              "      <th></th>\n",
              "      <th>order_purchase_timestamp</th>\n",
              "      <th>order_approved_at</th>\n",
              "      <th>order_delivered_carrier_date</th>\n",
              "      <th>order_delivered_customer_date</th>\n",
              "      <th>order_estimated_delivery_date</th>\n",
              "    </tr>\n",
              "  </thead>\n",
              "  <tbody>\n",
              "    <tr>\n",
              "      <th>count</th>\n",
              "      <td>96461</td>\n",
              "      <td>96461</td>\n",
              "      <td>96461</td>\n",
              "      <td>96461</td>\n",
              "      <td>96461</td>\n",
              "    </tr>\n",
              "    <tr>\n",
              "      <th>mean</th>\n",
              "      <td>2018-01-01 23:53:26.642249216</td>\n",
              "      <td>2018-01-02 10:10:06.480142336</td>\n",
              "      <td>2018-01-05 05:21:04.508827392</td>\n",
              "      <td>2018-01-14 13:17:13.228102400</td>\n",
              "      <td>2018-01-25 17:33:14.236012544</td>\n",
              "    </tr>\n",
              "    <tr>\n",
              "      <th>min</th>\n",
              "      <td>2016-09-15 12:16:38</td>\n",
              "      <td>2016-09-15 12:16:38</td>\n",
              "      <td>2016-10-08 10:34:01</td>\n",
              "      <td>2016-10-11 13:46:32</td>\n",
              "      <td>2016-10-04 00:00:00</td>\n",
              "    </tr>\n",
              "    <tr>\n",
              "      <th>25%</th>\n",
              "      <td>2017-09-14 09:28:28</td>\n",
              "      <td>2017-09-14 14:30:14</td>\n",
              "      <td>2017-09-18 16:52:19</td>\n",
              "      <td>2017-09-25 22:31:59</td>\n",
              "      <td>2017-10-05 00:00:00</td>\n",
              "    </tr>\n",
              "    <tr>\n",
              "      <th>50%</th>\n",
              "      <td>2018-01-20 19:59:42</td>\n",
              "      <td>2018-01-22 13:49:00</td>\n",
              "      <td>2018-01-24 16:19:03</td>\n",
              "      <td>2018-02-02 19:50:56</td>\n",
              "      <td>2018-02-16 00:00:00</td>\n",
              "    </tr>\n",
              "    <tr>\n",
              "      <th>75%</th>\n",
              "      <td>2018-05-05 18:33:24</td>\n",
              "      <td>2018-05-06 10:30:49</td>\n",
              "      <td>2018-05-08 14:33:00</td>\n",
              "      <td>2018-05-15 23:08:54</td>\n",
              "      <td>2018-05-28 00:00:00</td>\n",
              "    </tr>\n",
              "    <tr>\n",
              "      <th>max</th>\n",
              "      <td>2018-08-29 15:00:37</td>\n",
              "      <td>2018-08-29 15:10:26</td>\n",
              "      <td>2018-09-11 19:48:28</td>\n",
              "      <td>2018-10-17 13:22:46</td>\n",
              "      <td>2018-10-25 00:00:00</td>\n",
              "    </tr>\n",
              "  </tbody>\n",
              "</table>\n",
              "</div>"
            ],
            "text/plain": [
              "            order_purchase_timestamp              order_approved_at  \\\n",
              "count                          96461                          96461   \n",
              "mean   2018-01-01 23:53:26.642249216  2018-01-02 10:10:06.480142336   \n",
              "min              2016-09-15 12:16:38            2016-09-15 12:16:38   \n",
              "25%              2017-09-14 09:28:28            2017-09-14 14:30:14   \n",
              "50%              2018-01-20 19:59:42            2018-01-22 13:49:00   \n",
              "75%              2018-05-05 18:33:24            2018-05-06 10:30:49   \n",
              "max              2018-08-29 15:00:37            2018-08-29 15:10:26   \n",
              "\n",
              "        order_delivered_carrier_date  order_delivered_customer_date  \\\n",
              "count                          96461                          96461   \n",
              "mean   2018-01-05 05:21:04.508827392  2018-01-14 13:17:13.228102400   \n",
              "min              2016-10-08 10:34:01            2016-10-11 13:46:32   \n",
              "25%              2017-09-18 16:52:19            2017-09-25 22:31:59   \n",
              "50%              2018-01-24 16:19:03            2018-02-02 19:50:56   \n",
              "75%              2018-05-08 14:33:00            2018-05-15 23:08:54   \n",
              "max              2018-09-11 19:48:28            2018-10-17 13:22:46   \n",
              "\n",
              "       order_estimated_delivery_date  \n",
              "count                          96461  \n",
              "mean   2018-01-25 17:33:14.236012544  \n",
              "min              2016-10-04 00:00:00  \n",
              "25%              2017-10-05 00:00:00  \n",
              "50%              2018-02-16 00:00:00  \n",
              "75%              2018-05-28 00:00:00  \n",
              "max              2018-10-25 00:00:00  "
            ]
          },
          "execution_count": 85,
          "metadata": {},
          "output_type": "execute_result"
        }
      ],
      "source": [
        "orders_df.describe()"
      ]
    },
    {
      "cell_type": "markdown",
      "metadata": {
        "id": "3rZHCqvQy15C"
      },
      "source": [
        "##### Membersihkan dataframe `products_df`"
      ]
    },
    {
      "cell_type": "markdown",
      "metadata": {
        "id": "jz0rvCs47-ZO"
      },
      "source": [
        "##### Missing Values"
      ]
    },
    {
      "cell_type": "code",
      "execution_count": 86,
      "metadata": {
        "colab": {
          "base_uri": "https://localhost:8080/"
        },
        "id": "hl365z1SzgbA",
        "outputId": "4c2d453e-7522-4ab7-b0b7-63f591c89ae7"
      },
      "outputs": [
        {
          "name": "stdout",
          "output_type": "stream",
          "text": [
            "<class 'pandas.core.frame.DataFrame'>\n",
            "RangeIndex: 32951 entries, 0 to 32950\n",
            "Data columns (total 9 columns):\n",
            " #   Column                      Non-Null Count  Dtype  \n",
            "---  ------                      --------------  -----  \n",
            " 0   product_id                  32951 non-null  object \n",
            " 1   product_category_name       32341 non-null  object \n",
            " 2   product_name_lenght         32341 non-null  float64\n",
            " 3   product_description_lenght  32341 non-null  float64\n",
            " 4   product_photos_qty          32341 non-null  float64\n",
            " 5   product_weight_g            32949 non-null  float64\n",
            " 6   product_length_cm           32949 non-null  float64\n",
            " 7   product_height_cm           32949 non-null  float64\n",
            " 8   product_width_cm            32949 non-null  float64\n",
            "dtypes: float64(7), object(2)\n",
            "memory usage: 2.3+ MB\n"
          ]
        }
      ],
      "source": [
        "products_df.info()"
      ]
    },
    {
      "cell_type": "code",
      "execution_count": 87,
      "metadata": {
        "colab": {
          "base_uri": "https://localhost:8080/"
        },
        "id": "eQohz-OP5c0c",
        "outputId": "be1f5514-7370-4e58-d039-da2fd177f73f"
      },
      "outputs": [
        {
          "data": {
            "text/plain": [
              "Index([8578, 18851], dtype='int64')"
            ]
          },
          "execution_count": 87,
          "metadata": {},
          "output_type": "execute_result"
        }
      ],
      "source": [
        "index_ = products_df[products_df.product_weight_g.isna()].index\n",
        "index_"
      ]
    },
    {
      "cell_type": "code",
      "execution_count": 88,
      "metadata": {
        "id": "rjkNa4cI5tOm"
      },
      "outputs": [],
      "source": [
        "products_df.drop(index_, axis=0, inplace=True)"
      ]
    },
    {
      "cell_type": "code",
      "execution_count": 89,
      "metadata": {
        "colab": {
          "base_uri": "https://localhost:8080/"
        },
        "id": "3YeDu7rU4cqK",
        "outputId": "4389c93a-a96a-4b4f-a276-480556ab8a38"
      },
      "outputs": [
        {
          "data": {
            "text/plain": [
              "Index([  105,   128,   145,   154,   197,   244,   294,   299,   347,   428,\n",
              "       ...\n",
              "       32446, 32458, 32460, 32476, 32487, 32515, 32589, 32616, 32772, 32852],\n",
              "      dtype='int64', length=609)"
            ]
          },
          "execution_count": 89,
          "metadata": {},
          "output_type": "execute_result"
        }
      ],
      "source": [
        "index = products_df[products_df.product_category_name.isna()].index\n",
        "index"
      ]
    },
    {
      "cell_type": "code",
      "execution_count": 90,
      "metadata": {
        "id": "5yUULGzv447C"
      },
      "outputs": [],
      "source": [
        "products_df.drop(index, axis=0, inplace=True)"
      ]
    },
    {
      "cell_type": "code",
      "execution_count": 91,
      "metadata": {
        "colab": {
          "base_uri": "https://localhost:8080/",
          "height": 300
        },
        "id": "l09gdBELzmhw",
        "outputId": "50729829-1fc2-4658-f714-a295f8d04c39"
      },
      "outputs": [
        {
          "data": {
            "text/html": [
              "<div>\n",
              "<style scoped>\n",
              "    .dataframe tbody tr th:only-of-type {\n",
              "        vertical-align: middle;\n",
              "    }\n",
              "\n",
              "    .dataframe tbody tr th {\n",
              "        vertical-align: top;\n",
              "    }\n",
              "\n",
              "    .dataframe thead th {\n",
              "        text-align: right;\n",
              "    }\n",
              "</style>\n",
              "<table border=\"1\" class=\"dataframe\">\n",
              "  <thead>\n",
              "    <tr style=\"text-align: right;\">\n",
              "      <th></th>\n",
              "      <th>product_name_lenght</th>\n",
              "      <th>product_description_lenght</th>\n",
              "      <th>product_photos_qty</th>\n",
              "      <th>product_weight_g</th>\n",
              "      <th>product_length_cm</th>\n",
              "      <th>product_height_cm</th>\n",
              "      <th>product_width_cm</th>\n",
              "    </tr>\n",
              "  </thead>\n",
              "  <tbody>\n",
              "    <tr>\n",
              "      <th>count</th>\n",
              "      <td>32340.000000</td>\n",
              "      <td>32340.000000</td>\n",
              "      <td>32340.000000</td>\n",
              "      <td>32340.000000</td>\n",
              "      <td>32340.000000</td>\n",
              "      <td>32340.000000</td>\n",
              "      <td>32340.000000</td>\n",
              "    </tr>\n",
              "    <tr>\n",
              "      <th>mean</th>\n",
              "      <td>48.476592</td>\n",
              "      <td>771.492393</td>\n",
              "      <td>2.188961</td>\n",
              "      <td>2276.956586</td>\n",
              "      <td>30.854545</td>\n",
              "      <td>16.958813</td>\n",
              "      <td>23.208596</td>\n",
              "    </tr>\n",
              "    <tr>\n",
              "      <th>std</th>\n",
              "      <td>10.245699</td>\n",
              "      <td>635.124831</td>\n",
              "      <td>1.736787</td>\n",
              "      <td>4279.291845</td>\n",
              "      <td>16.955965</td>\n",
              "      <td>13.636115</td>\n",
              "      <td>12.078762</td>\n",
              "    </tr>\n",
              "    <tr>\n",
              "      <th>min</th>\n",
              "      <td>5.000000</td>\n",
              "      <td>4.000000</td>\n",
              "      <td>1.000000</td>\n",
              "      <td>0.000000</td>\n",
              "      <td>7.000000</td>\n",
              "      <td>2.000000</td>\n",
              "      <td>6.000000</td>\n",
              "    </tr>\n",
              "    <tr>\n",
              "      <th>25%</th>\n",
              "      <td>42.000000</td>\n",
              "      <td>339.000000</td>\n",
              "      <td>1.000000</td>\n",
              "      <td>300.000000</td>\n",
              "      <td>18.000000</td>\n",
              "      <td>8.000000</td>\n",
              "      <td>15.000000</td>\n",
              "    </tr>\n",
              "    <tr>\n",
              "      <th>50%</th>\n",
              "      <td>51.000000</td>\n",
              "      <td>595.000000</td>\n",
              "      <td>1.000000</td>\n",
              "      <td>700.000000</td>\n",
              "      <td>25.000000</td>\n",
              "      <td>13.000000</td>\n",
              "      <td>20.000000</td>\n",
              "    </tr>\n",
              "    <tr>\n",
              "      <th>75%</th>\n",
              "      <td>57.000000</td>\n",
              "      <td>972.000000</td>\n",
              "      <td>3.000000</td>\n",
              "      <td>1900.000000</td>\n",
              "      <td>38.000000</td>\n",
              "      <td>21.000000</td>\n",
              "      <td>30.000000</td>\n",
              "    </tr>\n",
              "    <tr>\n",
              "      <th>max</th>\n",
              "      <td>76.000000</td>\n",
              "      <td>3992.000000</td>\n",
              "      <td>20.000000</td>\n",
              "      <td>40425.000000</td>\n",
              "      <td>105.000000</td>\n",
              "      <td>105.000000</td>\n",
              "      <td>118.000000</td>\n",
              "    </tr>\n",
              "  </tbody>\n",
              "</table>\n",
              "</div>"
            ],
            "text/plain": [
              "       product_name_lenght  product_description_lenght  product_photos_qty  \\\n",
              "count         32340.000000                32340.000000        32340.000000   \n",
              "mean             48.476592                  771.492393            2.188961   \n",
              "std              10.245699                  635.124831            1.736787   \n",
              "min               5.000000                    4.000000            1.000000   \n",
              "25%              42.000000                  339.000000            1.000000   \n",
              "50%              51.000000                  595.000000            1.000000   \n",
              "75%              57.000000                  972.000000            3.000000   \n",
              "max              76.000000                 3992.000000           20.000000   \n",
              "\n",
              "       product_weight_g  product_length_cm  product_height_cm  \\\n",
              "count      32340.000000       32340.000000       32340.000000   \n",
              "mean        2276.956586          30.854545          16.958813   \n",
              "std         4279.291845          16.955965          13.636115   \n",
              "min            0.000000           7.000000           2.000000   \n",
              "25%          300.000000          18.000000           8.000000   \n",
              "50%          700.000000          25.000000          13.000000   \n",
              "75%         1900.000000          38.000000          21.000000   \n",
              "max        40425.000000         105.000000         105.000000   \n",
              "\n",
              "       product_width_cm  \n",
              "count      32340.000000  \n",
              "mean          23.208596  \n",
              "std           12.078762  \n",
              "min            6.000000  \n",
              "25%           15.000000  \n",
              "50%           20.000000  \n",
              "75%           30.000000  \n",
              "max          118.000000  "
            ]
          },
          "execution_count": 91,
          "metadata": {},
          "output_type": "execute_result"
        }
      ],
      "source": [
        "products_df.describe()"
      ]
    },
    {
      "cell_type": "markdown",
      "metadata": {
        "id": "hFp5sXHYD-xM"
      },
      "source": [
        "##### Inaccurate Value"
      ]
    },
    {
      "cell_type": "code",
      "execution_count": 92,
      "metadata": {
        "colab": {
          "base_uri": "https://localhost:8080/"
        },
        "id": "ixEF8y39Dsdj",
        "outputId": "a61d62d9-9913-4a0a-abb5-5ebd5b962942"
      },
      "outputs": [
        {
          "data": {
            "text/plain": [
              "Index([9769, 13683, 14997, 32079], dtype='int64')"
            ]
          },
          "execution_count": 92,
          "metadata": {},
          "output_type": "execute_result"
        }
      ],
      "source": [
        "index = products_df[products_df.product_weight_g == 0].index\n",
        "index"
      ]
    },
    {
      "cell_type": "code",
      "execution_count": 93,
      "metadata": {
        "id": "3EXxCYJUEIeL"
      },
      "outputs": [],
      "source": [
        "products_df.drop(index, axis=0, inplace=True)"
      ]
    },
    {
      "cell_type": "code",
      "execution_count": 94,
      "metadata": {
        "colab": {
          "base_uri": "https://localhost:8080/",
          "height": 206
        },
        "id": "5s4L861Vzq7s",
        "outputId": "57ecce90-f94b-447f-9c18-d2196628834e"
      },
      "outputs": [
        {
          "data": {
            "text/html": [
              "<div>\n",
              "<style scoped>\n",
              "    .dataframe tbody tr th:only-of-type {\n",
              "        vertical-align: middle;\n",
              "    }\n",
              "\n",
              "    .dataframe tbody tr th {\n",
              "        vertical-align: top;\n",
              "    }\n",
              "\n",
              "    .dataframe thead th {\n",
              "        text-align: right;\n",
              "    }\n",
              "</style>\n",
              "<table border=\"1\" class=\"dataframe\">\n",
              "  <thead>\n",
              "    <tr style=\"text-align: right;\">\n",
              "      <th></th>\n",
              "      <th>product_id</th>\n",
              "      <th>product_category_name</th>\n",
              "      <th>product_name_lenght</th>\n",
              "      <th>product_description_lenght</th>\n",
              "      <th>product_photos_qty</th>\n",
              "      <th>product_weight_g</th>\n",
              "      <th>product_length_cm</th>\n",
              "      <th>product_height_cm</th>\n",
              "      <th>product_width_cm</th>\n",
              "    </tr>\n",
              "  </thead>\n",
              "  <tbody>\n",
              "    <tr>\n",
              "      <th>0</th>\n",
              "      <td>1e9e8ef04dbcff4541ed26657ea517e5</td>\n",
              "      <td>perfumaria</td>\n",
              "      <td>40.0</td>\n",
              "      <td>287.0</td>\n",
              "      <td>1.0</td>\n",
              "      <td>225.0</td>\n",
              "      <td>16.0</td>\n",
              "      <td>10.0</td>\n",
              "      <td>14.0</td>\n",
              "    </tr>\n",
              "    <tr>\n",
              "      <th>1</th>\n",
              "      <td>3aa071139cb16b67ca9e5dea641aaa2f</td>\n",
              "      <td>artes</td>\n",
              "      <td>44.0</td>\n",
              "      <td>276.0</td>\n",
              "      <td>1.0</td>\n",
              "      <td>1000.0</td>\n",
              "      <td>30.0</td>\n",
              "      <td>18.0</td>\n",
              "      <td>20.0</td>\n",
              "    </tr>\n",
              "    <tr>\n",
              "      <th>2</th>\n",
              "      <td>96bd76ec8810374ed1b65e291975717f</td>\n",
              "      <td>esporte_lazer</td>\n",
              "      <td>46.0</td>\n",
              "      <td>250.0</td>\n",
              "      <td>1.0</td>\n",
              "      <td>154.0</td>\n",
              "      <td>18.0</td>\n",
              "      <td>9.0</td>\n",
              "      <td>15.0</td>\n",
              "    </tr>\n",
              "    <tr>\n",
              "      <th>3</th>\n",
              "      <td>cef67bcfe19066a932b7673e239eb23d</td>\n",
              "      <td>bebes</td>\n",
              "      <td>27.0</td>\n",
              "      <td>261.0</td>\n",
              "      <td>1.0</td>\n",
              "      <td>371.0</td>\n",
              "      <td>26.0</td>\n",
              "      <td>4.0</td>\n",
              "      <td>26.0</td>\n",
              "    </tr>\n",
              "    <tr>\n",
              "      <th>4</th>\n",
              "      <td>9dc1a7de274444849c219cff195d0b71</td>\n",
              "      <td>utilidades_domesticas</td>\n",
              "      <td>37.0</td>\n",
              "      <td>402.0</td>\n",
              "      <td>4.0</td>\n",
              "      <td>625.0</td>\n",
              "      <td>20.0</td>\n",
              "      <td>17.0</td>\n",
              "      <td>13.0</td>\n",
              "    </tr>\n",
              "  </tbody>\n",
              "</table>\n",
              "</div>"
            ],
            "text/plain": [
              "                         product_id  product_category_name  \\\n",
              "0  1e9e8ef04dbcff4541ed26657ea517e5             perfumaria   \n",
              "1  3aa071139cb16b67ca9e5dea641aaa2f                  artes   \n",
              "2  96bd76ec8810374ed1b65e291975717f          esporte_lazer   \n",
              "3  cef67bcfe19066a932b7673e239eb23d                  bebes   \n",
              "4  9dc1a7de274444849c219cff195d0b71  utilidades_domesticas   \n",
              "\n",
              "   product_name_lenght  product_description_lenght  product_photos_qty  \\\n",
              "0                 40.0                       287.0                 1.0   \n",
              "1                 44.0                       276.0                 1.0   \n",
              "2                 46.0                       250.0                 1.0   \n",
              "3                 27.0                       261.0                 1.0   \n",
              "4                 37.0                       402.0                 4.0   \n",
              "\n",
              "   product_weight_g  product_length_cm  product_height_cm  product_width_cm  \n",
              "0             225.0               16.0               10.0              14.0  \n",
              "1            1000.0               30.0               18.0              20.0  \n",
              "2             154.0               18.0                9.0              15.0  \n",
              "3             371.0               26.0                4.0              26.0  \n",
              "4             625.0               20.0               17.0              13.0  "
            ]
          },
          "execution_count": 94,
          "metadata": {},
          "output_type": "execute_result"
        }
      ],
      "source": [
        "products_df.head()"
      ]
    },
    {
      "cell_type": "markdown",
      "metadata": {
        "id": "ZDxm86v38EAv"
      },
      "source": [
        "##### Mengubah Tipe Data"
      ]
    },
    {
      "cell_type": "code",
      "execution_count": 95,
      "metadata": {
        "id": "UQxfP00J0LGp"
      },
      "outputs": [],
      "source": [
        "int_columns = [\"product_name_lenght\", \"product_description_lenght\", \"product_photos_qty\", \"product_weight_g\", \"product_length_cm\", \"product_height_cm\", \"product_width_cm\" ]\n",
        "\n",
        "for column in int_columns:\n",
        "  products_df[column] = products_df[column].astype(int)"
      ]
    },
    {
      "cell_type": "markdown",
      "metadata": {
        "id": "gp-Y6wU38DC1"
      },
      "source": [
        "## Exploratory Data Analysis (EDA)"
      ]
    },
    {
      "cell_type": "markdown",
      "metadata": {
        "id": "K9X60aIpHq-0"
      },
      "source": [
        "### Explore `Sellers_df`"
      ]
    },
    {
      "cell_type": "code",
      "execution_count": 96,
      "metadata": {
        "colab": {
          "base_uri": "https://localhost:8080/",
          "height": 423
        },
        "id": "lMULzrgvHvc6",
        "outputId": "c192fd16-2693-4832-c4ed-c40e83df3040"
      },
      "outputs": [
        {
          "data": {
            "text/html": [
              "<div>\n",
              "<style scoped>\n",
              "    .dataframe tbody tr th:only-of-type {\n",
              "        vertical-align: middle;\n",
              "    }\n",
              "\n",
              "    .dataframe tbody tr th {\n",
              "        vertical-align: top;\n",
              "    }\n",
              "\n",
              "    .dataframe thead th {\n",
              "        text-align: right;\n",
              "    }\n",
              "</style>\n",
              "<table border=\"1\" class=\"dataframe\">\n",
              "  <thead>\n",
              "    <tr style=\"text-align: right;\">\n",
              "      <th></th>\n",
              "      <th>seller_id</th>\n",
              "      <th>seller_zip_code_prefix</th>\n",
              "      <th>seller_city</th>\n",
              "      <th>seller_state</th>\n",
              "    </tr>\n",
              "  </thead>\n",
              "  <tbody>\n",
              "    <tr>\n",
              "      <th>0</th>\n",
              "      <td>3442f8959a84dea7ee197c632cb2df15</td>\n",
              "      <td>13023</td>\n",
              "      <td>campinas</td>\n",
              "      <td>SP</td>\n",
              "    </tr>\n",
              "    <tr>\n",
              "      <th>1</th>\n",
              "      <td>d1b65fc7debc3361ea86b5f14c68d2e2</td>\n",
              "      <td>13844</td>\n",
              "      <td>mogi guacu</td>\n",
              "      <td>SP</td>\n",
              "    </tr>\n",
              "    <tr>\n",
              "      <th>2</th>\n",
              "      <td>ce3ad9de960102d0677a81f5d0bb7b2d</td>\n",
              "      <td>20031</td>\n",
              "      <td>rio de janeiro</td>\n",
              "      <td>RJ</td>\n",
              "    </tr>\n",
              "    <tr>\n",
              "      <th>3</th>\n",
              "      <td>c0f3eea2e14555b6faeea3dd58c1b1c3</td>\n",
              "      <td>4195</td>\n",
              "      <td>sao paulo</td>\n",
              "      <td>SP</td>\n",
              "    </tr>\n",
              "    <tr>\n",
              "      <th>4</th>\n",
              "      <td>51a04a8a6bdcb23deccc82b0b80742cf</td>\n",
              "      <td>12914</td>\n",
              "      <td>braganca paulista</td>\n",
              "      <td>SP</td>\n",
              "    </tr>\n",
              "    <tr>\n",
              "      <th>...</th>\n",
              "      <td>...</td>\n",
              "      <td>...</td>\n",
              "      <td>...</td>\n",
              "      <td>...</td>\n",
              "    </tr>\n",
              "    <tr>\n",
              "      <th>3090</th>\n",
              "      <td>98dddbc4601dd4443ca174359b237166</td>\n",
              "      <td>87111</td>\n",
              "      <td>sarandi</td>\n",
              "      <td>PR</td>\n",
              "    </tr>\n",
              "    <tr>\n",
              "      <th>3091</th>\n",
              "      <td>f8201cab383e484733266d1906e2fdfa</td>\n",
              "      <td>88137</td>\n",
              "      <td>palhoca</td>\n",
              "      <td>SC</td>\n",
              "    </tr>\n",
              "    <tr>\n",
              "      <th>3092</th>\n",
              "      <td>74871d19219c7d518d0090283e03c137</td>\n",
              "      <td>4650</td>\n",
              "      <td>sao paulo</td>\n",
              "      <td>SP</td>\n",
              "    </tr>\n",
              "    <tr>\n",
              "      <th>3093</th>\n",
              "      <td>e603cf3fec55f8697c9059638d6c8eb5</td>\n",
              "      <td>96080</td>\n",
              "      <td>pelotas</td>\n",
              "      <td>RS</td>\n",
              "    </tr>\n",
              "    <tr>\n",
              "      <th>3094</th>\n",
              "      <td>9e25199f6ef7e7c347120ff175652c3b</td>\n",
              "      <td>12051</td>\n",
              "      <td>taubate</td>\n",
              "      <td>SP</td>\n",
              "    </tr>\n",
              "  </tbody>\n",
              "</table>\n",
              "<p>3095 rows × 4 columns</p>\n",
              "</div>"
            ],
            "text/plain": [
              "                             seller_id  seller_zip_code_prefix  \\\n",
              "0     3442f8959a84dea7ee197c632cb2df15                   13023   \n",
              "1     d1b65fc7debc3361ea86b5f14c68d2e2                   13844   \n",
              "2     ce3ad9de960102d0677a81f5d0bb7b2d                   20031   \n",
              "3     c0f3eea2e14555b6faeea3dd58c1b1c3                    4195   \n",
              "4     51a04a8a6bdcb23deccc82b0b80742cf                   12914   \n",
              "...                                ...                     ...   \n",
              "3090  98dddbc4601dd4443ca174359b237166                   87111   \n",
              "3091  f8201cab383e484733266d1906e2fdfa                   88137   \n",
              "3092  74871d19219c7d518d0090283e03c137                    4650   \n",
              "3093  e603cf3fec55f8697c9059638d6c8eb5                   96080   \n",
              "3094  9e25199f6ef7e7c347120ff175652c3b                   12051   \n",
              "\n",
              "            seller_city seller_state  \n",
              "0              campinas           SP  \n",
              "1            mogi guacu           SP  \n",
              "2        rio de janeiro           RJ  \n",
              "3             sao paulo           SP  \n",
              "4     braganca paulista           SP  \n",
              "...                 ...          ...  \n",
              "3090            sarandi           PR  \n",
              "3091            palhoca           SC  \n",
              "3092          sao paulo           SP  \n",
              "3093            pelotas           RS  \n",
              "3094            taubate           SP  \n",
              "\n",
              "[3095 rows x 4 columns]"
            ]
          },
          "execution_count": 96,
          "metadata": {},
          "output_type": "execute_result"
        }
      ],
      "source": [
        "sellers_df"
      ]
    },
    {
      "cell_type": "code",
      "execution_count": 97,
      "metadata": {
        "colab": {
          "base_uri": "https://localhost:8080/"
        },
        "id": "P5_6IGxzIVj8",
        "outputId": "05d02b93-697a-4fb9-b5f5-abf072a76e68"
      },
      "outputs": [
        {
          "name": "stdout",
          "output_type": "stream",
          "text": [
            "<class 'pandas.core.frame.DataFrame'>\n",
            "RangeIndex: 3095 entries, 0 to 3094\n",
            "Data columns (total 4 columns):\n",
            " #   Column                  Non-Null Count  Dtype \n",
            "---  ------                  --------------  ----- \n",
            " 0   seller_id               3095 non-null   object\n",
            " 1   seller_zip_code_prefix  3095 non-null   int64 \n",
            " 2   seller_city             3095 non-null   object\n",
            " 3   seller_state            3095 non-null   object\n",
            "dtypes: int64(1), object(3)\n",
            "memory usage: 96.8+ KB\n"
          ]
        }
      ],
      "source": [
        "sellers_df.info()"
      ]
    },
    {
      "cell_type": "code",
      "execution_count": 98,
      "metadata": {
        "colab": {
          "base_uri": "https://localhost:8080/"
        },
        "id": "d3zWuJWcH11o",
        "outputId": "a0f6fa55-3890-43ed-c77c-376989b1b1bb"
      },
      "outputs": [
        {
          "data": {
            "text/plain": [
              "True"
            ]
          },
          "execution_count": 98,
          "metadata": {},
          "output_type": "execute_result"
        }
      ],
      "source": [
        "sellers_df.seller_id.is_unique"
      ]
    },
    {
      "cell_type": "code",
      "execution_count": 99,
      "metadata": {
        "colab": {
          "base_uri": "https://localhost:8080/",
          "height": 423
        },
        "id": "2z5u1I9WIAEX",
        "outputId": "d9395e57-3946-4aa1-85c7-f00ab7a7cab8"
      },
      "outputs": [
        {
          "data": {
            "text/html": [
              "<div>\n",
              "<style scoped>\n",
              "    .dataframe tbody tr th:only-of-type {\n",
              "        vertical-align: middle;\n",
              "    }\n",
              "\n",
              "    .dataframe tbody tr th {\n",
              "        vertical-align: top;\n",
              "    }\n",
              "\n",
              "    .dataframe thead th {\n",
              "        text-align: right;\n",
              "    }\n",
              "</style>\n",
              "<table border=\"1\" class=\"dataframe\">\n",
              "  <thead>\n",
              "    <tr style=\"text-align: right;\">\n",
              "      <th></th>\n",
              "      <th>seller_city</th>\n",
              "      <th>jumlah seller</th>\n",
              "    </tr>\n",
              "  </thead>\n",
              "  <tbody>\n",
              "    <tr>\n",
              "      <th>0</th>\n",
              "      <td>sao paulo</td>\n",
              "      <td>694</td>\n",
              "    </tr>\n",
              "    <tr>\n",
              "      <th>1</th>\n",
              "      <td>curitiba</td>\n",
              "      <td>127</td>\n",
              "    </tr>\n",
              "    <tr>\n",
              "      <th>2</th>\n",
              "      <td>rio de janeiro</td>\n",
              "      <td>96</td>\n",
              "    </tr>\n",
              "    <tr>\n",
              "      <th>3</th>\n",
              "      <td>belo horizonte</td>\n",
              "      <td>68</td>\n",
              "    </tr>\n",
              "    <tr>\n",
              "      <th>4</th>\n",
              "      <td>ribeirao preto</td>\n",
              "      <td>52</td>\n",
              "    </tr>\n",
              "    <tr>\n",
              "      <th>...</th>\n",
              "      <td>...</td>\n",
              "      <td>...</td>\n",
              "    </tr>\n",
              "    <tr>\n",
              "      <th>606</th>\n",
              "      <td>aguas claras df</td>\n",
              "      <td>1</td>\n",
              "    </tr>\n",
              "    <tr>\n",
              "      <th>607</th>\n",
              "      <td>ao bernardo do campo</td>\n",
              "      <td>1</td>\n",
              "    </tr>\n",
              "    <tr>\n",
              "      <th>608</th>\n",
              "      <td>angra dos reis rj</td>\n",
              "      <td>1</td>\n",
              "    </tr>\n",
              "    <tr>\n",
              "      <th>609</th>\n",
              "      <td>vitoria de santo antao</td>\n",
              "      <td>1</td>\n",
              "    </tr>\n",
              "    <tr>\n",
              "      <th>610</th>\n",
              "      <td>vicente de carvalho</td>\n",
              "      <td>1</td>\n",
              "    </tr>\n",
              "  </tbody>\n",
              "</table>\n",
              "<p>611 rows × 2 columns</p>\n",
              "</div>"
            ],
            "text/plain": [
              "                seller_city  jumlah seller\n",
              "0                 sao paulo            694\n",
              "1                  curitiba            127\n",
              "2            rio de janeiro             96\n",
              "3            belo horizonte             68\n",
              "4            ribeirao preto             52\n",
              "..                      ...            ...\n",
              "606         aguas claras df              1\n",
              "607    ao bernardo do campo              1\n",
              "608       angra dos reis rj              1\n",
              "609  vitoria de santo antao              1\n",
              "610     vicente de carvalho              1\n",
              "\n",
              "[611 rows x 2 columns]"
            ]
          },
          "execution_count": 99,
          "metadata": {},
          "output_type": "execute_result"
        }
      ],
      "source": [
        "sellers_df.groupby(by=\"seller_city\").seller_id.count().sort_values(ascending=False).reset_index().rename(columns={\"seller_id\": \"jumlah seller\"})"
      ]
    },
    {
      "cell_type": "code",
      "execution_count": 100,
      "metadata": {
        "colab": {
          "base_uri": "https://localhost:8080/",
          "height": 770
        },
        "id": "KxJ_acmYJDDu",
        "outputId": "a8162959-c59b-47e0-e047-778b7a73f681"
      },
      "outputs": [
        {
          "data": {
            "text/html": [
              "<div>\n",
              "<style scoped>\n",
              "    .dataframe tbody tr th:only-of-type {\n",
              "        vertical-align: middle;\n",
              "    }\n",
              "\n",
              "    .dataframe tbody tr th {\n",
              "        vertical-align: top;\n",
              "    }\n",
              "\n",
              "    .dataframe thead th {\n",
              "        text-align: right;\n",
              "    }\n",
              "</style>\n",
              "<table border=\"1\" class=\"dataframe\">\n",
              "  <thead>\n",
              "    <tr style=\"text-align: right;\">\n",
              "      <th></th>\n",
              "      <th>seller_state</th>\n",
              "      <th>jumlah seller</th>\n",
              "    </tr>\n",
              "  </thead>\n",
              "  <tbody>\n",
              "    <tr>\n",
              "      <th>0</th>\n",
              "      <td>SP</td>\n",
              "      <td>1849</td>\n",
              "    </tr>\n",
              "    <tr>\n",
              "      <th>1</th>\n",
              "      <td>PR</td>\n",
              "      <td>349</td>\n",
              "    </tr>\n",
              "    <tr>\n",
              "      <th>2</th>\n",
              "      <td>MG</td>\n",
              "      <td>244</td>\n",
              "    </tr>\n",
              "    <tr>\n",
              "      <th>3</th>\n",
              "      <td>SC</td>\n",
              "      <td>190</td>\n",
              "    </tr>\n",
              "    <tr>\n",
              "      <th>4</th>\n",
              "      <td>RJ</td>\n",
              "      <td>171</td>\n",
              "    </tr>\n",
              "    <tr>\n",
              "      <th>5</th>\n",
              "      <td>RS</td>\n",
              "      <td>129</td>\n",
              "    </tr>\n",
              "    <tr>\n",
              "      <th>6</th>\n",
              "      <td>GO</td>\n",
              "      <td>40</td>\n",
              "    </tr>\n",
              "    <tr>\n",
              "      <th>7</th>\n",
              "      <td>DF</td>\n",
              "      <td>30</td>\n",
              "    </tr>\n",
              "    <tr>\n",
              "      <th>8</th>\n",
              "      <td>ES</td>\n",
              "      <td>23</td>\n",
              "    </tr>\n",
              "    <tr>\n",
              "      <th>9</th>\n",
              "      <td>BA</td>\n",
              "      <td>19</td>\n",
              "    </tr>\n",
              "    <tr>\n",
              "      <th>10</th>\n",
              "      <td>CE</td>\n",
              "      <td>13</td>\n",
              "    </tr>\n",
              "    <tr>\n",
              "      <th>11</th>\n",
              "      <td>PE</td>\n",
              "      <td>9</td>\n",
              "    </tr>\n",
              "    <tr>\n",
              "      <th>12</th>\n",
              "      <td>PB</td>\n",
              "      <td>6</td>\n",
              "    </tr>\n",
              "    <tr>\n",
              "      <th>13</th>\n",
              "      <td>MS</td>\n",
              "      <td>5</td>\n",
              "    </tr>\n",
              "    <tr>\n",
              "      <th>14</th>\n",
              "      <td>RN</td>\n",
              "      <td>5</td>\n",
              "    </tr>\n",
              "    <tr>\n",
              "      <th>15</th>\n",
              "      <td>MT</td>\n",
              "      <td>4</td>\n",
              "    </tr>\n",
              "    <tr>\n",
              "      <th>16</th>\n",
              "      <td>RO</td>\n",
              "      <td>2</td>\n",
              "    </tr>\n",
              "    <tr>\n",
              "      <th>17</th>\n",
              "      <td>SE</td>\n",
              "      <td>2</td>\n",
              "    </tr>\n",
              "    <tr>\n",
              "      <th>18</th>\n",
              "      <td>AM</td>\n",
              "      <td>1</td>\n",
              "    </tr>\n",
              "    <tr>\n",
              "      <th>19</th>\n",
              "      <td>AC</td>\n",
              "      <td>1</td>\n",
              "    </tr>\n",
              "    <tr>\n",
              "      <th>20</th>\n",
              "      <td>PI</td>\n",
              "      <td>1</td>\n",
              "    </tr>\n",
              "    <tr>\n",
              "      <th>21</th>\n",
              "      <td>MA</td>\n",
              "      <td>1</td>\n",
              "    </tr>\n",
              "    <tr>\n",
              "      <th>22</th>\n",
              "      <td>PA</td>\n",
              "      <td>1</td>\n",
              "    </tr>\n",
              "  </tbody>\n",
              "</table>\n",
              "</div>"
            ],
            "text/plain": [
              "   seller_state  jumlah seller\n",
              "0            SP           1849\n",
              "1            PR            349\n",
              "2            MG            244\n",
              "3            SC            190\n",
              "4            RJ            171\n",
              "5            RS            129\n",
              "6            GO             40\n",
              "7            DF             30\n",
              "8            ES             23\n",
              "9            BA             19\n",
              "10           CE             13\n",
              "11           PE              9\n",
              "12           PB              6\n",
              "13           MS              5\n",
              "14           RN              5\n",
              "15           MT              4\n",
              "16           RO              2\n",
              "17           SE              2\n",
              "18           AM              1\n",
              "19           AC              1\n",
              "20           PI              1\n",
              "21           MA              1\n",
              "22           PA              1"
            ]
          },
          "execution_count": 100,
          "metadata": {},
          "output_type": "execute_result"
        }
      ],
      "source": [
        "sellers_df.groupby(by=\"seller_state\").seller_id.count().sort_values(ascending=False).reset_index().rename(columns={\"seller_id\": \"jumlah seller\"})"
      ]
    },
    {
      "cell_type": "code",
      "execution_count": 101,
      "metadata": {
        "colab": {
          "base_uri": "https://localhost:8080/",
          "height": 423
        },
        "id": "Tjc6N9BZJPpM",
        "outputId": "82d90c76-8a94-4598-b752-a66f16634696"
      },
      "outputs": [
        {
          "data": {
            "text/html": [
              "<div>\n",
              "<style scoped>\n",
              "    .dataframe tbody tr th:only-of-type {\n",
              "        vertical-align: middle;\n",
              "    }\n",
              "\n",
              "    .dataframe tbody tr th {\n",
              "        vertical-align: top;\n",
              "    }\n",
              "\n",
              "    .dataframe thead th {\n",
              "        text-align: right;\n",
              "    }\n",
              "</style>\n",
              "<table border=\"1\" class=\"dataframe\">\n",
              "  <thead>\n",
              "    <tr style=\"text-align: right;\">\n",
              "      <th></th>\n",
              "      <th>seller_zip_code_prefix</th>\n",
              "      <th>jumlah seller</th>\n",
              "    </tr>\n",
              "  </thead>\n",
              "  <tbody>\n",
              "    <tr>\n",
              "      <th>0</th>\n",
              "      <td>14940</td>\n",
              "      <td>49</td>\n",
              "    </tr>\n",
              "    <tr>\n",
              "      <th>1</th>\n",
              "      <td>13660</td>\n",
              "      <td>10</td>\n",
              "    </tr>\n",
              "    <tr>\n",
              "      <th>2</th>\n",
              "      <td>16200</td>\n",
              "      <td>9</td>\n",
              "    </tr>\n",
              "    <tr>\n",
              "      <th>3</th>\n",
              "      <td>13920</td>\n",
              "      <td>9</td>\n",
              "    </tr>\n",
              "    <tr>\n",
              "      <th>4</th>\n",
              "      <td>1026</td>\n",
              "      <td>8</td>\n",
              "    </tr>\n",
              "    <tr>\n",
              "      <th>...</th>\n",
              "      <td>...</td>\n",
              "      <td>...</td>\n",
              "    </tr>\n",
              "    <tr>\n",
              "      <th>2241</th>\n",
              "      <td>97050</td>\n",
              "      <td>1</td>\n",
              "    </tr>\n",
              "    <tr>\n",
              "      <th>2242</th>\n",
              "      <td>96816</td>\n",
              "      <td>1</td>\n",
              "    </tr>\n",
              "    <tr>\n",
              "      <th>2243</th>\n",
              "      <td>96530</td>\n",
              "      <td>1</td>\n",
              "    </tr>\n",
              "    <tr>\n",
              "      <th>2244</th>\n",
              "      <td>96503</td>\n",
              "      <td>1</td>\n",
              "    </tr>\n",
              "    <tr>\n",
              "      <th>2245</th>\n",
              "      <td>96400</td>\n",
              "      <td>1</td>\n",
              "    </tr>\n",
              "  </tbody>\n",
              "</table>\n",
              "<p>2246 rows × 2 columns</p>\n",
              "</div>"
            ],
            "text/plain": [
              "      seller_zip_code_prefix  jumlah seller\n",
              "0                      14940             49\n",
              "1                      13660             10\n",
              "2                      16200              9\n",
              "3                      13920              9\n",
              "4                       1026              8\n",
              "...                      ...            ...\n",
              "2241                   97050              1\n",
              "2242                   96816              1\n",
              "2243                   96530              1\n",
              "2244                   96503              1\n",
              "2245                   96400              1\n",
              "\n",
              "[2246 rows x 2 columns]"
            ]
          },
          "execution_count": 101,
          "metadata": {},
          "output_type": "execute_result"
        }
      ],
      "source": [
        "sellers_df.groupby(by=\"seller_zip_code_prefix\").seller_id.count().sort_values(ascending=False).reset_index().rename(columns={\"seller_id\": \"jumlah seller\"})"
      ]
    },
    {
      "cell_type": "markdown",
      "metadata": {
        "id": "c-C5ugT3yVw7"
      },
      "source": [
        "**Insight**\n",
        "- Mengelompokkan seller berdasarkan kota dan mengurutkan kota dengan seller terbanyak\n",
        "- Mengelompokkan seller berdasarkan state dan mengurutkan state dengan seller terbanyak\n",
        "- Mengelompokkan seller berdasarkan zip code dan mengurutkan zip code dengan seller terbanyak"
      ]
    },
    {
      "cell_type": "markdown",
      "metadata": {
        "id": "N0zEhsyUvljX"
      },
      "source": [
        "### Explore `order_items_df`"
      ]
    },
    {
      "cell_type": "code",
      "execution_count": 102,
      "metadata": {
        "colab": {
          "base_uri": "https://localhost:8080/",
          "height": 423
        },
        "id": "ew7fzSBfvslV",
        "outputId": "84100d58-6e10-450d-bd2f-1e4abad41289"
      },
      "outputs": [
        {
          "data": {
            "text/html": [
              "<div>\n",
              "<style scoped>\n",
              "    .dataframe tbody tr th:only-of-type {\n",
              "        vertical-align: middle;\n",
              "    }\n",
              "\n",
              "    .dataframe tbody tr th {\n",
              "        vertical-align: top;\n",
              "    }\n",
              "\n",
              "    .dataframe thead th {\n",
              "        text-align: right;\n",
              "    }\n",
              "</style>\n",
              "<table border=\"1\" class=\"dataframe\">\n",
              "  <thead>\n",
              "    <tr style=\"text-align: right;\">\n",
              "      <th></th>\n",
              "      <th>order_id</th>\n",
              "      <th>order_item_id</th>\n",
              "      <th>product_id</th>\n",
              "      <th>seller_id</th>\n",
              "      <th>shipping_limit_date</th>\n",
              "      <th>price</th>\n",
              "      <th>freight_value</th>\n",
              "    </tr>\n",
              "  </thead>\n",
              "  <tbody>\n",
              "    <tr>\n",
              "      <th>0</th>\n",
              "      <td>00010242fe8c5a6d1ba2dd792cb16214</td>\n",
              "      <td>1</td>\n",
              "      <td>4244733e06e7ecb4970a6e2683c13e61</td>\n",
              "      <td>48436dade18ac8b2bce089ec2a041202</td>\n",
              "      <td>2017-09-19 09:45:35</td>\n",
              "      <td>59</td>\n",
              "      <td>13</td>\n",
              "    </tr>\n",
              "    <tr>\n",
              "      <th>1</th>\n",
              "      <td>00018f77f2f0320c557190d7a144bdd3</td>\n",
              "      <td>1</td>\n",
              "      <td>e5f2d52b802189ee658865ca93d83a8f</td>\n",
              "      <td>dd7ddc04e1b6c2c614352b383efe2d36</td>\n",
              "      <td>2017-05-03 11:05:13</td>\n",
              "      <td>240</td>\n",
              "      <td>20</td>\n",
              "    </tr>\n",
              "    <tr>\n",
              "      <th>2</th>\n",
              "      <td>000229ec398224ef6ca0657da4fc703e</td>\n",
              "      <td>1</td>\n",
              "      <td>c777355d18b72b67abbeef9df44fd0fd</td>\n",
              "      <td>5b51032eddd242adc84c38acab88f23d</td>\n",
              "      <td>2018-01-18 14:48:30</td>\n",
              "      <td>199</td>\n",
              "      <td>18</td>\n",
              "    </tr>\n",
              "    <tr>\n",
              "      <th>3</th>\n",
              "      <td>00024acbcdf0a6daa1e931b038114c75</td>\n",
              "      <td>1</td>\n",
              "      <td>7634da152a4610f1595efa32f14722fc</td>\n",
              "      <td>9d7a1d34a5052409006425275ba1c2b4</td>\n",
              "      <td>2018-08-15 10:10:18</td>\n",
              "      <td>13</td>\n",
              "      <td>13</td>\n",
              "    </tr>\n",
              "    <tr>\n",
              "      <th>4</th>\n",
              "      <td>00042b26cf59d7ce69dfabb4e55b4fd9</td>\n",
              "      <td>1</td>\n",
              "      <td>ac6c3623068f30de03045865e4e10089</td>\n",
              "      <td>df560393f3a51e74553ab94004ba5c87</td>\n",
              "      <td>2017-02-13 13:57:51</td>\n",
              "      <td>200</td>\n",
              "      <td>18</td>\n",
              "    </tr>\n",
              "    <tr>\n",
              "      <th>...</th>\n",
              "      <td>...</td>\n",
              "      <td>...</td>\n",
              "      <td>...</td>\n",
              "      <td>...</td>\n",
              "      <td>...</td>\n",
              "      <td>...</td>\n",
              "      <td>...</td>\n",
              "    </tr>\n",
              "    <tr>\n",
              "      <th>112645</th>\n",
              "      <td>fffc94f6ce00a00581880bf54a75a037</td>\n",
              "      <td>1</td>\n",
              "      <td>4aa6014eceb682077f9dc4bffebc05b0</td>\n",
              "      <td>b8bc237ba3788b23da09c0f1f3a3288c</td>\n",
              "      <td>2018-05-02 04:11:01</td>\n",
              "      <td>300</td>\n",
              "      <td>43</td>\n",
              "    </tr>\n",
              "    <tr>\n",
              "      <th>112646</th>\n",
              "      <td>fffcd46ef2263f404302a634eb57f7eb</td>\n",
              "      <td>1</td>\n",
              "      <td>32e07fd915822b0765e448c4dd74c828</td>\n",
              "      <td>f3c38ab652836d21de61fb8314b69182</td>\n",
              "      <td>2018-07-20 04:31:48</td>\n",
              "      <td>350</td>\n",
              "      <td>37</td>\n",
              "    </tr>\n",
              "    <tr>\n",
              "      <th>112647</th>\n",
              "      <td>fffce4705a9662cd70adb13d4a31832d</td>\n",
              "      <td>1</td>\n",
              "      <td>72a30483855e2eafc67aee5dc2560482</td>\n",
              "      <td>c3cfdc648177fdbbbb35635a37472c53</td>\n",
              "      <td>2017-10-30 17:14:25</td>\n",
              "      <td>100</td>\n",
              "      <td>17</td>\n",
              "    </tr>\n",
              "    <tr>\n",
              "      <th>112648</th>\n",
              "      <td>fffe18544ffabc95dfada21779c9644f</td>\n",
              "      <td>1</td>\n",
              "      <td>9c422a519119dcad7575db5af1ba540e</td>\n",
              "      <td>2b3e4a2a3ea8e01938cabda2a3e5cc79</td>\n",
              "      <td>2017-08-21 00:04:32</td>\n",
              "      <td>56</td>\n",
              "      <td>9</td>\n",
              "    </tr>\n",
              "    <tr>\n",
              "      <th>112649</th>\n",
              "      <td>fffe41c64501cc87c801fd61db3f6244</td>\n",
              "      <td>1</td>\n",
              "      <td>350688d9dc1e75ff97be326363655e01</td>\n",
              "      <td>f7ccf836d21b2fb1de37564105216cc1</td>\n",
              "      <td>2018-06-12 17:10:13</td>\n",
              "      <td>43</td>\n",
              "      <td>13</td>\n",
              "    </tr>\n",
              "  </tbody>\n",
              "</table>\n",
              "<p>112650 rows × 7 columns</p>\n",
              "</div>"
            ],
            "text/plain": [
              "                                order_id  order_item_id  \\\n",
              "0       00010242fe8c5a6d1ba2dd792cb16214              1   \n",
              "1       00018f77f2f0320c557190d7a144bdd3              1   \n",
              "2       000229ec398224ef6ca0657da4fc703e              1   \n",
              "3       00024acbcdf0a6daa1e931b038114c75              1   \n",
              "4       00042b26cf59d7ce69dfabb4e55b4fd9              1   \n",
              "...                                  ...            ...   \n",
              "112645  fffc94f6ce00a00581880bf54a75a037              1   \n",
              "112646  fffcd46ef2263f404302a634eb57f7eb              1   \n",
              "112647  fffce4705a9662cd70adb13d4a31832d              1   \n",
              "112648  fffe18544ffabc95dfada21779c9644f              1   \n",
              "112649  fffe41c64501cc87c801fd61db3f6244              1   \n",
              "\n",
              "                              product_id                         seller_id  \\\n",
              "0       4244733e06e7ecb4970a6e2683c13e61  48436dade18ac8b2bce089ec2a041202   \n",
              "1       e5f2d52b802189ee658865ca93d83a8f  dd7ddc04e1b6c2c614352b383efe2d36   \n",
              "2       c777355d18b72b67abbeef9df44fd0fd  5b51032eddd242adc84c38acab88f23d   \n",
              "3       7634da152a4610f1595efa32f14722fc  9d7a1d34a5052409006425275ba1c2b4   \n",
              "4       ac6c3623068f30de03045865e4e10089  df560393f3a51e74553ab94004ba5c87   \n",
              "...                                  ...                               ...   \n",
              "112645  4aa6014eceb682077f9dc4bffebc05b0  b8bc237ba3788b23da09c0f1f3a3288c   \n",
              "112646  32e07fd915822b0765e448c4dd74c828  f3c38ab652836d21de61fb8314b69182   \n",
              "112647  72a30483855e2eafc67aee5dc2560482  c3cfdc648177fdbbbb35635a37472c53   \n",
              "112648  9c422a519119dcad7575db5af1ba540e  2b3e4a2a3ea8e01938cabda2a3e5cc79   \n",
              "112649  350688d9dc1e75ff97be326363655e01  f7ccf836d21b2fb1de37564105216cc1   \n",
              "\n",
              "       shipping_limit_date  price  freight_value  \n",
              "0      2017-09-19 09:45:35     59             13  \n",
              "1      2017-05-03 11:05:13    240             20  \n",
              "2      2018-01-18 14:48:30    199             18  \n",
              "3      2018-08-15 10:10:18     13             13  \n",
              "4      2017-02-13 13:57:51    200             18  \n",
              "...                    ...    ...            ...  \n",
              "112645 2018-05-02 04:11:01    300             43  \n",
              "112646 2018-07-20 04:31:48    350             37  \n",
              "112647 2017-10-30 17:14:25    100             17  \n",
              "112648 2017-08-21 00:04:32     56              9  \n",
              "112649 2018-06-12 17:10:13     43             13  \n",
              "\n",
              "[112650 rows x 7 columns]"
            ]
          },
          "execution_count": 102,
          "metadata": {},
          "output_type": "execute_result"
        }
      ],
      "source": [
        "order_items_df"
      ]
    },
    {
      "cell_type": "code",
      "execution_count": 103,
      "metadata": {
        "colab": {
          "base_uri": "https://localhost:8080/"
        },
        "id": "cdH3FpfuN8uF",
        "outputId": "7f27f4a3-17ad-4314-d603-89d01cfb9b37"
      },
      "outputs": [
        {
          "data": {
            "text/plain": [
              "False"
            ]
          },
          "execution_count": 103,
          "metadata": {},
          "output_type": "execute_result"
        }
      ],
      "source": [
        "order_items_df.order_id.is_unique"
      ]
    },
    {
      "cell_type": "code",
      "execution_count": 104,
      "metadata": {
        "colab": {
          "base_uri": "https://localhost:8080/"
        },
        "id": "Ss8YpwR_OEi2",
        "outputId": "02b931b3-cf5d-409b-ca75-d9062e592f25"
      },
      "outputs": [
        {
          "data": {
            "text/plain": [
              "False"
            ]
          },
          "execution_count": 104,
          "metadata": {},
          "output_type": "execute_result"
        }
      ],
      "source": [
        "order_items_df.product_id.is_unique"
      ]
    },
    {
      "cell_type": "code",
      "execution_count": 105,
      "metadata": {
        "id": "H89zAO1e29Xn"
      },
      "outputs": [],
      "source": [
        "order_items_df[\"total_price\"] = order_items_df[\"price\"] + order_items_df[\"freight_value\"]"
      ]
    },
    {
      "cell_type": "code",
      "execution_count": 106,
      "metadata": {
        "colab": {
          "base_uri": "https://localhost:8080/",
          "height": 206
        },
        "id": "m2cNObrpPIxr",
        "outputId": "b033eb4b-c992-437e-d8a7-112216cb25c3"
      },
      "outputs": [
        {
          "data": {
            "text/html": [
              "<div>\n",
              "<style scoped>\n",
              "    .dataframe tbody tr th:only-of-type {\n",
              "        vertical-align: middle;\n",
              "    }\n",
              "\n",
              "    .dataframe tbody tr th {\n",
              "        vertical-align: top;\n",
              "    }\n",
              "\n",
              "    .dataframe thead th {\n",
              "        text-align: right;\n",
              "    }\n",
              "</style>\n",
              "<table border=\"1\" class=\"dataframe\">\n",
              "  <thead>\n",
              "    <tr style=\"text-align: right;\">\n",
              "      <th></th>\n",
              "      <th>product_id</th>\n",
              "      <th>total_price</th>\n",
              "    </tr>\n",
              "  </thead>\n",
              "  <tbody>\n",
              "    <tr>\n",
              "      <th>3556</th>\n",
              "      <td>489ae2aa008f021502940f251d4cce7f</td>\n",
              "      <td>6929</td>\n",
              "    </tr>\n",
              "    <tr>\n",
              "      <th>112233</th>\n",
              "      <td>69c590f7ffc7bf8db97190b6cb6ed62e</td>\n",
              "      <td>6922</td>\n",
              "    </tr>\n",
              "    <tr>\n",
              "      <th>107841</th>\n",
              "      <td>1bdf5e6731585cf01aa8169c7028d6ad</td>\n",
              "      <td>6727</td>\n",
              "    </tr>\n",
              "    <tr>\n",
              "      <th>74336</th>\n",
              "      <td>a6492cc69376c469ab6f61d8f44de961</td>\n",
              "      <td>4950</td>\n",
              "    </tr>\n",
              "    <tr>\n",
              "      <th>11249</th>\n",
              "      <td>c3ed642d592594bb648ff4a04cee2747</td>\n",
              "      <td>4764</td>\n",
              "    </tr>\n",
              "  </tbody>\n",
              "</table>\n",
              "</div>"
            ],
            "text/plain": [
              "                              product_id  total_price\n",
              "3556    489ae2aa008f021502940f251d4cce7f         6929\n",
              "112233  69c590f7ffc7bf8db97190b6cb6ed62e         6922\n",
              "107841  1bdf5e6731585cf01aa8169c7028d6ad         6727\n",
              "74336   a6492cc69376c469ab6f61d8f44de961         4950\n",
              "11249   c3ed642d592594bb648ff4a04cee2747         4764"
            ]
          },
          "execution_count": 106,
          "metadata": {},
          "output_type": "execute_result"
        }
      ],
      "source": [
        "most_expensive_product = order_items_df.sort_values(by=\"total_price\", ascending=False).head()\n",
        "most_expensive_product[[\"product_id\", \"total_price\"]]"
      ]
    },
    {
      "cell_type": "markdown",
      "metadata": {
        "id": "RO1WJti2y-rC"
      },
      "source": [
        "**Insight**\n",
        "- Membuat kolom baru yaitu total price berdasarkan penjumlahan kolom price dan freight_value\n",
        "- Mengurutkan 5 produk dengan harga total paling besar"
      ]
    },
    {
      "cell_type": "markdown",
      "metadata": {
        "id": "4N80tvLrn9ag"
      },
      "source": [
        "### Explore `sellers_df & order_items_df`"
      ]
    },
    {
      "cell_type": "code",
      "execution_count": 107,
      "metadata": {
        "colab": {
          "base_uri": "https://localhost:8080/",
          "height": 443
        },
        "id": "-f0s2Z97orMf",
        "outputId": "cc2555f4-2837-4fca-83df-0bcc58de75a3"
      },
      "outputs": [
        {
          "data": {
            "text/html": [
              "<div>\n",
              "<style scoped>\n",
              "    .dataframe tbody tr th:only-of-type {\n",
              "        vertical-align: middle;\n",
              "    }\n",
              "\n",
              "    .dataframe tbody tr th {\n",
              "        vertical-align: top;\n",
              "    }\n",
              "\n",
              "    .dataframe thead th {\n",
              "        text-align: right;\n",
              "    }\n",
              "</style>\n",
              "<table border=\"1\" class=\"dataframe\">\n",
              "  <thead>\n",
              "    <tr style=\"text-align: right;\">\n",
              "      <th></th>\n",
              "      <th>seller_id</th>\n",
              "      <th>seller_zip_code_prefix</th>\n",
              "      <th>seller_city</th>\n",
              "      <th>seller_state</th>\n",
              "      <th>order_id</th>\n",
              "      <th>order_item_id</th>\n",
              "      <th>product_id</th>\n",
              "      <th>shipping_limit_date</th>\n",
              "      <th>price</th>\n",
              "      <th>freight_value</th>\n",
              "      <th>total_price</th>\n",
              "    </tr>\n",
              "  </thead>\n",
              "  <tbody>\n",
              "    <tr>\n",
              "      <th>0</th>\n",
              "      <td>3442f8959a84dea7ee197c632cb2df15</td>\n",
              "      <td>13023</td>\n",
              "      <td>campinas</td>\n",
              "      <td>SP</td>\n",
              "      <td>4a90af3e85dd563884e2afeab1091394</td>\n",
              "      <td>1</td>\n",
              "      <td>ffb64e34a37740dafb6c88f1abd1fa61</td>\n",
              "      <td>2017-08-25 20:50:19</td>\n",
              "      <td>106</td>\n",
              "      <td>10</td>\n",
              "      <td>116</td>\n",
              "    </tr>\n",
              "    <tr>\n",
              "      <th>1</th>\n",
              "      <td>3442f8959a84dea7ee197c632cb2df15</td>\n",
              "      <td>13023</td>\n",
              "      <td>campinas</td>\n",
              "      <td>SP</td>\n",
              "      <td>6d953888a914b67350d5bc4d48f2acab</td>\n",
              "      <td>1</td>\n",
              "      <td>f4621f8ad6f54a2e3c408884068be46d</td>\n",
              "      <td>2017-05-11 16:25:11</td>\n",
              "      <td>102</td>\n",
              "      <td>16</td>\n",
              "      <td>118</td>\n",
              "    </tr>\n",
              "    <tr>\n",
              "      <th>2</th>\n",
              "      <td>3442f8959a84dea7ee197c632cb2df15</td>\n",
              "      <td>13023</td>\n",
              "      <td>campinas</td>\n",
              "      <td>SP</td>\n",
              "      <td>bc8a5de6abf5b14f98a6135a7fb46731</td>\n",
              "      <td>2</td>\n",
              "      <td>325a06bcce0da45b7f4ecf2797dd40e4</td>\n",
              "      <td>2017-09-05 12:50:19</td>\n",
              "      <td>11</td>\n",
              "      <td>2</td>\n",
              "      <td>13</td>\n",
              "    </tr>\n",
              "    <tr>\n",
              "      <th>3</th>\n",
              "      <td>d1b65fc7debc3361ea86b5f14c68d2e2</td>\n",
              "      <td>13844</td>\n",
              "      <td>mogi guacu</td>\n",
              "      <td>SP</td>\n",
              "      <td>035201c3c82a97f8a25dd6bd5244b2d5</td>\n",
              "      <td>1</td>\n",
              "      <td>1c36a5285f7f3b1ed2637d7c528ce5ff</td>\n",
              "      <td>2017-11-22 04:30:29</td>\n",
              "      <td>90</td>\n",
              "      <td>45</td>\n",
              "      <td>135</td>\n",
              "    </tr>\n",
              "    <tr>\n",
              "      <th>4</th>\n",
              "      <td>d1b65fc7debc3361ea86b5f14c68d2e2</td>\n",
              "      <td>13844</td>\n",
              "      <td>mogi guacu</td>\n",
              "      <td>SP</td>\n",
              "      <td>0504447548229e075dea8441b37b1e2a</td>\n",
              "      <td>1</td>\n",
              "      <td>8852eb03b04ec3268a66e9b696e25f6f</td>\n",
              "      <td>2017-10-06 02:14:42</td>\n",
              "      <td>200</td>\n",
              "      <td>22</td>\n",
              "      <td>222</td>\n",
              "    </tr>\n",
              "    <tr>\n",
              "      <th>...</th>\n",
              "      <td>...</td>\n",
              "      <td>...</td>\n",
              "      <td>...</td>\n",
              "      <td>...</td>\n",
              "      <td>...</td>\n",
              "      <td>...</td>\n",
              "      <td>...</td>\n",
              "      <td>...</td>\n",
              "      <td>...</td>\n",
              "      <td>...</td>\n",
              "      <td>...</td>\n",
              "    </tr>\n",
              "    <tr>\n",
              "      <th>112645</th>\n",
              "      <td>e603cf3fec55f8697c9059638d6c8eb5</td>\n",
              "      <td>96080</td>\n",
              "      <td>pelotas</td>\n",
              "      <td>RS</td>\n",
              "      <td>7aa50aad959e4345b45b9732bc346a6e</td>\n",
              "      <td>1</td>\n",
              "      <td>e891d4a9622cae3b9fc2ec558bda155b</td>\n",
              "      <td>2017-03-10 04:03:43</td>\n",
              "      <td>27</td>\n",
              "      <td>16</td>\n",
              "      <td>43</td>\n",
              "    </tr>\n",
              "    <tr>\n",
              "      <th>112646</th>\n",
              "      <td>e603cf3fec55f8697c9059638d6c8eb5</td>\n",
              "      <td>96080</td>\n",
              "      <td>pelotas</td>\n",
              "      <td>RS</td>\n",
              "      <td>aae373a2cc64ed2d1f262aa56e70b7e8</td>\n",
              "      <td>1</td>\n",
              "      <td>e891d4a9622cae3b9fc2ec558bda155b</td>\n",
              "      <td>2017-02-15 16:42:59</td>\n",
              "      <td>27</td>\n",
              "      <td>11</td>\n",
              "      <td>38</td>\n",
              "    </tr>\n",
              "    <tr>\n",
              "      <th>112647</th>\n",
              "      <td>e603cf3fec55f8697c9059638d6c8eb5</td>\n",
              "      <td>96080</td>\n",
              "      <td>pelotas</td>\n",
              "      <td>RS</td>\n",
              "      <td>bc34d5b185152cb88b9f5db391dcd1cb</td>\n",
              "      <td>1</td>\n",
              "      <td>e891d4a9622cae3b9fc2ec558bda155b</td>\n",
              "      <td>2017-04-11 18:05:17</td>\n",
              "      <td>27</td>\n",
              "      <td>16</td>\n",
              "      <td>43</td>\n",
              "    </tr>\n",
              "    <tr>\n",
              "      <th>112648</th>\n",
              "      <td>e603cf3fec55f8697c9059638d6c8eb5</td>\n",
              "      <td>96080</td>\n",
              "      <td>pelotas</td>\n",
              "      <td>RS</td>\n",
              "      <td>d1edb80f6670902ebbb11765b96873da</td>\n",
              "      <td>1</td>\n",
              "      <td>e891d4a9622cae3b9fc2ec558bda155b</td>\n",
              "      <td>2017-06-26 17:30:16</td>\n",
              "      <td>27</td>\n",
              "      <td>12</td>\n",
              "      <td>39</td>\n",
              "    </tr>\n",
              "    <tr>\n",
              "      <th>112649</th>\n",
              "      <td>9e25199f6ef7e7c347120ff175652c3b</td>\n",
              "      <td>12051</td>\n",
              "      <td>taubate</td>\n",
              "      <td>SP</td>\n",
              "      <td>f7b6b85f6fd2cf9aac15731dca998844</td>\n",
              "      <td>1</td>\n",
              "      <td>179bb56045bec397c52ef3c8183dabb6</td>\n",
              "      <td>2017-03-31 10:10:27</td>\n",
              "      <td>12</td>\n",
              "      <td>15</td>\n",
              "      <td>27</td>\n",
              "    </tr>\n",
              "  </tbody>\n",
              "</table>\n",
              "<p>112650 rows × 11 columns</p>\n",
              "</div>"
            ],
            "text/plain": [
              "                               seller_id  seller_zip_code_prefix seller_city  \\\n",
              "0       3442f8959a84dea7ee197c632cb2df15                   13023    campinas   \n",
              "1       3442f8959a84dea7ee197c632cb2df15                   13023    campinas   \n",
              "2       3442f8959a84dea7ee197c632cb2df15                   13023    campinas   \n",
              "3       d1b65fc7debc3361ea86b5f14c68d2e2                   13844  mogi guacu   \n",
              "4       d1b65fc7debc3361ea86b5f14c68d2e2                   13844  mogi guacu   \n",
              "...                                  ...                     ...         ...   \n",
              "112645  e603cf3fec55f8697c9059638d6c8eb5                   96080     pelotas   \n",
              "112646  e603cf3fec55f8697c9059638d6c8eb5                   96080     pelotas   \n",
              "112647  e603cf3fec55f8697c9059638d6c8eb5                   96080     pelotas   \n",
              "112648  e603cf3fec55f8697c9059638d6c8eb5                   96080     pelotas   \n",
              "112649  9e25199f6ef7e7c347120ff175652c3b                   12051     taubate   \n",
              "\n",
              "       seller_state                          order_id  order_item_id  \\\n",
              "0                SP  4a90af3e85dd563884e2afeab1091394              1   \n",
              "1                SP  6d953888a914b67350d5bc4d48f2acab              1   \n",
              "2                SP  bc8a5de6abf5b14f98a6135a7fb46731              2   \n",
              "3                SP  035201c3c82a97f8a25dd6bd5244b2d5              1   \n",
              "4                SP  0504447548229e075dea8441b37b1e2a              1   \n",
              "...             ...                               ...            ...   \n",
              "112645           RS  7aa50aad959e4345b45b9732bc346a6e              1   \n",
              "112646           RS  aae373a2cc64ed2d1f262aa56e70b7e8              1   \n",
              "112647           RS  bc34d5b185152cb88b9f5db391dcd1cb              1   \n",
              "112648           RS  d1edb80f6670902ebbb11765b96873da              1   \n",
              "112649           SP  f7b6b85f6fd2cf9aac15731dca998844              1   \n",
              "\n",
              "                              product_id shipping_limit_date  price  \\\n",
              "0       ffb64e34a37740dafb6c88f1abd1fa61 2017-08-25 20:50:19    106   \n",
              "1       f4621f8ad6f54a2e3c408884068be46d 2017-05-11 16:25:11    102   \n",
              "2       325a06bcce0da45b7f4ecf2797dd40e4 2017-09-05 12:50:19     11   \n",
              "3       1c36a5285f7f3b1ed2637d7c528ce5ff 2017-11-22 04:30:29     90   \n",
              "4       8852eb03b04ec3268a66e9b696e25f6f 2017-10-06 02:14:42    200   \n",
              "...                                  ...                 ...    ...   \n",
              "112645  e891d4a9622cae3b9fc2ec558bda155b 2017-03-10 04:03:43     27   \n",
              "112646  e891d4a9622cae3b9fc2ec558bda155b 2017-02-15 16:42:59     27   \n",
              "112647  e891d4a9622cae3b9fc2ec558bda155b 2017-04-11 18:05:17     27   \n",
              "112648  e891d4a9622cae3b9fc2ec558bda155b 2017-06-26 17:30:16     27   \n",
              "112649  179bb56045bec397c52ef3c8183dabb6 2017-03-31 10:10:27     12   \n",
              "\n",
              "        freight_value  total_price  \n",
              "0                  10          116  \n",
              "1                  16          118  \n",
              "2                   2           13  \n",
              "3                  45          135  \n",
              "4                  22          222  \n",
              "...               ...          ...  \n",
              "112645             16           43  \n",
              "112646             11           38  \n",
              "112647             16           43  \n",
              "112648             12           39  \n",
              "112649             15           27  \n",
              "\n",
              "[112650 rows x 11 columns]"
            ]
          },
          "execution_count": 107,
          "metadata": {},
          "output_type": "execute_result"
        }
      ],
      "source": [
        "sellers_order_items_df = pd.merge(\n",
        "    left=sellers_df,\n",
        "    right=order_items_df,\n",
        "    how=\"left\",\n",
        "    left_on=\"seller_id\",\n",
        "    right_on=\"seller_id\"\n",
        ")\n",
        "\n",
        "sellers_order_items_df"
      ]
    },
    {
      "cell_type": "code",
      "execution_count": 108,
      "metadata": {
        "colab": {
          "base_uri": "https://localhost:8080/",
          "height": 206
        },
        "id": "X8PfJ6eiptrZ",
        "outputId": "2cd21131-40df-40e0-8fa0-0f1b19956482"
      },
      "outputs": [
        {
          "data": {
            "text/html": [
              "<div>\n",
              "<style scoped>\n",
              "    .dataframe tbody tr th:only-of-type {\n",
              "        vertical-align: middle;\n",
              "    }\n",
              "\n",
              "    .dataframe tbody tr th {\n",
              "        vertical-align: top;\n",
              "    }\n",
              "\n",
              "    .dataframe thead th {\n",
              "        text-align: right;\n",
              "    }\n",
              "</style>\n",
              "<table border=\"1\" class=\"dataframe\">\n",
              "  <thead>\n",
              "    <tr style=\"text-align: right;\">\n",
              "      <th></th>\n",
              "      <th>seller_id</th>\n",
              "      <th>produk terjual</th>\n",
              "    </tr>\n",
              "  </thead>\n",
              "  <tbody>\n",
              "    <tr>\n",
              "      <th>1235</th>\n",
              "      <td>6560211a19b47992c3666cc44a7e94c0</td>\n",
              "      <td>2033</td>\n",
              "    </tr>\n",
              "    <tr>\n",
              "      <th>881</th>\n",
              "      <td>4a3ca9315b744ce9f8e9374361493884</td>\n",
              "      <td>1987</td>\n",
              "    </tr>\n",
              "    <tr>\n",
              "      <th>368</th>\n",
              "      <td>1f50f920176fa81dab994f9023523100</td>\n",
              "      <td>1931</td>\n",
              "    </tr>\n",
              "    <tr>\n",
              "      <th>2481</th>\n",
              "      <td>cc419e0650a3c5ba77189a1882b7556a</td>\n",
              "      <td>1775</td>\n",
              "    </tr>\n",
              "    <tr>\n",
              "      <th>2643</th>\n",
              "      <td>da8622b14eb17ae2831f4ac5b9dab84a</td>\n",
              "      <td>1551</td>\n",
              "    </tr>\n",
              "  </tbody>\n",
              "</table>\n",
              "</div>"
            ],
            "text/plain": [
              "                             seller_id  produk terjual\n",
              "1235  6560211a19b47992c3666cc44a7e94c0            2033\n",
              "881   4a3ca9315b744ce9f8e9374361493884            1987\n",
              "368   1f50f920176fa81dab994f9023523100            1931\n",
              "2481  cc419e0650a3c5ba77189a1882b7556a            1775\n",
              "2643  da8622b14eb17ae2831f4ac5b9dab84a            1551"
            ]
          },
          "execution_count": 108,
          "metadata": {},
          "output_type": "execute_result"
        }
      ],
      "source": [
        "sellers_order_items_df.groupby(by=\"seller_id\").product_id.count().reset_index().sort_values(by=\"product_id\", ascending=False).head().rename(columns={\"product_id\": \"produk terjual\"})"
      ]
    },
    {
      "cell_type": "code",
      "execution_count": 109,
      "metadata": {
        "colab": {
          "base_uri": "https://localhost:8080/",
          "height": 206
        },
        "id": "JF0PvrXCs4WA",
        "outputId": "0d595be9-8354-4a5a-a6fc-885ebef83267"
      },
      "outputs": [
        {
          "data": {
            "text/html": [
              "<div>\n",
              "<style scoped>\n",
              "    .dataframe tbody tr th:only-of-type {\n",
              "        vertical-align: middle;\n",
              "    }\n",
              "\n",
              "    .dataframe tbody tr th {\n",
              "        vertical-align: top;\n",
              "    }\n",
              "\n",
              "    .dataframe thead th {\n",
              "        text-align: right;\n",
              "    }\n",
              "</style>\n",
              "<table border=\"1\" class=\"dataframe\">\n",
              "  <thead>\n",
              "    <tr style=\"text-align: right;\">\n",
              "      <th></th>\n",
              "      <th>seller_id</th>\n",
              "      <th>pendapatan kotor</th>\n",
              "    </tr>\n",
              "  </thead>\n",
              "  <tbody>\n",
              "    <tr>\n",
              "      <th>857</th>\n",
              "      <td>4869f7a5dfa277a7dca6462dcf3b52b2</td>\n",
              "      <td>249736</td>\n",
              "    </tr>\n",
              "    <tr>\n",
              "      <th>1535</th>\n",
              "      <td>7c67e1448b00f6e969d365cea6b010ab</td>\n",
              "      <td>239620</td>\n",
              "    </tr>\n",
              "    <tr>\n",
              "      <th>1013</th>\n",
              "      <td>53243585a1d6dc2643021fd1853d8905</td>\n",
              "      <td>235873</td>\n",
              "    </tr>\n",
              "    <tr>\n",
              "      <th>881</th>\n",
              "      <td>4a3ca9315b744ce9f8e9374361493884</td>\n",
              "      <td>235655</td>\n",
              "    </tr>\n",
              "    <tr>\n",
              "      <th>3024</th>\n",
              "      <td>fa1c13f2614d7b5c4749cbc52fecda94</td>\n",
              "      <td>204123</td>\n",
              "    </tr>\n",
              "  </tbody>\n",
              "</table>\n",
              "</div>"
            ],
            "text/plain": [
              "                             seller_id  pendapatan kotor\n",
              "857   4869f7a5dfa277a7dca6462dcf3b52b2            249736\n",
              "1535  7c67e1448b00f6e969d365cea6b010ab            239620\n",
              "1013  53243585a1d6dc2643021fd1853d8905            235873\n",
              "881   4a3ca9315b744ce9f8e9374361493884            235655\n",
              "3024  fa1c13f2614d7b5c4749cbc52fecda94            204123"
            ]
          },
          "execution_count": 109,
          "metadata": {},
          "output_type": "execute_result"
        }
      ],
      "source": [
        "sellers_order_items_df.groupby(by=\"seller_id\").total_price.sum().reset_index().sort_values(by=\"total_price\", ascending=False).head().rename(columns={\"total_price\": \"pendapatan kotor\"})"
      ]
    },
    {
      "cell_type": "markdown",
      "metadata": {
        "id": "Nsq7wgPxzhP2"
      },
      "source": [
        "**Insight**\n",
        "- Mengurutkan 5 seller/penjual yang paling laris\n",
        "- Mengurutkan 5 seller/penjual dengan pendapatan kotor terbanyak"
      ]
    },
    {
      "cell_type": "markdown",
      "metadata": {
        "id": "M7tGQ9NGW9N6"
      },
      "source": [
        "### Explore `orders_df`"
      ]
    },
    {
      "cell_type": "code",
      "execution_count": 110,
      "metadata": {
        "colab": {
          "base_uri": "https://localhost:8080/",
          "height": 443
        },
        "id": "ss7Mx1EJXDkN",
        "outputId": "2cbdd741-4f6d-47f2-f4c7-1bebca4a0f23"
      },
      "outputs": [
        {
          "data": {
            "text/html": [
              "<div>\n",
              "<style scoped>\n",
              "    .dataframe tbody tr th:only-of-type {\n",
              "        vertical-align: middle;\n",
              "    }\n",
              "\n",
              "    .dataframe tbody tr th {\n",
              "        vertical-align: top;\n",
              "    }\n",
              "\n",
              "    .dataframe thead th {\n",
              "        text-align: right;\n",
              "    }\n",
              "</style>\n",
              "<table border=\"1\" class=\"dataframe\">\n",
              "  <thead>\n",
              "    <tr style=\"text-align: right;\">\n",
              "      <th></th>\n",
              "      <th>order_id</th>\n",
              "      <th>customer_id</th>\n",
              "      <th>order_status</th>\n",
              "      <th>order_purchase_timestamp</th>\n",
              "      <th>order_approved_at</th>\n",
              "      <th>order_delivered_carrier_date</th>\n",
              "      <th>order_delivered_customer_date</th>\n",
              "      <th>order_estimated_delivery_date</th>\n",
              "    </tr>\n",
              "  </thead>\n",
              "  <tbody>\n",
              "    <tr>\n",
              "      <th>0</th>\n",
              "      <td>e481f51cbdc54678b7cc49136f2d6af7</td>\n",
              "      <td>9ef432eb6251297304e76186b10a928d</td>\n",
              "      <td>delivered</td>\n",
              "      <td>2017-10-02 10:56:33</td>\n",
              "      <td>2017-10-02 11:07:15</td>\n",
              "      <td>2017-10-04 19:55:00</td>\n",
              "      <td>2017-10-10 21:25:13</td>\n",
              "      <td>2017-10-18</td>\n",
              "    </tr>\n",
              "    <tr>\n",
              "      <th>1</th>\n",
              "      <td>53cdb2fc8bc7dce0b6741e2150273451</td>\n",
              "      <td>b0830fb4747a6c6d20dea0b8c802d7ef</td>\n",
              "      <td>delivered</td>\n",
              "      <td>2018-07-24 20:41:37</td>\n",
              "      <td>2018-07-26 03:24:27</td>\n",
              "      <td>2018-07-26 14:31:00</td>\n",
              "      <td>2018-08-07 15:27:45</td>\n",
              "      <td>2018-08-13</td>\n",
              "    </tr>\n",
              "    <tr>\n",
              "      <th>2</th>\n",
              "      <td>47770eb9100c2d0c44946d9cf07ec65d</td>\n",
              "      <td>41ce2a54c0b03bf3443c3d931a367089</td>\n",
              "      <td>delivered</td>\n",
              "      <td>2018-08-08 08:38:49</td>\n",
              "      <td>2018-08-08 08:55:23</td>\n",
              "      <td>2018-08-08 13:50:00</td>\n",
              "      <td>2018-08-17 18:06:29</td>\n",
              "      <td>2018-09-04</td>\n",
              "    </tr>\n",
              "    <tr>\n",
              "      <th>3</th>\n",
              "      <td>949d5b44dbf5de918fe9c16f97b45f8a</td>\n",
              "      <td>f88197465ea7920adcdbec7375364d82</td>\n",
              "      <td>delivered</td>\n",
              "      <td>2017-11-18 19:28:06</td>\n",
              "      <td>2017-11-18 19:45:59</td>\n",
              "      <td>2017-11-22 13:39:59</td>\n",
              "      <td>2017-12-02 00:28:42</td>\n",
              "      <td>2017-12-15</td>\n",
              "    </tr>\n",
              "    <tr>\n",
              "      <th>4</th>\n",
              "      <td>ad21c59c0840e6cb83a9ceb5573f8159</td>\n",
              "      <td>8ab97904e6daea8866dbdbc4fb7aad2c</td>\n",
              "      <td>delivered</td>\n",
              "      <td>2018-02-13 21:18:39</td>\n",
              "      <td>2018-02-13 22:20:29</td>\n",
              "      <td>2018-02-14 19:46:34</td>\n",
              "      <td>2018-02-16 18:17:02</td>\n",
              "      <td>2018-02-26</td>\n",
              "    </tr>\n",
              "    <tr>\n",
              "      <th>...</th>\n",
              "      <td>...</td>\n",
              "      <td>...</td>\n",
              "      <td>...</td>\n",
              "      <td>...</td>\n",
              "      <td>...</td>\n",
              "      <td>...</td>\n",
              "      <td>...</td>\n",
              "      <td>...</td>\n",
              "    </tr>\n",
              "    <tr>\n",
              "      <th>99436</th>\n",
              "      <td>9c5dedf39a927c1b2549525ed64a053c</td>\n",
              "      <td>39bd1228ee8140590ac3aca26f2dfe00</td>\n",
              "      <td>delivered</td>\n",
              "      <td>2017-03-09 09:54:05</td>\n",
              "      <td>2017-03-09 09:54:05</td>\n",
              "      <td>2017-03-10 11:18:03</td>\n",
              "      <td>2017-03-17 15:08:01</td>\n",
              "      <td>2017-03-28</td>\n",
              "    </tr>\n",
              "    <tr>\n",
              "      <th>99437</th>\n",
              "      <td>63943bddc261676b46f01ca7ac2f7bd8</td>\n",
              "      <td>1fca14ff2861355f6e5f14306ff977a7</td>\n",
              "      <td>delivered</td>\n",
              "      <td>2018-02-06 12:58:58</td>\n",
              "      <td>2018-02-06 13:10:37</td>\n",
              "      <td>2018-02-07 23:22:42</td>\n",
              "      <td>2018-02-28 17:37:56</td>\n",
              "      <td>2018-03-02</td>\n",
              "    </tr>\n",
              "    <tr>\n",
              "      <th>99438</th>\n",
              "      <td>83c1379a015df1e13d02aae0204711ab</td>\n",
              "      <td>1aa71eb042121263aafbe80c1b562c9c</td>\n",
              "      <td>delivered</td>\n",
              "      <td>2017-08-27 14:46:43</td>\n",
              "      <td>2017-08-27 15:04:16</td>\n",
              "      <td>2017-08-28 20:52:26</td>\n",
              "      <td>2017-09-21 11:24:17</td>\n",
              "      <td>2017-09-27</td>\n",
              "    </tr>\n",
              "    <tr>\n",
              "      <th>99439</th>\n",
              "      <td>11c177c8e97725db2631073c19f07b62</td>\n",
              "      <td>b331b74b18dc79bcdf6532d51e1637c1</td>\n",
              "      <td>delivered</td>\n",
              "      <td>2018-01-08 21:28:27</td>\n",
              "      <td>2018-01-08 21:36:21</td>\n",
              "      <td>2018-01-12 15:35:03</td>\n",
              "      <td>2018-01-25 23:32:54</td>\n",
              "      <td>2018-02-15</td>\n",
              "    </tr>\n",
              "    <tr>\n",
              "      <th>99440</th>\n",
              "      <td>66dea50a8b16d9b4dee7af250b4be1a5</td>\n",
              "      <td>edb027a75a1449115f6b43211ae02a24</td>\n",
              "      <td>delivered</td>\n",
              "      <td>2018-03-08 20:57:30</td>\n",
              "      <td>2018-03-09 11:20:28</td>\n",
              "      <td>2018-03-09 22:11:59</td>\n",
              "      <td>2018-03-16 13:08:30</td>\n",
              "      <td>2018-04-03</td>\n",
              "    </tr>\n",
              "  </tbody>\n",
              "</table>\n",
              "<p>96461 rows × 8 columns</p>\n",
              "</div>"
            ],
            "text/plain": [
              "                               order_id                       customer_id  \\\n",
              "0      e481f51cbdc54678b7cc49136f2d6af7  9ef432eb6251297304e76186b10a928d   \n",
              "1      53cdb2fc8bc7dce0b6741e2150273451  b0830fb4747a6c6d20dea0b8c802d7ef   \n",
              "2      47770eb9100c2d0c44946d9cf07ec65d  41ce2a54c0b03bf3443c3d931a367089   \n",
              "3      949d5b44dbf5de918fe9c16f97b45f8a  f88197465ea7920adcdbec7375364d82   \n",
              "4      ad21c59c0840e6cb83a9ceb5573f8159  8ab97904e6daea8866dbdbc4fb7aad2c   \n",
              "...                                 ...                               ...   \n",
              "99436  9c5dedf39a927c1b2549525ed64a053c  39bd1228ee8140590ac3aca26f2dfe00   \n",
              "99437  63943bddc261676b46f01ca7ac2f7bd8  1fca14ff2861355f6e5f14306ff977a7   \n",
              "99438  83c1379a015df1e13d02aae0204711ab  1aa71eb042121263aafbe80c1b562c9c   \n",
              "99439  11c177c8e97725db2631073c19f07b62  b331b74b18dc79bcdf6532d51e1637c1   \n",
              "99440  66dea50a8b16d9b4dee7af250b4be1a5  edb027a75a1449115f6b43211ae02a24   \n",
              "\n",
              "      order_status order_purchase_timestamp   order_approved_at  \\\n",
              "0        delivered      2017-10-02 10:56:33 2017-10-02 11:07:15   \n",
              "1        delivered      2018-07-24 20:41:37 2018-07-26 03:24:27   \n",
              "2        delivered      2018-08-08 08:38:49 2018-08-08 08:55:23   \n",
              "3        delivered      2017-11-18 19:28:06 2017-11-18 19:45:59   \n",
              "4        delivered      2018-02-13 21:18:39 2018-02-13 22:20:29   \n",
              "...            ...                      ...                 ...   \n",
              "99436    delivered      2017-03-09 09:54:05 2017-03-09 09:54:05   \n",
              "99437    delivered      2018-02-06 12:58:58 2018-02-06 13:10:37   \n",
              "99438    delivered      2017-08-27 14:46:43 2017-08-27 15:04:16   \n",
              "99439    delivered      2018-01-08 21:28:27 2018-01-08 21:36:21   \n",
              "99440    delivered      2018-03-08 20:57:30 2018-03-09 11:20:28   \n",
              "\n",
              "      order_delivered_carrier_date order_delivered_customer_date  \\\n",
              "0              2017-10-04 19:55:00           2017-10-10 21:25:13   \n",
              "1              2018-07-26 14:31:00           2018-08-07 15:27:45   \n",
              "2              2018-08-08 13:50:00           2018-08-17 18:06:29   \n",
              "3              2017-11-22 13:39:59           2017-12-02 00:28:42   \n",
              "4              2018-02-14 19:46:34           2018-02-16 18:17:02   \n",
              "...                            ...                           ...   \n",
              "99436          2017-03-10 11:18:03           2017-03-17 15:08:01   \n",
              "99437          2018-02-07 23:22:42           2018-02-28 17:37:56   \n",
              "99438          2017-08-28 20:52:26           2017-09-21 11:24:17   \n",
              "99439          2018-01-12 15:35:03           2018-01-25 23:32:54   \n",
              "99440          2018-03-09 22:11:59           2018-03-16 13:08:30   \n",
              "\n",
              "      order_estimated_delivery_date  \n",
              "0                        2017-10-18  \n",
              "1                        2018-08-13  \n",
              "2                        2018-09-04  \n",
              "3                        2017-12-15  \n",
              "4                        2018-02-26  \n",
              "...                             ...  \n",
              "99436                    2017-03-28  \n",
              "99437                    2018-03-02  \n",
              "99438                    2017-09-27  \n",
              "99439                    2018-02-15  \n",
              "99440                    2018-04-03  \n",
              "\n",
              "[96461 rows x 8 columns]"
            ]
          },
          "execution_count": 110,
          "metadata": {},
          "output_type": "execute_result"
        }
      ],
      "source": [
        "orders_df"
      ]
    },
    {
      "cell_type": "code",
      "execution_count": 111,
      "metadata": {
        "colab": {
          "base_uri": "https://localhost:8080/"
        },
        "id": "UaX_K0hEnmFQ",
        "outputId": "1aacc7d5-6b12-429f-c9c8-b39700c2dbf9"
      },
      "outputs": [
        {
          "name": "stdout",
          "output_type": "stream",
          "text": [
            "<class 'pandas.core.frame.DataFrame'>\n",
            "Index: 96461 entries, 0 to 99440\n",
            "Data columns (total 8 columns):\n",
            " #   Column                         Non-Null Count  Dtype         \n",
            "---  ------                         --------------  -----         \n",
            " 0   order_id                       96461 non-null  object        \n",
            " 1   customer_id                    96461 non-null  object        \n",
            " 2   order_status                   96461 non-null  object        \n",
            " 3   order_purchase_timestamp       96461 non-null  datetime64[ns]\n",
            " 4   order_approved_at              96461 non-null  datetime64[ns]\n",
            " 5   order_delivered_carrier_date   96461 non-null  datetime64[ns]\n",
            " 6   order_delivered_customer_date  96461 non-null  datetime64[ns]\n",
            " 7   order_estimated_delivery_date  96461 non-null  datetime64[ns]\n",
            "dtypes: datetime64[ns](5), object(3)\n",
            "memory usage: 6.6+ MB\n"
          ]
        }
      ],
      "source": [
        "orders_df.info()"
      ]
    },
    {
      "cell_type": "code",
      "execution_count": 112,
      "metadata": {
        "colab": {
          "base_uri": "https://localhost:8080/"
        },
        "id": "8jMF4d9qhg7W",
        "outputId": "e063358f-3514-4aad-9b8c-3b672e7236be"
      },
      "outputs": [
        {
          "data": {
            "text/plain": [
              "True"
            ]
          },
          "execution_count": 112,
          "metadata": {},
          "output_type": "execute_result"
        }
      ],
      "source": [
        "orders_df.order_id.is_unique"
      ]
    },
    {
      "cell_type": "code",
      "execution_count": 113,
      "metadata": {
        "colab": {
          "base_uri": "https://localhost:8080/",
          "height": 112
        },
        "id": "bS3n8mxvXND6",
        "outputId": "866934fe-463d-46c4-c7bc-4855b92a2d02"
      },
      "outputs": [
        {
          "data": {
            "text/html": [
              "<div>\n",
              "<style scoped>\n",
              "    .dataframe tbody tr th:only-of-type {\n",
              "        vertical-align: middle;\n",
              "    }\n",
              "\n",
              "    .dataframe tbody tr th {\n",
              "        vertical-align: top;\n",
              "    }\n",
              "\n",
              "    .dataframe thead th {\n",
              "        text-align: right;\n",
              "    }\n",
              "</style>\n",
              "<table border=\"1\" class=\"dataframe\">\n",
              "  <thead>\n",
              "    <tr style=\"text-align: right;\">\n",
              "      <th></th>\n",
              "      <th>order_status</th>\n",
              "      <th>jumlah pesanan</th>\n",
              "    </tr>\n",
              "  </thead>\n",
              "  <tbody>\n",
              "    <tr>\n",
              "      <th>0</th>\n",
              "      <td>canceled</td>\n",
              "      <td>6</td>\n",
              "    </tr>\n",
              "    <tr>\n",
              "      <th>1</th>\n",
              "      <td>delivered</td>\n",
              "      <td>96455</td>\n",
              "    </tr>\n",
              "  </tbody>\n",
              "</table>\n",
              "</div>"
            ],
            "text/plain": [
              "  order_status  jumlah pesanan\n",
              "0     canceled               6\n",
              "1    delivered           96455"
            ]
          },
          "execution_count": 113,
          "metadata": {},
          "output_type": "execute_result"
        }
      ],
      "source": [
        "orders_df.groupby(by=\"order_status\").order_id.count().reset_index().rename(columns={\"order_id\": \"jumlah pesanan\"})"
      ]
    },
    {
      "cell_type": "code",
      "execution_count": 114,
      "metadata": {
        "id": "qB8imKy3Zhv3"
      },
      "outputs": [],
      "source": [
        "orders_df[\"order_delivered_customer_date\"] = orders_df[\"order_delivered_customer_date\"].dt.date"
      ]
    },
    {
      "cell_type": "code",
      "execution_count": 115,
      "metadata": {
        "id": "nfURE5NYY0Oc"
      },
      "outputs": [],
      "source": [
        "index = orders_df[orders_df.order_delivered_customer_date > orders_df.order_estimated_delivery_date]\n",
        "index = np.array([index[\"order_id\"]])"
      ]
    },
    {
      "cell_type": "code",
      "execution_count": 116,
      "metadata": {
        "colab": {
          "base_uri": "https://localhost:8080/",
          "height": 443
        },
        "id": "yb4UbkhHavff",
        "outputId": "5136a337-8e99-43da-8f6a-7f6bdd7d590c"
      },
      "outputs": [
        {
          "data": {
            "text/html": [
              "<div>\n",
              "<style scoped>\n",
              "    .dataframe tbody tr th:only-of-type {\n",
              "        vertical-align: middle;\n",
              "    }\n",
              "\n",
              "    .dataframe tbody tr th {\n",
              "        vertical-align: top;\n",
              "    }\n",
              "\n",
              "    .dataframe thead th {\n",
              "        text-align: right;\n",
              "    }\n",
              "</style>\n",
              "<table border=\"1\" class=\"dataframe\">\n",
              "  <thead>\n",
              "    <tr style=\"text-align: right;\">\n",
              "      <th></th>\n",
              "      <th>order_id</th>\n",
              "      <th>customer_id</th>\n",
              "      <th>order_status</th>\n",
              "      <th>order_purchase_timestamp</th>\n",
              "      <th>order_approved_at</th>\n",
              "      <th>order_delivered_carrier_date</th>\n",
              "      <th>order_delivered_customer_date</th>\n",
              "      <th>order_estimated_delivery_date</th>\n",
              "      <th>ketepatan_waktu</th>\n",
              "    </tr>\n",
              "  </thead>\n",
              "  <tbody>\n",
              "    <tr>\n",
              "      <th>0</th>\n",
              "      <td>e481f51cbdc54678b7cc49136f2d6af7</td>\n",
              "      <td>9ef432eb6251297304e76186b10a928d</td>\n",
              "      <td>delivered</td>\n",
              "      <td>2017-10-02 10:56:33</td>\n",
              "      <td>2017-10-02 11:07:15</td>\n",
              "      <td>2017-10-04 19:55:00</td>\n",
              "      <td>2017-10-10</td>\n",
              "      <td>2017-10-18</td>\n",
              "      <td>Tepat waktu</td>\n",
              "    </tr>\n",
              "    <tr>\n",
              "      <th>1</th>\n",
              "      <td>53cdb2fc8bc7dce0b6741e2150273451</td>\n",
              "      <td>b0830fb4747a6c6d20dea0b8c802d7ef</td>\n",
              "      <td>delivered</td>\n",
              "      <td>2018-07-24 20:41:37</td>\n",
              "      <td>2018-07-26 03:24:27</td>\n",
              "      <td>2018-07-26 14:31:00</td>\n",
              "      <td>2018-08-07</td>\n",
              "      <td>2018-08-13</td>\n",
              "      <td>Tepat waktu</td>\n",
              "    </tr>\n",
              "    <tr>\n",
              "      <th>2</th>\n",
              "      <td>47770eb9100c2d0c44946d9cf07ec65d</td>\n",
              "      <td>41ce2a54c0b03bf3443c3d931a367089</td>\n",
              "      <td>delivered</td>\n",
              "      <td>2018-08-08 08:38:49</td>\n",
              "      <td>2018-08-08 08:55:23</td>\n",
              "      <td>2018-08-08 13:50:00</td>\n",
              "      <td>2018-08-17</td>\n",
              "      <td>2018-09-04</td>\n",
              "      <td>Tepat waktu</td>\n",
              "    </tr>\n",
              "    <tr>\n",
              "      <th>3</th>\n",
              "      <td>949d5b44dbf5de918fe9c16f97b45f8a</td>\n",
              "      <td>f88197465ea7920adcdbec7375364d82</td>\n",
              "      <td>delivered</td>\n",
              "      <td>2017-11-18 19:28:06</td>\n",
              "      <td>2017-11-18 19:45:59</td>\n",
              "      <td>2017-11-22 13:39:59</td>\n",
              "      <td>2017-12-02</td>\n",
              "      <td>2017-12-15</td>\n",
              "      <td>Tepat waktu</td>\n",
              "    </tr>\n",
              "    <tr>\n",
              "      <th>4</th>\n",
              "      <td>ad21c59c0840e6cb83a9ceb5573f8159</td>\n",
              "      <td>8ab97904e6daea8866dbdbc4fb7aad2c</td>\n",
              "      <td>delivered</td>\n",
              "      <td>2018-02-13 21:18:39</td>\n",
              "      <td>2018-02-13 22:20:29</td>\n",
              "      <td>2018-02-14 19:46:34</td>\n",
              "      <td>2018-02-16</td>\n",
              "      <td>2018-02-26</td>\n",
              "      <td>Tepat waktu</td>\n",
              "    </tr>\n",
              "    <tr>\n",
              "      <th>...</th>\n",
              "      <td>...</td>\n",
              "      <td>...</td>\n",
              "      <td>...</td>\n",
              "      <td>...</td>\n",
              "      <td>...</td>\n",
              "      <td>...</td>\n",
              "      <td>...</td>\n",
              "      <td>...</td>\n",
              "      <td>...</td>\n",
              "    </tr>\n",
              "    <tr>\n",
              "      <th>99436</th>\n",
              "      <td>9c5dedf39a927c1b2549525ed64a053c</td>\n",
              "      <td>39bd1228ee8140590ac3aca26f2dfe00</td>\n",
              "      <td>delivered</td>\n",
              "      <td>2017-03-09 09:54:05</td>\n",
              "      <td>2017-03-09 09:54:05</td>\n",
              "      <td>2017-03-10 11:18:03</td>\n",
              "      <td>2017-03-17</td>\n",
              "      <td>2017-03-28</td>\n",
              "      <td>Tepat waktu</td>\n",
              "    </tr>\n",
              "    <tr>\n",
              "      <th>99437</th>\n",
              "      <td>63943bddc261676b46f01ca7ac2f7bd8</td>\n",
              "      <td>1fca14ff2861355f6e5f14306ff977a7</td>\n",
              "      <td>delivered</td>\n",
              "      <td>2018-02-06 12:58:58</td>\n",
              "      <td>2018-02-06 13:10:37</td>\n",
              "      <td>2018-02-07 23:22:42</td>\n",
              "      <td>2018-02-28</td>\n",
              "      <td>2018-03-02</td>\n",
              "      <td>Tepat waktu</td>\n",
              "    </tr>\n",
              "    <tr>\n",
              "      <th>99438</th>\n",
              "      <td>83c1379a015df1e13d02aae0204711ab</td>\n",
              "      <td>1aa71eb042121263aafbe80c1b562c9c</td>\n",
              "      <td>delivered</td>\n",
              "      <td>2017-08-27 14:46:43</td>\n",
              "      <td>2017-08-27 15:04:16</td>\n",
              "      <td>2017-08-28 20:52:26</td>\n",
              "      <td>2017-09-21</td>\n",
              "      <td>2017-09-27</td>\n",
              "      <td>Tepat waktu</td>\n",
              "    </tr>\n",
              "    <tr>\n",
              "      <th>99439</th>\n",
              "      <td>11c177c8e97725db2631073c19f07b62</td>\n",
              "      <td>b331b74b18dc79bcdf6532d51e1637c1</td>\n",
              "      <td>delivered</td>\n",
              "      <td>2018-01-08 21:28:27</td>\n",
              "      <td>2018-01-08 21:36:21</td>\n",
              "      <td>2018-01-12 15:35:03</td>\n",
              "      <td>2018-01-25</td>\n",
              "      <td>2018-02-15</td>\n",
              "      <td>Tepat waktu</td>\n",
              "    </tr>\n",
              "    <tr>\n",
              "      <th>99440</th>\n",
              "      <td>66dea50a8b16d9b4dee7af250b4be1a5</td>\n",
              "      <td>edb027a75a1449115f6b43211ae02a24</td>\n",
              "      <td>delivered</td>\n",
              "      <td>2018-03-08 20:57:30</td>\n",
              "      <td>2018-03-09 11:20:28</td>\n",
              "      <td>2018-03-09 22:11:59</td>\n",
              "      <td>2018-03-16</td>\n",
              "      <td>2018-04-03</td>\n",
              "      <td>Tepat waktu</td>\n",
              "    </tr>\n",
              "  </tbody>\n",
              "</table>\n",
              "<p>96461 rows × 9 columns</p>\n",
              "</div>"
            ],
            "text/plain": [
              "                               order_id                       customer_id  \\\n",
              "0      e481f51cbdc54678b7cc49136f2d6af7  9ef432eb6251297304e76186b10a928d   \n",
              "1      53cdb2fc8bc7dce0b6741e2150273451  b0830fb4747a6c6d20dea0b8c802d7ef   \n",
              "2      47770eb9100c2d0c44946d9cf07ec65d  41ce2a54c0b03bf3443c3d931a367089   \n",
              "3      949d5b44dbf5de918fe9c16f97b45f8a  f88197465ea7920adcdbec7375364d82   \n",
              "4      ad21c59c0840e6cb83a9ceb5573f8159  8ab97904e6daea8866dbdbc4fb7aad2c   \n",
              "...                                 ...                               ...   \n",
              "99436  9c5dedf39a927c1b2549525ed64a053c  39bd1228ee8140590ac3aca26f2dfe00   \n",
              "99437  63943bddc261676b46f01ca7ac2f7bd8  1fca14ff2861355f6e5f14306ff977a7   \n",
              "99438  83c1379a015df1e13d02aae0204711ab  1aa71eb042121263aafbe80c1b562c9c   \n",
              "99439  11c177c8e97725db2631073c19f07b62  b331b74b18dc79bcdf6532d51e1637c1   \n",
              "99440  66dea50a8b16d9b4dee7af250b4be1a5  edb027a75a1449115f6b43211ae02a24   \n",
              "\n",
              "      order_status order_purchase_timestamp   order_approved_at  \\\n",
              "0        delivered      2017-10-02 10:56:33 2017-10-02 11:07:15   \n",
              "1        delivered      2018-07-24 20:41:37 2018-07-26 03:24:27   \n",
              "2        delivered      2018-08-08 08:38:49 2018-08-08 08:55:23   \n",
              "3        delivered      2017-11-18 19:28:06 2017-11-18 19:45:59   \n",
              "4        delivered      2018-02-13 21:18:39 2018-02-13 22:20:29   \n",
              "...            ...                      ...                 ...   \n",
              "99436    delivered      2017-03-09 09:54:05 2017-03-09 09:54:05   \n",
              "99437    delivered      2018-02-06 12:58:58 2018-02-06 13:10:37   \n",
              "99438    delivered      2017-08-27 14:46:43 2017-08-27 15:04:16   \n",
              "99439    delivered      2018-01-08 21:28:27 2018-01-08 21:36:21   \n",
              "99440    delivered      2018-03-08 20:57:30 2018-03-09 11:20:28   \n",
              "\n",
              "      order_delivered_carrier_date order_delivered_customer_date  \\\n",
              "0              2017-10-04 19:55:00                    2017-10-10   \n",
              "1              2018-07-26 14:31:00                    2018-08-07   \n",
              "2              2018-08-08 13:50:00                    2018-08-17   \n",
              "3              2017-11-22 13:39:59                    2017-12-02   \n",
              "4              2018-02-14 19:46:34                    2018-02-16   \n",
              "...                            ...                           ...   \n",
              "99436          2017-03-10 11:18:03                    2017-03-17   \n",
              "99437          2018-02-07 23:22:42                    2018-02-28   \n",
              "99438          2017-08-28 20:52:26                    2017-09-21   \n",
              "99439          2018-01-12 15:35:03                    2018-01-25   \n",
              "99440          2018-03-09 22:11:59                    2018-03-16   \n",
              "\n",
              "      order_estimated_delivery_date ketepatan_waktu  \n",
              "0                        2017-10-18     Tepat waktu  \n",
              "1                        2018-08-13     Tepat waktu  \n",
              "2                        2018-09-04     Tepat waktu  \n",
              "3                        2017-12-15     Tepat waktu  \n",
              "4                        2018-02-26     Tepat waktu  \n",
              "...                             ...             ...  \n",
              "99436                    2017-03-28     Tepat waktu  \n",
              "99437                    2018-03-02     Tepat waktu  \n",
              "99438                    2017-09-27     Tepat waktu  \n",
              "99439                    2018-02-15     Tepat waktu  \n",
              "99440                    2018-04-03     Tepat waktu  \n",
              "\n",
              "[96461 rows x 9 columns]"
            ]
          },
          "execution_count": 116,
          "metadata": {},
          "output_type": "execute_result"
        }
      ],
      "source": [
        "orders_df[\"ketepatan_waktu\"] = orders_df[\"order_id\"].apply(lambda x: \"Terlambat\" if x in index else \"Tepat waktu\")\n",
        "orders_df"
      ]
    },
    {
      "cell_type": "code",
      "execution_count": 117,
      "metadata": {
        "colab": {
          "base_uri": "https://localhost:8080/",
          "height": 125
        },
        "id": "G_C2uytjhftf",
        "outputId": "6fa0be81-ce67-4e8d-caf9-c43915ba1795"
      },
      "outputs": [
        {
          "data": {
            "text/html": [
              "<div>\n",
              "<style scoped>\n",
              "    .dataframe tbody tr th:only-of-type {\n",
              "        vertical-align: middle;\n",
              "    }\n",
              "\n",
              "    .dataframe tbody tr th {\n",
              "        vertical-align: top;\n",
              "    }\n",
              "\n",
              "    .dataframe thead th {\n",
              "        text-align: right;\n",
              "    }\n",
              "</style>\n",
              "<table border=\"1\" class=\"dataframe\">\n",
              "  <thead>\n",
              "    <tr style=\"text-align: right;\">\n",
              "      <th></th>\n",
              "      <th>ketepatan_waktu</th>\n",
              "      <th>jumlah_pesanan</th>\n",
              "    </tr>\n",
              "  </thead>\n",
              "  <tbody>\n",
              "    <tr>\n",
              "      <th>0</th>\n",
              "      <td>Tepat waktu</td>\n",
              "      <td>89927</td>\n",
              "    </tr>\n",
              "    <tr>\n",
              "      <th>1</th>\n",
              "      <td>Terlambat</td>\n",
              "      <td>6534</td>\n",
              "    </tr>\n",
              "  </tbody>\n",
              "</table>\n",
              "</div>"
            ],
            "text/plain": [
              "  ketepatan_waktu  jumlah_pesanan\n",
              "0     Tepat waktu           89927\n",
              "1       Terlambat            6534"
            ]
          },
          "execution_count": 117,
          "metadata": {},
          "output_type": "execute_result"
        }
      ],
      "source": [
        "order_plot = orders_df.groupby(by=\"ketepatan_waktu\").order_id.count().reset_index().rename(columns={\"order_id\": \"jumlah pesanan\"})\n",
        "order_plot.rename(columns={\"jumlah pesanan\": \"jumlah_pesanan\"}, inplace=True)\n",
        "order_plot"
      ]
    },
    {
      "cell_type": "code",
      "execution_count": 118,
      "metadata": {
        "id": "w5bUHCrIjvas"
      },
      "outputs": [],
      "source": [
        "orders_df[\"order_purchase_timestamp\"] = orders_df[\"order_purchase_timestamp\"].dt.date"
      ]
    },
    {
      "cell_type": "code",
      "execution_count": 119,
      "metadata": {
        "id": "UUrgZorpkcta"
      },
      "outputs": [],
      "source": [
        "orders_df[\"waktu_pengantaran(hari)\"] = orders_df[\"order_delivered_customer_date\"] - orders_df[\"order_purchase_timestamp\"]\n",
        "orders_df[\"waktu_pengantaran(hari)\"] = orders_df[\"waktu_pengantaran(hari)\"].apply(lambda x: x.days)"
      ]
    },
    {
      "cell_type": "code",
      "execution_count": 120,
      "metadata": {
        "colab": {
          "base_uri": "https://localhost:8080/",
          "height": 443
        },
        "id": "BiuZadGw9VoJ",
        "outputId": "6c2c6456-0c07-49e4-eb6c-85549f7028e5"
      },
      "outputs": [
        {
          "data": {
            "text/html": [
              "<div>\n",
              "<style scoped>\n",
              "    .dataframe tbody tr th:only-of-type {\n",
              "        vertical-align: middle;\n",
              "    }\n",
              "\n",
              "    .dataframe tbody tr th {\n",
              "        vertical-align: top;\n",
              "    }\n",
              "\n",
              "    .dataframe thead th {\n",
              "        text-align: right;\n",
              "    }\n",
              "</style>\n",
              "<table border=\"1\" class=\"dataframe\">\n",
              "  <thead>\n",
              "    <tr style=\"text-align: right;\">\n",
              "      <th></th>\n",
              "      <th>order_id</th>\n",
              "      <th>customer_id</th>\n",
              "      <th>order_status</th>\n",
              "      <th>order_purchase_timestamp</th>\n",
              "      <th>order_approved_at</th>\n",
              "      <th>order_delivered_carrier_date</th>\n",
              "      <th>order_delivered_customer_date</th>\n",
              "      <th>order_estimated_delivery_date</th>\n",
              "      <th>ketepatan_waktu</th>\n",
              "      <th>waktu_pengantaran(hari)</th>\n",
              "    </tr>\n",
              "  </thead>\n",
              "  <tbody>\n",
              "    <tr>\n",
              "      <th>0</th>\n",
              "      <td>e481f51cbdc54678b7cc49136f2d6af7</td>\n",
              "      <td>9ef432eb6251297304e76186b10a928d</td>\n",
              "      <td>delivered</td>\n",
              "      <td>2017-10-02</td>\n",
              "      <td>2017-10-02 11:07:15</td>\n",
              "      <td>2017-10-04 19:55:00</td>\n",
              "      <td>2017-10-10</td>\n",
              "      <td>2017-10-18</td>\n",
              "      <td>Tepat waktu</td>\n",
              "      <td>8</td>\n",
              "    </tr>\n",
              "    <tr>\n",
              "      <th>1</th>\n",
              "      <td>53cdb2fc8bc7dce0b6741e2150273451</td>\n",
              "      <td>b0830fb4747a6c6d20dea0b8c802d7ef</td>\n",
              "      <td>delivered</td>\n",
              "      <td>2018-07-24</td>\n",
              "      <td>2018-07-26 03:24:27</td>\n",
              "      <td>2018-07-26 14:31:00</td>\n",
              "      <td>2018-08-07</td>\n",
              "      <td>2018-08-13</td>\n",
              "      <td>Tepat waktu</td>\n",
              "      <td>14</td>\n",
              "    </tr>\n",
              "    <tr>\n",
              "      <th>2</th>\n",
              "      <td>47770eb9100c2d0c44946d9cf07ec65d</td>\n",
              "      <td>41ce2a54c0b03bf3443c3d931a367089</td>\n",
              "      <td>delivered</td>\n",
              "      <td>2018-08-08</td>\n",
              "      <td>2018-08-08 08:55:23</td>\n",
              "      <td>2018-08-08 13:50:00</td>\n",
              "      <td>2018-08-17</td>\n",
              "      <td>2018-09-04</td>\n",
              "      <td>Tepat waktu</td>\n",
              "      <td>9</td>\n",
              "    </tr>\n",
              "    <tr>\n",
              "      <th>3</th>\n",
              "      <td>949d5b44dbf5de918fe9c16f97b45f8a</td>\n",
              "      <td>f88197465ea7920adcdbec7375364d82</td>\n",
              "      <td>delivered</td>\n",
              "      <td>2017-11-18</td>\n",
              "      <td>2017-11-18 19:45:59</td>\n",
              "      <td>2017-11-22 13:39:59</td>\n",
              "      <td>2017-12-02</td>\n",
              "      <td>2017-12-15</td>\n",
              "      <td>Tepat waktu</td>\n",
              "      <td>14</td>\n",
              "    </tr>\n",
              "    <tr>\n",
              "      <th>4</th>\n",
              "      <td>ad21c59c0840e6cb83a9ceb5573f8159</td>\n",
              "      <td>8ab97904e6daea8866dbdbc4fb7aad2c</td>\n",
              "      <td>delivered</td>\n",
              "      <td>2018-02-13</td>\n",
              "      <td>2018-02-13 22:20:29</td>\n",
              "      <td>2018-02-14 19:46:34</td>\n",
              "      <td>2018-02-16</td>\n",
              "      <td>2018-02-26</td>\n",
              "      <td>Tepat waktu</td>\n",
              "      <td>3</td>\n",
              "    </tr>\n",
              "    <tr>\n",
              "      <th>...</th>\n",
              "      <td>...</td>\n",
              "      <td>...</td>\n",
              "      <td>...</td>\n",
              "      <td>...</td>\n",
              "      <td>...</td>\n",
              "      <td>...</td>\n",
              "      <td>...</td>\n",
              "      <td>...</td>\n",
              "      <td>...</td>\n",
              "      <td>...</td>\n",
              "    </tr>\n",
              "    <tr>\n",
              "      <th>99436</th>\n",
              "      <td>9c5dedf39a927c1b2549525ed64a053c</td>\n",
              "      <td>39bd1228ee8140590ac3aca26f2dfe00</td>\n",
              "      <td>delivered</td>\n",
              "      <td>2017-03-09</td>\n",
              "      <td>2017-03-09 09:54:05</td>\n",
              "      <td>2017-03-10 11:18:03</td>\n",
              "      <td>2017-03-17</td>\n",
              "      <td>2017-03-28</td>\n",
              "      <td>Tepat waktu</td>\n",
              "      <td>8</td>\n",
              "    </tr>\n",
              "    <tr>\n",
              "      <th>99437</th>\n",
              "      <td>63943bddc261676b46f01ca7ac2f7bd8</td>\n",
              "      <td>1fca14ff2861355f6e5f14306ff977a7</td>\n",
              "      <td>delivered</td>\n",
              "      <td>2018-02-06</td>\n",
              "      <td>2018-02-06 13:10:37</td>\n",
              "      <td>2018-02-07 23:22:42</td>\n",
              "      <td>2018-02-28</td>\n",
              "      <td>2018-03-02</td>\n",
              "      <td>Tepat waktu</td>\n",
              "      <td>22</td>\n",
              "    </tr>\n",
              "    <tr>\n",
              "      <th>99438</th>\n",
              "      <td>83c1379a015df1e13d02aae0204711ab</td>\n",
              "      <td>1aa71eb042121263aafbe80c1b562c9c</td>\n",
              "      <td>delivered</td>\n",
              "      <td>2017-08-27</td>\n",
              "      <td>2017-08-27 15:04:16</td>\n",
              "      <td>2017-08-28 20:52:26</td>\n",
              "      <td>2017-09-21</td>\n",
              "      <td>2017-09-27</td>\n",
              "      <td>Tepat waktu</td>\n",
              "      <td>25</td>\n",
              "    </tr>\n",
              "    <tr>\n",
              "      <th>99439</th>\n",
              "      <td>11c177c8e97725db2631073c19f07b62</td>\n",
              "      <td>b331b74b18dc79bcdf6532d51e1637c1</td>\n",
              "      <td>delivered</td>\n",
              "      <td>2018-01-08</td>\n",
              "      <td>2018-01-08 21:36:21</td>\n",
              "      <td>2018-01-12 15:35:03</td>\n",
              "      <td>2018-01-25</td>\n",
              "      <td>2018-02-15</td>\n",
              "      <td>Tepat waktu</td>\n",
              "      <td>17</td>\n",
              "    </tr>\n",
              "    <tr>\n",
              "      <th>99440</th>\n",
              "      <td>66dea50a8b16d9b4dee7af250b4be1a5</td>\n",
              "      <td>edb027a75a1449115f6b43211ae02a24</td>\n",
              "      <td>delivered</td>\n",
              "      <td>2018-03-08</td>\n",
              "      <td>2018-03-09 11:20:28</td>\n",
              "      <td>2018-03-09 22:11:59</td>\n",
              "      <td>2018-03-16</td>\n",
              "      <td>2018-04-03</td>\n",
              "      <td>Tepat waktu</td>\n",
              "      <td>8</td>\n",
              "    </tr>\n",
              "  </tbody>\n",
              "</table>\n",
              "<p>96461 rows × 10 columns</p>\n",
              "</div>"
            ],
            "text/plain": [
              "                               order_id                       customer_id  \\\n",
              "0      e481f51cbdc54678b7cc49136f2d6af7  9ef432eb6251297304e76186b10a928d   \n",
              "1      53cdb2fc8bc7dce0b6741e2150273451  b0830fb4747a6c6d20dea0b8c802d7ef   \n",
              "2      47770eb9100c2d0c44946d9cf07ec65d  41ce2a54c0b03bf3443c3d931a367089   \n",
              "3      949d5b44dbf5de918fe9c16f97b45f8a  f88197465ea7920adcdbec7375364d82   \n",
              "4      ad21c59c0840e6cb83a9ceb5573f8159  8ab97904e6daea8866dbdbc4fb7aad2c   \n",
              "...                                 ...                               ...   \n",
              "99436  9c5dedf39a927c1b2549525ed64a053c  39bd1228ee8140590ac3aca26f2dfe00   \n",
              "99437  63943bddc261676b46f01ca7ac2f7bd8  1fca14ff2861355f6e5f14306ff977a7   \n",
              "99438  83c1379a015df1e13d02aae0204711ab  1aa71eb042121263aafbe80c1b562c9c   \n",
              "99439  11c177c8e97725db2631073c19f07b62  b331b74b18dc79bcdf6532d51e1637c1   \n",
              "99440  66dea50a8b16d9b4dee7af250b4be1a5  edb027a75a1449115f6b43211ae02a24   \n",
              "\n",
              "      order_status order_purchase_timestamp   order_approved_at  \\\n",
              "0        delivered               2017-10-02 2017-10-02 11:07:15   \n",
              "1        delivered               2018-07-24 2018-07-26 03:24:27   \n",
              "2        delivered               2018-08-08 2018-08-08 08:55:23   \n",
              "3        delivered               2017-11-18 2017-11-18 19:45:59   \n",
              "4        delivered               2018-02-13 2018-02-13 22:20:29   \n",
              "...            ...                      ...                 ...   \n",
              "99436    delivered               2017-03-09 2017-03-09 09:54:05   \n",
              "99437    delivered               2018-02-06 2018-02-06 13:10:37   \n",
              "99438    delivered               2017-08-27 2017-08-27 15:04:16   \n",
              "99439    delivered               2018-01-08 2018-01-08 21:36:21   \n",
              "99440    delivered               2018-03-08 2018-03-09 11:20:28   \n",
              "\n",
              "      order_delivered_carrier_date order_delivered_customer_date  \\\n",
              "0              2017-10-04 19:55:00                    2017-10-10   \n",
              "1              2018-07-26 14:31:00                    2018-08-07   \n",
              "2              2018-08-08 13:50:00                    2018-08-17   \n",
              "3              2017-11-22 13:39:59                    2017-12-02   \n",
              "4              2018-02-14 19:46:34                    2018-02-16   \n",
              "...                            ...                           ...   \n",
              "99436          2017-03-10 11:18:03                    2017-03-17   \n",
              "99437          2018-02-07 23:22:42                    2018-02-28   \n",
              "99438          2017-08-28 20:52:26                    2017-09-21   \n",
              "99439          2018-01-12 15:35:03                    2018-01-25   \n",
              "99440          2018-03-09 22:11:59                    2018-03-16   \n",
              "\n",
              "      order_estimated_delivery_date ketepatan_waktu  waktu_pengantaran(hari)  \n",
              "0                        2017-10-18     Tepat waktu                        8  \n",
              "1                        2018-08-13     Tepat waktu                       14  \n",
              "2                        2018-09-04     Tepat waktu                        9  \n",
              "3                        2017-12-15     Tepat waktu                       14  \n",
              "4                        2018-02-26     Tepat waktu                        3  \n",
              "...                             ...             ...                      ...  \n",
              "99436                    2017-03-28     Tepat waktu                        8  \n",
              "99437                    2018-03-02     Tepat waktu                       22  \n",
              "99438                    2017-09-27     Tepat waktu                       25  \n",
              "99439                    2018-02-15     Tepat waktu                       17  \n",
              "99440                    2018-04-03     Tepat waktu                        8  \n",
              "\n",
              "[96461 rows x 10 columns]"
            ]
          },
          "execution_count": 120,
          "metadata": {},
          "output_type": "execute_result"
        }
      ],
      "source": [
        "orders_df"
      ]
    },
    {
      "cell_type": "code",
      "execution_count": 121,
      "metadata": {
        "colab": {
          "base_uri": "https://localhost:8080/"
        },
        "id": "IM8gMd_irmAm",
        "outputId": "3fe44da5-2831-43bc-af98-564711331c69"
      },
      "outputs": [
        {
          "data": {
            "text/plain": [
              "np.int64(0)"
            ]
          },
          "execution_count": 121,
          "metadata": {},
          "output_type": "execute_result"
        }
      ],
      "source": [
        "orders_df[\"waktu_pengantaran(hari)\"].min()"
      ]
    },
    {
      "cell_type": "code",
      "execution_count": 122,
      "metadata": {
        "colab": {
          "base_uri": "https://localhost:8080/"
        },
        "id": "Y57oqP_F_bJi",
        "outputId": "c6a275f9-ac0a-4f90-9b05-ce7e0f565ee4"
      },
      "outputs": [
        {
          "data": {
            "text/plain": [
              "np.int64(210)"
            ]
          },
          "execution_count": 122,
          "metadata": {},
          "output_type": "execute_result"
        }
      ],
      "source": [
        "orders_df[\"waktu_pengantaran(hari)\"].max()"
      ]
    },
    {
      "cell_type": "code",
      "execution_count": 123,
      "metadata": {
        "colab": {
          "base_uri": "https://localhost:8080/"
        },
        "id": "lNOl3hfz_dUk",
        "outputId": "4a5d2112-24f1-4d29-9c20-fc7b8f83ee32"
      },
      "outputs": [
        {
          "data": {
            "text/plain": [
              "np.float64(12.496791449394056)"
            ]
          },
          "execution_count": 123,
          "metadata": {},
          "output_type": "execute_result"
        }
      ],
      "source": [
        "orders_df[\"waktu_pengantaran(hari)\"].mean()"
      ]
    },
    {
      "cell_type": "markdown",
      "metadata": {
        "id": "kpQtMQRMz4RB"
      },
      "source": [
        "**Insight**\n",
        "- Menghitung jumlah pesanan yang dicancel dan yang berhasil dikirim\n",
        "- Menambahkan kolom ketepatan_waktu untuk mengetahui apakah pesanan dikirim tepat waktu atau terlambat\n",
        "- Menghitung jumlah pesanan yang tepat waktu dan yang terlambat\n",
        "- Menambahkan kolom waktu_pengantaran(hari) untuk mengetahui berapa lama pesanan diterima pelanggan sejak pesanan dibuat\n",
        "- Menghitung waktu pengantaran paling cepat, paling lambat, dan rata-rata waktu pengantaran semua pesanan"
      ]
    },
    {
      "cell_type": "markdown",
      "metadata": {
        "id": "ghwNPMarOF0V"
      },
      "source": [
        "### Explore `orders_df & order_reviews_df`"
      ]
    },
    {
      "cell_type": "code",
      "execution_count": 124,
      "metadata": {
        "colab": {
          "base_uri": "https://localhost:8080/",
          "height": 530
        },
        "id": "M3D49T-eOHWO",
        "outputId": "05566266-db41-40e6-be5a-53efe2a69f0f"
      },
      "outputs": [
        {
          "data": {
            "text/html": [
              "<div>\n",
              "<style scoped>\n",
              "    .dataframe tbody tr th:only-of-type {\n",
              "        vertical-align: middle;\n",
              "    }\n",
              "\n",
              "    .dataframe tbody tr th {\n",
              "        vertical-align: top;\n",
              "    }\n",
              "\n",
              "    .dataframe thead th {\n",
              "        text-align: right;\n",
              "    }\n",
              "</style>\n",
              "<table border=\"1\" class=\"dataframe\">\n",
              "  <thead>\n",
              "    <tr style=\"text-align: right;\">\n",
              "      <th></th>\n",
              "      <th>order_id</th>\n",
              "      <th>customer_id</th>\n",
              "      <th>order_status</th>\n",
              "      <th>order_purchase_timestamp</th>\n",
              "      <th>order_approved_at</th>\n",
              "      <th>order_delivered_carrier_date</th>\n",
              "      <th>order_delivered_customer_date</th>\n",
              "      <th>order_estimated_delivery_date</th>\n",
              "      <th>ketepatan_waktu</th>\n",
              "      <th>waktu_pengantaran(hari)</th>\n",
              "      <th>review_id</th>\n",
              "      <th>review_score</th>\n",
              "      <th>review_comment_title</th>\n",
              "      <th>review_comment_message</th>\n",
              "      <th>review_creation_date</th>\n",
              "      <th>review_answer_timestamp</th>\n",
              "    </tr>\n",
              "  </thead>\n",
              "  <tbody>\n",
              "    <tr>\n",
              "      <th>0</th>\n",
              "      <td>e481f51cbdc54678b7cc49136f2d6af7</td>\n",
              "      <td>9ef432eb6251297304e76186b10a928d</td>\n",
              "      <td>delivered</td>\n",
              "      <td>2017-10-02</td>\n",
              "      <td>2017-10-02 11:07:15</td>\n",
              "      <td>2017-10-04 19:55:00</td>\n",
              "      <td>2017-10-10</td>\n",
              "      <td>2017-10-18</td>\n",
              "      <td>Tepat waktu</td>\n",
              "      <td>8</td>\n",
              "      <td>a54f0611adc9ed256b57ede6b6eb5114</td>\n",
              "      <td>4</td>\n",
              "      <td>NaN</td>\n",
              "      <td>Não testei o produto ainda, mas ele veio corre...</td>\n",
              "      <td>2017-10-11</td>\n",
              "      <td>2017-10-12 03:43:48</td>\n",
              "    </tr>\n",
              "    <tr>\n",
              "      <th>1</th>\n",
              "      <td>53cdb2fc8bc7dce0b6741e2150273451</td>\n",
              "      <td>b0830fb4747a6c6d20dea0b8c802d7ef</td>\n",
              "      <td>delivered</td>\n",
              "      <td>2018-07-24</td>\n",
              "      <td>2018-07-26 03:24:27</td>\n",
              "      <td>2018-07-26 14:31:00</td>\n",
              "      <td>2018-08-07</td>\n",
              "      <td>2018-08-13</td>\n",
              "      <td>Tepat waktu</td>\n",
              "      <td>14</td>\n",
              "      <td>8d5266042046a06655c8db133d120ba5</td>\n",
              "      <td>4</td>\n",
              "      <td>Muito boa a loja</td>\n",
              "      <td>Muito bom o produto.</td>\n",
              "      <td>2018-08-08</td>\n",
              "      <td>2018-08-08 18:37:50</td>\n",
              "    </tr>\n",
              "    <tr>\n",
              "      <th>2</th>\n",
              "      <td>47770eb9100c2d0c44946d9cf07ec65d</td>\n",
              "      <td>41ce2a54c0b03bf3443c3d931a367089</td>\n",
              "      <td>delivered</td>\n",
              "      <td>2018-08-08</td>\n",
              "      <td>2018-08-08 08:55:23</td>\n",
              "      <td>2018-08-08 13:50:00</td>\n",
              "      <td>2018-08-17</td>\n",
              "      <td>2018-09-04</td>\n",
              "      <td>Tepat waktu</td>\n",
              "      <td>9</td>\n",
              "      <td>e73b67b67587f7644d5bd1a52deb1b01</td>\n",
              "      <td>5</td>\n",
              "      <td>NaN</td>\n",
              "      <td>NaN</td>\n",
              "      <td>2018-08-18</td>\n",
              "      <td>2018-08-22 19:07:58</td>\n",
              "    </tr>\n",
              "    <tr>\n",
              "      <th>3</th>\n",
              "      <td>949d5b44dbf5de918fe9c16f97b45f8a</td>\n",
              "      <td>f88197465ea7920adcdbec7375364d82</td>\n",
              "      <td>delivered</td>\n",
              "      <td>2017-11-18</td>\n",
              "      <td>2017-11-18 19:45:59</td>\n",
              "      <td>2017-11-22 13:39:59</td>\n",
              "      <td>2017-12-02</td>\n",
              "      <td>2017-12-15</td>\n",
              "      <td>Tepat waktu</td>\n",
              "      <td>14</td>\n",
              "      <td>359d03e676b3c069f62cadba8dd3f6e8</td>\n",
              "      <td>5</td>\n",
              "      <td>NaN</td>\n",
              "      <td>O produto foi exatamente o que eu esperava e e...</td>\n",
              "      <td>2017-12-03</td>\n",
              "      <td>2017-12-05 19:21:58</td>\n",
              "    </tr>\n",
              "    <tr>\n",
              "      <th>4</th>\n",
              "      <td>ad21c59c0840e6cb83a9ceb5573f8159</td>\n",
              "      <td>8ab97904e6daea8866dbdbc4fb7aad2c</td>\n",
              "      <td>delivered</td>\n",
              "      <td>2018-02-13</td>\n",
              "      <td>2018-02-13 22:20:29</td>\n",
              "      <td>2018-02-14 19:46:34</td>\n",
              "      <td>2018-02-16</td>\n",
              "      <td>2018-02-26</td>\n",
              "      <td>Tepat waktu</td>\n",
              "      <td>3</td>\n",
              "      <td>e50934924e227544ba8246aeb3770dd4</td>\n",
              "      <td>5</td>\n",
              "      <td>NaN</td>\n",
              "      <td>NaN</td>\n",
              "      <td>2018-02-17</td>\n",
              "      <td>2018-02-18 13:02:51</td>\n",
              "    </tr>\n",
              "    <tr>\n",
              "      <th>...</th>\n",
              "      <td>...</td>\n",
              "      <td>...</td>\n",
              "      <td>...</td>\n",
              "      <td>...</td>\n",
              "      <td>...</td>\n",
              "      <td>...</td>\n",
              "      <td>...</td>\n",
              "      <td>...</td>\n",
              "      <td>...</td>\n",
              "      <td>...</td>\n",
              "      <td>...</td>\n",
              "      <td>...</td>\n",
              "      <td>...</td>\n",
              "      <td>...</td>\n",
              "      <td>...</td>\n",
              "      <td>...</td>\n",
              "    </tr>\n",
              "    <tr>\n",
              "      <th>95350</th>\n",
              "      <td>9c5dedf39a927c1b2549525ed64a053c</td>\n",
              "      <td>39bd1228ee8140590ac3aca26f2dfe00</td>\n",
              "      <td>delivered</td>\n",
              "      <td>2017-03-09</td>\n",
              "      <td>2017-03-09 09:54:05</td>\n",
              "      <td>2017-03-10 11:18:03</td>\n",
              "      <td>2017-03-17</td>\n",
              "      <td>2017-03-28</td>\n",
              "      <td>Tepat waktu</td>\n",
              "      <td>8</td>\n",
              "      <td>e262b3f92d1ce917aa412a9406cf61a6</td>\n",
              "      <td>5</td>\n",
              "      <td>NaN</td>\n",
              "      <td>NaN</td>\n",
              "      <td>2017-03-22</td>\n",
              "      <td>2017-03-23 11:02:08</td>\n",
              "    </tr>\n",
              "    <tr>\n",
              "      <th>95351</th>\n",
              "      <td>63943bddc261676b46f01ca7ac2f7bd8</td>\n",
              "      <td>1fca14ff2861355f6e5f14306ff977a7</td>\n",
              "      <td>delivered</td>\n",
              "      <td>2018-02-06</td>\n",
              "      <td>2018-02-06 13:10:37</td>\n",
              "      <td>2018-02-07 23:22:42</td>\n",
              "      <td>2018-02-28</td>\n",
              "      <td>2018-03-02</td>\n",
              "      <td>Tepat waktu</td>\n",
              "      <td>22</td>\n",
              "      <td>29bb71b2760d0f876dfa178a76bc4734</td>\n",
              "      <td>4</td>\n",
              "      <td>NaN</td>\n",
              "      <td>So uma peça que veio rachado mas tudo bem rs</td>\n",
              "      <td>2018-03-01</td>\n",
              "      <td>2018-03-02 17:50:01</td>\n",
              "    </tr>\n",
              "    <tr>\n",
              "      <th>95352</th>\n",
              "      <td>83c1379a015df1e13d02aae0204711ab</td>\n",
              "      <td>1aa71eb042121263aafbe80c1b562c9c</td>\n",
              "      <td>delivered</td>\n",
              "      <td>2017-08-27</td>\n",
              "      <td>2017-08-27 15:04:16</td>\n",
              "      <td>2017-08-28 20:52:26</td>\n",
              "      <td>2017-09-21</td>\n",
              "      <td>2017-09-27</td>\n",
              "      <td>Tepat waktu</td>\n",
              "      <td>25</td>\n",
              "      <td>371579771219f6db2d830d50805977bb</td>\n",
              "      <td>5</td>\n",
              "      <td>NaN</td>\n",
              "      <td>Foi entregue antes do prazo.</td>\n",
              "      <td>2017-09-22</td>\n",
              "      <td>2017-09-22 23:10:57</td>\n",
              "    </tr>\n",
              "    <tr>\n",
              "      <th>95353</th>\n",
              "      <td>11c177c8e97725db2631073c19f07b62</td>\n",
              "      <td>b331b74b18dc79bcdf6532d51e1637c1</td>\n",
              "      <td>delivered</td>\n",
              "      <td>2018-01-08</td>\n",
              "      <td>2018-01-08 21:36:21</td>\n",
              "      <td>2018-01-12 15:35:03</td>\n",
              "      <td>2018-01-25</td>\n",
              "      <td>2018-02-15</td>\n",
              "      <td>Tepat waktu</td>\n",
              "      <td>17</td>\n",
              "      <td>8ab6855b9fe9b812cd03a480a25058a1</td>\n",
              "      <td>2</td>\n",
              "      <td>NaN</td>\n",
              "      <td>Foi entregue somente 1. Quero saber do outro p...</td>\n",
              "      <td>2018-01-26</td>\n",
              "      <td>2018-01-27 09:16:56</td>\n",
              "    </tr>\n",
              "    <tr>\n",
              "      <th>95354</th>\n",
              "      <td>66dea50a8b16d9b4dee7af250b4be1a5</td>\n",
              "      <td>edb027a75a1449115f6b43211ae02a24</td>\n",
              "      <td>delivered</td>\n",
              "      <td>2018-03-08</td>\n",
              "      <td>2018-03-09 11:20:28</td>\n",
              "      <td>2018-03-09 22:11:59</td>\n",
              "      <td>2018-03-16</td>\n",
              "      <td>2018-04-03</td>\n",
              "      <td>Tepat waktu</td>\n",
              "      <td>8</td>\n",
              "      <td>dc9c59b4688062c25758c2be4cafc523</td>\n",
              "      <td>5</td>\n",
              "      <td>NaN</td>\n",
              "      <td>NaN</td>\n",
              "      <td>2018-03-17</td>\n",
              "      <td>2018-03-17 16:33:31</td>\n",
              "    </tr>\n",
              "  </tbody>\n",
              "</table>\n",
              "<p>95355 rows × 16 columns</p>\n",
              "</div>"
            ],
            "text/plain": [
              "                               order_id                       customer_id  \\\n",
              "0      e481f51cbdc54678b7cc49136f2d6af7  9ef432eb6251297304e76186b10a928d   \n",
              "1      53cdb2fc8bc7dce0b6741e2150273451  b0830fb4747a6c6d20dea0b8c802d7ef   \n",
              "2      47770eb9100c2d0c44946d9cf07ec65d  41ce2a54c0b03bf3443c3d931a367089   \n",
              "3      949d5b44dbf5de918fe9c16f97b45f8a  f88197465ea7920adcdbec7375364d82   \n",
              "4      ad21c59c0840e6cb83a9ceb5573f8159  8ab97904e6daea8866dbdbc4fb7aad2c   \n",
              "...                                 ...                               ...   \n",
              "95350  9c5dedf39a927c1b2549525ed64a053c  39bd1228ee8140590ac3aca26f2dfe00   \n",
              "95351  63943bddc261676b46f01ca7ac2f7bd8  1fca14ff2861355f6e5f14306ff977a7   \n",
              "95352  83c1379a015df1e13d02aae0204711ab  1aa71eb042121263aafbe80c1b562c9c   \n",
              "95353  11c177c8e97725db2631073c19f07b62  b331b74b18dc79bcdf6532d51e1637c1   \n",
              "95354  66dea50a8b16d9b4dee7af250b4be1a5  edb027a75a1449115f6b43211ae02a24   \n",
              "\n",
              "      order_status order_purchase_timestamp   order_approved_at  \\\n",
              "0        delivered               2017-10-02 2017-10-02 11:07:15   \n",
              "1        delivered               2018-07-24 2018-07-26 03:24:27   \n",
              "2        delivered               2018-08-08 2018-08-08 08:55:23   \n",
              "3        delivered               2017-11-18 2017-11-18 19:45:59   \n",
              "4        delivered               2018-02-13 2018-02-13 22:20:29   \n",
              "...            ...                      ...                 ...   \n",
              "95350    delivered               2017-03-09 2017-03-09 09:54:05   \n",
              "95351    delivered               2018-02-06 2018-02-06 13:10:37   \n",
              "95352    delivered               2017-08-27 2017-08-27 15:04:16   \n",
              "95353    delivered               2018-01-08 2018-01-08 21:36:21   \n",
              "95354    delivered               2018-03-08 2018-03-09 11:20:28   \n",
              "\n",
              "      order_delivered_carrier_date order_delivered_customer_date  \\\n",
              "0              2017-10-04 19:55:00                    2017-10-10   \n",
              "1              2018-07-26 14:31:00                    2018-08-07   \n",
              "2              2018-08-08 13:50:00                    2018-08-17   \n",
              "3              2017-11-22 13:39:59                    2017-12-02   \n",
              "4              2018-02-14 19:46:34                    2018-02-16   \n",
              "...                            ...                           ...   \n",
              "95350          2017-03-10 11:18:03                    2017-03-17   \n",
              "95351          2018-02-07 23:22:42                    2018-02-28   \n",
              "95352          2017-08-28 20:52:26                    2017-09-21   \n",
              "95353          2018-01-12 15:35:03                    2018-01-25   \n",
              "95354          2018-03-09 22:11:59                    2018-03-16   \n",
              "\n",
              "      order_estimated_delivery_date ketepatan_waktu  waktu_pengantaran(hari)  \\\n",
              "0                        2017-10-18     Tepat waktu                        8   \n",
              "1                        2018-08-13     Tepat waktu                       14   \n",
              "2                        2018-09-04     Tepat waktu                        9   \n",
              "3                        2017-12-15     Tepat waktu                       14   \n",
              "4                        2018-02-26     Tepat waktu                        3   \n",
              "...                             ...             ...                      ...   \n",
              "95350                    2017-03-28     Tepat waktu                        8   \n",
              "95351                    2018-03-02     Tepat waktu                       22   \n",
              "95352                    2017-09-27     Tepat waktu                       25   \n",
              "95353                    2018-02-15     Tepat waktu                       17   \n",
              "95354                    2018-04-03     Tepat waktu                        8   \n",
              "\n",
              "                              review_id  review_score review_comment_title  \\\n",
              "0      a54f0611adc9ed256b57ede6b6eb5114             4                  NaN   \n",
              "1      8d5266042046a06655c8db133d120ba5             4     Muito boa a loja   \n",
              "2      e73b67b67587f7644d5bd1a52deb1b01             5                  NaN   \n",
              "3      359d03e676b3c069f62cadba8dd3f6e8             5                  NaN   \n",
              "4      e50934924e227544ba8246aeb3770dd4             5                  NaN   \n",
              "...                                 ...           ...                  ...   \n",
              "95350  e262b3f92d1ce917aa412a9406cf61a6             5                  NaN   \n",
              "95351  29bb71b2760d0f876dfa178a76bc4734             4                  NaN   \n",
              "95352  371579771219f6db2d830d50805977bb             5                  NaN   \n",
              "95353  8ab6855b9fe9b812cd03a480a25058a1             2                  NaN   \n",
              "95354  dc9c59b4688062c25758c2be4cafc523             5                  NaN   \n",
              "\n",
              "                                  review_comment_message review_creation_date  \\\n",
              "0      Não testei o produto ainda, mas ele veio corre...           2017-10-11   \n",
              "1                                   Muito bom o produto.           2018-08-08   \n",
              "2                                                    NaN           2018-08-18   \n",
              "3      O produto foi exatamente o que eu esperava e e...           2017-12-03   \n",
              "4                                                    NaN           2018-02-17   \n",
              "...                                                  ...                  ...   \n",
              "95350                                                NaN           2017-03-22   \n",
              "95351       So uma peça que veio rachado mas tudo bem rs           2018-03-01   \n",
              "95352                       Foi entregue antes do prazo.           2017-09-22   \n",
              "95353  Foi entregue somente 1. Quero saber do outro p...           2018-01-26   \n",
              "95354                                                NaN           2018-03-17   \n",
              "\n",
              "      review_answer_timestamp  \n",
              "0         2017-10-12 03:43:48  \n",
              "1         2018-08-08 18:37:50  \n",
              "2         2018-08-22 19:07:58  \n",
              "3         2017-12-05 19:21:58  \n",
              "4         2018-02-18 13:02:51  \n",
              "...                       ...  \n",
              "95350     2017-03-23 11:02:08  \n",
              "95351     2018-03-02 17:50:01  \n",
              "95352     2017-09-22 23:10:57  \n",
              "95353     2018-01-27 09:16:56  \n",
              "95354     2018-03-17 16:33:31  \n",
              "\n",
              "[95355 rows x 16 columns]"
            ]
          },
          "execution_count": 124,
          "metadata": {},
          "output_type": "execute_result"
        }
      ],
      "source": [
        "order_reviews_orders_df = pd.merge(\n",
        "    left=orders_df,\n",
        "    right=order_reviews_df,\n",
        "    how=\"inner\",\n",
        "    left_on=\"order_id\",\n",
        "    right_on=\"order_id\"\n",
        ")\n",
        "\n",
        "order_reviews_orders_df"
      ]
    },
    {
      "cell_type": "code",
      "execution_count": 125,
      "metadata": {
        "colab": {
          "base_uri": "https://localhost:8080/",
          "height": 125
        },
        "id": "x6mv6efwm1gZ",
        "outputId": "3b51fa8e-af33-41b9-9c20-b4e91801a5d5"
      },
      "outputs": [
        {
          "data": {
            "text/html": [
              "<div>\n",
              "<style scoped>\n",
              "    .dataframe tbody tr th:only-of-type {\n",
              "        vertical-align: middle;\n",
              "    }\n",
              "\n",
              "    .dataframe tbody tr th {\n",
              "        vertical-align: top;\n",
              "    }\n",
              "\n",
              "    .dataframe thead th {\n",
              "        text-align: right;\n",
              "    }\n",
              "</style>\n",
              "<table border=\"1\" class=\"dataframe\">\n",
              "  <thead>\n",
              "    <tr style=\"text-align: right;\">\n",
              "      <th></th>\n",
              "      <th>ketepatan_waktu</th>\n",
              "      <th>jumlah_pesanan</th>\n",
              "    </tr>\n",
              "  </thead>\n",
              "  <tbody>\n",
              "    <tr>\n",
              "      <th>0</th>\n",
              "      <td>Tepat waktu</td>\n",
              "      <td>89009</td>\n",
              "    </tr>\n",
              "    <tr>\n",
              "      <th>1</th>\n",
              "      <td>Terlambat</td>\n",
              "      <td>6346</td>\n",
              "    </tr>\n",
              "  </tbody>\n",
              "</table>\n",
              "</div>"
            ],
            "text/plain": [
              "  ketepatan_waktu  jumlah_pesanan\n",
              "0     Tepat waktu           89009\n",
              "1       Terlambat            6346"
            ]
          },
          "execution_count": 125,
          "metadata": {},
          "output_type": "execute_result"
        }
      ],
      "source": [
        "order_plot = order_reviews_orders_df.groupby(by=\"ketepatan_waktu\").order_id.count().reset_index().rename(columns={\"order_id\": \"jumlah pesanan\"})\n",
        "order_plot.rename(columns={\"jumlah pesanan\": \"jumlah_pesanan\"}, inplace=True)\n",
        "order_plot"
      ]
    },
    {
      "cell_type": "code",
      "execution_count": 126,
      "metadata": {
        "colab": {
          "base_uri": "https://localhost:8080/",
          "height": 125
        },
        "id": "u_WLnNGDOibF",
        "outputId": "43030af4-0de3-42cf-8d46-4ff0303fccac"
      },
      "outputs": [
        {
          "data": {
            "text/html": [
              "<div>\n",
              "<style scoped>\n",
              "    .dataframe tbody tr th:only-of-type {\n",
              "        vertical-align: middle;\n",
              "    }\n",
              "\n",
              "    .dataframe tbody tr th {\n",
              "        vertical-align: top;\n",
              "    }\n",
              "\n",
              "    .dataframe thead th {\n",
              "        text-align: right;\n",
              "    }\n",
              "</style>\n",
              "<table border=\"1\" class=\"dataframe\">\n",
              "  <thead>\n",
              "    <tr style=\"text-align: right;\">\n",
              "      <th></th>\n",
              "      <th>ketepatan_waktu</th>\n",
              "      <th>rata_rata_rating</th>\n",
              "    </tr>\n",
              "  </thead>\n",
              "  <tbody>\n",
              "    <tr>\n",
              "      <th>0</th>\n",
              "      <td>Tepat waktu</td>\n",
              "      <td>4.3</td>\n",
              "    </tr>\n",
              "    <tr>\n",
              "      <th>1</th>\n",
              "      <td>Terlambat</td>\n",
              "      <td>2.3</td>\n",
              "    </tr>\n",
              "  </tbody>\n",
              "</table>\n",
              "</div>"
            ],
            "text/plain": [
              "  ketepatan_waktu  rata_rata_rating\n",
              "0     Tepat waktu               4.3\n",
              "1       Terlambat               2.3"
            ]
          },
          "execution_count": 126,
          "metadata": {},
          "output_type": "execute_result"
        }
      ],
      "source": [
        "order_mean_plot = order_reviews_orders_df.groupby(by=\"ketepatan_waktu\").review_score.mean().reset_index().rename(columns={\"review_score\": \"rata_rata_rating\"})\n",
        "order_mean_plot[\"rata_rata_rating\"] = round(order_mean_plot[\"rata_rata_rating\"], 1)\n",
        "order_mean_plot"
      ]
    },
    {
      "cell_type": "markdown",
      "metadata": {
        "id": "iFl15wup1V0D"
      },
      "source": [
        "**Insight**\n",
        "- Mencari tahu apakah ketepatan_waktu memengaruhi rating\n",
        "- Pesanan yang diantar tepat waktu memiliki rata-rata rating 4.3 sedangkan pesanan yang terlambat memiliki rata-rata rating 2.3. Hal ini berarti ketepatan waktu pengantaran pesanan memengaruhi rating yang diberikan customer"
      ]
    },
    {
      "cell_type": "markdown",
      "metadata": {
        "id": "ylb_xJGePtZP"
      },
      "source": [
        "### Explore `orders_df & order_items_df`"
      ]
    },
    {
      "cell_type": "code",
      "execution_count": 127,
      "metadata": {
        "colab": {
          "base_uri": "https://localhost:8080/",
          "height": 443
        },
        "id": "jMbEkQg4P2Pz",
        "outputId": "d7c6a799-7870-4c28-9d11-7ba718ba616f"
      },
      "outputs": [
        {
          "data": {
            "text/html": [
              "<div>\n",
              "<style scoped>\n",
              "    .dataframe tbody tr th:only-of-type {\n",
              "        vertical-align: middle;\n",
              "    }\n",
              "\n",
              "    .dataframe tbody tr th {\n",
              "        vertical-align: top;\n",
              "    }\n",
              "\n",
              "    .dataframe thead th {\n",
              "        text-align: right;\n",
              "    }\n",
              "</style>\n",
              "<table border=\"1\" class=\"dataframe\">\n",
              "  <thead>\n",
              "    <tr style=\"text-align: right;\">\n",
              "      <th></th>\n",
              "      <th>order_id</th>\n",
              "      <th>customer_id</th>\n",
              "      <th>order_status</th>\n",
              "      <th>order_purchase_timestamp</th>\n",
              "      <th>order_approved_at</th>\n",
              "      <th>order_delivered_carrier_date</th>\n",
              "      <th>order_delivered_customer_date</th>\n",
              "      <th>order_estimated_delivery_date</th>\n",
              "      <th>ketepatan_waktu</th>\n",
              "      <th>waktu_pengantaran(hari)</th>\n",
              "      <th>order_item_id</th>\n",
              "      <th>product_id</th>\n",
              "      <th>seller_id</th>\n",
              "      <th>shipping_limit_date</th>\n",
              "      <th>price</th>\n",
              "      <th>freight_value</th>\n",
              "      <th>total_price</th>\n",
              "    </tr>\n",
              "  </thead>\n",
              "  <tbody>\n",
              "    <tr>\n",
              "      <th>0</th>\n",
              "      <td>e481f51cbdc54678b7cc49136f2d6af7</td>\n",
              "      <td>9ef432eb6251297304e76186b10a928d</td>\n",
              "      <td>delivered</td>\n",
              "      <td>2017-10-02</td>\n",
              "      <td>2017-10-02 11:07:15</td>\n",
              "      <td>2017-10-04 19:55:00</td>\n",
              "      <td>2017-10-10</td>\n",
              "      <td>2017-10-18</td>\n",
              "      <td>Tepat waktu</td>\n",
              "      <td>8</td>\n",
              "      <td>1</td>\n",
              "      <td>87285b34884572647811a353c7ac498a</td>\n",
              "      <td>3504c0cb71d7fa48d967e0e4c94d59d9</td>\n",
              "      <td>2017-10-06 11:07:15</td>\n",
              "      <td>30</td>\n",
              "      <td>9</td>\n",
              "      <td>39</td>\n",
              "    </tr>\n",
              "    <tr>\n",
              "      <th>1</th>\n",
              "      <td>53cdb2fc8bc7dce0b6741e2150273451</td>\n",
              "      <td>b0830fb4747a6c6d20dea0b8c802d7ef</td>\n",
              "      <td>delivered</td>\n",
              "      <td>2018-07-24</td>\n",
              "      <td>2018-07-26 03:24:27</td>\n",
              "      <td>2018-07-26 14:31:00</td>\n",
              "      <td>2018-08-07</td>\n",
              "      <td>2018-08-13</td>\n",
              "      <td>Tepat waktu</td>\n",
              "      <td>14</td>\n",
              "      <td>1</td>\n",
              "      <td>595fac2a385ac33a80bd5114aec74eb8</td>\n",
              "      <td>289cdb325fb7e7f891c38608bf9e0962</td>\n",
              "      <td>2018-07-30 03:24:27</td>\n",
              "      <td>119</td>\n",
              "      <td>23</td>\n",
              "      <td>142</td>\n",
              "    </tr>\n",
              "    <tr>\n",
              "      <th>2</th>\n",
              "      <td>47770eb9100c2d0c44946d9cf07ec65d</td>\n",
              "      <td>41ce2a54c0b03bf3443c3d931a367089</td>\n",
              "      <td>delivered</td>\n",
              "      <td>2018-08-08</td>\n",
              "      <td>2018-08-08 08:55:23</td>\n",
              "      <td>2018-08-08 13:50:00</td>\n",
              "      <td>2018-08-17</td>\n",
              "      <td>2018-09-04</td>\n",
              "      <td>Tepat waktu</td>\n",
              "      <td>9</td>\n",
              "      <td>1</td>\n",
              "      <td>aa4383b373c6aca5d8797843e5594415</td>\n",
              "      <td>4869f7a5dfa277a7dca6462dcf3b52b2</td>\n",
              "      <td>2018-08-13 08:55:23</td>\n",
              "      <td>160</td>\n",
              "      <td>19</td>\n",
              "      <td>179</td>\n",
              "    </tr>\n",
              "    <tr>\n",
              "      <th>3</th>\n",
              "      <td>949d5b44dbf5de918fe9c16f97b45f8a</td>\n",
              "      <td>f88197465ea7920adcdbec7375364d82</td>\n",
              "      <td>delivered</td>\n",
              "      <td>2017-11-18</td>\n",
              "      <td>2017-11-18 19:45:59</td>\n",
              "      <td>2017-11-22 13:39:59</td>\n",
              "      <td>2017-12-02</td>\n",
              "      <td>2017-12-15</td>\n",
              "      <td>Tepat waktu</td>\n",
              "      <td>14</td>\n",
              "      <td>1</td>\n",
              "      <td>d0b61bfb1de832b15ba9d266ca96e5b0</td>\n",
              "      <td>66922902710d126a0e7d26b0e3805106</td>\n",
              "      <td>2017-11-23 19:45:59</td>\n",
              "      <td>45</td>\n",
              "      <td>27</td>\n",
              "      <td>72</td>\n",
              "    </tr>\n",
              "    <tr>\n",
              "      <th>4</th>\n",
              "      <td>ad21c59c0840e6cb83a9ceb5573f8159</td>\n",
              "      <td>8ab97904e6daea8866dbdbc4fb7aad2c</td>\n",
              "      <td>delivered</td>\n",
              "      <td>2018-02-13</td>\n",
              "      <td>2018-02-13 22:20:29</td>\n",
              "      <td>2018-02-14 19:46:34</td>\n",
              "      <td>2018-02-16</td>\n",
              "      <td>2018-02-26</td>\n",
              "      <td>Tepat waktu</td>\n",
              "      <td>3</td>\n",
              "      <td>1</td>\n",
              "      <td>65266b2da20d04dbe00c5c2d3bb7859e</td>\n",
              "      <td>2c9e548be18521d1c43cde1c582c6de8</td>\n",
              "      <td>2018-02-19 20:31:37</td>\n",
              "      <td>20</td>\n",
              "      <td>9</td>\n",
              "      <td>29</td>\n",
              "    </tr>\n",
              "    <tr>\n",
              "      <th>...</th>\n",
              "      <td>...</td>\n",
              "      <td>...</td>\n",
              "      <td>...</td>\n",
              "      <td>...</td>\n",
              "      <td>...</td>\n",
              "      <td>...</td>\n",
              "      <td>...</td>\n",
              "      <td>...</td>\n",
              "      <td>...</td>\n",
              "      <td>...</td>\n",
              "      <td>...</td>\n",
              "      <td>...</td>\n",
              "      <td>...</td>\n",
              "      <td>...</td>\n",
              "      <td>...</td>\n",
              "      <td>...</td>\n",
              "      <td>...</td>\n",
              "    </tr>\n",
              "    <tr>\n",
              "      <th>110175</th>\n",
              "      <td>63943bddc261676b46f01ca7ac2f7bd8</td>\n",
              "      <td>1fca14ff2861355f6e5f14306ff977a7</td>\n",
              "      <td>delivered</td>\n",
              "      <td>2018-02-06</td>\n",
              "      <td>2018-02-06 13:10:37</td>\n",
              "      <td>2018-02-07 23:22:42</td>\n",
              "      <td>2018-02-28</td>\n",
              "      <td>2018-03-02</td>\n",
              "      <td>Tepat waktu</td>\n",
              "      <td>22</td>\n",
              "      <td>1</td>\n",
              "      <td>f1d4ce8c6dd66c47bbaa8c6781c2a923</td>\n",
              "      <td>1f9ab4708f3056ede07124aad39a2554</td>\n",
              "      <td>2018-02-12 13:10:37</td>\n",
              "      <td>175</td>\n",
              "      <td>20</td>\n",
              "      <td>195</td>\n",
              "    </tr>\n",
              "    <tr>\n",
              "      <th>110176</th>\n",
              "      <td>83c1379a015df1e13d02aae0204711ab</td>\n",
              "      <td>1aa71eb042121263aafbe80c1b562c9c</td>\n",
              "      <td>delivered</td>\n",
              "      <td>2017-08-27</td>\n",
              "      <td>2017-08-27 15:04:16</td>\n",
              "      <td>2017-08-28 20:52:26</td>\n",
              "      <td>2017-09-21</td>\n",
              "      <td>2017-09-27</td>\n",
              "      <td>Tepat waktu</td>\n",
              "      <td>25</td>\n",
              "      <td>1</td>\n",
              "      <td>b80910977a37536adeddd63663f916ad</td>\n",
              "      <td>d50d79cb34e38265a8649c383dcffd48</td>\n",
              "      <td>2017-09-05 15:04:16</td>\n",
              "      <td>206</td>\n",
              "      <td>65</td>\n",
              "      <td>271</td>\n",
              "    </tr>\n",
              "    <tr>\n",
              "      <th>110177</th>\n",
              "      <td>11c177c8e97725db2631073c19f07b62</td>\n",
              "      <td>b331b74b18dc79bcdf6532d51e1637c1</td>\n",
              "      <td>delivered</td>\n",
              "      <td>2018-01-08</td>\n",
              "      <td>2018-01-08 21:36:21</td>\n",
              "      <td>2018-01-12 15:35:03</td>\n",
              "      <td>2018-01-25</td>\n",
              "      <td>2018-02-15</td>\n",
              "      <td>Tepat waktu</td>\n",
              "      <td>17</td>\n",
              "      <td>1</td>\n",
              "      <td>d1c427060a0f73f6b889a5c7c61f2ac4</td>\n",
              "      <td>a1043bafd471dff536d0c462352beb48</td>\n",
              "      <td>2018-01-12 21:36:21</td>\n",
              "      <td>180</td>\n",
              "      <td>41</td>\n",
              "      <td>221</td>\n",
              "    </tr>\n",
              "    <tr>\n",
              "      <th>110178</th>\n",
              "      <td>11c177c8e97725db2631073c19f07b62</td>\n",
              "      <td>b331b74b18dc79bcdf6532d51e1637c1</td>\n",
              "      <td>delivered</td>\n",
              "      <td>2018-01-08</td>\n",
              "      <td>2018-01-08 21:36:21</td>\n",
              "      <td>2018-01-12 15:35:03</td>\n",
              "      <td>2018-01-25</td>\n",
              "      <td>2018-02-15</td>\n",
              "      <td>Tepat waktu</td>\n",
              "      <td>17</td>\n",
              "      <td>2</td>\n",
              "      <td>d1c427060a0f73f6b889a5c7c61f2ac4</td>\n",
              "      <td>a1043bafd471dff536d0c462352beb48</td>\n",
              "      <td>2018-01-12 21:36:21</td>\n",
              "      <td>180</td>\n",
              "      <td>41</td>\n",
              "      <td>221</td>\n",
              "    </tr>\n",
              "    <tr>\n",
              "      <th>110179</th>\n",
              "      <td>66dea50a8b16d9b4dee7af250b4be1a5</td>\n",
              "      <td>edb027a75a1449115f6b43211ae02a24</td>\n",
              "      <td>delivered</td>\n",
              "      <td>2018-03-08</td>\n",
              "      <td>2018-03-09 11:20:28</td>\n",
              "      <td>2018-03-09 22:11:59</td>\n",
              "      <td>2018-03-16</td>\n",
              "      <td>2018-04-03</td>\n",
              "      <td>Tepat waktu</td>\n",
              "      <td>8</td>\n",
              "      <td>1</td>\n",
              "      <td>006619bbed68b000c8ba3f8725d5409e</td>\n",
              "      <td>ececbfcff9804a2d6b40f589df8eef2b</td>\n",
              "      <td>2018-03-15 10:55:42</td>\n",
              "      <td>68</td>\n",
              "      <td>18</td>\n",
              "      <td>86</td>\n",
              "    </tr>\n",
              "  </tbody>\n",
              "</table>\n",
              "<p>110180 rows × 17 columns</p>\n",
              "</div>"
            ],
            "text/plain": [
              "                                order_id                       customer_id  \\\n",
              "0       e481f51cbdc54678b7cc49136f2d6af7  9ef432eb6251297304e76186b10a928d   \n",
              "1       53cdb2fc8bc7dce0b6741e2150273451  b0830fb4747a6c6d20dea0b8c802d7ef   \n",
              "2       47770eb9100c2d0c44946d9cf07ec65d  41ce2a54c0b03bf3443c3d931a367089   \n",
              "3       949d5b44dbf5de918fe9c16f97b45f8a  f88197465ea7920adcdbec7375364d82   \n",
              "4       ad21c59c0840e6cb83a9ceb5573f8159  8ab97904e6daea8866dbdbc4fb7aad2c   \n",
              "...                                  ...                               ...   \n",
              "110175  63943bddc261676b46f01ca7ac2f7bd8  1fca14ff2861355f6e5f14306ff977a7   \n",
              "110176  83c1379a015df1e13d02aae0204711ab  1aa71eb042121263aafbe80c1b562c9c   \n",
              "110177  11c177c8e97725db2631073c19f07b62  b331b74b18dc79bcdf6532d51e1637c1   \n",
              "110178  11c177c8e97725db2631073c19f07b62  b331b74b18dc79bcdf6532d51e1637c1   \n",
              "110179  66dea50a8b16d9b4dee7af250b4be1a5  edb027a75a1449115f6b43211ae02a24   \n",
              "\n",
              "       order_status order_purchase_timestamp   order_approved_at  \\\n",
              "0         delivered               2017-10-02 2017-10-02 11:07:15   \n",
              "1         delivered               2018-07-24 2018-07-26 03:24:27   \n",
              "2         delivered               2018-08-08 2018-08-08 08:55:23   \n",
              "3         delivered               2017-11-18 2017-11-18 19:45:59   \n",
              "4         delivered               2018-02-13 2018-02-13 22:20:29   \n",
              "...             ...                      ...                 ...   \n",
              "110175    delivered               2018-02-06 2018-02-06 13:10:37   \n",
              "110176    delivered               2017-08-27 2017-08-27 15:04:16   \n",
              "110177    delivered               2018-01-08 2018-01-08 21:36:21   \n",
              "110178    delivered               2018-01-08 2018-01-08 21:36:21   \n",
              "110179    delivered               2018-03-08 2018-03-09 11:20:28   \n",
              "\n",
              "       order_delivered_carrier_date order_delivered_customer_date  \\\n",
              "0               2017-10-04 19:55:00                    2017-10-10   \n",
              "1               2018-07-26 14:31:00                    2018-08-07   \n",
              "2               2018-08-08 13:50:00                    2018-08-17   \n",
              "3               2017-11-22 13:39:59                    2017-12-02   \n",
              "4               2018-02-14 19:46:34                    2018-02-16   \n",
              "...                             ...                           ...   \n",
              "110175          2018-02-07 23:22:42                    2018-02-28   \n",
              "110176          2017-08-28 20:52:26                    2017-09-21   \n",
              "110177          2018-01-12 15:35:03                    2018-01-25   \n",
              "110178          2018-01-12 15:35:03                    2018-01-25   \n",
              "110179          2018-03-09 22:11:59                    2018-03-16   \n",
              "\n",
              "       order_estimated_delivery_date ketepatan_waktu  waktu_pengantaran(hari)  \\\n",
              "0                         2017-10-18     Tepat waktu                        8   \n",
              "1                         2018-08-13     Tepat waktu                       14   \n",
              "2                         2018-09-04     Tepat waktu                        9   \n",
              "3                         2017-12-15     Tepat waktu                       14   \n",
              "4                         2018-02-26     Tepat waktu                        3   \n",
              "...                              ...             ...                      ...   \n",
              "110175                    2018-03-02     Tepat waktu                       22   \n",
              "110176                    2017-09-27     Tepat waktu                       25   \n",
              "110177                    2018-02-15     Tepat waktu                       17   \n",
              "110178                    2018-02-15     Tepat waktu                       17   \n",
              "110179                    2018-04-03     Tepat waktu                        8   \n",
              "\n",
              "        order_item_id                        product_id  \\\n",
              "0                   1  87285b34884572647811a353c7ac498a   \n",
              "1                   1  595fac2a385ac33a80bd5114aec74eb8   \n",
              "2                   1  aa4383b373c6aca5d8797843e5594415   \n",
              "3                   1  d0b61bfb1de832b15ba9d266ca96e5b0   \n",
              "4                   1  65266b2da20d04dbe00c5c2d3bb7859e   \n",
              "...               ...                               ...   \n",
              "110175              1  f1d4ce8c6dd66c47bbaa8c6781c2a923   \n",
              "110176              1  b80910977a37536adeddd63663f916ad   \n",
              "110177              1  d1c427060a0f73f6b889a5c7c61f2ac4   \n",
              "110178              2  d1c427060a0f73f6b889a5c7c61f2ac4   \n",
              "110179              1  006619bbed68b000c8ba3f8725d5409e   \n",
              "\n",
              "                               seller_id shipping_limit_date  price  \\\n",
              "0       3504c0cb71d7fa48d967e0e4c94d59d9 2017-10-06 11:07:15     30   \n",
              "1       289cdb325fb7e7f891c38608bf9e0962 2018-07-30 03:24:27    119   \n",
              "2       4869f7a5dfa277a7dca6462dcf3b52b2 2018-08-13 08:55:23    160   \n",
              "3       66922902710d126a0e7d26b0e3805106 2017-11-23 19:45:59     45   \n",
              "4       2c9e548be18521d1c43cde1c582c6de8 2018-02-19 20:31:37     20   \n",
              "...                                  ...                 ...    ...   \n",
              "110175  1f9ab4708f3056ede07124aad39a2554 2018-02-12 13:10:37    175   \n",
              "110176  d50d79cb34e38265a8649c383dcffd48 2017-09-05 15:04:16    206   \n",
              "110177  a1043bafd471dff536d0c462352beb48 2018-01-12 21:36:21    180   \n",
              "110178  a1043bafd471dff536d0c462352beb48 2018-01-12 21:36:21    180   \n",
              "110179  ececbfcff9804a2d6b40f589df8eef2b 2018-03-15 10:55:42     68   \n",
              "\n",
              "        freight_value  total_price  \n",
              "0                   9           39  \n",
              "1                  23          142  \n",
              "2                  19          179  \n",
              "3                  27           72  \n",
              "4                   9           29  \n",
              "...               ...          ...  \n",
              "110175             20          195  \n",
              "110176             65          271  \n",
              "110177             41          221  \n",
              "110178             41          221  \n",
              "110179             18           86  \n",
              "\n",
              "[110180 rows x 17 columns]"
            ]
          },
          "execution_count": 127,
          "metadata": {},
          "output_type": "execute_result"
        }
      ],
      "source": [
        "orders_order_items_df = pd.merge(\n",
        "    left=orders_df,\n",
        "    right=order_items_df,\n",
        "    how=\"left\",\n",
        "    left_on=\"order_id\",\n",
        "    right_on=\"order_id\"\n",
        ")\n",
        "\n",
        "orders_order_items_df"
      ]
    },
    {
      "cell_type": "code",
      "execution_count": 128,
      "metadata": {
        "colab": {
          "base_uri": "https://localhost:8080/"
        },
        "id": "IjUkJlGP5WOz",
        "outputId": "3db399d1-14f7-4767-e7c1-fe8365ff9ad2"
      },
      "outputs": [
        {
          "name": "stdout",
          "output_type": "stream",
          "text": [
            "<class 'pandas.core.frame.DataFrame'>\n",
            "RangeIndex: 110180 entries, 0 to 110179\n",
            "Data columns (total 17 columns):\n",
            " #   Column                         Non-Null Count   Dtype         \n",
            "---  ------                         --------------   -----         \n",
            " 0   order_id                       110180 non-null  object        \n",
            " 1   customer_id                    110180 non-null  object        \n",
            " 2   order_status                   110180 non-null  object        \n",
            " 3   order_purchase_timestamp       110180 non-null  object        \n",
            " 4   order_approved_at              110180 non-null  datetime64[ns]\n",
            " 5   order_delivered_carrier_date   110180 non-null  datetime64[ns]\n",
            " 6   order_delivered_customer_date  110180 non-null  object        \n",
            " 7   order_estimated_delivery_date  110180 non-null  datetime64[ns]\n",
            " 8   ketepatan_waktu                110180 non-null  object        \n",
            " 9   waktu_pengantaran(hari)        110180 non-null  int64         \n",
            " 10  order_item_id                  110180 non-null  int64         \n",
            " 11  product_id                     110180 non-null  object        \n",
            " 12  seller_id                      110180 non-null  object        \n",
            " 13  shipping_limit_date            110180 non-null  datetime64[ns]\n",
            " 14  price                          110180 non-null  int64         \n",
            " 15  freight_value                  110180 non-null  int64         \n",
            " 16  total_price                    110180 non-null  int64         \n",
            "dtypes: datetime64[ns](4), int64(5), object(8)\n",
            "memory usage: 14.3+ MB\n"
          ]
        }
      ],
      "source": [
        "orders_order_items_df.info()"
      ]
    },
    {
      "cell_type": "code",
      "execution_count": 129,
      "metadata": {
        "colab": {
          "base_uri": "https://localhost:8080/",
          "height": 206
        },
        "id": "RBhNecYYTSDc",
        "outputId": "361e9f70-c30c-4ca6-98a5-ae46dfcd2355"
      },
      "outputs": [
        {
          "data": {
            "text/html": [
              "<div>\n",
              "<style scoped>\n",
              "    .dataframe tbody tr th:only-of-type {\n",
              "        vertical-align: middle;\n",
              "    }\n",
              "\n",
              "    .dataframe tbody tr th {\n",
              "        vertical-align: top;\n",
              "    }\n",
              "\n",
              "    .dataframe thead th {\n",
              "        text-align: right;\n",
              "    }\n",
              "</style>\n",
              "<table border=\"1\" class=\"dataframe\">\n",
              "  <thead>\n",
              "    <tr style=\"text-align: right;\">\n",
              "      <th></th>\n",
              "      <th>order_id</th>\n",
              "      <th>jumlah produk</th>\n",
              "    </tr>\n",
              "  </thead>\n",
              "  <tbody>\n",
              "    <tr>\n",
              "      <th>0</th>\n",
              "      <td>8272b63d03f5f79c56e9e4120aec44ef</td>\n",
              "      <td>21</td>\n",
              "    </tr>\n",
              "    <tr>\n",
              "      <th>1</th>\n",
              "      <td>1b15974a0141d54e36626dca3fdc731a</td>\n",
              "      <td>20</td>\n",
              "    </tr>\n",
              "    <tr>\n",
              "      <th>2</th>\n",
              "      <td>ab14fdcfbe524636d65ee38360e22ce8</td>\n",
              "      <td>20</td>\n",
              "    </tr>\n",
              "    <tr>\n",
              "      <th>3</th>\n",
              "      <td>428a2f660dc84138d969ccd69a0ab6d5</td>\n",
              "      <td>15</td>\n",
              "    </tr>\n",
              "    <tr>\n",
              "      <th>4</th>\n",
              "      <td>9ef13efd6949e4573a18964dd1bbe7f5</td>\n",
              "      <td>15</td>\n",
              "    </tr>\n",
              "  </tbody>\n",
              "</table>\n",
              "</div>"
            ],
            "text/plain": [
              "                           order_id  jumlah produk\n",
              "0  8272b63d03f5f79c56e9e4120aec44ef             21\n",
              "1  1b15974a0141d54e36626dca3fdc731a             20\n",
              "2  ab14fdcfbe524636d65ee38360e22ce8             20\n",
              "3  428a2f660dc84138d969ccd69a0ab6d5             15\n",
              "4  9ef13efd6949e4573a18964dd1bbe7f5             15"
            ]
          },
          "execution_count": 129,
          "metadata": {},
          "output_type": "execute_result"
        }
      ],
      "source": [
        "orders_order_items_df.groupby(by=\"order_id\").product_id.count().sort_values(ascending=False).reset_index().rename(columns={\"product_id\": \"jumlah produk\"}).head()"
      ]
    },
    {
      "cell_type": "code",
      "execution_count": 130,
      "metadata": {
        "colab": {
          "base_uri": "https://localhost:8080/",
          "height": 206
        },
        "id": "rUjuMzPVUSCa",
        "outputId": "02e225fb-3f9e-4b63-fb1c-be1bd72b839c"
      },
      "outputs": [
        {
          "data": {
            "text/html": [
              "<div>\n",
              "<style scoped>\n",
              "    .dataframe tbody tr th:only-of-type {\n",
              "        vertical-align: middle;\n",
              "    }\n",
              "\n",
              "    .dataframe tbody tr th {\n",
              "        vertical-align: top;\n",
              "    }\n",
              "\n",
              "    .dataframe thead th {\n",
              "        text-align: right;\n",
              "    }\n",
              "</style>\n",
              "<table border=\"1\" class=\"dataframe\">\n",
              "  <thead>\n",
              "    <tr style=\"text-align: right;\">\n",
              "      <th></th>\n",
              "      <th>order_id</th>\n",
              "      <th>total_price</th>\n",
              "    </tr>\n",
              "  </thead>\n",
              "  <tbody>\n",
              "    <tr>\n",
              "      <th>0</th>\n",
              "      <td>03caa2c082116e1d31e67e9ae3700499</td>\n",
              "      <td>13664</td>\n",
              "    </tr>\n",
              "    <tr>\n",
              "      <th>1</th>\n",
              "      <td>736e1922ae60d0d6a89247b851902527</td>\n",
              "      <td>7276</td>\n",
              "    </tr>\n",
              "    <tr>\n",
              "      <th>2</th>\n",
              "      <td>0812eb902a67711a1cb742b3cdaa65ae</td>\n",
              "      <td>6929</td>\n",
              "    </tr>\n",
              "    <tr>\n",
              "      <th>3</th>\n",
              "      <td>fefacc66af859508bf1a7934eab1e97f</td>\n",
              "      <td>6922</td>\n",
              "    </tr>\n",
              "    <tr>\n",
              "      <th>4</th>\n",
              "      <td>f5136e38d1a14a4dbd87dff67da82701</td>\n",
              "      <td>6727</td>\n",
              "    </tr>\n",
              "  </tbody>\n",
              "</table>\n",
              "</div>"
            ],
            "text/plain": [
              "                           order_id  total_price\n",
              "0  03caa2c082116e1d31e67e9ae3700499        13664\n",
              "1  736e1922ae60d0d6a89247b851902527         7276\n",
              "2  0812eb902a67711a1cb742b3cdaa65ae         6929\n",
              "3  fefacc66af859508bf1a7934eab1e97f         6922\n",
              "4  f5136e38d1a14a4dbd87dff67da82701         6727"
            ]
          },
          "execution_count": 130,
          "metadata": {},
          "output_type": "execute_result"
        }
      ],
      "source": [
        "orders_order_items_df.groupby(by=\"order_id\").total_price.sum().sort_values(ascending=False).reset_index().head()"
      ]
    },
    {
      "cell_type": "markdown",
      "metadata": {
        "id": "8smMkuQk2GU_"
      },
      "source": [
        "**Insight**\n",
        "- Mengurutkan 5 pesanan dengan jumlah produk terbanyak\n",
        "- Megurutkan 5 pesanan dengan total harga paling besar"
      ]
    },
    {
      "cell_type": "markdown",
      "metadata": {
        "id": "UNh5UxbvAUqD"
      },
      "source": [
        "### Explore `products_df`"
      ]
    },
    {
      "cell_type": "code",
      "execution_count": 131,
      "metadata": {
        "colab": {
          "base_uri": "https://localhost:8080/",
          "height": 423
        },
        "id": "j1RIsHf4Ab2C",
        "outputId": "2e39618d-ccad-46dc-973d-40a9ee1022ea"
      },
      "outputs": [
        {
          "data": {
            "text/html": [
              "<div>\n",
              "<style scoped>\n",
              "    .dataframe tbody tr th:only-of-type {\n",
              "        vertical-align: middle;\n",
              "    }\n",
              "\n",
              "    .dataframe tbody tr th {\n",
              "        vertical-align: top;\n",
              "    }\n",
              "\n",
              "    .dataframe thead th {\n",
              "        text-align: right;\n",
              "    }\n",
              "</style>\n",
              "<table border=\"1\" class=\"dataframe\">\n",
              "  <thead>\n",
              "    <tr style=\"text-align: right;\">\n",
              "      <th></th>\n",
              "      <th>product_id</th>\n",
              "      <th>product_category_name</th>\n",
              "      <th>product_name_lenght</th>\n",
              "      <th>product_description_lenght</th>\n",
              "      <th>product_photos_qty</th>\n",
              "      <th>product_weight_g</th>\n",
              "      <th>product_length_cm</th>\n",
              "      <th>product_height_cm</th>\n",
              "      <th>product_width_cm</th>\n",
              "    </tr>\n",
              "  </thead>\n",
              "  <tbody>\n",
              "    <tr>\n",
              "      <th>0</th>\n",
              "      <td>1e9e8ef04dbcff4541ed26657ea517e5</td>\n",
              "      <td>perfumaria</td>\n",
              "      <td>40</td>\n",
              "      <td>287</td>\n",
              "      <td>1</td>\n",
              "      <td>225</td>\n",
              "      <td>16</td>\n",
              "      <td>10</td>\n",
              "      <td>14</td>\n",
              "    </tr>\n",
              "    <tr>\n",
              "      <th>1</th>\n",
              "      <td>3aa071139cb16b67ca9e5dea641aaa2f</td>\n",
              "      <td>artes</td>\n",
              "      <td>44</td>\n",
              "      <td>276</td>\n",
              "      <td>1</td>\n",
              "      <td>1000</td>\n",
              "      <td>30</td>\n",
              "      <td>18</td>\n",
              "      <td>20</td>\n",
              "    </tr>\n",
              "    <tr>\n",
              "      <th>2</th>\n",
              "      <td>96bd76ec8810374ed1b65e291975717f</td>\n",
              "      <td>esporte_lazer</td>\n",
              "      <td>46</td>\n",
              "      <td>250</td>\n",
              "      <td>1</td>\n",
              "      <td>154</td>\n",
              "      <td>18</td>\n",
              "      <td>9</td>\n",
              "      <td>15</td>\n",
              "    </tr>\n",
              "    <tr>\n",
              "      <th>3</th>\n",
              "      <td>cef67bcfe19066a932b7673e239eb23d</td>\n",
              "      <td>bebes</td>\n",
              "      <td>27</td>\n",
              "      <td>261</td>\n",
              "      <td>1</td>\n",
              "      <td>371</td>\n",
              "      <td>26</td>\n",
              "      <td>4</td>\n",
              "      <td>26</td>\n",
              "    </tr>\n",
              "    <tr>\n",
              "      <th>4</th>\n",
              "      <td>9dc1a7de274444849c219cff195d0b71</td>\n",
              "      <td>utilidades_domesticas</td>\n",
              "      <td>37</td>\n",
              "      <td>402</td>\n",
              "      <td>4</td>\n",
              "      <td>625</td>\n",
              "      <td>20</td>\n",
              "      <td>17</td>\n",
              "      <td>13</td>\n",
              "    </tr>\n",
              "    <tr>\n",
              "      <th>...</th>\n",
              "      <td>...</td>\n",
              "      <td>...</td>\n",
              "      <td>...</td>\n",
              "      <td>...</td>\n",
              "      <td>...</td>\n",
              "      <td>...</td>\n",
              "      <td>...</td>\n",
              "      <td>...</td>\n",
              "      <td>...</td>\n",
              "    </tr>\n",
              "    <tr>\n",
              "      <th>32946</th>\n",
              "      <td>a0b7d5a992ccda646f2d34e418fff5a0</td>\n",
              "      <td>moveis_decoracao</td>\n",
              "      <td>45</td>\n",
              "      <td>67</td>\n",
              "      <td>2</td>\n",
              "      <td>12300</td>\n",
              "      <td>40</td>\n",
              "      <td>40</td>\n",
              "      <td>40</td>\n",
              "    </tr>\n",
              "    <tr>\n",
              "      <th>32947</th>\n",
              "      <td>bf4538d88321d0fd4412a93c974510e6</td>\n",
              "      <td>construcao_ferramentas_iluminacao</td>\n",
              "      <td>41</td>\n",
              "      <td>971</td>\n",
              "      <td>1</td>\n",
              "      <td>1700</td>\n",
              "      <td>16</td>\n",
              "      <td>19</td>\n",
              "      <td>16</td>\n",
              "    </tr>\n",
              "    <tr>\n",
              "      <th>32948</th>\n",
              "      <td>9a7c6041fa9592d9d9ef6cfe62a71f8c</td>\n",
              "      <td>cama_mesa_banho</td>\n",
              "      <td>50</td>\n",
              "      <td>799</td>\n",
              "      <td>1</td>\n",
              "      <td>1400</td>\n",
              "      <td>27</td>\n",
              "      <td>7</td>\n",
              "      <td>27</td>\n",
              "    </tr>\n",
              "    <tr>\n",
              "      <th>32949</th>\n",
              "      <td>83808703fc0706a22e264b9d75f04a2e</td>\n",
              "      <td>informatica_acessorios</td>\n",
              "      <td>60</td>\n",
              "      <td>156</td>\n",
              "      <td>2</td>\n",
              "      <td>700</td>\n",
              "      <td>31</td>\n",
              "      <td>13</td>\n",
              "      <td>20</td>\n",
              "    </tr>\n",
              "    <tr>\n",
              "      <th>32950</th>\n",
              "      <td>106392145fca363410d287a815be6de4</td>\n",
              "      <td>cama_mesa_banho</td>\n",
              "      <td>58</td>\n",
              "      <td>309</td>\n",
              "      <td>1</td>\n",
              "      <td>2083</td>\n",
              "      <td>12</td>\n",
              "      <td>2</td>\n",
              "      <td>7</td>\n",
              "    </tr>\n",
              "  </tbody>\n",
              "</table>\n",
              "<p>32336 rows × 9 columns</p>\n",
              "</div>"
            ],
            "text/plain": [
              "                             product_id              product_category_name  \\\n",
              "0      1e9e8ef04dbcff4541ed26657ea517e5                         perfumaria   \n",
              "1      3aa071139cb16b67ca9e5dea641aaa2f                              artes   \n",
              "2      96bd76ec8810374ed1b65e291975717f                      esporte_lazer   \n",
              "3      cef67bcfe19066a932b7673e239eb23d                              bebes   \n",
              "4      9dc1a7de274444849c219cff195d0b71              utilidades_domesticas   \n",
              "...                                 ...                                ...   \n",
              "32946  a0b7d5a992ccda646f2d34e418fff5a0                   moveis_decoracao   \n",
              "32947  bf4538d88321d0fd4412a93c974510e6  construcao_ferramentas_iluminacao   \n",
              "32948  9a7c6041fa9592d9d9ef6cfe62a71f8c                    cama_mesa_banho   \n",
              "32949  83808703fc0706a22e264b9d75f04a2e             informatica_acessorios   \n",
              "32950  106392145fca363410d287a815be6de4                    cama_mesa_banho   \n",
              "\n",
              "       product_name_lenght  product_description_lenght  product_photos_qty  \\\n",
              "0                       40                         287                   1   \n",
              "1                       44                         276                   1   \n",
              "2                       46                         250                   1   \n",
              "3                       27                         261                   1   \n",
              "4                       37                         402                   4   \n",
              "...                    ...                         ...                 ...   \n",
              "32946                   45                          67                   2   \n",
              "32947                   41                         971                   1   \n",
              "32948                   50                         799                   1   \n",
              "32949                   60                         156                   2   \n",
              "32950                   58                         309                   1   \n",
              "\n",
              "       product_weight_g  product_length_cm  product_height_cm  \\\n",
              "0                   225                 16                 10   \n",
              "1                  1000                 30                 18   \n",
              "2                   154                 18                  9   \n",
              "3                   371                 26                  4   \n",
              "4                   625                 20                 17   \n",
              "...                 ...                ...                ...   \n",
              "32946             12300                 40                 40   \n",
              "32947              1700                 16                 19   \n",
              "32948              1400                 27                  7   \n",
              "32949               700                 31                 13   \n",
              "32950              2083                 12                  2   \n",
              "\n",
              "       product_width_cm  \n",
              "0                    14  \n",
              "1                    20  \n",
              "2                    15  \n",
              "3                    26  \n",
              "4                    13  \n",
              "...                 ...  \n",
              "32946                40  \n",
              "32947                16  \n",
              "32948                27  \n",
              "32949                20  \n",
              "32950                 7  \n",
              "\n",
              "[32336 rows x 9 columns]"
            ]
          },
          "execution_count": 131,
          "metadata": {},
          "output_type": "execute_result"
        }
      ],
      "source": [
        "products_df"
      ]
    },
    {
      "cell_type": "code",
      "execution_count": 132,
      "metadata": {
        "colab": {
          "base_uri": "https://localhost:8080/"
        },
        "id": "dUFNdNi1Eo4d",
        "outputId": "ab81a717-1a74-4a6a-e034-2d92cc758195"
      },
      "outputs": [
        {
          "data": {
            "text/plain": [
              "True"
            ]
          },
          "execution_count": 132,
          "metadata": {},
          "output_type": "execute_result"
        }
      ],
      "source": [
        "products_df.product_id.is_unique"
      ]
    },
    {
      "cell_type": "code",
      "execution_count": 133,
      "metadata": {
        "colab": {
          "base_uri": "https://localhost:8080/"
        },
        "id": "qA1ch23AEt0P",
        "outputId": "00f829c2-7f53-4e03-e31c-b81e02dc76eb"
      },
      "outputs": [
        {
          "data": {
            "text/plain": [
              "False"
            ]
          },
          "execution_count": 133,
          "metadata": {},
          "output_type": "execute_result"
        }
      ],
      "source": [
        "products_df.product_category_name.is_unique"
      ]
    },
    {
      "cell_type": "code",
      "execution_count": 134,
      "metadata": {
        "colab": {
          "base_uri": "https://localhost:8080/"
        },
        "id": "CjRrQYvLE5Qi",
        "outputId": "71c50566-f9bf-4062-dfdb-37b9752b9894"
      },
      "outputs": [
        {
          "data": {
            "text/plain": [
              "73"
            ]
          },
          "execution_count": 134,
          "metadata": {},
          "output_type": "execute_result"
        }
      ],
      "source": [
        "products_df.product_category_name.nunique()"
      ]
    },
    {
      "cell_type": "code",
      "execution_count": 135,
      "metadata": {
        "colab": {
          "base_uri": "https://localhost:8080/",
          "height": 206
        },
        "id": "NoRU1MngFsig",
        "outputId": "6bfcd137-172d-4009-fdbe-532224ccdbb9"
      },
      "outputs": [
        {
          "data": {
            "text/html": [
              "<div>\n",
              "<style scoped>\n",
              "    .dataframe tbody tr th:only-of-type {\n",
              "        vertical-align: middle;\n",
              "    }\n",
              "\n",
              "    .dataframe tbody tr th {\n",
              "        vertical-align: top;\n",
              "    }\n",
              "\n",
              "    .dataframe thead th {\n",
              "        text-align: right;\n",
              "    }\n",
              "</style>\n",
              "<table border=\"1\" class=\"dataframe\">\n",
              "  <thead>\n",
              "    <tr style=\"text-align: right;\">\n",
              "      <th></th>\n",
              "      <th>product_category_name</th>\n",
              "      <th>jumlah produk</th>\n",
              "    </tr>\n",
              "  </thead>\n",
              "  <tbody>\n",
              "    <tr>\n",
              "      <th>0</th>\n",
              "      <td>cama_mesa_banho</td>\n",
              "      <td>3025</td>\n",
              "    </tr>\n",
              "    <tr>\n",
              "      <th>1</th>\n",
              "      <td>esporte_lazer</td>\n",
              "      <td>2867</td>\n",
              "    </tr>\n",
              "    <tr>\n",
              "      <th>2</th>\n",
              "      <td>moveis_decoracao</td>\n",
              "      <td>2657</td>\n",
              "    </tr>\n",
              "    <tr>\n",
              "      <th>3</th>\n",
              "      <td>beleza_saude</td>\n",
              "      <td>2444</td>\n",
              "    </tr>\n",
              "    <tr>\n",
              "      <th>4</th>\n",
              "      <td>utilidades_domesticas</td>\n",
              "      <td>2335</td>\n",
              "    </tr>\n",
              "  </tbody>\n",
              "</table>\n",
              "</div>"
            ],
            "text/plain": [
              "   product_category_name  jumlah produk\n",
              "0        cama_mesa_banho           3025\n",
              "1          esporte_lazer           2867\n",
              "2       moveis_decoracao           2657\n",
              "3           beleza_saude           2444\n",
              "4  utilidades_domesticas           2335"
            ]
          },
          "execution_count": 135,
          "metadata": {},
          "output_type": "execute_result"
        }
      ],
      "source": [
        "products_df.groupby(by=\"product_category_name\").product_id.count().sort_values(ascending=False).reset_index().rename(columns={\"product_id\": \"jumlah produk\"}).head()"
      ]
    },
    {
      "cell_type": "code",
      "execution_count": 136,
      "metadata": {
        "colab": {
          "base_uri": "https://localhost:8080/",
          "height": 206
        },
        "id": "psGguvq-Gp50",
        "outputId": "a4607b6a-68b5-43f1-afa3-eceec345b31b"
      },
      "outputs": [
        {
          "data": {
            "text/html": [
              "<div>\n",
              "<style scoped>\n",
              "    .dataframe tbody tr th:only-of-type {\n",
              "        vertical-align: middle;\n",
              "    }\n",
              "\n",
              "    .dataframe tbody tr th {\n",
              "        vertical-align: top;\n",
              "    }\n",
              "\n",
              "    .dataframe thead th {\n",
              "        text-align: right;\n",
              "    }\n",
              "</style>\n",
              "<table border=\"1\" class=\"dataframe\">\n",
              "  <thead>\n",
              "    <tr style=\"text-align: right;\">\n",
              "      <th></th>\n",
              "      <th>product_id</th>\n",
              "      <th>product_category_name</th>\n",
              "      <th>product_weight_g</th>\n",
              "    </tr>\n",
              "  </thead>\n",
              "  <tbody>\n",
              "    <tr>\n",
              "      <th>25166</th>\n",
              "      <td>26644690fde745fc4654719c3904e1db</td>\n",
              "      <td>cama_mesa_banho</td>\n",
              "      <td>40425</td>\n",
              "    </tr>\n",
              "    <tr>\n",
              "      <th>7535</th>\n",
              "      <td>9dfef86fb34051388a7263a31642386c</td>\n",
              "      <td>beleza_saude</td>\n",
              "      <td>30000</td>\n",
              "    </tr>\n",
              "    <tr>\n",
              "      <th>7422</th>\n",
              "      <td>bbc5419bc92d76e27795c9ec2c233c64</td>\n",
              "      <td>beleza_saude</td>\n",
              "      <td>30000</td>\n",
              "    </tr>\n",
              "    <tr>\n",
              "      <th>6946</th>\n",
              "      <td>d14495a85be157b5cacef4eaaf825791</td>\n",
              "      <td>moveis_cozinha_area_de_servico_jantar_e_jardim</td>\n",
              "      <td>30000</td>\n",
              "    </tr>\n",
              "    <tr>\n",
              "      <th>8218</th>\n",
              "      <td>9fa7e05ae5cddeb74ff2fe5046b742db</td>\n",
              "      <td>beleza_saude</td>\n",
              "      <td>30000</td>\n",
              "    </tr>\n",
              "  </tbody>\n",
              "</table>\n",
              "</div>"
            ],
            "text/plain": [
              "                             product_id  \\\n",
              "25166  26644690fde745fc4654719c3904e1db   \n",
              "7535   9dfef86fb34051388a7263a31642386c   \n",
              "7422   bbc5419bc92d76e27795c9ec2c233c64   \n",
              "6946   d14495a85be157b5cacef4eaaf825791   \n",
              "8218   9fa7e05ae5cddeb74ff2fe5046b742db   \n",
              "\n",
              "                                product_category_name  product_weight_g  \n",
              "25166                                 cama_mesa_banho             40425  \n",
              "7535                                     beleza_saude             30000  \n",
              "7422                                     beleza_saude             30000  \n",
              "6946   moveis_cozinha_area_de_servico_jantar_e_jardim             30000  \n",
              "8218                                     beleza_saude             30000  "
            ]
          },
          "execution_count": 136,
          "metadata": {},
          "output_type": "execute_result"
        }
      ],
      "source": [
        "products_weight = products_df.sort_values(by=\"product_weight_g\", ascending=False)\n",
        "products_weight[[\"product_id\", \"product_category_name\", \"product_weight_g\"]].head()"
      ]
    },
    {
      "cell_type": "markdown",
      "metadata": {
        "id": "E1DiJz-_4wJu"
      },
      "source": [
        "**Insight**\n",
        "- Mengurutkan 5 kategori produk yang paling banyak dijual\n",
        "- Mengurutkan 5 barang yang memiliki berat paling besar"
      ]
    },
    {
      "cell_type": "markdown",
      "metadata": {
        "id": "GmdMTomC1f8i"
      },
      "source": [
        "### Explore `products_df & order_items_df & orders_df & product_category_name_df & order_reviews_df`"
      ]
    },
    {
      "cell_type": "code",
      "execution_count": 137,
      "metadata": {
        "colab": {
          "base_uri": "https://localhost:8080/",
          "height": 443
        },
        "id": "L0wGr5iM1pQx",
        "outputId": "4e870cce-347c-413b-c9e0-3806b674ed41"
      },
      "outputs": [
        {
          "data": {
            "text/html": [
              "<div>\n",
              "<style scoped>\n",
              "    .dataframe tbody tr th:only-of-type {\n",
              "        vertical-align: middle;\n",
              "    }\n",
              "\n",
              "    .dataframe tbody tr th {\n",
              "        vertical-align: top;\n",
              "    }\n",
              "\n",
              "    .dataframe thead th {\n",
              "        text-align: right;\n",
              "    }\n",
              "</style>\n",
              "<table border=\"1\" class=\"dataframe\">\n",
              "  <thead>\n",
              "    <tr style=\"text-align: right;\">\n",
              "      <th></th>\n",
              "      <th>order_id</th>\n",
              "      <th>customer_id</th>\n",
              "      <th>order_status</th>\n",
              "      <th>order_purchase_timestamp</th>\n",
              "      <th>order_approved_at</th>\n",
              "      <th>order_delivered_carrier_date</th>\n",
              "      <th>order_delivered_customer_date</th>\n",
              "      <th>order_estimated_delivery_date</th>\n",
              "      <th>ketepatan_waktu</th>\n",
              "      <th>waktu_pengantaran(hari)</th>\n",
              "      <th>order_item_id</th>\n",
              "      <th>product_id</th>\n",
              "      <th>seller_id</th>\n",
              "      <th>shipping_limit_date</th>\n",
              "      <th>price</th>\n",
              "      <th>freight_value</th>\n",
              "      <th>total_price</th>\n",
              "    </tr>\n",
              "  </thead>\n",
              "  <tbody>\n",
              "    <tr>\n",
              "      <th>0</th>\n",
              "      <td>e481f51cbdc54678b7cc49136f2d6af7</td>\n",
              "      <td>9ef432eb6251297304e76186b10a928d</td>\n",
              "      <td>delivered</td>\n",
              "      <td>2017-10-02</td>\n",
              "      <td>2017-10-02 11:07:15</td>\n",
              "      <td>2017-10-04 19:55:00</td>\n",
              "      <td>2017-10-10</td>\n",
              "      <td>2017-10-18</td>\n",
              "      <td>Tepat waktu</td>\n",
              "      <td>8</td>\n",
              "      <td>1</td>\n",
              "      <td>87285b34884572647811a353c7ac498a</td>\n",
              "      <td>3504c0cb71d7fa48d967e0e4c94d59d9</td>\n",
              "      <td>2017-10-06 11:07:15</td>\n",
              "      <td>30</td>\n",
              "      <td>9</td>\n",
              "      <td>39</td>\n",
              "    </tr>\n",
              "    <tr>\n",
              "      <th>1</th>\n",
              "      <td>53cdb2fc8bc7dce0b6741e2150273451</td>\n",
              "      <td>b0830fb4747a6c6d20dea0b8c802d7ef</td>\n",
              "      <td>delivered</td>\n",
              "      <td>2018-07-24</td>\n",
              "      <td>2018-07-26 03:24:27</td>\n",
              "      <td>2018-07-26 14:31:00</td>\n",
              "      <td>2018-08-07</td>\n",
              "      <td>2018-08-13</td>\n",
              "      <td>Tepat waktu</td>\n",
              "      <td>14</td>\n",
              "      <td>1</td>\n",
              "      <td>595fac2a385ac33a80bd5114aec74eb8</td>\n",
              "      <td>289cdb325fb7e7f891c38608bf9e0962</td>\n",
              "      <td>2018-07-30 03:24:27</td>\n",
              "      <td>119</td>\n",
              "      <td>23</td>\n",
              "      <td>142</td>\n",
              "    </tr>\n",
              "    <tr>\n",
              "      <th>2</th>\n",
              "      <td>47770eb9100c2d0c44946d9cf07ec65d</td>\n",
              "      <td>41ce2a54c0b03bf3443c3d931a367089</td>\n",
              "      <td>delivered</td>\n",
              "      <td>2018-08-08</td>\n",
              "      <td>2018-08-08 08:55:23</td>\n",
              "      <td>2018-08-08 13:50:00</td>\n",
              "      <td>2018-08-17</td>\n",
              "      <td>2018-09-04</td>\n",
              "      <td>Tepat waktu</td>\n",
              "      <td>9</td>\n",
              "      <td>1</td>\n",
              "      <td>aa4383b373c6aca5d8797843e5594415</td>\n",
              "      <td>4869f7a5dfa277a7dca6462dcf3b52b2</td>\n",
              "      <td>2018-08-13 08:55:23</td>\n",
              "      <td>160</td>\n",
              "      <td>19</td>\n",
              "      <td>179</td>\n",
              "    </tr>\n",
              "    <tr>\n",
              "      <th>3</th>\n",
              "      <td>949d5b44dbf5de918fe9c16f97b45f8a</td>\n",
              "      <td>f88197465ea7920adcdbec7375364d82</td>\n",
              "      <td>delivered</td>\n",
              "      <td>2017-11-18</td>\n",
              "      <td>2017-11-18 19:45:59</td>\n",
              "      <td>2017-11-22 13:39:59</td>\n",
              "      <td>2017-12-02</td>\n",
              "      <td>2017-12-15</td>\n",
              "      <td>Tepat waktu</td>\n",
              "      <td>14</td>\n",
              "      <td>1</td>\n",
              "      <td>d0b61bfb1de832b15ba9d266ca96e5b0</td>\n",
              "      <td>66922902710d126a0e7d26b0e3805106</td>\n",
              "      <td>2017-11-23 19:45:59</td>\n",
              "      <td>45</td>\n",
              "      <td>27</td>\n",
              "      <td>72</td>\n",
              "    </tr>\n",
              "    <tr>\n",
              "      <th>4</th>\n",
              "      <td>ad21c59c0840e6cb83a9ceb5573f8159</td>\n",
              "      <td>8ab97904e6daea8866dbdbc4fb7aad2c</td>\n",
              "      <td>delivered</td>\n",
              "      <td>2018-02-13</td>\n",
              "      <td>2018-02-13 22:20:29</td>\n",
              "      <td>2018-02-14 19:46:34</td>\n",
              "      <td>2018-02-16</td>\n",
              "      <td>2018-02-26</td>\n",
              "      <td>Tepat waktu</td>\n",
              "      <td>3</td>\n",
              "      <td>1</td>\n",
              "      <td>65266b2da20d04dbe00c5c2d3bb7859e</td>\n",
              "      <td>2c9e548be18521d1c43cde1c582c6de8</td>\n",
              "      <td>2018-02-19 20:31:37</td>\n",
              "      <td>20</td>\n",
              "      <td>9</td>\n",
              "      <td>29</td>\n",
              "    </tr>\n",
              "    <tr>\n",
              "      <th>...</th>\n",
              "      <td>...</td>\n",
              "      <td>...</td>\n",
              "      <td>...</td>\n",
              "      <td>...</td>\n",
              "      <td>...</td>\n",
              "      <td>...</td>\n",
              "      <td>...</td>\n",
              "      <td>...</td>\n",
              "      <td>...</td>\n",
              "      <td>...</td>\n",
              "      <td>...</td>\n",
              "      <td>...</td>\n",
              "      <td>...</td>\n",
              "      <td>...</td>\n",
              "      <td>...</td>\n",
              "      <td>...</td>\n",
              "      <td>...</td>\n",
              "    </tr>\n",
              "    <tr>\n",
              "      <th>110175</th>\n",
              "      <td>63943bddc261676b46f01ca7ac2f7bd8</td>\n",
              "      <td>1fca14ff2861355f6e5f14306ff977a7</td>\n",
              "      <td>delivered</td>\n",
              "      <td>2018-02-06</td>\n",
              "      <td>2018-02-06 13:10:37</td>\n",
              "      <td>2018-02-07 23:22:42</td>\n",
              "      <td>2018-02-28</td>\n",
              "      <td>2018-03-02</td>\n",
              "      <td>Tepat waktu</td>\n",
              "      <td>22</td>\n",
              "      <td>1</td>\n",
              "      <td>f1d4ce8c6dd66c47bbaa8c6781c2a923</td>\n",
              "      <td>1f9ab4708f3056ede07124aad39a2554</td>\n",
              "      <td>2018-02-12 13:10:37</td>\n",
              "      <td>175</td>\n",
              "      <td>20</td>\n",
              "      <td>195</td>\n",
              "    </tr>\n",
              "    <tr>\n",
              "      <th>110176</th>\n",
              "      <td>83c1379a015df1e13d02aae0204711ab</td>\n",
              "      <td>1aa71eb042121263aafbe80c1b562c9c</td>\n",
              "      <td>delivered</td>\n",
              "      <td>2017-08-27</td>\n",
              "      <td>2017-08-27 15:04:16</td>\n",
              "      <td>2017-08-28 20:52:26</td>\n",
              "      <td>2017-09-21</td>\n",
              "      <td>2017-09-27</td>\n",
              "      <td>Tepat waktu</td>\n",
              "      <td>25</td>\n",
              "      <td>1</td>\n",
              "      <td>b80910977a37536adeddd63663f916ad</td>\n",
              "      <td>d50d79cb34e38265a8649c383dcffd48</td>\n",
              "      <td>2017-09-05 15:04:16</td>\n",
              "      <td>206</td>\n",
              "      <td>65</td>\n",
              "      <td>271</td>\n",
              "    </tr>\n",
              "    <tr>\n",
              "      <th>110177</th>\n",
              "      <td>11c177c8e97725db2631073c19f07b62</td>\n",
              "      <td>b331b74b18dc79bcdf6532d51e1637c1</td>\n",
              "      <td>delivered</td>\n",
              "      <td>2018-01-08</td>\n",
              "      <td>2018-01-08 21:36:21</td>\n",
              "      <td>2018-01-12 15:35:03</td>\n",
              "      <td>2018-01-25</td>\n",
              "      <td>2018-02-15</td>\n",
              "      <td>Tepat waktu</td>\n",
              "      <td>17</td>\n",
              "      <td>1</td>\n",
              "      <td>d1c427060a0f73f6b889a5c7c61f2ac4</td>\n",
              "      <td>a1043bafd471dff536d0c462352beb48</td>\n",
              "      <td>2018-01-12 21:36:21</td>\n",
              "      <td>180</td>\n",
              "      <td>41</td>\n",
              "      <td>221</td>\n",
              "    </tr>\n",
              "    <tr>\n",
              "      <th>110178</th>\n",
              "      <td>11c177c8e97725db2631073c19f07b62</td>\n",
              "      <td>b331b74b18dc79bcdf6532d51e1637c1</td>\n",
              "      <td>delivered</td>\n",
              "      <td>2018-01-08</td>\n",
              "      <td>2018-01-08 21:36:21</td>\n",
              "      <td>2018-01-12 15:35:03</td>\n",
              "      <td>2018-01-25</td>\n",
              "      <td>2018-02-15</td>\n",
              "      <td>Tepat waktu</td>\n",
              "      <td>17</td>\n",
              "      <td>2</td>\n",
              "      <td>d1c427060a0f73f6b889a5c7c61f2ac4</td>\n",
              "      <td>a1043bafd471dff536d0c462352beb48</td>\n",
              "      <td>2018-01-12 21:36:21</td>\n",
              "      <td>180</td>\n",
              "      <td>41</td>\n",
              "      <td>221</td>\n",
              "    </tr>\n",
              "    <tr>\n",
              "      <th>110179</th>\n",
              "      <td>66dea50a8b16d9b4dee7af250b4be1a5</td>\n",
              "      <td>edb027a75a1449115f6b43211ae02a24</td>\n",
              "      <td>delivered</td>\n",
              "      <td>2018-03-08</td>\n",
              "      <td>2018-03-09 11:20:28</td>\n",
              "      <td>2018-03-09 22:11:59</td>\n",
              "      <td>2018-03-16</td>\n",
              "      <td>2018-04-03</td>\n",
              "      <td>Tepat waktu</td>\n",
              "      <td>8</td>\n",
              "      <td>1</td>\n",
              "      <td>006619bbed68b000c8ba3f8725d5409e</td>\n",
              "      <td>ececbfcff9804a2d6b40f589df8eef2b</td>\n",
              "      <td>2018-03-15 10:55:42</td>\n",
              "      <td>68</td>\n",
              "      <td>18</td>\n",
              "      <td>86</td>\n",
              "    </tr>\n",
              "  </tbody>\n",
              "</table>\n",
              "<p>110180 rows × 17 columns</p>\n",
              "</div>"
            ],
            "text/plain": [
              "                                order_id                       customer_id  \\\n",
              "0       e481f51cbdc54678b7cc49136f2d6af7  9ef432eb6251297304e76186b10a928d   \n",
              "1       53cdb2fc8bc7dce0b6741e2150273451  b0830fb4747a6c6d20dea0b8c802d7ef   \n",
              "2       47770eb9100c2d0c44946d9cf07ec65d  41ce2a54c0b03bf3443c3d931a367089   \n",
              "3       949d5b44dbf5de918fe9c16f97b45f8a  f88197465ea7920adcdbec7375364d82   \n",
              "4       ad21c59c0840e6cb83a9ceb5573f8159  8ab97904e6daea8866dbdbc4fb7aad2c   \n",
              "...                                  ...                               ...   \n",
              "110175  63943bddc261676b46f01ca7ac2f7bd8  1fca14ff2861355f6e5f14306ff977a7   \n",
              "110176  83c1379a015df1e13d02aae0204711ab  1aa71eb042121263aafbe80c1b562c9c   \n",
              "110177  11c177c8e97725db2631073c19f07b62  b331b74b18dc79bcdf6532d51e1637c1   \n",
              "110178  11c177c8e97725db2631073c19f07b62  b331b74b18dc79bcdf6532d51e1637c1   \n",
              "110179  66dea50a8b16d9b4dee7af250b4be1a5  edb027a75a1449115f6b43211ae02a24   \n",
              "\n",
              "       order_status order_purchase_timestamp   order_approved_at  \\\n",
              "0         delivered               2017-10-02 2017-10-02 11:07:15   \n",
              "1         delivered               2018-07-24 2018-07-26 03:24:27   \n",
              "2         delivered               2018-08-08 2018-08-08 08:55:23   \n",
              "3         delivered               2017-11-18 2017-11-18 19:45:59   \n",
              "4         delivered               2018-02-13 2018-02-13 22:20:29   \n",
              "...             ...                      ...                 ...   \n",
              "110175    delivered               2018-02-06 2018-02-06 13:10:37   \n",
              "110176    delivered               2017-08-27 2017-08-27 15:04:16   \n",
              "110177    delivered               2018-01-08 2018-01-08 21:36:21   \n",
              "110178    delivered               2018-01-08 2018-01-08 21:36:21   \n",
              "110179    delivered               2018-03-08 2018-03-09 11:20:28   \n",
              "\n",
              "       order_delivered_carrier_date order_delivered_customer_date  \\\n",
              "0               2017-10-04 19:55:00                    2017-10-10   \n",
              "1               2018-07-26 14:31:00                    2018-08-07   \n",
              "2               2018-08-08 13:50:00                    2018-08-17   \n",
              "3               2017-11-22 13:39:59                    2017-12-02   \n",
              "4               2018-02-14 19:46:34                    2018-02-16   \n",
              "...                             ...                           ...   \n",
              "110175          2018-02-07 23:22:42                    2018-02-28   \n",
              "110176          2017-08-28 20:52:26                    2017-09-21   \n",
              "110177          2018-01-12 15:35:03                    2018-01-25   \n",
              "110178          2018-01-12 15:35:03                    2018-01-25   \n",
              "110179          2018-03-09 22:11:59                    2018-03-16   \n",
              "\n",
              "       order_estimated_delivery_date ketepatan_waktu  waktu_pengantaran(hari)  \\\n",
              "0                         2017-10-18     Tepat waktu                        8   \n",
              "1                         2018-08-13     Tepat waktu                       14   \n",
              "2                         2018-09-04     Tepat waktu                        9   \n",
              "3                         2017-12-15     Tepat waktu                       14   \n",
              "4                         2018-02-26     Tepat waktu                        3   \n",
              "...                              ...             ...                      ...   \n",
              "110175                    2018-03-02     Tepat waktu                       22   \n",
              "110176                    2017-09-27     Tepat waktu                       25   \n",
              "110177                    2018-02-15     Tepat waktu                       17   \n",
              "110178                    2018-02-15     Tepat waktu                       17   \n",
              "110179                    2018-04-03     Tepat waktu                        8   \n",
              "\n",
              "        order_item_id                        product_id  \\\n",
              "0                   1  87285b34884572647811a353c7ac498a   \n",
              "1                   1  595fac2a385ac33a80bd5114aec74eb8   \n",
              "2                   1  aa4383b373c6aca5d8797843e5594415   \n",
              "3                   1  d0b61bfb1de832b15ba9d266ca96e5b0   \n",
              "4                   1  65266b2da20d04dbe00c5c2d3bb7859e   \n",
              "...               ...                               ...   \n",
              "110175              1  f1d4ce8c6dd66c47bbaa8c6781c2a923   \n",
              "110176              1  b80910977a37536adeddd63663f916ad   \n",
              "110177              1  d1c427060a0f73f6b889a5c7c61f2ac4   \n",
              "110178              2  d1c427060a0f73f6b889a5c7c61f2ac4   \n",
              "110179              1  006619bbed68b000c8ba3f8725d5409e   \n",
              "\n",
              "                               seller_id shipping_limit_date  price  \\\n",
              "0       3504c0cb71d7fa48d967e0e4c94d59d9 2017-10-06 11:07:15     30   \n",
              "1       289cdb325fb7e7f891c38608bf9e0962 2018-07-30 03:24:27    119   \n",
              "2       4869f7a5dfa277a7dca6462dcf3b52b2 2018-08-13 08:55:23    160   \n",
              "3       66922902710d126a0e7d26b0e3805106 2017-11-23 19:45:59     45   \n",
              "4       2c9e548be18521d1c43cde1c582c6de8 2018-02-19 20:31:37     20   \n",
              "...                                  ...                 ...    ...   \n",
              "110175  1f9ab4708f3056ede07124aad39a2554 2018-02-12 13:10:37    175   \n",
              "110176  d50d79cb34e38265a8649c383dcffd48 2017-09-05 15:04:16    206   \n",
              "110177  a1043bafd471dff536d0c462352beb48 2018-01-12 21:36:21    180   \n",
              "110178  a1043bafd471dff536d0c462352beb48 2018-01-12 21:36:21    180   \n",
              "110179  ececbfcff9804a2d6b40f589df8eef2b 2018-03-15 10:55:42     68   \n",
              "\n",
              "        freight_value  total_price  \n",
              "0                   9           39  \n",
              "1                  23          142  \n",
              "2                  19          179  \n",
              "3                  27           72  \n",
              "4                   9           29  \n",
              "...               ...          ...  \n",
              "110175             20          195  \n",
              "110176             65          271  \n",
              "110177             41          221  \n",
              "110178             41          221  \n",
              "110179             18           86  \n",
              "\n",
              "[110180 rows x 17 columns]"
            ]
          },
          "execution_count": 137,
          "metadata": {},
          "output_type": "execute_result"
        }
      ],
      "source": [
        "products_order_items_df = pd.merge(\n",
        "    left=orders_df,\n",
        "    right=order_items_df,\n",
        "    how=\"inner\",\n",
        "    left_on=\"order_id\",\n",
        "    right_on=\"order_id\"\n",
        ")\n",
        "\n",
        "products_order_items_df"
      ]
    },
    {
      "cell_type": "code",
      "execution_count": 138,
      "metadata": {
        "colab": {
          "base_uri": "https://localhost:8080/",
          "height": 443
        },
        "id": "PdSn5O74XCBA",
        "outputId": "b3193b27-a044-4d4b-c2ff-4a73514f91ba"
      },
      "outputs": [
        {
          "data": {
            "text/html": [
              "<div>\n",
              "<style scoped>\n",
              "    .dataframe tbody tr th:only-of-type {\n",
              "        vertical-align: middle;\n",
              "    }\n",
              "\n",
              "    .dataframe tbody tr th {\n",
              "        vertical-align: top;\n",
              "    }\n",
              "\n",
              "    .dataframe thead th {\n",
              "        text-align: right;\n",
              "    }\n",
              "</style>\n",
              "<table border=\"1\" class=\"dataframe\">\n",
              "  <thead>\n",
              "    <tr style=\"text-align: right;\">\n",
              "      <th></th>\n",
              "      <th>order_id</th>\n",
              "      <th>customer_id</th>\n",
              "      <th>order_status</th>\n",
              "      <th>order_purchase_timestamp</th>\n",
              "      <th>order_approved_at</th>\n",
              "      <th>order_delivered_carrier_date</th>\n",
              "      <th>order_delivered_customer_date</th>\n",
              "      <th>order_estimated_delivery_date</th>\n",
              "      <th>ketepatan_waktu</th>\n",
              "      <th>waktu_pengantaran(hari)</th>\n",
              "      <th>...</th>\n",
              "      <th>freight_value</th>\n",
              "      <th>total_price</th>\n",
              "      <th>product_category_name</th>\n",
              "      <th>product_name_lenght</th>\n",
              "      <th>product_description_lenght</th>\n",
              "      <th>product_photos_qty</th>\n",
              "      <th>product_weight_g</th>\n",
              "      <th>product_length_cm</th>\n",
              "      <th>product_height_cm</th>\n",
              "      <th>product_width_cm</th>\n",
              "    </tr>\n",
              "  </thead>\n",
              "  <tbody>\n",
              "    <tr>\n",
              "      <th>0</th>\n",
              "      <td>e481f51cbdc54678b7cc49136f2d6af7</td>\n",
              "      <td>9ef432eb6251297304e76186b10a928d</td>\n",
              "      <td>delivered</td>\n",
              "      <td>2017-10-02</td>\n",
              "      <td>2017-10-02 11:07:15</td>\n",
              "      <td>2017-10-04 19:55:00</td>\n",
              "      <td>2017-10-10</td>\n",
              "      <td>2017-10-18</td>\n",
              "      <td>Tepat waktu</td>\n",
              "      <td>8</td>\n",
              "      <td>...</td>\n",
              "      <td>9</td>\n",
              "      <td>39</td>\n",
              "      <td>utilidades_domesticas</td>\n",
              "      <td>40</td>\n",
              "      <td>268</td>\n",
              "      <td>4</td>\n",
              "      <td>500</td>\n",
              "      <td>19</td>\n",
              "      <td>8</td>\n",
              "      <td>13</td>\n",
              "    </tr>\n",
              "    <tr>\n",
              "      <th>1</th>\n",
              "      <td>53cdb2fc8bc7dce0b6741e2150273451</td>\n",
              "      <td>b0830fb4747a6c6d20dea0b8c802d7ef</td>\n",
              "      <td>delivered</td>\n",
              "      <td>2018-07-24</td>\n",
              "      <td>2018-07-26 03:24:27</td>\n",
              "      <td>2018-07-26 14:31:00</td>\n",
              "      <td>2018-08-07</td>\n",
              "      <td>2018-08-13</td>\n",
              "      <td>Tepat waktu</td>\n",
              "      <td>14</td>\n",
              "      <td>...</td>\n",
              "      <td>23</td>\n",
              "      <td>142</td>\n",
              "      <td>perfumaria</td>\n",
              "      <td>29</td>\n",
              "      <td>178</td>\n",
              "      <td>1</td>\n",
              "      <td>400</td>\n",
              "      <td>19</td>\n",
              "      <td>13</td>\n",
              "      <td>19</td>\n",
              "    </tr>\n",
              "    <tr>\n",
              "      <th>2</th>\n",
              "      <td>47770eb9100c2d0c44946d9cf07ec65d</td>\n",
              "      <td>41ce2a54c0b03bf3443c3d931a367089</td>\n",
              "      <td>delivered</td>\n",
              "      <td>2018-08-08</td>\n",
              "      <td>2018-08-08 08:55:23</td>\n",
              "      <td>2018-08-08 13:50:00</td>\n",
              "      <td>2018-08-17</td>\n",
              "      <td>2018-09-04</td>\n",
              "      <td>Tepat waktu</td>\n",
              "      <td>9</td>\n",
              "      <td>...</td>\n",
              "      <td>19</td>\n",
              "      <td>179</td>\n",
              "      <td>automotivo</td>\n",
              "      <td>46</td>\n",
              "      <td>232</td>\n",
              "      <td>1</td>\n",
              "      <td>420</td>\n",
              "      <td>24</td>\n",
              "      <td>19</td>\n",
              "      <td>21</td>\n",
              "    </tr>\n",
              "    <tr>\n",
              "      <th>3</th>\n",
              "      <td>949d5b44dbf5de918fe9c16f97b45f8a</td>\n",
              "      <td>f88197465ea7920adcdbec7375364d82</td>\n",
              "      <td>delivered</td>\n",
              "      <td>2017-11-18</td>\n",
              "      <td>2017-11-18 19:45:59</td>\n",
              "      <td>2017-11-22 13:39:59</td>\n",
              "      <td>2017-12-02</td>\n",
              "      <td>2017-12-15</td>\n",
              "      <td>Tepat waktu</td>\n",
              "      <td>14</td>\n",
              "      <td>...</td>\n",
              "      <td>27</td>\n",
              "      <td>72</td>\n",
              "      <td>pet_shop</td>\n",
              "      <td>59</td>\n",
              "      <td>468</td>\n",
              "      <td>3</td>\n",
              "      <td>450</td>\n",
              "      <td>30</td>\n",
              "      <td>10</td>\n",
              "      <td>20</td>\n",
              "    </tr>\n",
              "    <tr>\n",
              "      <th>4</th>\n",
              "      <td>ad21c59c0840e6cb83a9ceb5573f8159</td>\n",
              "      <td>8ab97904e6daea8866dbdbc4fb7aad2c</td>\n",
              "      <td>delivered</td>\n",
              "      <td>2018-02-13</td>\n",
              "      <td>2018-02-13 22:20:29</td>\n",
              "      <td>2018-02-14 19:46:34</td>\n",
              "      <td>2018-02-16</td>\n",
              "      <td>2018-02-26</td>\n",
              "      <td>Tepat waktu</td>\n",
              "      <td>3</td>\n",
              "      <td>...</td>\n",
              "      <td>9</td>\n",
              "      <td>29</td>\n",
              "      <td>papelaria</td>\n",
              "      <td>38</td>\n",
              "      <td>316</td>\n",
              "      <td>4</td>\n",
              "      <td>250</td>\n",
              "      <td>51</td>\n",
              "      <td>15</td>\n",
              "      <td>15</td>\n",
              "    </tr>\n",
              "    <tr>\n",
              "      <th>...</th>\n",
              "      <td>...</td>\n",
              "      <td>...</td>\n",
              "      <td>...</td>\n",
              "      <td>...</td>\n",
              "      <td>...</td>\n",
              "      <td>...</td>\n",
              "      <td>...</td>\n",
              "      <td>...</td>\n",
              "      <td>...</td>\n",
              "      <td>...</td>\n",
              "      <td>...</td>\n",
              "      <td>...</td>\n",
              "      <td>...</td>\n",
              "      <td>...</td>\n",
              "      <td>...</td>\n",
              "      <td>...</td>\n",
              "      <td>...</td>\n",
              "      <td>...</td>\n",
              "      <td>...</td>\n",
              "      <td>...</td>\n",
              "      <td>...</td>\n",
              "    </tr>\n",
              "    <tr>\n",
              "      <th>108630</th>\n",
              "      <td>63943bddc261676b46f01ca7ac2f7bd8</td>\n",
              "      <td>1fca14ff2861355f6e5f14306ff977a7</td>\n",
              "      <td>delivered</td>\n",
              "      <td>2018-02-06</td>\n",
              "      <td>2018-02-06 13:10:37</td>\n",
              "      <td>2018-02-07 23:22:42</td>\n",
              "      <td>2018-02-28</td>\n",
              "      <td>2018-03-02</td>\n",
              "      <td>Tepat waktu</td>\n",
              "      <td>22</td>\n",
              "      <td>...</td>\n",
              "      <td>20</td>\n",
              "      <td>195</td>\n",
              "      <td>bebes</td>\n",
              "      <td>52</td>\n",
              "      <td>828</td>\n",
              "      <td>4</td>\n",
              "      <td>4950</td>\n",
              "      <td>40</td>\n",
              "      <td>10</td>\n",
              "      <td>40</td>\n",
              "    </tr>\n",
              "    <tr>\n",
              "      <th>108631</th>\n",
              "      <td>83c1379a015df1e13d02aae0204711ab</td>\n",
              "      <td>1aa71eb042121263aafbe80c1b562c9c</td>\n",
              "      <td>delivered</td>\n",
              "      <td>2017-08-27</td>\n",
              "      <td>2017-08-27 15:04:16</td>\n",
              "      <td>2017-08-28 20:52:26</td>\n",
              "      <td>2017-09-21</td>\n",
              "      <td>2017-09-27</td>\n",
              "      <td>Tepat waktu</td>\n",
              "      <td>25</td>\n",
              "      <td>...</td>\n",
              "      <td>65</td>\n",
              "      <td>271</td>\n",
              "      <td>eletrodomesticos_2</td>\n",
              "      <td>51</td>\n",
              "      <td>500</td>\n",
              "      <td>2</td>\n",
              "      <td>13300</td>\n",
              "      <td>32</td>\n",
              "      <td>90</td>\n",
              "      <td>22</td>\n",
              "    </tr>\n",
              "    <tr>\n",
              "      <th>108632</th>\n",
              "      <td>11c177c8e97725db2631073c19f07b62</td>\n",
              "      <td>b331b74b18dc79bcdf6532d51e1637c1</td>\n",
              "      <td>delivered</td>\n",
              "      <td>2018-01-08</td>\n",
              "      <td>2018-01-08 21:36:21</td>\n",
              "      <td>2018-01-12 15:35:03</td>\n",
              "      <td>2018-01-25</td>\n",
              "      <td>2018-02-15</td>\n",
              "      <td>Tepat waktu</td>\n",
              "      <td>17</td>\n",
              "      <td>...</td>\n",
              "      <td>41</td>\n",
              "      <td>221</td>\n",
              "      <td>informatica_acessorios</td>\n",
              "      <td>59</td>\n",
              "      <td>1893</td>\n",
              "      <td>1</td>\n",
              "      <td>6550</td>\n",
              "      <td>20</td>\n",
              "      <td>20</td>\n",
              "      <td>20</td>\n",
              "    </tr>\n",
              "    <tr>\n",
              "      <th>108633</th>\n",
              "      <td>11c177c8e97725db2631073c19f07b62</td>\n",
              "      <td>b331b74b18dc79bcdf6532d51e1637c1</td>\n",
              "      <td>delivered</td>\n",
              "      <td>2018-01-08</td>\n",
              "      <td>2018-01-08 21:36:21</td>\n",
              "      <td>2018-01-12 15:35:03</td>\n",
              "      <td>2018-01-25</td>\n",
              "      <td>2018-02-15</td>\n",
              "      <td>Tepat waktu</td>\n",
              "      <td>17</td>\n",
              "      <td>...</td>\n",
              "      <td>41</td>\n",
              "      <td>221</td>\n",
              "      <td>informatica_acessorios</td>\n",
              "      <td>59</td>\n",
              "      <td>1893</td>\n",
              "      <td>1</td>\n",
              "      <td>6550</td>\n",
              "      <td>20</td>\n",
              "      <td>20</td>\n",
              "      <td>20</td>\n",
              "    </tr>\n",
              "    <tr>\n",
              "      <th>108634</th>\n",
              "      <td>66dea50a8b16d9b4dee7af250b4be1a5</td>\n",
              "      <td>edb027a75a1449115f6b43211ae02a24</td>\n",
              "      <td>delivered</td>\n",
              "      <td>2018-03-08</td>\n",
              "      <td>2018-03-09 11:20:28</td>\n",
              "      <td>2018-03-09 22:11:59</td>\n",
              "      <td>2018-03-16</td>\n",
              "      <td>2018-04-03</td>\n",
              "      <td>Tepat waktu</td>\n",
              "      <td>8</td>\n",
              "      <td>...</td>\n",
              "      <td>18</td>\n",
              "      <td>86</td>\n",
              "      <td>beleza_saude</td>\n",
              "      <td>45</td>\n",
              "      <td>569</td>\n",
              "      <td>1</td>\n",
              "      <td>150</td>\n",
              "      <td>16</td>\n",
              "      <td>7</td>\n",
              "      <td>15</td>\n",
              "    </tr>\n",
              "  </tbody>\n",
              "</table>\n",
              "<p>108635 rows × 25 columns</p>\n",
              "</div>"
            ],
            "text/plain": [
              "                                order_id                       customer_id  \\\n",
              "0       e481f51cbdc54678b7cc49136f2d6af7  9ef432eb6251297304e76186b10a928d   \n",
              "1       53cdb2fc8bc7dce0b6741e2150273451  b0830fb4747a6c6d20dea0b8c802d7ef   \n",
              "2       47770eb9100c2d0c44946d9cf07ec65d  41ce2a54c0b03bf3443c3d931a367089   \n",
              "3       949d5b44dbf5de918fe9c16f97b45f8a  f88197465ea7920adcdbec7375364d82   \n",
              "4       ad21c59c0840e6cb83a9ceb5573f8159  8ab97904e6daea8866dbdbc4fb7aad2c   \n",
              "...                                  ...                               ...   \n",
              "108630  63943bddc261676b46f01ca7ac2f7bd8  1fca14ff2861355f6e5f14306ff977a7   \n",
              "108631  83c1379a015df1e13d02aae0204711ab  1aa71eb042121263aafbe80c1b562c9c   \n",
              "108632  11c177c8e97725db2631073c19f07b62  b331b74b18dc79bcdf6532d51e1637c1   \n",
              "108633  11c177c8e97725db2631073c19f07b62  b331b74b18dc79bcdf6532d51e1637c1   \n",
              "108634  66dea50a8b16d9b4dee7af250b4be1a5  edb027a75a1449115f6b43211ae02a24   \n",
              "\n",
              "       order_status order_purchase_timestamp   order_approved_at  \\\n",
              "0         delivered               2017-10-02 2017-10-02 11:07:15   \n",
              "1         delivered               2018-07-24 2018-07-26 03:24:27   \n",
              "2         delivered               2018-08-08 2018-08-08 08:55:23   \n",
              "3         delivered               2017-11-18 2017-11-18 19:45:59   \n",
              "4         delivered               2018-02-13 2018-02-13 22:20:29   \n",
              "...             ...                      ...                 ...   \n",
              "108630    delivered               2018-02-06 2018-02-06 13:10:37   \n",
              "108631    delivered               2017-08-27 2017-08-27 15:04:16   \n",
              "108632    delivered               2018-01-08 2018-01-08 21:36:21   \n",
              "108633    delivered               2018-01-08 2018-01-08 21:36:21   \n",
              "108634    delivered               2018-03-08 2018-03-09 11:20:28   \n",
              "\n",
              "       order_delivered_carrier_date order_delivered_customer_date  \\\n",
              "0               2017-10-04 19:55:00                    2017-10-10   \n",
              "1               2018-07-26 14:31:00                    2018-08-07   \n",
              "2               2018-08-08 13:50:00                    2018-08-17   \n",
              "3               2017-11-22 13:39:59                    2017-12-02   \n",
              "4               2018-02-14 19:46:34                    2018-02-16   \n",
              "...                             ...                           ...   \n",
              "108630          2018-02-07 23:22:42                    2018-02-28   \n",
              "108631          2017-08-28 20:52:26                    2017-09-21   \n",
              "108632          2018-01-12 15:35:03                    2018-01-25   \n",
              "108633          2018-01-12 15:35:03                    2018-01-25   \n",
              "108634          2018-03-09 22:11:59                    2018-03-16   \n",
              "\n",
              "       order_estimated_delivery_date ketepatan_waktu  waktu_pengantaran(hari)  \\\n",
              "0                         2017-10-18     Tepat waktu                        8   \n",
              "1                         2018-08-13     Tepat waktu                       14   \n",
              "2                         2018-09-04     Tepat waktu                        9   \n",
              "3                         2017-12-15     Tepat waktu                       14   \n",
              "4                         2018-02-26     Tepat waktu                        3   \n",
              "...                              ...             ...                      ...   \n",
              "108630                    2018-03-02     Tepat waktu                       22   \n",
              "108631                    2017-09-27     Tepat waktu                       25   \n",
              "108632                    2018-02-15     Tepat waktu                       17   \n",
              "108633                    2018-02-15     Tepat waktu                       17   \n",
              "108634                    2018-04-03     Tepat waktu                        8   \n",
              "\n",
              "        ...  freight_value total_price   product_category_name  \\\n",
              "0       ...              9          39   utilidades_domesticas   \n",
              "1       ...             23         142              perfumaria   \n",
              "2       ...             19         179              automotivo   \n",
              "3       ...             27          72                pet_shop   \n",
              "4       ...              9          29               papelaria   \n",
              "...     ...            ...         ...                     ...   \n",
              "108630  ...             20         195                   bebes   \n",
              "108631  ...             65         271      eletrodomesticos_2   \n",
              "108632  ...             41         221  informatica_acessorios   \n",
              "108633  ...             41         221  informatica_acessorios   \n",
              "108634  ...             18          86            beleza_saude   \n",
              "\n",
              "       product_name_lenght  product_description_lenght  product_photos_qty  \\\n",
              "0                       40                         268                   4   \n",
              "1                       29                         178                   1   \n",
              "2                       46                         232                   1   \n",
              "3                       59                         468                   3   \n",
              "4                       38                         316                   4   \n",
              "...                    ...                         ...                 ...   \n",
              "108630                  52                         828                   4   \n",
              "108631                  51                         500                   2   \n",
              "108632                  59                        1893                   1   \n",
              "108633                  59                        1893                   1   \n",
              "108634                  45                         569                   1   \n",
              "\n",
              "        product_weight_g product_length_cm  product_height_cm  \\\n",
              "0                    500                19                  8   \n",
              "1                    400                19                 13   \n",
              "2                    420                24                 19   \n",
              "3                    450                30                 10   \n",
              "4                    250                51                 15   \n",
              "...                  ...               ...                ...   \n",
              "108630              4950                40                 10   \n",
              "108631             13300                32                 90   \n",
              "108632              6550                20                 20   \n",
              "108633              6550                20                 20   \n",
              "108634               150                16                  7   \n",
              "\n",
              "        product_width_cm  \n",
              "0                     13  \n",
              "1                     19  \n",
              "2                     21  \n",
              "3                     20  \n",
              "4                     15  \n",
              "...                  ...  \n",
              "108630                40  \n",
              "108631                22  \n",
              "108632                20  \n",
              "108633                20  \n",
              "108634                15  \n",
              "\n",
              "[108635 rows x 25 columns]"
            ]
          },
          "execution_count": 138,
          "metadata": {},
          "output_type": "execute_result"
        }
      ],
      "source": [
        "products_order_items_df = pd.merge(\n",
        "    left=products_order_items_df,\n",
        "    right=products_df,\n",
        "    how=\"inner\",\n",
        "    left_on=\"product_id\",\n",
        "    right_on=\"product_id\"\n",
        ")\n",
        "\n",
        "products_order_items_df"
      ]
    },
    {
      "cell_type": "code",
      "execution_count": 139,
      "metadata": {
        "colab": {
          "base_uri": "https://localhost:8080/",
          "height": 443
        },
        "id": "BJhPM3F_hlrB",
        "outputId": "6365f40c-f66d-4e7c-cd34-672eeb30f8b7"
      },
      "outputs": [
        {
          "data": {
            "text/html": [
              "<div>\n",
              "<style scoped>\n",
              "    .dataframe tbody tr th:only-of-type {\n",
              "        vertical-align: middle;\n",
              "    }\n",
              "\n",
              "    .dataframe tbody tr th {\n",
              "        vertical-align: top;\n",
              "    }\n",
              "\n",
              "    .dataframe thead th {\n",
              "        text-align: right;\n",
              "    }\n",
              "</style>\n",
              "<table border=\"1\" class=\"dataframe\">\n",
              "  <thead>\n",
              "    <tr style=\"text-align: right;\">\n",
              "      <th></th>\n",
              "      <th>order_id</th>\n",
              "      <th>customer_id</th>\n",
              "      <th>order_status</th>\n",
              "      <th>order_purchase_timestamp</th>\n",
              "      <th>order_approved_at</th>\n",
              "      <th>order_delivered_carrier_date</th>\n",
              "      <th>order_delivered_customer_date</th>\n",
              "      <th>order_estimated_delivery_date</th>\n",
              "      <th>ketepatan_waktu</th>\n",
              "      <th>waktu_pengantaran(hari)</th>\n",
              "      <th>...</th>\n",
              "      <th>total_price</th>\n",
              "      <th>product_category_name</th>\n",
              "      <th>product_name_lenght</th>\n",
              "      <th>product_description_lenght</th>\n",
              "      <th>product_photos_qty</th>\n",
              "      <th>product_weight_g</th>\n",
              "      <th>product_length_cm</th>\n",
              "      <th>product_height_cm</th>\n",
              "      <th>product_width_cm</th>\n",
              "      <th>product_category_name_english</th>\n",
              "    </tr>\n",
              "  </thead>\n",
              "  <tbody>\n",
              "    <tr>\n",
              "      <th>0</th>\n",
              "      <td>e481f51cbdc54678b7cc49136f2d6af7</td>\n",
              "      <td>9ef432eb6251297304e76186b10a928d</td>\n",
              "      <td>delivered</td>\n",
              "      <td>2017-10-02</td>\n",
              "      <td>2017-10-02 11:07:15</td>\n",
              "      <td>2017-10-04 19:55:00</td>\n",
              "      <td>2017-10-10</td>\n",
              "      <td>2017-10-18</td>\n",
              "      <td>Tepat waktu</td>\n",
              "      <td>8</td>\n",
              "      <td>...</td>\n",
              "      <td>39</td>\n",
              "      <td>utilidades_domesticas</td>\n",
              "      <td>40</td>\n",
              "      <td>268</td>\n",
              "      <td>4</td>\n",
              "      <td>500</td>\n",
              "      <td>19</td>\n",
              "      <td>8</td>\n",
              "      <td>13</td>\n",
              "      <td>housewares</td>\n",
              "    </tr>\n",
              "    <tr>\n",
              "      <th>1</th>\n",
              "      <td>53cdb2fc8bc7dce0b6741e2150273451</td>\n",
              "      <td>b0830fb4747a6c6d20dea0b8c802d7ef</td>\n",
              "      <td>delivered</td>\n",
              "      <td>2018-07-24</td>\n",
              "      <td>2018-07-26 03:24:27</td>\n",
              "      <td>2018-07-26 14:31:00</td>\n",
              "      <td>2018-08-07</td>\n",
              "      <td>2018-08-13</td>\n",
              "      <td>Tepat waktu</td>\n",
              "      <td>14</td>\n",
              "      <td>...</td>\n",
              "      <td>142</td>\n",
              "      <td>perfumaria</td>\n",
              "      <td>29</td>\n",
              "      <td>178</td>\n",
              "      <td>1</td>\n",
              "      <td>400</td>\n",
              "      <td>19</td>\n",
              "      <td>13</td>\n",
              "      <td>19</td>\n",
              "      <td>perfumery</td>\n",
              "    </tr>\n",
              "    <tr>\n",
              "      <th>2</th>\n",
              "      <td>47770eb9100c2d0c44946d9cf07ec65d</td>\n",
              "      <td>41ce2a54c0b03bf3443c3d931a367089</td>\n",
              "      <td>delivered</td>\n",
              "      <td>2018-08-08</td>\n",
              "      <td>2018-08-08 08:55:23</td>\n",
              "      <td>2018-08-08 13:50:00</td>\n",
              "      <td>2018-08-17</td>\n",
              "      <td>2018-09-04</td>\n",
              "      <td>Tepat waktu</td>\n",
              "      <td>9</td>\n",
              "      <td>...</td>\n",
              "      <td>179</td>\n",
              "      <td>automotivo</td>\n",
              "      <td>46</td>\n",
              "      <td>232</td>\n",
              "      <td>1</td>\n",
              "      <td>420</td>\n",
              "      <td>24</td>\n",
              "      <td>19</td>\n",
              "      <td>21</td>\n",
              "      <td>auto</td>\n",
              "    </tr>\n",
              "    <tr>\n",
              "      <th>3</th>\n",
              "      <td>949d5b44dbf5de918fe9c16f97b45f8a</td>\n",
              "      <td>f88197465ea7920adcdbec7375364d82</td>\n",
              "      <td>delivered</td>\n",
              "      <td>2017-11-18</td>\n",
              "      <td>2017-11-18 19:45:59</td>\n",
              "      <td>2017-11-22 13:39:59</td>\n",
              "      <td>2017-12-02</td>\n",
              "      <td>2017-12-15</td>\n",
              "      <td>Tepat waktu</td>\n",
              "      <td>14</td>\n",
              "      <td>...</td>\n",
              "      <td>72</td>\n",
              "      <td>pet_shop</td>\n",
              "      <td>59</td>\n",
              "      <td>468</td>\n",
              "      <td>3</td>\n",
              "      <td>450</td>\n",
              "      <td>30</td>\n",
              "      <td>10</td>\n",
              "      <td>20</td>\n",
              "      <td>pet_shop</td>\n",
              "    </tr>\n",
              "    <tr>\n",
              "      <th>4</th>\n",
              "      <td>ad21c59c0840e6cb83a9ceb5573f8159</td>\n",
              "      <td>8ab97904e6daea8866dbdbc4fb7aad2c</td>\n",
              "      <td>delivered</td>\n",
              "      <td>2018-02-13</td>\n",
              "      <td>2018-02-13 22:20:29</td>\n",
              "      <td>2018-02-14 19:46:34</td>\n",
              "      <td>2018-02-16</td>\n",
              "      <td>2018-02-26</td>\n",
              "      <td>Tepat waktu</td>\n",
              "      <td>3</td>\n",
              "      <td>...</td>\n",
              "      <td>29</td>\n",
              "      <td>papelaria</td>\n",
              "      <td>38</td>\n",
              "      <td>316</td>\n",
              "      <td>4</td>\n",
              "      <td>250</td>\n",
              "      <td>51</td>\n",
              "      <td>15</td>\n",
              "      <td>15</td>\n",
              "      <td>stationery</td>\n",
              "    </tr>\n",
              "    <tr>\n",
              "      <th>...</th>\n",
              "      <td>...</td>\n",
              "      <td>...</td>\n",
              "      <td>...</td>\n",
              "      <td>...</td>\n",
              "      <td>...</td>\n",
              "      <td>...</td>\n",
              "      <td>...</td>\n",
              "      <td>...</td>\n",
              "      <td>...</td>\n",
              "      <td>...</td>\n",
              "      <td>...</td>\n",
              "      <td>...</td>\n",
              "      <td>...</td>\n",
              "      <td>...</td>\n",
              "      <td>...</td>\n",
              "      <td>...</td>\n",
              "      <td>...</td>\n",
              "      <td>...</td>\n",
              "      <td>...</td>\n",
              "      <td>...</td>\n",
              "      <td>...</td>\n",
              "    </tr>\n",
              "    <tr>\n",
              "      <th>108608</th>\n",
              "      <td>63943bddc261676b46f01ca7ac2f7bd8</td>\n",
              "      <td>1fca14ff2861355f6e5f14306ff977a7</td>\n",
              "      <td>delivered</td>\n",
              "      <td>2018-02-06</td>\n",
              "      <td>2018-02-06 13:10:37</td>\n",
              "      <td>2018-02-07 23:22:42</td>\n",
              "      <td>2018-02-28</td>\n",
              "      <td>2018-03-02</td>\n",
              "      <td>Tepat waktu</td>\n",
              "      <td>22</td>\n",
              "      <td>...</td>\n",
              "      <td>195</td>\n",
              "      <td>bebes</td>\n",
              "      <td>52</td>\n",
              "      <td>828</td>\n",
              "      <td>4</td>\n",
              "      <td>4950</td>\n",
              "      <td>40</td>\n",
              "      <td>10</td>\n",
              "      <td>40</td>\n",
              "      <td>baby</td>\n",
              "    </tr>\n",
              "    <tr>\n",
              "      <th>108609</th>\n",
              "      <td>83c1379a015df1e13d02aae0204711ab</td>\n",
              "      <td>1aa71eb042121263aafbe80c1b562c9c</td>\n",
              "      <td>delivered</td>\n",
              "      <td>2017-08-27</td>\n",
              "      <td>2017-08-27 15:04:16</td>\n",
              "      <td>2017-08-28 20:52:26</td>\n",
              "      <td>2017-09-21</td>\n",
              "      <td>2017-09-27</td>\n",
              "      <td>Tepat waktu</td>\n",
              "      <td>25</td>\n",
              "      <td>...</td>\n",
              "      <td>271</td>\n",
              "      <td>eletrodomesticos_2</td>\n",
              "      <td>51</td>\n",
              "      <td>500</td>\n",
              "      <td>2</td>\n",
              "      <td>13300</td>\n",
              "      <td>32</td>\n",
              "      <td>90</td>\n",
              "      <td>22</td>\n",
              "      <td>home_appliances_2</td>\n",
              "    </tr>\n",
              "    <tr>\n",
              "      <th>108610</th>\n",
              "      <td>11c177c8e97725db2631073c19f07b62</td>\n",
              "      <td>b331b74b18dc79bcdf6532d51e1637c1</td>\n",
              "      <td>delivered</td>\n",
              "      <td>2018-01-08</td>\n",
              "      <td>2018-01-08 21:36:21</td>\n",
              "      <td>2018-01-12 15:35:03</td>\n",
              "      <td>2018-01-25</td>\n",
              "      <td>2018-02-15</td>\n",
              "      <td>Tepat waktu</td>\n",
              "      <td>17</td>\n",
              "      <td>...</td>\n",
              "      <td>221</td>\n",
              "      <td>informatica_acessorios</td>\n",
              "      <td>59</td>\n",
              "      <td>1893</td>\n",
              "      <td>1</td>\n",
              "      <td>6550</td>\n",
              "      <td>20</td>\n",
              "      <td>20</td>\n",
              "      <td>20</td>\n",
              "      <td>computers_accessories</td>\n",
              "    </tr>\n",
              "    <tr>\n",
              "      <th>108611</th>\n",
              "      <td>11c177c8e97725db2631073c19f07b62</td>\n",
              "      <td>b331b74b18dc79bcdf6532d51e1637c1</td>\n",
              "      <td>delivered</td>\n",
              "      <td>2018-01-08</td>\n",
              "      <td>2018-01-08 21:36:21</td>\n",
              "      <td>2018-01-12 15:35:03</td>\n",
              "      <td>2018-01-25</td>\n",
              "      <td>2018-02-15</td>\n",
              "      <td>Tepat waktu</td>\n",
              "      <td>17</td>\n",
              "      <td>...</td>\n",
              "      <td>221</td>\n",
              "      <td>informatica_acessorios</td>\n",
              "      <td>59</td>\n",
              "      <td>1893</td>\n",
              "      <td>1</td>\n",
              "      <td>6550</td>\n",
              "      <td>20</td>\n",
              "      <td>20</td>\n",
              "      <td>20</td>\n",
              "      <td>computers_accessories</td>\n",
              "    </tr>\n",
              "    <tr>\n",
              "      <th>108612</th>\n",
              "      <td>66dea50a8b16d9b4dee7af250b4be1a5</td>\n",
              "      <td>edb027a75a1449115f6b43211ae02a24</td>\n",
              "      <td>delivered</td>\n",
              "      <td>2018-03-08</td>\n",
              "      <td>2018-03-09 11:20:28</td>\n",
              "      <td>2018-03-09 22:11:59</td>\n",
              "      <td>2018-03-16</td>\n",
              "      <td>2018-04-03</td>\n",
              "      <td>Tepat waktu</td>\n",
              "      <td>8</td>\n",
              "      <td>...</td>\n",
              "      <td>86</td>\n",
              "      <td>beleza_saude</td>\n",
              "      <td>45</td>\n",
              "      <td>569</td>\n",
              "      <td>1</td>\n",
              "      <td>150</td>\n",
              "      <td>16</td>\n",
              "      <td>7</td>\n",
              "      <td>15</td>\n",
              "      <td>health_beauty</td>\n",
              "    </tr>\n",
              "  </tbody>\n",
              "</table>\n",
              "<p>108613 rows × 26 columns</p>\n",
              "</div>"
            ],
            "text/plain": [
              "                                order_id                       customer_id  \\\n",
              "0       e481f51cbdc54678b7cc49136f2d6af7  9ef432eb6251297304e76186b10a928d   \n",
              "1       53cdb2fc8bc7dce0b6741e2150273451  b0830fb4747a6c6d20dea0b8c802d7ef   \n",
              "2       47770eb9100c2d0c44946d9cf07ec65d  41ce2a54c0b03bf3443c3d931a367089   \n",
              "3       949d5b44dbf5de918fe9c16f97b45f8a  f88197465ea7920adcdbec7375364d82   \n",
              "4       ad21c59c0840e6cb83a9ceb5573f8159  8ab97904e6daea8866dbdbc4fb7aad2c   \n",
              "...                                  ...                               ...   \n",
              "108608  63943bddc261676b46f01ca7ac2f7bd8  1fca14ff2861355f6e5f14306ff977a7   \n",
              "108609  83c1379a015df1e13d02aae0204711ab  1aa71eb042121263aafbe80c1b562c9c   \n",
              "108610  11c177c8e97725db2631073c19f07b62  b331b74b18dc79bcdf6532d51e1637c1   \n",
              "108611  11c177c8e97725db2631073c19f07b62  b331b74b18dc79bcdf6532d51e1637c1   \n",
              "108612  66dea50a8b16d9b4dee7af250b4be1a5  edb027a75a1449115f6b43211ae02a24   \n",
              "\n",
              "       order_status order_purchase_timestamp   order_approved_at  \\\n",
              "0         delivered               2017-10-02 2017-10-02 11:07:15   \n",
              "1         delivered               2018-07-24 2018-07-26 03:24:27   \n",
              "2         delivered               2018-08-08 2018-08-08 08:55:23   \n",
              "3         delivered               2017-11-18 2017-11-18 19:45:59   \n",
              "4         delivered               2018-02-13 2018-02-13 22:20:29   \n",
              "...             ...                      ...                 ...   \n",
              "108608    delivered               2018-02-06 2018-02-06 13:10:37   \n",
              "108609    delivered               2017-08-27 2017-08-27 15:04:16   \n",
              "108610    delivered               2018-01-08 2018-01-08 21:36:21   \n",
              "108611    delivered               2018-01-08 2018-01-08 21:36:21   \n",
              "108612    delivered               2018-03-08 2018-03-09 11:20:28   \n",
              "\n",
              "       order_delivered_carrier_date order_delivered_customer_date  \\\n",
              "0               2017-10-04 19:55:00                    2017-10-10   \n",
              "1               2018-07-26 14:31:00                    2018-08-07   \n",
              "2               2018-08-08 13:50:00                    2018-08-17   \n",
              "3               2017-11-22 13:39:59                    2017-12-02   \n",
              "4               2018-02-14 19:46:34                    2018-02-16   \n",
              "...                             ...                           ...   \n",
              "108608          2018-02-07 23:22:42                    2018-02-28   \n",
              "108609          2017-08-28 20:52:26                    2017-09-21   \n",
              "108610          2018-01-12 15:35:03                    2018-01-25   \n",
              "108611          2018-01-12 15:35:03                    2018-01-25   \n",
              "108612          2018-03-09 22:11:59                    2018-03-16   \n",
              "\n",
              "       order_estimated_delivery_date ketepatan_waktu  waktu_pengantaran(hari)  \\\n",
              "0                         2017-10-18     Tepat waktu                        8   \n",
              "1                         2018-08-13     Tepat waktu                       14   \n",
              "2                         2018-09-04     Tepat waktu                        9   \n",
              "3                         2017-12-15     Tepat waktu                       14   \n",
              "4                         2018-02-26     Tepat waktu                        3   \n",
              "...                              ...             ...                      ...   \n",
              "108608                    2018-03-02     Tepat waktu                       22   \n",
              "108609                    2017-09-27     Tepat waktu                       25   \n",
              "108610                    2018-02-15     Tepat waktu                       17   \n",
              "108611                    2018-02-15     Tepat waktu                       17   \n",
              "108612                    2018-04-03     Tepat waktu                        8   \n",
              "\n",
              "        ...  total_price   product_category_name product_name_lenght  \\\n",
              "0       ...           39   utilidades_domesticas                  40   \n",
              "1       ...          142              perfumaria                  29   \n",
              "2       ...          179              automotivo                  46   \n",
              "3       ...           72                pet_shop                  59   \n",
              "4       ...           29               papelaria                  38   \n",
              "...     ...          ...                     ...                 ...   \n",
              "108608  ...          195                   bebes                  52   \n",
              "108609  ...          271      eletrodomesticos_2                  51   \n",
              "108610  ...          221  informatica_acessorios                  59   \n",
              "108611  ...          221  informatica_acessorios                  59   \n",
              "108612  ...           86            beleza_saude                  45   \n",
              "\n",
              "       product_description_lenght  product_photos_qty  product_weight_g  \\\n",
              "0                             268                   4               500   \n",
              "1                             178                   1               400   \n",
              "2                             232                   1               420   \n",
              "3                             468                   3               450   \n",
              "4                             316                   4               250   \n",
              "...                           ...                 ...               ...   \n",
              "108608                        828                   4              4950   \n",
              "108609                        500                   2             13300   \n",
              "108610                       1893                   1              6550   \n",
              "108611                       1893                   1              6550   \n",
              "108612                        569                   1               150   \n",
              "\n",
              "        product_length_cm product_height_cm  product_width_cm  \\\n",
              "0                      19                 8                13   \n",
              "1                      19                13                19   \n",
              "2                      24                19                21   \n",
              "3                      30                10                20   \n",
              "4                      51                15                15   \n",
              "...                   ...               ...               ...   \n",
              "108608                 40                10                40   \n",
              "108609                 32                90                22   \n",
              "108610                 20                20                20   \n",
              "108611                 20                20                20   \n",
              "108612                 16                 7                15   \n",
              "\n",
              "        product_category_name_english  \n",
              "0                          housewares  \n",
              "1                           perfumery  \n",
              "2                                auto  \n",
              "3                            pet_shop  \n",
              "4                          stationery  \n",
              "...                               ...  \n",
              "108608                           baby  \n",
              "108609              home_appliances_2  \n",
              "108610          computers_accessories  \n",
              "108611          computers_accessories  \n",
              "108612                  health_beauty  \n",
              "\n",
              "[108613 rows x 26 columns]"
            ]
          },
          "execution_count": 139,
          "metadata": {},
          "output_type": "execute_result"
        }
      ],
      "source": [
        "products_order_items_df = pd.merge(\n",
        "    left=products_order_items_df,\n",
        "    right=product_category_name_df,\n",
        "    how=\"inner\",\n",
        "    left_on=\"product_category_name\",\n",
        "    right_on=\"product_category_name\"\n",
        ")\n",
        "\n",
        "products_order_items_df"
      ]
    },
    {
      "cell_type": "code",
      "execution_count": 140,
      "metadata": {
        "colab": {
          "base_uri": "https://localhost:8080/",
          "height": 548
        },
        "id": "rttAZp71pWH-",
        "outputId": "bc59ee1a-69dd-4c4d-f2c1-5844ba37601e"
      },
      "outputs": [
        {
          "data": {
            "text/html": [
              "<div>\n",
              "<style scoped>\n",
              "    .dataframe tbody tr th:only-of-type {\n",
              "        vertical-align: middle;\n",
              "    }\n",
              "\n",
              "    .dataframe tbody tr th {\n",
              "        vertical-align: top;\n",
              "    }\n",
              "\n",
              "    .dataframe thead th {\n",
              "        text-align: right;\n",
              "    }\n",
              "</style>\n",
              "<table border=\"1\" class=\"dataframe\">\n",
              "  <thead>\n",
              "    <tr style=\"text-align: right;\">\n",
              "      <th></th>\n",
              "      <th>order_id</th>\n",
              "      <th>customer_id</th>\n",
              "      <th>order_status</th>\n",
              "      <th>order_purchase_timestamp</th>\n",
              "      <th>order_approved_at</th>\n",
              "      <th>order_delivered_carrier_date</th>\n",
              "      <th>order_delivered_customer_date</th>\n",
              "      <th>order_estimated_delivery_date</th>\n",
              "      <th>ketepatan_waktu</th>\n",
              "      <th>waktu_pengantaran(hari)</th>\n",
              "      <th>...</th>\n",
              "      <th>product_length_cm</th>\n",
              "      <th>product_height_cm</th>\n",
              "      <th>product_width_cm</th>\n",
              "      <th>product_category_name_english</th>\n",
              "      <th>review_id</th>\n",
              "      <th>review_score</th>\n",
              "      <th>review_comment_title</th>\n",
              "      <th>review_comment_message</th>\n",
              "      <th>review_creation_date</th>\n",
              "      <th>review_answer_timestamp</th>\n",
              "    </tr>\n",
              "  </thead>\n",
              "  <tbody>\n",
              "    <tr>\n",
              "      <th>0</th>\n",
              "      <td>e481f51cbdc54678b7cc49136f2d6af7</td>\n",
              "      <td>9ef432eb6251297304e76186b10a928d</td>\n",
              "      <td>delivered</td>\n",
              "      <td>2017-10-02</td>\n",
              "      <td>2017-10-02 11:07:15</td>\n",
              "      <td>2017-10-04 19:55:00</td>\n",
              "      <td>2017-10-10</td>\n",
              "      <td>2017-10-18</td>\n",
              "      <td>Tepat waktu</td>\n",
              "      <td>8</td>\n",
              "      <td>...</td>\n",
              "      <td>19</td>\n",
              "      <td>8</td>\n",
              "      <td>13</td>\n",
              "      <td>housewares</td>\n",
              "      <td>a54f0611adc9ed256b57ede6b6eb5114</td>\n",
              "      <td>4</td>\n",
              "      <td>NaN</td>\n",
              "      <td>Não testei o produto ainda, mas ele veio corre...</td>\n",
              "      <td>2017-10-11</td>\n",
              "      <td>2017-10-12 03:43:48</td>\n",
              "    </tr>\n",
              "    <tr>\n",
              "      <th>1</th>\n",
              "      <td>53cdb2fc8bc7dce0b6741e2150273451</td>\n",
              "      <td>b0830fb4747a6c6d20dea0b8c802d7ef</td>\n",
              "      <td>delivered</td>\n",
              "      <td>2018-07-24</td>\n",
              "      <td>2018-07-26 03:24:27</td>\n",
              "      <td>2018-07-26 14:31:00</td>\n",
              "      <td>2018-08-07</td>\n",
              "      <td>2018-08-13</td>\n",
              "      <td>Tepat waktu</td>\n",
              "      <td>14</td>\n",
              "      <td>...</td>\n",
              "      <td>19</td>\n",
              "      <td>13</td>\n",
              "      <td>19</td>\n",
              "      <td>perfumery</td>\n",
              "      <td>8d5266042046a06655c8db133d120ba5</td>\n",
              "      <td>4</td>\n",
              "      <td>Muito boa a loja</td>\n",
              "      <td>Muito bom o produto.</td>\n",
              "      <td>2018-08-08</td>\n",
              "      <td>2018-08-08 18:37:50</td>\n",
              "    </tr>\n",
              "    <tr>\n",
              "      <th>2</th>\n",
              "      <td>47770eb9100c2d0c44946d9cf07ec65d</td>\n",
              "      <td>41ce2a54c0b03bf3443c3d931a367089</td>\n",
              "      <td>delivered</td>\n",
              "      <td>2018-08-08</td>\n",
              "      <td>2018-08-08 08:55:23</td>\n",
              "      <td>2018-08-08 13:50:00</td>\n",
              "      <td>2018-08-17</td>\n",
              "      <td>2018-09-04</td>\n",
              "      <td>Tepat waktu</td>\n",
              "      <td>9</td>\n",
              "      <td>...</td>\n",
              "      <td>24</td>\n",
              "      <td>19</td>\n",
              "      <td>21</td>\n",
              "      <td>auto</td>\n",
              "      <td>e73b67b67587f7644d5bd1a52deb1b01</td>\n",
              "      <td>5</td>\n",
              "      <td>NaN</td>\n",
              "      <td>NaN</td>\n",
              "      <td>2018-08-18</td>\n",
              "      <td>2018-08-22 19:07:58</td>\n",
              "    </tr>\n",
              "    <tr>\n",
              "      <th>3</th>\n",
              "      <td>949d5b44dbf5de918fe9c16f97b45f8a</td>\n",
              "      <td>f88197465ea7920adcdbec7375364d82</td>\n",
              "      <td>delivered</td>\n",
              "      <td>2017-11-18</td>\n",
              "      <td>2017-11-18 19:45:59</td>\n",
              "      <td>2017-11-22 13:39:59</td>\n",
              "      <td>2017-12-02</td>\n",
              "      <td>2017-12-15</td>\n",
              "      <td>Tepat waktu</td>\n",
              "      <td>14</td>\n",
              "      <td>...</td>\n",
              "      <td>30</td>\n",
              "      <td>10</td>\n",
              "      <td>20</td>\n",
              "      <td>pet_shop</td>\n",
              "      <td>359d03e676b3c069f62cadba8dd3f6e8</td>\n",
              "      <td>5</td>\n",
              "      <td>NaN</td>\n",
              "      <td>O produto foi exatamente o que eu esperava e e...</td>\n",
              "      <td>2017-12-03</td>\n",
              "      <td>2017-12-05 19:21:58</td>\n",
              "    </tr>\n",
              "    <tr>\n",
              "      <th>4</th>\n",
              "      <td>ad21c59c0840e6cb83a9ceb5573f8159</td>\n",
              "      <td>8ab97904e6daea8866dbdbc4fb7aad2c</td>\n",
              "      <td>delivered</td>\n",
              "      <td>2018-02-13</td>\n",
              "      <td>2018-02-13 22:20:29</td>\n",
              "      <td>2018-02-14 19:46:34</td>\n",
              "      <td>2018-02-16</td>\n",
              "      <td>2018-02-26</td>\n",
              "      <td>Tepat waktu</td>\n",
              "      <td>3</td>\n",
              "      <td>...</td>\n",
              "      <td>51</td>\n",
              "      <td>15</td>\n",
              "      <td>15</td>\n",
              "      <td>stationery</td>\n",
              "      <td>e50934924e227544ba8246aeb3770dd4</td>\n",
              "      <td>5</td>\n",
              "      <td>NaN</td>\n",
              "      <td>NaN</td>\n",
              "      <td>2018-02-17</td>\n",
              "      <td>2018-02-18 13:02:51</td>\n",
              "    </tr>\n",
              "    <tr>\n",
              "      <th>...</th>\n",
              "      <td>...</td>\n",
              "      <td>...</td>\n",
              "      <td>...</td>\n",
              "      <td>...</td>\n",
              "      <td>...</td>\n",
              "      <td>...</td>\n",
              "      <td>...</td>\n",
              "      <td>...</td>\n",
              "      <td>...</td>\n",
              "      <td>...</td>\n",
              "      <td>...</td>\n",
              "      <td>...</td>\n",
              "      <td>...</td>\n",
              "      <td>...</td>\n",
              "      <td>...</td>\n",
              "      <td>...</td>\n",
              "      <td>...</td>\n",
              "      <td>...</td>\n",
              "      <td>...</td>\n",
              "      <td>...</td>\n",
              "      <td>...</td>\n",
              "    </tr>\n",
              "    <tr>\n",
              "      <th>107265</th>\n",
              "      <td>63943bddc261676b46f01ca7ac2f7bd8</td>\n",
              "      <td>1fca14ff2861355f6e5f14306ff977a7</td>\n",
              "      <td>delivered</td>\n",
              "      <td>2018-02-06</td>\n",
              "      <td>2018-02-06 13:10:37</td>\n",
              "      <td>2018-02-07 23:22:42</td>\n",
              "      <td>2018-02-28</td>\n",
              "      <td>2018-03-02</td>\n",
              "      <td>Tepat waktu</td>\n",
              "      <td>22</td>\n",
              "      <td>...</td>\n",
              "      <td>40</td>\n",
              "      <td>10</td>\n",
              "      <td>40</td>\n",
              "      <td>baby</td>\n",
              "      <td>29bb71b2760d0f876dfa178a76bc4734</td>\n",
              "      <td>4</td>\n",
              "      <td>NaN</td>\n",
              "      <td>So uma peça que veio rachado mas tudo bem rs</td>\n",
              "      <td>2018-03-01</td>\n",
              "      <td>2018-03-02 17:50:01</td>\n",
              "    </tr>\n",
              "    <tr>\n",
              "      <th>107266</th>\n",
              "      <td>83c1379a015df1e13d02aae0204711ab</td>\n",
              "      <td>1aa71eb042121263aafbe80c1b562c9c</td>\n",
              "      <td>delivered</td>\n",
              "      <td>2017-08-27</td>\n",
              "      <td>2017-08-27 15:04:16</td>\n",
              "      <td>2017-08-28 20:52:26</td>\n",
              "      <td>2017-09-21</td>\n",
              "      <td>2017-09-27</td>\n",
              "      <td>Tepat waktu</td>\n",
              "      <td>25</td>\n",
              "      <td>...</td>\n",
              "      <td>32</td>\n",
              "      <td>90</td>\n",
              "      <td>22</td>\n",
              "      <td>home_appliances_2</td>\n",
              "      <td>371579771219f6db2d830d50805977bb</td>\n",
              "      <td>5</td>\n",
              "      <td>NaN</td>\n",
              "      <td>Foi entregue antes do prazo.</td>\n",
              "      <td>2017-09-22</td>\n",
              "      <td>2017-09-22 23:10:57</td>\n",
              "    </tr>\n",
              "    <tr>\n",
              "      <th>107267</th>\n",
              "      <td>11c177c8e97725db2631073c19f07b62</td>\n",
              "      <td>b331b74b18dc79bcdf6532d51e1637c1</td>\n",
              "      <td>delivered</td>\n",
              "      <td>2018-01-08</td>\n",
              "      <td>2018-01-08 21:36:21</td>\n",
              "      <td>2018-01-12 15:35:03</td>\n",
              "      <td>2018-01-25</td>\n",
              "      <td>2018-02-15</td>\n",
              "      <td>Tepat waktu</td>\n",
              "      <td>17</td>\n",
              "      <td>...</td>\n",
              "      <td>20</td>\n",
              "      <td>20</td>\n",
              "      <td>20</td>\n",
              "      <td>computers_accessories</td>\n",
              "      <td>8ab6855b9fe9b812cd03a480a25058a1</td>\n",
              "      <td>2</td>\n",
              "      <td>NaN</td>\n",
              "      <td>Foi entregue somente 1. Quero saber do outro p...</td>\n",
              "      <td>2018-01-26</td>\n",
              "      <td>2018-01-27 09:16:56</td>\n",
              "    </tr>\n",
              "    <tr>\n",
              "      <th>107268</th>\n",
              "      <td>11c177c8e97725db2631073c19f07b62</td>\n",
              "      <td>b331b74b18dc79bcdf6532d51e1637c1</td>\n",
              "      <td>delivered</td>\n",
              "      <td>2018-01-08</td>\n",
              "      <td>2018-01-08 21:36:21</td>\n",
              "      <td>2018-01-12 15:35:03</td>\n",
              "      <td>2018-01-25</td>\n",
              "      <td>2018-02-15</td>\n",
              "      <td>Tepat waktu</td>\n",
              "      <td>17</td>\n",
              "      <td>...</td>\n",
              "      <td>20</td>\n",
              "      <td>20</td>\n",
              "      <td>20</td>\n",
              "      <td>computers_accessories</td>\n",
              "      <td>8ab6855b9fe9b812cd03a480a25058a1</td>\n",
              "      <td>2</td>\n",
              "      <td>NaN</td>\n",
              "      <td>Foi entregue somente 1. Quero saber do outro p...</td>\n",
              "      <td>2018-01-26</td>\n",
              "      <td>2018-01-27 09:16:56</td>\n",
              "    </tr>\n",
              "    <tr>\n",
              "      <th>107269</th>\n",
              "      <td>66dea50a8b16d9b4dee7af250b4be1a5</td>\n",
              "      <td>edb027a75a1449115f6b43211ae02a24</td>\n",
              "      <td>delivered</td>\n",
              "      <td>2018-03-08</td>\n",
              "      <td>2018-03-09 11:20:28</td>\n",
              "      <td>2018-03-09 22:11:59</td>\n",
              "      <td>2018-03-16</td>\n",
              "      <td>2018-04-03</td>\n",
              "      <td>Tepat waktu</td>\n",
              "      <td>8</td>\n",
              "      <td>...</td>\n",
              "      <td>16</td>\n",
              "      <td>7</td>\n",
              "      <td>15</td>\n",
              "      <td>health_beauty</td>\n",
              "      <td>dc9c59b4688062c25758c2be4cafc523</td>\n",
              "      <td>5</td>\n",
              "      <td>NaN</td>\n",
              "      <td>NaN</td>\n",
              "      <td>2018-03-17</td>\n",
              "      <td>2018-03-17 16:33:31</td>\n",
              "    </tr>\n",
              "  </tbody>\n",
              "</table>\n",
              "<p>107270 rows × 32 columns</p>\n",
              "</div>"
            ],
            "text/plain": [
              "                                order_id                       customer_id  \\\n",
              "0       e481f51cbdc54678b7cc49136f2d6af7  9ef432eb6251297304e76186b10a928d   \n",
              "1       53cdb2fc8bc7dce0b6741e2150273451  b0830fb4747a6c6d20dea0b8c802d7ef   \n",
              "2       47770eb9100c2d0c44946d9cf07ec65d  41ce2a54c0b03bf3443c3d931a367089   \n",
              "3       949d5b44dbf5de918fe9c16f97b45f8a  f88197465ea7920adcdbec7375364d82   \n",
              "4       ad21c59c0840e6cb83a9ceb5573f8159  8ab97904e6daea8866dbdbc4fb7aad2c   \n",
              "...                                  ...                               ...   \n",
              "107265  63943bddc261676b46f01ca7ac2f7bd8  1fca14ff2861355f6e5f14306ff977a7   \n",
              "107266  83c1379a015df1e13d02aae0204711ab  1aa71eb042121263aafbe80c1b562c9c   \n",
              "107267  11c177c8e97725db2631073c19f07b62  b331b74b18dc79bcdf6532d51e1637c1   \n",
              "107268  11c177c8e97725db2631073c19f07b62  b331b74b18dc79bcdf6532d51e1637c1   \n",
              "107269  66dea50a8b16d9b4dee7af250b4be1a5  edb027a75a1449115f6b43211ae02a24   \n",
              "\n",
              "       order_status order_purchase_timestamp   order_approved_at  \\\n",
              "0         delivered               2017-10-02 2017-10-02 11:07:15   \n",
              "1         delivered               2018-07-24 2018-07-26 03:24:27   \n",
              "2         delivered               2018-08-08 2018-08-08 08:55:23   \n",
              "3         delivered               2017-11-18 2017-11-18 19:45:59   \n",
              "4         delivered               2018-02-13 2018-02-13 22:20:29   \n",
              "...             ...                      ...                 ...   \n",
              "107265    delivered               2018-02-06 2018-02-06 13:10:37   \n",
              "107266    delivered               2017-08-27 2017-08-27 15:04:16   \n",
              "107267    delivered               2018-01-08 2018-01-08 21:36:21   \n",
              "107268    delivered               2018-01-08 2018-01-08 21:36:21   \n",
              "107269    delivered               2018-03-08 2018-03-09 11:20:28   \n",
              "\n",
              "       order_delivered_carrier_date order_delivered_customer_date  \\\n",
              "0               2017-10-04 19:55:00                    2017-10-10   \n",
              "1               2018-07-26 14:31:00                    2018-08-07   \n",
              "2               2018-08-08 13:50:00                    2018-08-17   \n",
              "3               2017-11-22 13:39:59                    2017-12-02   \n",
              "4               2018-02-14 19:46:34                    2018-02-16   \n",
              "...                             ...                           ...   \n",
              "107265          2018-02-07 23:22:42                    2018-02-28   \n",
              "107266          2017-08-28 20:52:26                    2017-09-21   \n",
              "107267          2018-01-12 15:35:03                    2018-01-25   \n",
              "107268          2018-01-12 15:35:03                    2018-01-25   \n",
              "107269          2018-03-09 22:11:59                    2018-03-16   \n",
              "\n",
              "       order_estimated_delivery_date ketepatan_waktu  waktu_pengantaran(hari)  \\\n",
              "0                         2017-10-18     Tepat waktu                        8   \n",
              "1                         2018-08-13     Tepat waktu                       14   \n",
              "2                         2018-09-04     Tepat waktu                        9   \n",
              "3                         2017-12-15     Tepat waktu                       14   \n",
              "4                         2018-02-26     Tepat waktu                        3   \n",
              "...                              ...             ...                      ...   \n",
              "107265                    2018-03-02     Tepat waktu                       22   \n",
              "107266                    2017-09-27     Tepat waktu                       25   \n",
              "107267                    2018-02-15     Tepat waktu                       17   \n",
              "107268                    2018-02-15     Tepat waktu                       17   \n",
              "107269                    2018-04-03     Tepat waktu                        8   \n",
              "\n",
              "        ...  product_length_cm product_height_cm product_width_cm  \\\n",
              "0       ...                 19                 8               13   \n",
              "1       ...                 19                13               19   \n",
              "2       ...                 24                19               21   \n",
              "3       ...                 30                10               20   \n",
              "4       ...                 51                15               15   \n",
              "...     ...                ...               ...              ...   \n",
              "107265  ...                 40                10               40   \n",
              "107266  ...                 32                90               22   \n",
              "107267  ...                 20                20               20   \n",
              "107268  ...                 20                20               20   \n",
              "107269  ...                 16                 7               15   \n",
              "\n",
              "       product_category_name_english                         review_id  \\\n",
              "0                         housewares  a54f0611adc9ed256b57ede6b6eb5114   \n",
              "1                          perfumery  8d5266042046a06655c8db133d120ba5   \n",
              "2                               auto  e73b67b67587f7644d5bd1a52deb1b01   \n",
              "3                           pet_shop  359d03e676b3c069f62cadba8dd3f6e8   \n",
              "4                         stationery  e50934924e227544ba8246aeb3770dd4   \n",
              "...                              ...                               ...   \n",
              "107265                          baby  29bb71b2760d0f876dfa178a76bc4734   \n",
              "107266             home_appliances_2  371579771219f6db2d830d50805977bb   \n",
              "107267         computers_accessories  8ab6855b9fe9b812cd03a480a25058a1   \n",
              "107268         computers_accessories  8ab6855b9fe9b812cd03a480a25058a1   \n",
              "107269                 health_beauty  dc9c59b4688062c25758c2be4cafc523   \n",
              "\n",
              "        review_score  review_comment_title  \\\n",
              "0                  4                   NaN   \n",
              "1                  4      Muito boa a loja   \n",
              "2                  5                   NaN   \n",
              "3                  5                   NaN   \n",
              "4                  5                   NaN   \n",
              "...              ...                   ...   \n",
              "107265             4                   NaN   \n",
              "107266             5                   NaN   \n",
              "107267             2                   NaN   \n",
              "107268             2                   NaN   \n",
              "107269             5                   NaN   \n",
              "\n",
              "                                   review_comment_message  \\\n",
              "0       Não testei o produto ainda, mas ele veio corre...   \n",
              "1                                    Muito bom o produto.   \n",
              "2                                                     NaN   \n",
              "3       O produto foi exatamente o que eu esperava e e...   \n",
              "4                                                     NaN   \n",
              "...                                                   ...   \n",
              "107265       So uma peça que veio rachado mas tudo bem rs   \n",
              "107266                       Foi entregue antes do prazo.   \n",
              "107267  Foi entregue somente 1. Quero saber do outro p...   \n",
              "107268  Foi entregue somente 1. Quero saber do outro p...   \n",
              "107269                                                NaN   \n",
              "\n",
              "        review_creation_date  review_answer_timestamp  \n",
              "0                 2017-10-11      2017-10-12 03:43:48  \n",
              "1                 2018-08-08      2018-08-08 18:37:50  \n",
              "2                 2018-08-18      2018-08-22 19:07:58  \n",
              "3                 2017-12-03      2017-12-05 19:21:58  \n",
              "4                 2018-02-17      2018-02-18 13:02:51  \n",
              "...                      ...                      ...  \n",
              "107265            2018-03-01      2018-03-02 17:50:01  \n",
              "107266            2017-09-22      2017-09-22 23:10:57  \n",
              "107267            2018-01-26      2018-01-27 09:16:56  \n",
              "107268            2018-01-26      2018-01-27 09:16:56  \n",
              "107269            2018-03-17      2018-03-17 16:33:31  \n",
              "\n",
              "[107270 rows x 32 columns]"
            ]
          },
          "execution_count": 140,
          "metadata": {},
          "output_type": "execute_result"
        }
      ],
      "source": [
        "products_order_items_df = pd.merge(\n",
        "    left=products_order_items_df,\n",
        "    right=order_reviews_df,\n",
        "    how=\"inner\",\n",
        "    left_on=\"order_id\",\n",
        "    right_on=\"order_id\"\n",
        ")\n",
        "\n",
        "products_order_items_df"
      ]
    },
    {
      "cell_type": "code",
      "execution_count": 141,
      "metadata": {
        "colab": {
          "base_uri": "https://localhost:8080/",
          "height": 125
        },
        "id": "fVkfRPywpugp",
        "outputId": "80787212-e690-4c4c-b8bc-4da750f65eaa"
      },
      "outputs": [
        {
          "data": {
            "text/html": [
              "<div>\n",
              "<style scoped>\n",
              "    .dataframe tbody tr th:only-of-type {\n",
              "        vertical-align: middle;\n",
              "    }\n",
              "\n",
              "    .dataframe tbody tr th {\n",
              "        vertical-align: top;\n",
              "    }\n",
              "\n",
              "    .dataframe thead th {\n",
              "        text-align: right;\n",
              "    }\n",
              "</style>\n",
              "<table border=\"1\" class=\"dataframe\">\n",
              "  <thead>\n",
              "    <tr style=\"text-align: right;\">\n",
              "      <th></th>\n",
              "      <th>ketepatan_waktu</th>\n",
              "      <th>jumlah_pesanan</th>\n",
              "    </tr>\n",
              "  </thead>\n",
              "  <tbody>\n",
              "    <tr>\n",
              "      <th>0</th>\n",
              "      <td>Tepat waktu</td>\n",
              "      <td>100345</td>\n",
              "    </tr>\n",
              "    <tr>\n",
              "      <th>1</th>\n",
              "      <td>Terlambat</td>\n",
              "      <td>6925</td>\n",
              "    </tr>\n",
              "  </tbody>\n",
              "</table>\n",
              "</div>"
            ],
            "text/plain": [
              "  ketepatan_waktu  jumlah_pesanan\n",
              "0     Tepat waktu          100345\n",
              "1       Terlambat            6925"
            ]
          },
          "execution_count": 141,
          "metadata": {},
          "output_type": "execute_result"
        }
      ],
      "source": [
        "order_plot = products_order_items_df.groupby(by=\"ketepatan_waktu\").order_id.count().reset_index().rename(columns={\"order_id\": \"jumlah_pesanan\"})\n",
        "order_plot"
      ]
    },
    {
      "cell_type": "code",
      "execution_count": 142,
      "metadata": {
        "colab": {
          "base_uri": "https://localhost:8080/",
          "height": 125
        },
        "id": "f-Srs2nZqj_9",
        "outputId": "a8c15236-a9a8-4180-d9c7-2053bf1cd7af"
      },
      "outputs": [
        {
          "data": {
            "text/html": [
              "<div>\n",
              "<style scoped>\n",
              "    .dataframe tbody tr th:only-of-type {\n",
              "        vertical-align: middle;\n",
              "    }\n",
              "\n",
              "    .dataframe tbody tr th {\n",
              "        vertical-align: top;\n",
              "    }\n",
              "\n",
              "    .dataframe thead th {\n",
              "        text-align: right;\n",
              "    }\n",
              "</style>\n",
              "<table border=\"1\" class=\"dataframe\">\n",
              "  <thead>\n",
              "    <tr style=\"text-align: right;\">\n",
              "      <th></th>\n",
              "      <th>ketepatan_waktu</th>\n",
              "      <th>rata_rata_rating</th>\n",
              "    </tr>\n",
              "  </thead>\n",
              "  <tbody>\n",
              "    <tr>\n",
              "      <th>0</th>\n",
              "      <td>Tepat waktu</td>\n",
              "      <td>4.2</td>\n",
              "    </tr>\n",
              "    <tr>\n",
              "      <th>1</th>\n",
              "      <td>Terlambat</td>\n",
              "      <td>2.3</td>\n",
              "    </tr>\n",
              "  </tbody>\n",
              "</table>\n",
              "</div>"
            ],
            "text/plain": [
              "  ketepatan_waktu  rata_rata_rating\n",
              "0     Tepat waktu               4.2\n",
              "1       Terlambat               2.3"
            ]
          },
          "execution_count": 142,
          "metadata": {},
          "output_type": "execute_result"
        }
      ],
      "source": [
        "order_mean_plot = products_order_items_df.groupby(by=\"ketepatan_waktu\").review_score.mean().reset_index().rename(columns={\"review_score\": \"rata_rata_rating\"})\n",
        "order_mean_plot[\"rata_rata_rating\"] = round(order_mean_plot[\"rata_rata_rating\"], 1)\n",
        "order_mean_plot"
      ]
    },
    {
      "cell_type": "code",
      "execution_count": 143,
      "metadata": {
        "colab": {
          "base_uri": "https://localhost:8080/",
          "height": 1000
        },
        "id": "1LGjflmPjnqQ",
        "outputId": "2921e738-7127-49ac-f869-071dfaaee840"
      },
      "outputs": [
        {
          "data": {
            "text/plain": [
              "order_id                             0\n",
              "customer_id                          0\n",
              "order_status                         0\n",
              "order_purchase_timestamp             0\n",
              "order_approved_at                    0\n",
              "order_delivered_carrier_date         0\n",
              "order_delivered_customer_date        0\n",
              "order_estimated_delivery_date        0\n",
              "ketepatan_waktu                      0\n",
              "waktu_pengantaran(hari)              0\n",
              "order_item_id                        0\n",
              "product_id                           0\n",
              "seller_id                            0\n",
              "shipping_limit_date                  0\n",
              "price                                0\n",
              "freight_value                        0\n",
              "total_price                          0\n",
              "product_category_name                0\n",
              "product_name_lenght                  0\n",
              "product_description_lenght           0\n",
              "product_photos_qty                   0\n",
              "product_weight_g                     0\n",
              "product_length_cm                    0\n",
              "product_height_cm                    0\n",
              "product_width_cm                     0\n",
              "product_category_name_english        0\n",
              "review_id                            0\n",
              "review_score                         0\n",
              "review_comment_title             94279\n",
              "review_comment_message           62264\n",
              "review_creation_date                 0\n",
              "review_answer_timestamp              0\n",
              "dtype: int64"
            ]
          },
          "execution_count": 143,
          "metadata": {},
          "output_type": "execute_result"
        }
      ],
      "source": [
        "products_order_items_df.isnull().sum()"
      ]
    },
    {
      "cell_type": "code",
      "execution_count": 144,
      "metadata": {
        "colab": {
          "base_uri": "https://localhost:8080/",
          "height": 206
        },
        "id": "20zSIKiC2ig7",
        "outputId": "06c77169-40aa-4d92-ca7e-caf1f55d1927"
      },
      "outputs": [
        {
          "data": {
            "text/html": [
              "<div>\n",
              "<style scoped>\n",
              "    .dataframe tbody tr th:only-of-type {\n",
              "        vertical-align: middle;\n",
              "    }\n",
              "\n",
              "    .dataframe tbody tr th {\n",
              "        vertical-align: top;\n",
              "    }\n",
              "\n",
              "    .dataframe thead th {\n",
              "        text-align: right;\n",
              "    }\n",
              "</style>\n",
              "<table border=\"1\" class=\"dataframe\">\n",
              "  <thead>\n",
              "    <tr style=\"text-align: right;\">\n",
              "      <th></th>\n",
              "      <th>product_id</th>\n",
              "      <th>jumlah produk terjual</th>\n",
              "    </tr>\n",
              "  </thead>\n",
              "  <tbody>\n",
              "    <tr>\n",
              "      <th>21048</th>\n",
              "      <td>aca2eb7d00ea1a7b8ebd4e68314663af</td>\n",
              "      <td>517</td>\n",
              "    </tr>\n",
              "    <tr>\n",
              "      <th>8200</th>\n",
              "      <td>422879e10f46682990de24d770e7f83d</td>\n",
              "      <td>481</td>\n",
              "    </tr>\n",
              "    <tr>\n",
              "      <th>18774</th>\n",
              "      <td>99a4788cb24856965c36a24e339b6058</td>\n",
              "      <td>468</td>\n",
              "    </tr>\n",
              "    <tr>\n",
              "      <th>7010</th>\n",
              "      <td>389d119b48cf3043d311335e499d9c6b</td>\n",
              "      <td>387</td>\n",
              "    </tr>\n",
              "    <tr>\n",
              "      <th>6738</th>\n",
              "      <td>368c6c730842d78016ad823897a372db</td>\n",
              "      <td>385</td>\n",
              "    </tr>\n",
              "  </tbody>\n",
              "</table>\n",
              "</div>"
            ],
            "text/plain": [
              "                             product_id  jumlah produk terjual\n",
              "21048  aca2eb7d00ea1a7b8ebd4e68314663af                    517\n",
              "8200   422879e10f46682990de24d770e7f83d                    481\n",
              "18774  99a4788cb24856965c36a24e339b6058                    468\n",
              "7010   389d119b48cf3043d311335e499d9c6b                    387\n",
              "6738   368c6c730842d78016ad823897a372db                    385"
            ]
          },
          "execution_count": 144,
          "metadata": {},
          "output_type": "execute_result"
        }
      ],
      "source": [
        "products_order_items_df.groupby(by=\"product_id\").order_item_id.count().reset_index().sort_values(by=\"order_item_id\", ascending=False).rename(columns={\"order_item_id\": \"jumlah produk terjual\"}).head()"
      ]
    },
    {
      "cell_type": "code",
      "execution_count": 145,
      "metadata": {
        "colab": {
          "base_uri": "https://localhost:8080/",
          "height": 206
        },
        "id": "COzPSG-J3P-m",
        "outputId": "5b517b9f-db23-4525-bacc-6737eddf4ed1"
      },
      "outputs": [
        {
          "data": {
            "text/html": [
              "<div>\n",
              "<style scoped>\n",
              "    .dataframe tbody tr th:only-of-type {\n",
              "        vertical-align: middle;\n",
              "    }\n",
              "\n",
              "    .dataframe tbody tr th {\n",
              "        vertical-align: top;\n",
              "    }\n",
              "\n",
              "    .dataframe thead th {\n",
              "        text-align: right;\n",
              "    }\n",
              "</style>\n",
              "<table border=\"1\" class=\"dataframe\">\n",
              "  <thead>\n",
              "    <tr style=\"text-align: right;\">\n",
              "      <th></th>\n",
              "      <th>product_category_name_english</th>\n",
              "      <th>jumlah_produk_terjual</th>\n",
              "    </tr>\n",
              "  </thead>\n",
              "  <tbody>\n",
              "    <tr>\n",
              "      <th>7</th>\n",
              "      <td>bed_bath_table</td>\n",
              "      <td>10709</td>\n",
              "    </tr>\n",
              "    <tr>\n",
              "      <th>43</th>\n",
              "      <td>health_beauty</td>\n",
              "      <td>9367</td>\n",
              "    </tr>\n",
              "    <tr>\n",
              "      <th>65</th>\n",
              "      <td>sports_leisure</td>\n",
              "      <td>8325</td>\n",
              "    </tr>\n",
              "    <tr>\n",
              "      <th>39</th>\n",
              "      <td>furniture_decor</td>\n",
              "      <td>8012</td>\n",
              "    </tr>\n",
              "    <tr>\n",
              "      <th>15</th>\n",
              "      <td>computers_accessories</td>\n",
              "      <td>7557</td>\n",
              "    </tr>\n",
              "  </tbody>\n",
              "</table>\n",
              "</div>"
            ],
            "text/plain": [
              "   product_category_name_english  jumlah_produk_terjual\n",
              "7                 bed_bath_table                  10709\n",
              "43                 health_beauty                   9367\n",
              "65                sports_leisure                   8325\n",
              "39               furniture_decor                   8012\n",
              "15         computers_accessories                   7557"
            ]
          },
          "execution_count": 145,
          "metadata": {},
          "output_type": "execute_result"
        }
      ],
      "source": [
        "product_top = products_order_items_df.groupby(by=\"product_category_name_english\").order_item_id.count().reset_index().sort_values(by=\"order_item_id\", ascending=False).rename(columns={\"order_item_id\": \"jumlah_produk_terjual\"}).head()\n",
        "product_top"
      ]
    },
    {
      "cell_type": "code",
      "execution_count": 146,
      "metadata": {
        "colab": {
          "base_uri": "https://localhost:8080/",
          "height": 206
        },
        "id": "vZHa9v4f3pzt",
        "outputId": "34e04daf-f8b8-489b-8bd7-0c0a037f7a49"
      },
      "outputs": [
        {
          "data": {
            "text/html": [
              "<div>\n",
              "<style scoped>\n",
              "    .dataframe tbody tr th:only-of-type {\n",
              "        vertical-align: middle;\n",
              "    }\n",
              "\n",
              "    .dataframe tbody tr th {\n",
              "        vertical-align: top;\n",
              "    }\n",
              "\n",
              "    .dataframe thead th {\n",
              "        text-align: right;\n",
              "    }\n",
              "</style>\n",
              "<table border=\"1\" class=\"dataframe\">\n",
              "  <thead>\n",
              "    <tr style=\"text-align: right;\">\n",
              "      <th></th>\n",
              "      <th>product_category_name_english</th>\n",
              "      <th>jumlah_produk_terjual</th>\n",
              "    </tr>\n",
              "  </thead>\n",
              "  <tbody>\n",
              "    <tr>\n",
              "      <th>61</th>\n",
              "      <td>security_and_services</td>\n",
              "      <td>2</td>\n",
              "    </tr>\n",
              "    <tr>\n",
              "      <th>29</th>\n",
              "      <td>fashion_childrens_clothes</td>\n",
              "      <td>7</td>\n",
              "    </tr>\n",
              "    <tr>\n",
              "      <th>52</th>\n",
              "      <td>la_cuisine</td>\n",
              "      <td>13</td>\n",
              "    </tr>\n",
              "    <tr>\n",
              "      <th>11</th>\n",
              "      <td>cds_dvds_musicals</td>\n",
              "      <td>14</td>\n",
              "    </tr>\n",
              "    <tr>\n",
              "      <th>3</th>\n",
              "      <td>arts_and_craftmanship</td>\n",
              "      <td>24</td>\n",
              "    </tr>\n",
              "  </tbody>\n",
              "</table>\n",
              "</div>"
            ],
            "text/plain": [
              "   product_category_name_english  jumlah_produk_terjual\n",
              "61         security_and_services                      2\n",
              "29     fashion_childrens_clothes                      7\n",
              "52                    la_cuisine                     13\n",
              "11             cds_dvds_musicals                     14\n",
              "3          arts_and_craftmanship                     24"
            ]
          },
          "execution_count": 146,
          "metadata": {},
          "output_type": "execute_result"
        }
      ],
      "source": [
        "product_bottom = products_order_items_df.groupby(by=\"product_category_name_english\").order_item_id.count().reset_index().sort_values(by=\"order_item_id\", ascending=True).rename(columns={\"order_item_id\": \"jumlah_produk_terjual\"}).head()\n",
        "product_bottom"
      ]
    },
    {
      "cell_type": "markdown",
      "metadata": {
        "id": "YvmN-hbP6LCx"
      },
      "source": [
        "**Insight**\n",
        "- Mengurutkan 5 produk yang paling laku\n",
        "- Mengurutkan 5 kategori produk yang paling laris atau paling banyak dibutuhkan customer\n",
        "- Mengurutkan 5 kategori produk yang paling sedikit terjual atau kurang dibutuhkan customer\n",
        "- Menghitung jumlah pesanan yang pengirimannya tepat waktu\n",
        "- Menghitung jumlah pesanan yang pengirimannya terlambat\n",
        "- Menghitung rata-rata rating unruk pesanan yang pengirimannya tepat waktu dan yang terlambat"
      ]
    },
    {
      "cell_type": "markdown",
      "metadata": {
        "id": "kq1CA1s6Cz7W"
      },
      "source": [
        "### Explore `order_payments_df`"
      ]
    },
    {
      "cell_type": "code",
      "execution_count": 147,
      "metadata": {
        "colab": {
          "base_uri": "https://localhost:8080/"
        },
        "id": "YpB2KSwuw9nt",
        "outputId": "375dd598-fd9f-44e7-d0c4-55d6ff6a949b"
      },
      "outputs": [
        {
          "name": "stdout",
          "output_type": "stream",
          "text": [
            "<class 'pandas.core.frame.DataFrame'>\n",
            "Index: 99560 entries, 0 to 103885\n",
            "Data columns (total 5 columns):\n",
            " #   Column                Non-Null Count  Dtype  \n",
            "---  ------                --------------  -----  \n",
            " 0   order_id              99560 non-null  object \n",
            " 1   payment_sequential    99560 non-null  int64  \n",
            " 2   payment_type          99560 non-null  object \n",
            " 3   payment_installments  99560 non-null  int64  \n",
            " 4   payment_value         99560 non-null  float64\n",
            "dtypes: float64(1), int64(2), object(2)\n",
            "memory usage: 4.6+ MB\n"
          ]
        }
      ],
      "source": [
        "order_payments_df.info()"
      ]
    },
    {
      "cell_type": "code",
      "execution_count": 148,
      "metadata": {
        "colab": {
          "base_uri": "https://localhost:8080/",
          "height": 423
        },
        "id": "xywVbgJCCzBu",
        "outputId": "c6a30c1a-04a4-4c49-92b1-425d33a87f2c"
      },
      "outputs": [
        {
          "data": {
            "text/html": [
              "<div>\n",
              "<style scoped>\n",
              "    .dataframe tbody tr th:only-of-type {\n",
              "        vertical-align: middle;\n",
              "    }\n",
              "\n",
              "    .dataframe tbody tr th {\n",
              "        vertical-align: top;\n",
              "    }\n",
              "\n",
              "    .dataframe thead th {\n",
              "        text-align: right;\n",
              "    }\n",
              "</style>\n",
              "<table border=\"1\" class=\"dataframe\">\n",
              "  <thead>\n",
              "    <tr style=\"text-align: right;\">\n",
              "      <th></th>\n",
              "      <th>order_id</th>\n",
              "      <th>payment_sequential</th>\n",
              "      <th>payment_type</th>\n",
              "      <th>payment_installments</th>\n",
              "      <th>payment_value</th>\n",
              "    </tr>\n",
              "  </thead>\n",
              "  <tbody>\n",
              "    <tr>\n",
              "      <th>0</th>\n",
              "      <td>b81ef226f3fe1789b1e8b2acac839d17</td>\n",
              "      <td>1</td>\n",
              "      <td>credit_card</td>\n",
              "      <td>8</td>\n",
              "      <td>99.33</td>\n",
              "    </tr>\n",
              "    <tr>\n",
              "      <th>1</th>\n",
              "      <td>a9810da82917af2d9aefd1278f1dcfa0</td>\n",
              "      <td>1</td>\n",
              "      <td>credit_card</td>\n",
              "      <td>1</td>\n",
              "      <td>24.39</td>\n",
              "    </tr>\n",
              "    <tr>\n",
              "      <th>2</th>\n",
              "      <td>25e8ea4e93396b6fa0d3dd708e76c1bd</td>\n",
              "      <td>1</td>\n",
              "      <td>credit_card</td>\n",
              "      <td>1</td>\n",
              "      <td>65.71</td>\n",
              "    </tr>\n",
              "    <tr>\n",
              "      <th>3</th>\n",
              "      <td>ba78997921bbcdc1373bb41e913ab953</td>\n",
              "      <td>1</td>\n",
              "      <td>credit_card</td>\n",
              "      <td>8</td>\n",
              "      <td>107.78</td>\n",
              "    </tr>\n",
              "    <tr>\n",
              "      <th>4</th>\n",
              "      <td>42fdf880ba16b47b59251dd489d4441a</td>\n",
              "      <td>1</td>\n",
              "      <td>credit_card</td>\n",
              "      <td>2</td>\n",
              "      <td>128.45</td>\n",
              "    </tr>\n",
              "    <tr>\n",
              "      <th>...</th>\n",
              "      <td>...</td>\n",
              "      <td>...</td>\n",
              "      <td>...</td>\n",
              "      <td>...</td>\n",
              "      <td>...</td>\n",
              "    </tr>\n",
              "    <tr>\n",
              "      <th>103881</th>\n",
              "      <td>0406037ad97740d563a178ecc7a2075c</td>\n",
              "      <td>1</td>\n",
              "      <td>boleto</td>\n",
              "      <td>1</td>\n",
              "      <td>363.31</td>\n",
              "    </tr>\n",
              "    <tr>\n",
              "      <th>103882</th>\n",
              "      <td>7b905861d7c825891d6347454ea7863f</td>\n",
              "      <td>1</td>\n",
              "      <td>credit_card</td>\n",
              "      <td>2</td>\n",
              "      <td>96.80</td>\n",
              "    </tr>\n",
              "    <tr>\n",
              "      <th>103883</th>\n",
              "      <td>32609bbb3dd69b3c066a6860554a77bf</td>\n",
              "      <td>1</td>\n",
              "      <td>credit_card</td>\n",
              "      <td>1</td>\n",
              "      <td>47.77</td>\n",
              "    </tr>\n",
              "    <tr>\n",
              "      <th>103884</th>\n",
              "      <td>b8b61059626efa996a60be9bb9320e10</td>\n",
              "      <td>1</td>\n",
              "      <td>credit_card</td>\n",
              "      <td>5</td>\n",
              "      <td>369.54</td>\n",
              "    </tr>\n",
              "    <tr>\n",
              "      <th>103885</th>\n",
              "      <td>28bbae6599b09d39ca406b747b6632b1</td>\n",
              "      <td>1</td>\n",
              "      <td>boleto</td>\n",
              "      <td>1</td>\n",
              "      <td>191.58</td>\n",
              "    </tr>\n",
              "  </tbody>\n",
              "</table>\n",
              "<p>99560 rows × 5 columns</p>\n",
              "</div>"
            ],
            "text/plain": [
              "                                order_id  payment_sequential payment_type  \\\n",
              "0       b81ef226f3fe1789b1e8b2acac839d17                   1  credit_card   \n",
              "1       a9810da82917af2d9aefd1278f1dcfa0                   1  credit_card   \n",
              "2       25e8ea4e93396b6fa0d3dd708e76c1bd                   1  credit_card   \n",
              "3       ba78997921bbcdc1373bb41e913ab953                   1  credit_card   \n",
              "4       42fdf880ba16b47b59251dd489d4441a                   1  credit_card   \n",
              "...                                  ...                 ...          ...   \n",
              "103881  0406037ad97740d563a178ecc7a2075c                   1       boleto   \n",
              "103882  7b905861d7c825891d6347454ea7863f                   1  credit_card   \n",
              "103883  32609bbb3dd69b3c066a6860554a77bf                   1  credit_card   \n",
              "103884  b8b61059626efa996a60be9bb9320e10                   1  credit_card   \n",
              "103885  28bbae6599b09d39ca406b747b6632b1                   1       boleto   \n",
              "\n",
              "        payment_installments  payment_value  \n",
              "0                          8          99.33  \n",
              "1                          1          24.39  \n",
              "2                          1          65.71  \n",
              "3                          8         107.78  \n",
              "4                          2         128.45  \n",
              "...                      ...            ...  \n",
              "103881                     1         363.31  \n",
              "103882                     2          96.80  \n",
              "103883                     1          47.77  \n",
              "103884                     5         369.54  \n",
              "103885                     1         191.58  \n",
              "\n",
              "[99560 rows x 5 columns]"
            ]
          },
          "execution_count": 148,
          "metadata": {},
          "output_type": "execute_result"
        }
      ],
      "source": [
        "order_payments_df"
      ]
    },
    {
      "cell_type": "code",
      "execution_count": 149,
      "metadata": {
        "colab": {
          "base_uri": "https://localhost:8080/"
        },
        "id": "KF9kFwRwfGmH",
        "outputId": "48f997b8-8e67-48fe-95bb-3607ce10e893"
      },
      "outputs": [
        {
          "data": {
            "text/plain": [
              "False"
            ]
          },
          "execution_count": 149,
          "metadata": {},
          "output_type": "execute_result"
        }
      ],
      "source": [
        "order_payments_df.order_id.is_unique"
      ]
    },
    {
      "cell_type": "code",
      "execution_count": 150,
      "metadata": {
        "colab": {
          "base_uri": "https://localhost:8080/",
          "height": 175
        },
        "id": "J6TI6cflDBTc",
        "outputId": "6bfa8843-f986-4470-8aaf-1042db135012"
      },
      "outputs": [
        {
          "data": {
            "text/html": [
              "<div>\n",
              "<style scoped>\n",
              "    .dataframe tbody tr th:only-of-type {\n",
              "        vertical-align: middle;\n",
              "    }\n",
              "\n",
              "    .dataframe tbody tr th {\n",
              "        vertical-align: top;\n",
              "    }\n",
              "\n",
              "    .dataframe thead th {\n",
              "        text-align: right;\n",
              "    }\n",
              "</style>\n",
              "<table border=\"1\" class=\"dataframe\">\n",
              "  <thead>\n",
              "    <tr style=\"text-align: right;\">\n",
              "      <th></th>\n",
              "      <th>payment_type</th>\n",
              "      <th>jumlah pesanan</th>\n",
              "    </tr>\n",
              "  </thead>\n",
              "  <tbody>\n",
              "    <tr>\n",
              "      <th>0</th>\n",
              "      <td>credit_card</td>\n",
              "      <td>76501</td>\n",
              "    </tr>\n",
              "    <tr>\n",
              "      <th>1</th>\n",
              "      <td>boleto</td>\n",
              "      <td>19783</td>\n",
              "    </tr>\n",
              "    <tr>\n",
              "      <th>2</th>\n",
              "      <td>voucher</td>\n",
              "      <td>1621</td>\n",
              "    </tr>\n",
              "    <tr>\n",
              "      <th>3</th>\n",
              "      <td>debit_card</td>\n",
              "      <td>1477</td>\n",
              "    </tr>\n",
              "  </tbody>\n",
              "</table>\n",
              "</div>"
            ],
            "text/plain": [
              "  payment_type  jumlah pesanan\n",
              "0  credit_card           76501\n",
              "1       boleto           19783\n",
              "2      voucher            1621\n",
              "3   debit_card            1477"
            ]
          },
          "execution_count": 150,
          "metadata": {},
          "output_type": "execute_result"
        }
      ],
      "source": [
        "order_payments_df.groupby(by=\"payment_type\").order_id.nunique().sort_values(ascending=False).reset_index().head().rename(columns={\"order_id\": \"jumlah pesanan\"})"
      ]
    },
    {
      "cell_type": "code",
      "execution_count": 151,
      "metadata": {
        "colab": {
          "base_uri": "https://localhost:8080/",
          "height": 363
        },
        "id": "8aRr4ufKf-AU",
        "outputId": "b62b6119-12a2-4a24-c361-b8d966593cb6"
      },
      "outputs": [
        {
          "data": {
            "text/html": [
              "<div>\n",
              "<style scoped>\n",
              "    .dataframe tbody tr th:only-of-type {\n",
              "        vertical-align: middle;\n",
              "    }\n",
              "\n",
              "    .dataframe tbody tr th {\n",
              "        vertical-align: top;\n",
              "    }\n",
              "\n",
              "    .dataframe thead th {\n",
              "        text-align: right;\n",
              "    }\n",
              "</style>\n",
              "<table border=\"1\" class=\"dataframe\">\n",
              "  <thead>\n",
              "    <tr style=\"text-align: right;\">\n",
              "      <th></th>\n",
              "      <th>payment_installments</th>\n",
              "      <th>jumlah pesanan</th>\n",
              "    </tr>\n",
              "  </thead>\n",
              "  <tbody>\n",
              "    <tr>\n",
              "      <th>0</th>\n",
              "      <td>1</td>\n",
              "      <td>48226</td>\n",
              "    </tr>\n",
              "    <tr>\n",
              "      <th>1</th>\n",
              "      <td>2</td>\n",
              "      <td>12385</td>\n",
              "    </tr>\n",
              "    <tr>\n",
              "      <th>2</th>\n",
              "      <td>3</td>\n",
              "      <td>10443</td>\n",
              "    </tr>\n",
              "    <tr>\n",
              "      <th>3</th>\n",
              "      <td>4</td>\n",
              "      <td>7088</td>\n",
              "    </tr>\n",
              "    <tr>\n",
              "      <th>4</th>\n",
              "      <td>10</td>\n",
              "      <td>5315</td>\n",
              "    </tr>\n",
              "    <tr>\n",
              "      <th>5</th>\n",
              "      <td>5</td>\n",
              "      <td>5234</td>\n",
              "    </tr>\n",
              "    <tr>\n",
              "      <th>6</th>\n",
              "      <td>8</td>\n",
              "      <td>4253</td>\n",
              "    </tr>\n",
              "    <tr>\n",
              "      <th>7</th>\n",
              "      <td>6</td>\n",
              "      <td>3916</td>\n",
              "    </tr>\n",
              "    <tr>\n",
              "      <th>8</th>\n",
              "      <td>7</td>\n",
              "      <td>1623</td>\n",
              "    </tr>\n",
              "    <tr>\n",
              "      <th>9</th>\n",
              "      <td>9</td>\n",
              "      <td>644</td>\n",
              "    </tr>\n",
              "  </tbody>\n",
              "</table>\n",
              "</div>"
            ],
            "text/plain": [
              "   payment_installments  jumlah pesanan\n",
              "0                     1           48226\n",
              "1                     2           12385\n",
              "2                     3           10443\n",
              "3                     4            7088\n",
              "4                    10            5315\n",
              "5                     5            5234\n",
              "6                     8            4253\n",
              "7                     6            3916\n",
              "8                     7            1623\n",
              "9                     9             644"
            ]
          },
          "execution_count": 151,
          "metadata": {},
          "output_type": "execute_result"
        }
      ],
      "source": [
        "order_payments_df.groupby(by=\"payment_installments\").order_id.nunique().sort_values(ascending=False).reset_index().rename(columns={\"order_id\": \"jumlah pesanan\"}).head(10)"
      ]
    },
    {
      "cell_type": "code",
      "execution_count": 152,
      "metadata": {
        "colab": {
          "base_uri": "https://localhost:8080/",
          "height": 423
        },
        "id": "ny45u1mCgWin",
        "outputId": "a1e856c3-3829-44bf-b28f-3140cc683f5f"
      },
      "outputs": [
        {
          "data": {
            "text/html": [
              "<div>\n",
              "<style scoped>\n",
              "    .dataframe tbody tr th:only-of-type {\n",
              "        vertical-align: middle;\n",
              "    }\n",
              "\n",
              "    .dataframe tbody tr th {\n",
              "        vertical-align: top;\n",
              "    }\n",
              "\n",
              "    .dataframe thead th {\n",
              "        text-align: right;\n",
              "    }\n",
              "</style>\n",
              "<table border=\"1\" class=\"dataframe\">\n",
              "  <thead>\n",
              "    <tr style=\"text-align: right;\">\n",
              "      <th></th>\n",
              "      <th>order_id</th>\n",
              "      <th>payment_sequential</th>\n",
              "      <th>payment_type</th>\n",
              "      <th>payment_installments</th>\n",
              "      <th>payment_value</th>\n",
              "    </tr>\n",
              "  </thead>\n",
              "  <tbody>\n",
              "    <tr>\n",
              "      <th>1</th>\n",
              "      <td>a9810da82917af2d9aefd1278f1dcfa0</td>\n",
              "      <td>1</td>\n",
              "      <td>credit_card</td>\n",
              "      <td>1</td>\n",
              "      <td>24.39</td>\n",
              "    </tr>\n",
              "    <tr>\n",
              "      <th>2</th>\n",
              "      <td>25e8ea4e93396b6fa0d3dd708e76c1bd</td>\n",
              "      <td>1</td>\n",
              "      <td>credit_card</td>\n",
              "      <td>1</td>\n",
              "      <td>65.71</td>\n",
              "    </tr>\n",
              "    <tr>\n",
              "      <th>6</th>\n",
              "      <td>771ee386b001f06208a7419e4fc1bbd7</td>\n",
              "      <td>1</td>\n",
              "      <td>credit_card</td>\n",
              "      <td>1</td>\n",
              "      <td>81.16</td>\n",
              "    </tr>\n",
              "    <tr>\n",
              "      <th>9</th>\n",
              "      <td>0573b5e23cbd798006520e1d5b4c6714</td>\n",
              "      <td>1</td>\n",
              "      <td>boleto</td>\n",
              "      <td>1</td>\n",
              "      <td>51.95</td>\n",
              "    </tr>\n",
              "    <tr>\n",
              "      <th>11</th>\n",
              "      <td>2480f727e869fdeb397244a21b721b67</td>\n",
              "      <td>1</td>\n",
              "      <td>credit_card</td>\n",
              "      <td>1</td>\n",
              "      <td>141.90</td>\n",
              "    </tr>\n",
              "    <tr>\n",
              "      <th>...</th>\n",
              "      <td>...</td>\n",
              "      <td>...</td>\n",
              "      <td>...</td>\n",
              "      <td>...</td>\n",
              "      <td>...</td>\n",
              "    </tr>\n",
              "    <tr>\n",
              "      <th>103874</th>\n",
              "      <td>d41f1036712e18ee525939d08b7a1c98</td>\n",
              "      <td>1</td>\n",
              "      <td>credit_card</td>\n",
              "      <td>1</td>\n",
              "      <td>3.57</td>\n",
              "    </tr>\n",
              "    <tr>\n",
              "      <th>103877</th>\n",
              "      <td>3531718b24dfd5022fb0d101e10e33b9</td>\n",
              "      <td>1</td>\n",
              "      <td>credit_card</td>\n",
              "      <td>1</td>\n",
              "      <td>194.11</td>\n",
              "    </tr>\n",
              "    <tr>\n",
              "      <th>103881</th>\n",
              "      <td>0406037ad97740d563a178ecc7a2075c</td>\n",
              "      <td>1</td>\n",
              "      <td>boleto</td>\n",
              "      <td>1</td>\n",
              "      <td>363.31</td>\n",
              "    </tr>\n",
              "    <tr>\n",
              "      <th>103883</th>\n",
              "      <td>32609bbb3dd69b3c066a6860554a77bf</td>\n",
              "      <td>1</td>\n",
              "      <td>credit_card</td>\n",
              "      <td>1</td>\n",
              "      <td>47.77</td>\n",
              "    </tr>\n",
              "    <tr>\n",
              "      <th>103885</th>\n",
              "      <td>28bbae6599b09d39ca406b747b6632b1</td>\n",
              "      <td>1</td>\n",
              "      <td>boleto</td>\n",
              "      <td>1</td>\n",
              "      <td>191.58</td>\n",
              "    </tr>\n",
              "  </tbody>\n",
              "</table>\n",
              "<p>48276 rows × 5 columns</p>\n",
              "</div>"
            ],
            "text/plain": [
              "                                order_id  payment_sequential payment_type  \\\n",
              "1       a9810da82917af2d9aefd1278f1dcfa0                   1  credit_card   \n",
              "2       25e8ea4e93396b6fa0d3dd708e76c1bd                   1  credit_card   \n",
              "6       771ee386b001f06208a7419e4fc1bbd7                   1  credit_card   \n",
              "9       0573b5e23cbd798006520e1d5b4c6714                   1       boleto   \n",
              "11      2480f727e869fdeb397244a21b721b67                   1  credit_card   \n",
              "...                                  ...                 ...          ...   \n",
              "103874  d41f1036712e18ee525939d08b7a1c98                   1  credit_card   \n",
              "103877  3531718b24dfd5022fb0d101e10e33b9                   1  credit_card   \n",
              "103881  0406037ad97740d563a178ecc7a2075c                   1       boleto   \n",
              "103883  32609bbb3dd69b3c066a6860554a77bf                   1  credit_card   \n",
              "103885  28bbae6599b09d39ca406b747b6632b1                   1       boleto   \n",
              "\n",
              "        payment_installments  payment_value  \n",
              "1                          1          24.39  \n",
              "2                          1          65.71  \n",
              "6                          1          81.16  \n",
              "9                          1          51.95  \n",
              "11                         1         141.90  \n",
              "...                      ...            ...  \n",
              "103874                     1           3.57  \n",
              "103877                     1         194.11  \n",
              "103881                     1         363.31  \n",
              "103883                     1          47.77  \n",
              "103885                     1         191.58  \n",
              "\n",
              "[48276 rows x 5 columns]"
            ]
          },
          "execution_count": 152,
          "metadata": {},
          "output_type": "execute_result"
        }
      ],
      "source": [
        "order = order_payments_df[order_payments_df.payment_sequential == order_payments_df.payment_installments]\n",
        "order"
      ]
    },
    {
      "cell_type": "code",
      "execution_count": 153,
      "metadata": {
        "colab": {
          "base_uri": "https://localhost:8080/"
        },
        "id": "umwQ1M4yL6Ms",
        "outputId": "b3466019-e46f-4139-8b73-e9b3123a4058"
      },
      "outputs": [
        {
          "data": {
            "text/plain": [
              "True"
            ]
          },
          "execution_count": 153,
          "metadata": {},
          "output_type": "execute_result"
        }
      ],
      "source": [
        "order.order_id.is_unique"
      ]
    },
    {
      "cell_type": "code",
      "execution_count": 154,
      "metadata": {
        "colab": {
          "base_uri": "https://localhost:8080/",
          "height": 206
        },
        "id": "bvAle4UQH3de",
        "outputId": "056011f7-5359-4106-b38f-3ef515655fdd"
      },
      "outputs": [
        {
          "data": {
            "text/html": [
              "<div>\n",
              "<style scoped>\n",
              "    .dataframe tbody tr th:only-of-type {\n",
              "        vertical-align: middle;\n",
              "    }\n",
              "\n",
              "    .dataframe tbody tr th {\n",
              "        vertical-align: top;\n",
              "    }\n",
              "\n",
              "    .dataframe thead th {\n",
              "        text-align: right;\n",
              "    }\n",
              "</style>\n",
              "<table border=\"1\" class=\"dataframe\">\n",
              "  <thead>\n",
              "    <tr style=\"text-align: right;\">\n",
              "      <th></th>\n",
              "      <th>order_id</th>\n",
              "      <th>payment_sequential</th>\n",
              "      <th>payment_type</th>\n",
              "      <th>payment_installments</th>\n",
              "      <th>payment_value</th>\n",
              "      <th>Status_pembayaran</th>\n",
              "    </tr>\n",
              "  </thead>\n",
              "  <tbody>\n",
              "    <tr>\n",
              "      <th>0</th>\n",
              "      <td>b81ef226f3fe1789b1e8b2acac839d17</td>\n",
              "      <td>1</td>\n",
              "      <td>credit_card</td>\n",
              "      <td>8</td>\n",
              "      <td>99.33</td>\n",
              "      <td>Belum Lunas</td>\n",
              "    </tr>\n",
              "    <tr>\n",
              "      <th>1</th>\n",
              "      <td>a9810da82917af2d9aefd1278f1dcfa0</td>\n",
              "      <td>1</td>\n",
              "      <td>credit_card</td>\n",
              "      <td>1</td>\n",
              "      <td>24.39</td>\n",
              "      <td>Lunas</td>\n",
              "    </tr>\n",
              "    <tr>\n",
              "      <th>2</th>\n",
              "      <td>25e8ea4e93396b6fa0d3dd708e76c1bd</td>\n",
              "      <td>1</td>\n",
              "      <td>credit_card</td>\n",
              "      <td>1</td>\n",
              "      <td>65.71</td>\n",
              "      <td>Lunas</td>\n",
              "    </tr>\n",
              "    <tr>\n",
              "      <th>3</th>\n",
              "      <td>ba78997921bbcdc1373bb41e913ab953</td>\n",
              "      <td>1</td>\n",
              "      <td>credit_card</td>\n",
              "      <td>8</td>\n",
              "      <td>107.78</td>\n",
              "      <td>Belum Lunas</td>\n",
              "    </tr>\n",
              "    <tr>\n",
              "      <th>4</th>\n",
              "      <td>42fdf880ba16b47b59251dd489d4441a</td>\n",
              "      <td>1</td>\n",
              "      <td>credit_card</td>\n",
              "      <td>2</td>\n",
              "      <td>128.45</td>\n",
              "      <td>Belum Lunas</td>\n",
              "    </tr>\n",
              "  </tbody>\n",
              "</table>\n",
              "</div>"
            ],
            "text/plain": [
              "                           order_id  payment_sequential payment_type  \\\n",
              "0  b81ef226f3fe1789b1e8b2acac839d17                   1  credit_card   \n",
              "1  a9810da82917af2d9aefd1278f1dcfa0                   1  credit_card   \n",
              "2  25e8ea4e93396b6fa0d3dd708e76c1bd                   1  credit_card   \n",
              "3  ba78997921bbcdc1373bb41e913ab953                   1  credit_card   \n",
              "4  42fdf880ba16b47b59251dd489d4441a                   1  credit_card   \n",
              "\n",
              "   payment_installments  payment_value Status_pembayaran  \n",
              "0                     8          99.33       Belum Lunas  \n",
              "1                     1          24.39             Lunas  \n",
              "2                     1          65.71             Lunas  \n",
              "3                     8         107.78       Belum Lunas  \n",
              "4                     2         128.45       Belum Lunas  "
            ]
          },
          "execution_count": 154,
          "metadata": {},
          "output_type": "execute_result"
        }
      ],
      "source": [
        "Lunas = np.array([order[\"order_id\"]])\n",
        "order_payments_df[\"Status_pembayaran\"] = order_payments_df[\"order_id\"].apply(lambda x: \"Lunas\" if x in Lunas else \"Belum Lunas\")\n",
        "order_payments_df.head()"
      ]
    },
    {
      "cell_type": "code",
      "execution_count": 155,
      "metadata": {
        "colab": {
          "base_uri": "https://localhost:8080/",
          "height": 112
        },
        "id": "1V7_bTroKjS6",
        "outputId": "cf84c4c7-0e71-453e-d321-c43333560ef3"
      },
      "outputs": [
        {
          "data": {
            "text/html": [
              "<div>\n",
              "<style scoped>\n",
              "    .dataframe tbody tr th:only-of-type {\n",
              "        vertical-align: middle;\n",
              "    }\n",
              "\n",
              "    .dataframe tbody tr th {\n",
              "        vertical-align: top;\n",
              "    }\n",
              "\n",
              "    .dataframe thead th {\n",
              "        text-align: right;\n",
              "    }\n",
              "</style>\n",
              "<table border=\"1\" class=\"dataframe\">\n",
              "  <thead>\n",
              "    <tr style=\"text-align: right;\">\n",
              "      <th></th>\n",
              "      <th>Status_pembayaran</th>\n",
              "      <th>jumlah pesanan</th>\n",
              "    </tr>\n",
              "  </thead>\n",
              "  <tbody>\n",
              "    <tr>\n",
              "      <th>0</th>\n",
              "      <td>Belum Lunas</td>\n",
              "      <td>51106</td>\n",
              "    </tr>\n",
              "    <tr>\n",
              "      <th>1</th>\n",
              "      <td>Lunas</td>\n",
              "      <td>48276</td>\n",
              "    </tr>\n",
              "  </tbody>\n",
              "</table>\n",
              "</div>"
            ],
            "text/plain": [
              "  Status_pembayaran  jumlah pesanan\n",
              "0       Belum Lunas           51106\n",
              "1             Lunas           48276"
            ]
          },
          "execution_count": 155,
          "metadata": {},
          "output_type": "execute_result"
        }
      ],
      "source": [
        "order_payments_df.groupby(by=\"Status_pembayaran\").order_id.nunique().reset_index().rename(columns={\"order_id\": \"jumlah pesanan\"})"
      ]
    },
    {
      "cell_type": "code",
      "execution_count": 156,
      "metadata": {
        "colab": {
          "base_uri": "https://localhost:8080/",
          "height": 206
        },
        "id": "Ffv3aLHROlgj",
        "outputId": "22271afe-a6c6-487a-d31b-87ede07e1d1f"
      },
      "outputs": [
        {
          "data": {
            "text/html": [
              "<div>\n",
              "<style scoped>\n",
              "    .dataframe tbody tr th:only-of-type {\n",
              "        vertical-align: middle;\n",
              "    }\n",
              "\n",
              "    .dataframe tbody tr th {\n",
              "        vertical-align: top;\n",
              "    }\n",
              "\n",
              "    .dataframe thead th {\n",
              "        text-align: right;\n",
              "    }\n",
              "</style>\n",
              "<table border=\"1\" class=\"dataframe\">\n",
              "  <thead>\n",
              "    <tr style=\"text-align: right;\">\n",
              "      <th></th>\n",
              "      <th>order_id</th>\n",
              "      <th>payment_value</th>\n",
              "    </tr>\n",
              "  </thead>\n",
              "  <tbody>\n",
              "    <tr>\n",
              "      <th>0</th>\n",
              "      <td>03caa2c082116e1d31e67e9ae3700499</td>\n",
              "      <td>13664.08</td>\n",
              "    </tr>\n",
              "    <tr>\n",
              "      <th>1</th>\n",
              "      <td>736e1922ae60d0d6a89247b851902527</td>\n",
              "      <td>7274.88</td>\n",
              "    </tr>\n",
              "    <tr>\n",
              "      <th>2</th>\n",
              "      <td>0812eb902a67711a1cb742b3cdaa65ae</td>\n",
              "      <td>6929.31</td>\n",
              "    </tr>\n",
              "    <tr>\n",
              "      <th>3</th>\n",
              "      <td>fefacc66af859508bf1a7934eab1e97f</td>\n",
              "      <td>6922.21</td>\n",
              "    </tr>\n",
              "    <tr>\n",
              "      <th>4</th>\n",
              "      <td>f5136e38d1a14a4dbd87dff67da82701</td>\n",
              "      <td>6726.66</td>\n",
              "    </tr>\n",
              "  </tbody>\n",
              "</table>\n",
              "</div>"
            ],
            "text/plain": [
              "                           order_id  payment_value\n",
              "0  03caa2c082116e1d31e67e9ae3700499       13664.08\n",
              "1  736e1922ae60d0d6a89247b851902527        7274.88\n",
              "2  0812eb902a67711a1cb742b3cdaa65ae        6929.31\n",
              "3  fefacc66af859508bf1a7934eab1e97f        6922.21\n",
              "4  f5136e38d1a14a4dbd87dff67da82701        6726.66"
            ]
          },
          "execution_count": 156,
          "metadata": {},
          "output_type": "execute_result"
        }
      ],
      "source": [
        "order_payments_df.groupby(by=\"order_id\").payment_value.sum().sort_values(ascending=False).reset_index().head()"
      ]
    },
    {
      "cell_type": "markdown",
      "metadata": {
        "id": "Bwi1QqDF75KY"
      },
      "source": [
        "**Insight**\n",
        "- Mengurutkan jenis pembayaran yang paling banyak digunakan\n",
        "- Mengurutkan 10 metode cicilan yang paling banyak digunakan\n",
        "- Membuat kolom baru yaitu lunas untuk mengetahui apakah sebuah pesanan sudah lunas atau belum\n",
        "- Menghitung jumlah pesanan yang sudah lunas maupun belum\n",
        "- Mengurutkan 5 pesanan dengan nilai transaksi paling besar"
      ]
    },
    {
      "cell_type": "markdown",
      "metadata": {
        "id": "zsyZjqak8DC2"
      },
      "source": [
        "## Visualization & Explanatory Analysis"
      ]
    },
    {
      "cell_type": "markdown",
      "metadata": {
        "id": "HZxOiQ6n8DC2"
      },
      "source": [
        "### Pertanyaan 1:  Kategori produk apa yang paling laku dan yang paling tidak laku?"
      ]
    },
    {
      "cell_type": "code",
      "execution_count": 157,
      "metadata": {
        "colab": {
          "base_uri": "https://localhost:8080/",
          "height": 750
        },
        "id": "1swJUdAD8DC2",
        "outputId": "1b0069e1-dbbb-4e84-dc19-a6f5825ceaa7"
      },
      "outputs": [
        {
          "name": "stderr",
          "output_type": "stream",
          "text": [
            "C:\\Users\\zidan raihandi\\AppData\\Local\\Temp\\ipykernel_20048\\3236238235.py:5: FutureWarning: \n",
            "\n",
            "Passing `palette` without assigning `hue` is deprecated and will be removed in v0.14.0. Assign the `y` variable to `hue` and set `legend=False` for the same effect.\n",
            "\n",
            "  sns.barplot(x=\"jumlah_produk_terjual\", y=\"product_category_name_english\", data=product_top, palette=colors, ax=ax[0])\n",
            "C:\\Users\\zidan raihandi\\AppData\\Local\\Temp\\ipykernel_20048\\3236238235.py:11: FutureWarning: \n",
            "\n",
            "Passing `palette` without assigning `hue` is deprecated and will be removed in v0.14.0. Assign the `y` variable to `hue` and set `legend=False` for the same effect.\n",
            "\n",
            "  sns.barplot(x=\"jumlah_produk_terjual\", y=\"product_category_name_english\", data=product_bottom, palette=colors, ax=ax[1])\n"
          ]
        },
        {
          "data": {
            "image/png": "[encoded data removed]",
            "text/plain": [
              "<Figure size 2400x800 with 2 Axes>"
            ]
          },
          "metadata": {},
          "output_type": "display_data"
        }
      ],
      "source": [
        "fig, ax = plt.subplots(nrows=1, ncols=2, figsize=(24, 8))\n",
        "\n",
        "colors = [\"#72BCD4\", \"#D3D3D3\", \"#D3D3D3\", \"#D3D3D3\", \"#D3D3D3\"]\n",
        "\n",
        "sns.barplot(x=\"jumlah_produk_terjual\", y=\"product_category_name_english\", data=product_top, palette=colors, ax=ax[0])\n",
        "ax[0].set_ylabel(None)\n",
        "ax[0].set_xlabel(None)\n",
        "ax[0].set_title(\"Kategori produk paling laku\", loc=\"center\", fontsize=15)\n",
        "ax[0].tick_params(axis='y', labelsize=12)\n",
        "\n",
        "sns.barplot(x=\"jumlah_produk_terjual\", y=\"product_category_name_english\", data=product_bottom, palette=colors, ax=ax[1])\n",
        "ax[1].set_ylabel(None)\n",
        "ax[1].set_xlabel(None)\n",
        "ax[1].invert_xaxis()\n",
        "ax[1].yaxis.tick_right()\n",
        "ax[1].set_title(\"Kategori produk paling tidak laku\", loc=\"center\", fontsize=15)\n",
        "ax[1].tick_params(axis='y', labelsize=12)\n",
        "\n",
        "plt.suptitle(\"Kategori produk paling laku dan tidak berdasarkan jumlah penjualan\", fontsize=20)\n",
        "plt.show()\n"
      ]
    },
    {
      "cell_type": "markdown",
      "metadata": {
        "id": "0Cvg-YLdYNFr"
      },
      "source": [
        "**Insight**\n",
        "- 5 kategori produk paling laku adalah bed_bath_table, health_beauty, sports_leisure, furniture_decor, dan computers_accessories\n",
        "- 5 kategori produk paling tidak laku adalah security_and_services, fashion_children_clothes, la_cuisine, cds_dvds_musicals, dan arts_and_craftmanship"
      ]
    },
    {
      "cell_type": "markdown",
      "metadata": {
        "id": "DgHI7CiU8DC2"
      },
      "source": [
        "### Pertanyaan 2: Berapa banyak pesanan yang pengirimannya terlambat? Apakah keterlambatan pengiriman memengaruhi review_score yang diberikan oleh pelanggan?"
      ]
    },
    {
      "cell_type": "code",
      "execution_count": 158,
      "metadata": {
        "colab": {
          "base_uri": "https://localhost:8080/",
          "height": 842
        },
        "id": "b1dCH3qk-2O4",
        "outputId": "db037a1d-9ed7-4df5-c4f4-6df82349b4f1"
      },
      "outputs": [
        {
          "name": "stderr",
          "output_type": "stream",
          "text": [
            "C:\\Users\\zidan raihandi\\AppData\\Local\\Temp\\ipykernel_20048\\1028896768.py:3: FutureWarning: \n",
            "\n",
            "Passing `palette` without assigning `hue` is deprecated and will be removed in v0.14.0. Assign the `x` variable to `hue` and set `legend=False` for the same effect.\n",
            "\n",
            "  sns.barplot(\n",
            "C:\\Users\\zidan raihandi\\AppData\\Local\\Temp\\ipykernel_20048\\1028896768.py:3: UserWarning: The palette list has more values (5) than needed (2), which may not be intended.\n",
            "  sns.barplot(\n"
          ]
        },
        {
          "data": {
            "image/png": "[encoded data removed]",
            "text/plain": [
              "<Figure size 1600x800 with 1 Axes>"
            ]
          },
          "metadata": {},
          "output_type": "display_data"
        }
      ],
      "source": [
        "fig, ax = plt.subplots(figsize=(16,8))\n",
        "\n",
        "sns.barplot(\n",
        "    y=\"jumlah_pesanan\",\n",
        "    x=\"ketepatan_waktu\",\n",
        "    data=order_plot,\n",
        "    palette=colors,\n",
        "    ax=ax\n",
        ")\n",
        "ax.set_title(\"Banyak pesanan berdasarkan ketepatan waktu\", loc=\"center\", fontsize=20)\n",
        "ax.set_ylabel(None)\n",
        "ax.set_xlabel(None)\n",
        "ax.tick_params(axis='x', labelsize=15)\n",
        "ax.tick_params(axis='y', labelsize=10)\n",
        "\n",
        "plt.show()"
      ]
    },
    {
      "cell_type": "code",
      "execution_count": 159,
      "metadata": {
        "colab": {
          "base_uri": "https://localhost:8080/",
          "height": 842
        },
        "id": "Ml8vCSWGFZP8",
        "outputId": "7eee29ab-8bd3-4de9-cbaf-06b389cc9324"
      },
      "outputs": [
        {
          "name": "stderr",
          "output_type": "stream",
          "text": [
            "C:\\Users\\zidan raihandi\\AppData\\Local\\Temp\\ipykernel_20048\\1077371418.py:3: FutureWarning: \n",
            "\n",
            "Passing `palette` without assigning `hue` is deprecated and will be removed in v0.14.0. Assign the `x` variable to `hue` and set `legend=False` for the same effect.\n",
            "\n",
            "  sns.barplot(\n",
            "C:\\Users\\zidan raihandi\\AppData\\Local\\Temp\\ipykernel_20048\\1077371418.py:3: UserWarning: The palette list has more values (5) than needed (2), which may not be intended.\n",
            "  sns.barplot(\n"
          ]
        },
        {
          "data": {
            "image/png": "[encoded data removed]",
            "text/plain": [
              "<Figure size 1600x800 with 1 Axes>"
            ]
          },
          "metadata": {},
          "output_type": "display_data"
        }
      ],
      "source": [
        "fig, ax = plt.subplots(figsize=(16,8))\n",
        "\n",
        "sns.barplot(\n",
        "    y=\"rata_rata_rating\",\n",
        "    x=\"ketepatan_waktu\",\n",
        "    data=order_mean_plot,\n",
        "    palette=colors,\n",
        "    ax=ax\n",
        ")\n",
        "ax.set_title(\"Rata-rata rating pesanan berdasarkan ketepatan waktu\", loc=\"center\", fontsize=20)\n",
        "ax.set_ylabel(None)\n",
        "ax.set_xlabel(None)\n",
        "ax.tick_params(axis='x', labelsize=15)\n",
        "ax.tick_params(axis='y', labelsize=10)\n",
        "\n",
        "plt.show()"
      ]
    },
    {
      "cell_type": "markdown",
      "metadata": {
        "id": "_0-36BDLklRg"
      },
      "source": [
        "**Insight:**\n",
        "- Dari grafik di atas, dapat diketahui bahwa pesanan yang pengirimannya terlambat jumlahnya jauh dibawah 20000 pesanan. Sedangkan pesanan yang pengirimannya tepat waktu jumlahnya mencapai 100000 pesanan\n",
        "- Rata-rata rating pesanan yang pengirimannya tepat waktu yaitu di atas 4, sedangkan rata-rata rating pesanan yang pengirimannya terlambat yaitu kurang dari 2.5\n",
        "- Terbukti bahwa ketepatan waktu dalam pengiriman pesanan sangat mempengaruhi rating atau review_score yang diberikan oleh pelanggan"
      ]
    },
    {
      "cell_type": "markdown",
      "metadata": {
        "id": "9y4VUsmcYNZ5"
      },
      "source": [
        "## Analisis Lanjutan (Opsional)"
      ]
    },
    {
      "cell_type": "code",
      "execution_count": 352,
      "metadata": {
        "id": "iWhnzsJGYUCO"
      },
      "outputs": [],
      "source": []
    },
    {
      "cell_type": "markdown",
      "metadata": {
        "id": "_WeHlCeX8DC2"
      },
      "source": [
        "## Conclusion"
      ]
    },
    {
      "cell_type": "markdown",
      "metadata": {
        "id": "ZTcyR48Y8DC2"
      },
      "source": [
        "- Dari analisis data yang telah dilakukan, terdapat 5 kategori produk yang paling laku. Peringkat pertama kategori produk yang paling laku adalah bed_bath_table dengan 10709 produk terjual. Peringkat kedua yaitu Health_beauty dengan 9367 produk yang terjual. Peringkat ketga yaitu sport_leisure dengan 8325 produk terjual. Peringkat keempat yaitu furniture_decor dengan 8012 produk terjual. Peringkat kelima yaitu computers_accessories dengan 7557 produk terjual. Sebaliknya, terdapat 5 kategori produk yang paling tidak laku. Peringkat pertama kategori produk yang paling tidak laku adalah security_and_services dengan 2 produk yang terjual. Peringkat kedua yaitu fashion_childrens_clothes dengan 7 produk terjual. Peringkat ketiga yaitu la_cuisine dengan 13 produk terjual. Peringkat keempat yaitu cds_dvds_musicais dengan 14 produk terjual. Peringkat kelima yaitu arts_and_craftmanship dengan 24 produk terjual. Dari hasil analisis tersebut, dapat dibuat keputusan bisnis untuk meningkatkan pendapatan. Keputusan bisnis yang dapat diambil adalah dengan memperbanyak penjualan produk yang termasuk ke dalam kategori produk paling laku.\n",
        "- Dengan analisis data di atas, terdapat informasi penting yang dapat digunakan untuk pengambilan keputusan bisnis. Informasi penting diantaranya adalah terdapat 6925 pesanan yang pengirimannya terlambat dibanding dengan pesanan yang pengirimannya tepat waktu yaitu 100345 pesanan. Selanjutnya, 6925 pesanan yang pengirimannya terlambat memiliki rata-rata rating/review_score yaitu 2.3 dibanding dengan 100345 pesanan yang memiliki rata-rata rating 4.2 . Hal ini menunjukkan bahwa terdapat pengaruh yang sangat besar dari ketepatan waktu pengiriman dengan rating yang diberikan pelanggan. Pesanan yang pengirimannya terlambat cenderung memiliki rating yang lebih kecil dibanding pesanan yang pengirimannya tepat waktu. Informasi ini dapat digunakan untuk membuat keputusan bisnis, misalnya dengan membuat sistem pengiriman yang lebih efektif agar tidak ada pesanan yang terlambat sampai ke pelanggan"
      ]
    },
    {
      "cell_type": "code",
      "execution_count": 160,
      "metadata": {
        "id": "ivH2wfEIrUhL"
      },
      "outputs": [],
      "source": [
        "products_order_items_df.to_csv(\"all_df.csv\", index=False)"
      ]
    }
  ],
  "metadata": {
    "colab": {
      "provenance": []
    },
    "kernelspec": {
      "display_name": "Python 3",
      "language": "python",
      "name": "python3"
    },
    "language_info": {
      "codemirror_mode": {
        "name": "ipython",
        "version": 3
      },
      "file_extension": ".py",
      "mimetype": "text/x-python",
      "name": "python",
      "nbconvert_exporter": "python",
      "pygments_lexer": "ipython3",
      "version": "3.11.0"
    },
    "orig_nbformat": 4,
    "vscode": {
      "interpreter": {
        "hash": "972b3bf27e332e87b5379f2791f6ef9dfc79c71018c370b0d7423235e20fe4d7"
      }
    }
  },
  "nbformat": 4,
  "nbformat_minor": 0
}
